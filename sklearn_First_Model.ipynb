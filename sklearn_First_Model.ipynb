{
  "nbformat": 4,
  "nbformat_minor": 0,
  "metadata": {
    "colab": {
      "name": "sklearn_First_Model.ipynb",
      "provenance": [],
      "authorship_tag": "ABX9TyNXhDiRGuUhOimYIkB4tWhf",
      "include_colab_link": true
    },
    "kernelspec": {
      "name": "python3",
      "display_name": "Python 3"
    },
    "language_info": {
      "name": "python"
    }
  },
  "cells": [
    {
      "cell_type": "markdown",
      "metadata": {
        "id": "view-in-github",
        "colab_type": "text"
      },
      "source": [
        "<a href=\"https://colab.research.google.com/github/GabeMaldonado/sklearn_FUN/blob/main/sklearn_First_Model.ipynb\" target=\"_parent\"><img src=\"https://colab.research.google.com/assets/colab-badge.svg\" alt=\"Open In Colab\"/></a>"
      ]
    },
    {
      "cell_type": "markdown",
      "source": [
        "## Building a model with sklearn\n",
        "\n",
        "Build a predictive model on a tabular dataset using only numerical features."
      ],
      "metadata": {
        "id": "0kHgliEKlIfw"
      }
    },
    {
      "cell_type": "code",
      "source": [
        "import pandas as pd\n",
        "import numpy as np\n",
        "import matplotlib.pyplot as plt\n",
        "import seaborn as sns"
      ],
      "metadata": {
        "id": "Le_JTDmplbAF"
      },
      "execution_count": 1,
      "outputs": []
    },
    {
      "cell_type": "code",
      "execution_count": 3,
      "metadata": {
        "colab": {
          "base_uri": "https://localhost:8080/",
          "height": 392
        },
        "id": "0ifBy4Gcj8Tp",
        "outputId": "09379bb2-765e-4483-fa94-d12e9227ccc0"
      },
      "outputs": [
        {
          "output_type": "execute_result",
          "data": {
            "text/plain": [
              "       age workclass  fnlwgt      education  education-num  \\\n",
              "42575   27   Private  134566        HS-grad              9   \n",
              "3372    21   Private  163595   Some-college             10   \n",
              "13184   44   Private  219155     Assoc-acdm             12   \n",
              "33449   63         ?   64448        HS-grad              9   \n",
              "37194   45   Private  259323   Some-college             10   \n",
              "\n",
              "            marital-status     occupation    relationship    race    sex  \\\n",
              "42575        Never-married   Adm-clerical   Not-in-family   White   Male   \n",
              "3372         Never-married   Craft-repair   Not-in-family   White   Male   \n",
              "13184   Married-civ-spouse          Sales         Husband   White   Male   \n",
              "33449   Married-civ-spouse              ?         Husband   White   Male   \n",
              "37194   Married-civ-spouse   Craft-repair         Husband   White   Male   \n",
              "\n",
              "       capital-gain  capital-loss  hours-per-week  native-country   class  \n",
              "42575             0             0              40   United-States   <=50K  \n",
              "3372              0             0              45   United-States   <=50K  \n",
              "13184             0             0              40   United-States    >50K  \n",
              "33449             0             0              40   United-States   <=50K  \n",
              "37194             0             0              40   United-States   <=50K  "
            ],
            "text/html": [
              "\n",
              "  <div id=\"df-18c6c805-e8b2-4047-9618-dd0cb2f6b6dd\">\n",
              "    <div class=\"colab-df-container\">\n",
              "      <div>\n",
              "<style scoped>\n",
              "    .dataframe tbody tr th:only-of-type {\n",
              "        vertical-align: middle;\n",
              "    }\n",
              "\n",
              "    .dataframe tbody tr th {\n",
              "        vertical-align: top;\n",
              "    }\n",
              "\n",
              "    .dataframe thead th {\n",
              "        text-align: right;\n",
              "    }\n",
              "</style>\n",
              "<table border=\"1\" class=\"dataframe\">\n",
              "  <thead>\n",
              "    <tr style=\"text-align: right;\">\n",
              "      <th></th>\n",
              "      <th>age</th>\n",
              "      <th>workclass</th>\n",
              "      <th>fnlwgt</th>\n",
              "      <th>education</th>\n",
              "      <th>education-num</th>\n",
              "      <th>marital-status</th>\n",
              "      <th>occupation</th>\n",
              "      <th>relationship</th>\n",
              "      <th>race</th>\n",
              "      <th>sex</th>\n",
              "      <th>capital-gain</th>\n",
              "      <th>capital-loss</th>\n",
              "      <th>hours-per-week</th>\n",
              "      <th>native-country</th>\n",
              "      <th>class</th>\n",
              "    </tr>\n",
              "  </thead>\n",
              "  <tbody>\n",
              "    <tr>\n",
              "      <th>42575</th>\n",
              "      <td>27</td>\n",
              "      <td>Private</td>\n",
              "      <td>134566</td>\n",
              "      <td>HS-grad</td>\n",
              "      <td>9</td>\n",
              "      <td>Never-married</td>\n",
              "      <td>Adm-clerical</td>\n",
              "      <td>Not-in-family</td>\n",
              "      <td>White</td>\n",
              "      <td>Male</td>\n",
              "      <td>0</td>\n",
              "      <td>0</td>\n",
              "      <td>40</td>\n",
              "      <td>United-States</td>\n",
              "      <td>&lt;=50K</td>\n",
              "    </tr>\n",
              "    <tr>\n",
              "      <th>3372</th>\n",
              "      <td>21</td>\n",
              "      <td>Private</td>\n",
              "      <td>163595</td>\n",
              "      <td>Some-college</td>\n",
              "      <td>10</td>\n",
              "      <td>Never-married</td>\n",
              "      <td>Craft-repair</td>\n",
              "      <td>Not-in-family</td>\n",
              "      <td>White</td>\n",
              "      <td>Male</td>\n",
              "      <td>0</td>\n",
              "      <td>0</td>\n",
              "      <td>45</td>\n",
              "      <td>United-States</td>\n",
              "      <td>&lt;=50K</td>\n",
              "    </tr>\n",
              "    <tr>\n",
              "      <th>13184</th>\n",
              "      <td>44</td>\n",
              "      <td>Private</td>\n",
              "      <td>219155</td>\n",
              "      <td>Assoc-acdm</td>\n",
              "      <td>12</td>\n",
              "      <td>Married-civ-spouse</td>\n",
              "      <td>Sales</td>\n",
              "      <td>Husband</td>\n",
              "      <td>White</td>\n",
              "      <td>Male</td>\n",
              "      <td>0</td>\n",
              "      <td>0</td>\n",
              "      <td>40</td>\n",
              "      <td>United-States</td>\n",
              "      <td>&gt;50K</td>\n",
              "    </tr>\n",
              "    <tr>\n",
              "      <th>33449</th>\n",
              "      <td>63</td>\n",
              "      <td>?</td>\n",
              "      <td>64448</td>\n",
              "      <td>HS-grad</td>\n",
              "      <td>9</td>\n",
              "      <td>Married-civ-spouse</td>\n",
              "      <td>?</td>\n",
              "      <td>Husband</td>\n",
              "      <td>White</td>\n",
              "      <td>Male</td>\n",
              "      <td>0</td>\n",
              "      <td>0</td>\n",
              "      <td>40</td>\n",
              "      <td>United-States</td>\n",
              "      <td>&lt;=50K</td>\n",
              "    </tr>\n",
              "    <tr>\n",
              "      <th>37194</th>\n",
              "      <td>45</td>\n",
              "      <td>Private</td>\n",
              "      <td>259323</td>\n",
              "      <td>Some-college</td>\n",
              "      <td>10</td>\n",
              "      <td>Married-civ-spouse</td>\n",
              "      <td>Craft-repair</td>\n",
              "      <td>Husband</td>\n",
              "      <td>White</td>\n",
              "      <td>Male</td>\n",
              "      <td>0</td>\n",
              "      <td>0</td>\n",
              "      <td>40</td>\n",
              "      <td>United-States</td>\n",
              "      <td>&lt;=50K</td>\n",
              "    </tr>\n",
              "  </tbody>\n",
              "</table>\n",
              "</div>\n",
              "      <button class=\"colab-df-convert\" onclick=\"convertToInteractive('df-18c6c805-e8b2-4047-9618-dd0cb2f6b6dd')\"\n",
              "              title=\"Convert this dataframe to an interactive table.\"\n",
              "              style=\"display:none;\">\n",
              "        \n",
              "  <svg xmlns=\"http://www.w3.org/2000/svg\" height=\"24px\"viewBox=\"0 0 24 24\"\n",
              "       width=\"24px\">\n",
              "    <path d=\"M0 0h24v24H0V0z\" fill=\"none\"/>\n",
              "    <path d=\"M18.56 5.44l.94 2.06.94-2.06 2.06-.94-2.06-.94-.94-2.06-.94 2.06-2.06.94zm-11 1L8.5 8.5l.94-2.06 2.06-.94-2.06-.94L8.5 2.5l-.94 2.06-2.06.94zm10 10l.94 2.06.94-2.06 2.06-.94-2.06-.94-.94-2.06-.94 2.06-2.06.94z\"/><path d=\"M17.41 7.96l-1.37-1.37c-.4-.4-.92-.59-1.43-.59-.52 0-1.04.2-1.43.59L10.3 9.45l-7.72 7.72c-.78.78-.78 2.05 0 2.83L4 21.41c.39.39.9.59 1.41.59.51 0 1.02-.2 1.41-.59l7.78-7.78 2.81-2.81c.8-.78.8-2.07 0-2.86zM5.41 20L4 18.59l7.72-7.72 1.47 1.35L5.41 20z\"/>\n",
              "  </svg>\n",
              "      </button>\n",
              "      \n",
              "  <style>\n",
              "    .colab-df-container {\n",
              "      display:flex;\n",
              "      flex-wrap:wrap;\n",
              "      gap: 12px;\n",
              "    }\n",
              "\n",
              "    .colab-df-convert {\n",
              "      background-color: #E8F0FE;\n",
              "      border: none;\n",
              "      border-radius: 50%;\n",
              "      cursor: pointer;\n",
              "      display: none;\n",
              "      fill: #1967D2;\n",
              "      height: 32px;\n",
              "      padding: 0 0 0 0;\n",
              "      width: 32px;\n",
              "    }\n",
              "\n",
              "    .colab-df-convert:hover {\n",
              "      background-color: #E2EBFA;\n",
              "      box-shadow: 0px 1px 2px rgba(60, 64, 67, 0.3), 0px 1px 3px 1px rgba(60, 64, 67, 0.15);\n",
              "      fill: #174EA6;\n",
              "    }\n",
              "\n",
              "    [theme=dark] .colab-df-convert {\n",
              "      background-color: #3B4455;\n",
              "      fill: #D2E3FC;\n",
              "    }\n",
              "\n",
              "    [theme=dark] .colab-df-convert:hover {\n",
              "      background-color: #434B5C;\n",
              "      box-shadow: 0px 1px 3px 1px rgba(0, 0, 0, 0.15);\n",
              "      filter: drop-shadow(0px 1px 2px rgba(0, 0, 0, 0.3));\n",
              "      fill: #FFFFFF;\n",
              "    }\n",
              "  </style>\n",
              "\n",
              "      <script>\n",
              "        const buttonEl =\n",
              "          document.querySelector('#df-18c6c805-e8b2-4047-9618-dd0cb2f6b6dd button.colab-df-convert');\n",
              "        buttonEl.style.display =\n",
              "          google.colab.kernel.accessAllowed ? 'block' : 'none';\n",
              "\n",
              "        async function convertToInteractive(key) {\n",
              "          const element = document.querySelector('#df-18c6c805-e8b2-4047-9618-dd0cb2f6b6dd');\n",
              "          const dataTable =\n",
              "            await google.colab.kernel.invokeFunction('convertToInteractive',\n",
              "                                                     [key], {});\n",
              "          if (!dataTable) return;\n",
              "\n",
              "          const docLinkHtml = 'Like what you see? Visit the ' +\n",
              "            '<a target=\"_blank\" href=https://colab.research.google.com/notebooks/data_table.ipynb>data table notebook</a>'\n",
              "            + ' to learn more about interactive tables.';\n",
              "          element.innerHTML = '';\n",
              "          dataTable['output_type'] = 'display_data';\n",
              "          await google.colab.output.renderOutput(dataTable, element);\n",
              "          const docLink = document.createElement('div');\n",
              "          docLink.innerHTML = docLinkHtml;\n",
              "          element.appendChild(docLink);\n",
              "        }\n",
              "      </script>\n",
              "    </div>\n",
              "  </div>\n",
              "  "
            ]
          },
          "metadata": {},
          "execution_count": 3
        }
      ],
      "source": [
        "# load data\n",
        "\n",
        "df = pd.read_csv(\"/content/adult_census.csv\")\n",
        "df.sample(5)\n"
      ]
    },
    {
      "cell_type": "markdown",
      "source": [
        "Isolate the target variable"
      ],
      "metadata": {
        "id": "1kvH6_HKmBVI"
      }
    },
    {
      "cell_type": "code",
      "source": [
        "target_name = \"class\"\n",
        "target = df[target_name]\n",
        "target"
      ],
      "metadata": {
        "colab": {
          "base_uri": "https://localhost:8080/"
        },
        "id": "YTdbaHS8lknm",
        "outputId": "5ba13d2b-ff5a-43dd-8076-a9ccd9a6239e"
      },
      "execution_count": 4,
      "outputs": [
        {
          "output_type": "execute_result",
          "data": {
            "text/plain": [
              "0         <=50K\n",
              "1         <=50K\n",
              "2          >50K\n",
              "3          >50K\n",
              "4         <=50K\n",
              "          ...  \n",
              "48837     <=50K\n",
              "48838      >50K\n",
              "48839     <=50K\n",
              "48840     <=50K\n",
              "48841      >50K\n",
              "Name: class, Length: 48842, dtype: object"
            ]
          },
          "metadata": {},
          "execution_count": 4
        }
      ]
    },
    {
      "cell_type": "markdown",
      "source": [
        "Separate the data and put them on a different dataframe"
      ],
      "metadata": {
        "id": "2bsshUOomPfk"
      }
    },
    {
      "cell_type": "code",
      "source": [
        "data = df.drop(columns=[target_name])\n",
        "data.info()"
      ],
      "metadata": {
        "colab": {
          "base_uri": "https://localhost:8080/"
        },
        "id": "a0pkqVvwmLxL",
        "outputId": "453d1b5c-7e5d-4968-a178-92f30842957d"
      },
      "execution_count": 6,
      "outputs": [
        {
          "output_type": "stream",
          "name": "stdout",
          "text": [
            "<class 'pandas.core.frame.DataFrame'>\n",
            "RangeIndex: 48842 entries, 0 to 48841\n",
            "Data columns (total 14 columns):\n",
            " #   Column          Non-Null Count  Dtype \n",
            "---  ------          --------------  ----- \n",
            " 0   age             48842 non-null  int64 \n",
            " 1   workclass       48842 non-null  object\n",
            " 2   fnlwgt          48842 non-null  int64 \n",
            " 3   education       48842 non-null  object\n",
            " 4   education-num   48842 non-null  int64 \n",
            " 5   marital-status  48842 non-null  object\n",
            " 6   occupation      48842 non-null  object\n",
            " 7   relationship    48842 non-null  object\n",
            " 8   race            48842 non-null  object\n",
            " 9   sex             48842 non-null  object\n",
            " 10  capital-gain    48842 non-null  int64 \n",
            " 11  capital-loss    48842 non-null  int64 \n",
            " 12  hours-per-week  48842 non-null  int64 \n",
            " 13  native-country  48842 non-null  object\n",
            "dtypes: int64(6), object(8)\n",
            "memory usage: 5.2+ MB\n"
          ]
        }
      ]
    },
    {
      "cell_type": "markdown",
      "source": [
        "Now, get only the numeric features that are relevant for the analysis. (age,, capital-gain, capital-loos, hours-per-week)"
      ],
      "metadata": {
        "id": "ZkDBVwv1m3oR"
      }
    },
    {
      "cell_type": "code",
      "source": [
        "data.drop(columns=['workclass', 'fnlwgt', 'education', 'education-num', 'marital-status',\n",
        "                    'occupation', 'relationship', 'race', 'sex', 'native-country'], inplace=True)"
      ],
      "metadata": {
        "id": "g2emUz7JmqfL"
      },
      "execution_count": 10,
      "outputs": []
    },
    {
      "cell_type": "code",
      "source": [
        "data.head()"
      ],
      "metadata": {
        "colab": {
          "base_uri": "https://localhost:8080/",
          "height": 206
        },
        "id": "ZX9S7mjKnqQj",
        "outputId": "dd08df2d-3eb8-42ee-b9a5-ffafb445b6b3"
      },
      "execution_count": 11,
      "outputs": [
        {
          "output_type": "execute_result",
          "data": {
            "text/plain": [
              "   age  capital-gain  capital-loss  hours-per-week\n",
              "0   25             0             0              40\n",
              "1   38             0             0              50\n",
              "2   28             0             0              40\n",
              "3   44          7688             0              40\n",
              "4   18             0             0              30"
            ],
            "text/html": [
              "\n",
              "  <div id=\"df-516f58b6-4f20-43c5-8fb6-392628347955\">\n",
              "    <div class=\"colab-df-container\">\n",
              "      <div>\n",
              "<style scoped>\n",
              "    .dataframe tbody tr th:only-of-type {\n",
              "        vertical-align: middle;\n",
              "    }\n",
              "\n",
              "    .dataframe tbody tr th {\n",
              "        vertical-align: top;\n",
              "    }\n",
              "\n",
              "    .dataframe thead th {\n",
              "        text-align: right;\n",
              "    }\n",
              "</style>\n",
              "<table border=\"1\" class=\"dataframe\">\n",
              "  <thead>\n",
              "    <tr style=\"text-align: right;\">\n",
              "      <th></th>\n",
              "      <th>age</th>\n",
              "      <th>capital-gain</th>\n",
              "      <th>capital-loss</th>\n",
              "      <th>hours-per-week</th>\n",
              "    </tr>\n",
              "  </thead>\n",
              "  <tbody>\n",
              "    <tr>\n",
              "      <th>0</th>\n",
              "      <td>25</td>\n",
              "      <td>0</td>\n",
              "      <td>0</td>\n",
              "      <td>40</td>\n",
              "    </tr>\n",
              "    <tr>\n",
              "      <th>1</th>\n",
              "      <td>38</td>\n",
              "      <td>0</td>\n",
              "      <td>0</td>\n",
              "      <td>50</td>\n",
              "    </tr>\n",
              "    <tr>\n",
              "      <th>2</th>\n",
              "      <td>28</td>\n",
              "      <td>0</td>\n",
              "      <td>0</td>\n",
              "      <td>40</td>\n",
              "    </tr>\n",
              "    <tr>\n",
              "      <th>3</th>\n",
              "      <td>44</td>\n",
              "      <td>7688</td>\n",
              "      <td>0</td>\n",
              "      <td>40</td>\n",
              "    </tr>\n",
              "    <tr>\n",
              "      <th>4</th>\n",
              "      <td>18</td>\n",
              "      <td>0</td>\n",
              "      <td>0</td>\n",
              "      <td>30</td>\n",
              "    </tr>\n",
              "  </tbody>\n",
              "</table>\n",
              "</div>\n",
              "      <button class=\"colab-df-convert\" onclick=\"convertToInteractive('df-516f58b6-4f20-43c5-8fb6-392628347955')\"\n",
              "              title=\"Convert this dataframe to an interactive table.\"\n",
              "              style=\"display:none;\">\n",
              "        \n",
              "  <svg xmlns=\"http://www.w3.org/2000/svg\" height=\"24px\"viewBox=\"0 0 24 24\"\n",
              "       width=\"24px\">\n",
              "    <path d=\"M0 0h24v24H0V0z\" fill=\"none\"/>\n",
              "    <path d=\"M18.56 5.44l.94 2.06.94-2.06 2.06-.94-2.06-.94-.94-2.06-.94 2.06-2.06.94zm-11 1L8.5 8.5l.94-2.06 2.06-.94-2.06-.94L8.5 2.5l-.94 2.06-2.06.94zm10 10l.94 2.06.94-2.06 2.06-.94-2.06-.94-.94-2.06-.94 2.06-2.06.94z\"/><path d=\"M17.41 7.96l-1.37-1.37c-.4-.4-.92-.59-1.43-.59-.52 0-1.04.2-1.43.59L10.3 9.45l-7.72 7.72c-.78.78-.78 2.05 0 2.83L4 21.41c.39.39.9.59 1.41.59.51 0 1.02-.2 1.41-.59l7.78-7.78 2.81-2.81c.8-.78.8-2.07 0-2.86zM5.41 20L4 18.59l7.72-7.72 1.47 1.35L5.41 20z\"/>\n",
              "  </svg>\n",
              "      </button>\n",
              "      \n",
              "  <style>\n",
              "    .colab-df-container {\n",
              "      display:flex;\n",
              "      flex-wrap:wrap;\n",
              "      gap: 12px;\n",
              "    }\n",
              "\n",
              "    .colab-df-convert {\n",
              "      background-color: #E8F0FE;\n",
              "      border: none;\n",
              "      border-radius: 50%;\n",
              "      cursor: pointer;\n",
              "      display: none;\n",
              "      fill: #1967D2;\n",
              "      height: 32px;\n",
              "      padding: 0 0 0 0;\n",
              "      width: 32px;\n",
              "    }\n",
              "\n",
              "    .colab-df-convert:hover {\n",
              "      background-color: #E2EBFA;\n",
              "      box-shadow: 0px 1px 2px rgba(60, 64, 67, 0.3), 0px 1px 3px 1px rgba(60, 64, 67, 0.15);\n",
              "      fill: #174EA6;\n",
              "    }\n",
              "\n",
              "    [theme=dark] .colab-df-convert {\n",
              "      background-color: #3B4455;\n",
              "      fill: #D2E3FC;\n",
              "    }\n",
              "\n",
              "    [theme=dark] .colab-df-convert:hover {\n",
              "      background-color: #434B5C;\n",
              "      box-shadow: 0px 1px 3px 1px rgba(0, 0, 0, 0.15);\n",
              "      filter: drop-shadow(0px 1px 2px rgba(0, 0, 0, 0.3));\n",
              "      fill: #FFFFFF;\n",
              "    }\n",
              "  </style>\n",
              "\n",
              "      <script>\n",
              "        const buttonEl =\n",
              "          document.querySelector('#df-516f58b6-4f20-43c5-8fb6-392628347955 button.colab-df-convert');\n",
              "        buttonEl.style.display =\n",
              "          google.colab.kernel.accessAllowed ? 'block' : 'none';\n",
              "\n",
              "        async function convertToInteractive(key) {\n",
              "          const element = document.querySelector('#df-516f58b6-4f20-43c5-8fb6-392628347955');\n",
              "          const dataTable =\n",
              "            await google.colab.kernel.invokeFunction('convertToInteractive',\n",
              "                                                     [key], {});\n",
              "          if (!dataTable) return;\n",
              "\n",
              "          const docLinkHtml = 'Like what you see? Visit the ' +\n",
              "            '<a target=\"_blank\" href=https://colab.research.google.com/notebooks/data_table.ipynb>data table notebook</a>'\n",
              "            + ' to learn more about interactive tables.';\n",
              "          element.innerHTML = '';\n",
              "          dataTable['output_type'] = 'display_data';\n",
              "          await google.colab.output.renderOutput(dataTable, element);\n",
              "          const docLink = document.createElement('div');\n",
              "          docLink.innerHTML = docLinkHtml;\n",
              "          element.appendChild(docLink);\n",
              "        }\n",
              "      </script>\n",
              "    </div>\n",
              "  </div>\n",
              "  "
            ]
          },
          "metadata": {},
          "execution_count": 11
        }
      ]
    },
    {
      "cell_type": "code",
      "source": [
        "data.columns"
      ],
      "metadata": {
        "colab": {
          "base_uri": "https://localhost:8080/"
        },
        "id": "1EK_BBgzoRIl",
        "outputId": "d575704e-31cf-4681-ef28-07c5057c429d"
      },
      "execution_count": 12,
      "outputs": [
        {
          "output_type": "execute_result",
          "data": {
            "text/plain": [
              "Index(['age', 'capital-gain', 'capital-loss', 'hours-per-week'], dtype='object')"
            ]
          },
          "metadata": {},
          "execution_count": 12
        }
      ]
    },
    {
      "cell_type": "code",
      "source": [
        "# print the number of features and samples\n",
        "\n",
        "print(f\"The dataset contains {data.shape[1]} of features and {data.shape[0]} samples\")"
      ],
      "metadata": {
        "colab": {
          "base_uri": "https://localhost:8080/"
        },
        "id": "-A9WAszroXNC",
        "outputId": "58f856df-6ea2-42d3-e0eb-f6533da2f2e0"
      },
      "execution_count": 13,
      "outputs": [
        {
          "output_type": "stream",
          "name": "stdout",
          "text": [
            "The dataset contains 4 of features and 48842 samples\n"
          ]
        }
      ]
    },
    {
      "cell_type": "markdown",
      "source": [
        "## Fit a model and make predictions\n",
        "\n",
        "We build a classification model using the *k-nearest neighbors* algorithm. To predict the target of a new sample, a k-nearest neighbors takes into account its *k* closest samples in the training set and predicts the majority targert of these samples. \n",
        "\n",
        "<div class=\"admonition caution alert alert-warning\">\n",
        "<p class=\"first admonition-title\" style=\"font-weight: bold;\">Caution!</p>\n",
        "<p class=\"last\">We use a K-nearest neighbors here. However, be aware that it is seldom useful\n",
        "in practice. We use it because it is an intuitive algorithm. In the next\n",
        "notebook, we will introduce better models.</p>\n",
        "</div>\n",
        "\n",
        "The `fit` method is called to train the model from the input (features) and target data."
      ],
      "metadata": {
        "id": "ZUDO6jc_o26W"
      }
    },
    {
      "cell_type": "code",
      "source": [
        "from sklearn.neighbors import KNeighborsClassifier\n",
        "\n",
        "model = KNeighborsClassifier()\n",
        "model.fit(data, target)"
      ],
      "metadata": {
        "colab": {
          "base_uri": "https://localhost:8080/"
        },
        "id": "oJXs7ZUqo2by",
        "outputId": "9d57185f-89a8-4642-da1d-1ade77f77d7d"
      },
      "execution_count": 14,
      "outputs": [
        {
          "output_type": "execute_result",
          "data": {
            "text/plain": [
              "KNeighborsClassifier()"
            ]
          },
          "metadata": {},
          "execution_count": 14
        }
      ]
    },
    {
      "cell_type": "markdown",
      "source": [
        "The method `fit` is composed of two elements: (i) a **learning algorithm**\n",
        "and (ii) some **model states**. The learning algorithm takes the training\n",
        "data and training target as input and sets the model states. These model\n",
        "states will be used later to either predict (for classifiers and regressors)\n",
        "or transform data (for transformers).\n",
        "\n",
        "Both the learning algorithm and the type of model states are specific to each\n",
        "type of model."
      ],
      "metadata": {
        "id": "gPMH6TXYqyhk"
      }
    },
    {
      "cell_type": "code",
      "source": [
        "# Use the model to make some predictions using the same dataset\n",
        "\n",
        "target_predicted = model.predict(data)"
      ],
      "metadata": {
        "id": "GpyjQt7tot-K"
      },
      "execution_count": 15,
      "outputs": []
    },
    {
      "cell_type": "markdown",
      "source": [
        "To predict, a model uses a **prediction function** that will use the input\n",
        "data together with the model states. As for the learning algorithm and the\n",
        "model states, the prediction function is specific for each type of model.\n",
        "\n",
        "Take a look at the first five predictions:"
      ],
      "metadata": {
        "id": "xtdjfKjJrruP"
      }
    },
    {
      "cell_type": "code",
      "source": [
        "target_predicted[:5]"
      ],
      "metadata": {
        "colab": {
          "base_uri": "https://localhost:8080/"
        },
        "id": "AxV5_n1xrJYp",
        "outputId": "cef2ab1b-ad05-4f8f-94f9-77128d1617c0"
      },
      "execution_count": 18,
      "outputs": [
        {
          "output_type": "execute_result",
          "data": {
            "text/plain": [
              "array([' <=50K', ' <=50K', ' <=50K', ' >50K', ' <=50K'], dtype=object)"
            ]
          },
          "metadata": {},
          "execution_count": 18
        }
      ]
    },
    {
      "cell_type": "markdown",
      "source": [
        "Compare these predictions to the actual data"
      ],
      "metadata": {
        "id": "ZSWUigILsQu5"
      }
    },
    {
      "cell_type": "code",
      "source": [
        "target[:5]"
      ],
      "metadata": {
        "colab": {
          "base_uri": "https://localhost:8080/"
        },
        "id": "AtBXmXMosGSY",
        "outputId": "57dcb322-5ed0-4267-fa94-05ea4bfe3d7b"
      },
      "execution_count": 19,
      "outputs": [
        {
          "output_type": "execute_result",
          "data": {
            "text/plain": [
              "0     <=50K\n",
              "1     <=50K\n",
              "2      >50K\n",
              "3      >50K\n",
              "4     <=50K\n",
              "Name: class, dtype: object"
            ]
          },
          "metadata": {},
          "execution_count": 19
        }
      ]
    },
    {
      "cell_type": "markdown",
      "source": [
        "Let's compare the predictions with the actual data/\n"
      ],
      "metadata": {
        "id": "H8BnObfLsmNl"
      }
    },
    {
      "cell_type": "code",
      "source": [
        "target[:5] == target_predicted[:5]"
      ],
      "metadata": {
        "colab": {
          "base_uri": "https://localhost:8080/"
        },
        "id": "C6zSraU3sjKy",
        "outputId": "2170a2cd-41ad-472f-be93-c216a1e4a023"
      },
      "execution_count": 20,
      "outputs": [
        {
          "output_type": "execute_result",
          "data": {
            "text/plain": [
              "0     True\n",
              "1     True\n",
              "2    False\n",
              "3     True\n",
              "4     True\n",
              "Name: class, dtype: bool"
            ]
          },
          "metadata": {},
          "execution_count": 20
        }
      ]
    },
    {
      "cell_type": "code",
      "source": [
        "print(f\"Number of correct prediction: \"\n",
        "      f\"{(target[:5] == target_predicted[:5]).sum()} / 5\")"
      ],
      "metadata": {
        "colab": {
          "base_uri": "https://localhost:8080/"
        },
        "id": "GsRb4-5PtDnU",
        "outputId": "6344feae-ad69-4f6f-cf8b-eb5787f2a4a5"
      },
      "execution_count": 21,
      "outputs": [
        {
          "output_type": "stream",
          "name": "stdout",
          "text": [
            "Number of correct prediction: 4 / 5\n"
          ]
        }
      ]
    },
    {
      "cell_type": "markdown",
      "source": [
        "Calculate average success rate"
      ],
      "metadata": {
        "id": "qsIqPoNvtNeO"
      }
    },
    {
      "cell_type": "code",
      "source": [
        "(target == target_predicted).mean()"
      ],
      "metadata": {
        "colab": {
          "base_uri": "https://localhost:8080/"
        },
        "id": "ChnDKs3dtQi3",
        "outputId": "b1caf853-cdb4-41f9-f272-c0af4650a48a"
      },
      "execution_count": 22,
      "outputs": [
        {
          "output_type": "execute_result",
          "data": {
            "text/plain": [
              "0.8175340895131239"
            ]
          },
          "metadata": {},
          "execution_count": 22
        }
      ]
    },
    {
      "cell_type": "markdown",
      "source": [
        "## Train-test split the dataset\n",
        "\n",
        "Scikit-learn provides the helper function\n",
        "`sklearn.model_selection.train_test_split` which is used to automatically\n",
        "split the dataset into two subsets."
      ],
      "metadata": {
        "id": "4l_nQK2H1hpg"
      }
    },
    {
      "cell_type": "code",
      "source": [
        "from sklearn.model_selection import train_test_split\n",
        "\n",
        "data_train, data_test, target_train, target_test = train_test_split(\n",
        "    data, target, random_state=42, test_size=0.25)"
      ],
      "metadata": {
        "id": "jjHtiNznxY1m"
      },
      "execution_count": 26,
      "outputs": []
    },
    {
      "cell_type": "markdown",
      "source": [
        "<div class=\"admonition tip alert alert-warning\">\n",
        "<p class=\"first admonition-title\" style=\"font-weight: bold;\">Tip</p>\n",
        "<p class=\"last\">In scikit-learn setting the <tt class=\"docutils literal\">random_state</tt> parameter allows to get\n",
        "deterministic results when we use a random number generator. In the\n",
        "<tt class=\"docutils literal\">train_test_split</tt> case the randomness comes from shuffling the data, which\n",
        "decides how the dataset is split into a train and a test set).</p>\n",
        "</div>"
      ],
      "metadata": {
        "id": "jhVzK6aP1-qs"
      }
    },
    {
      "cell_type": "markdown",
      "source": [
        "When calling the function `train_test_split`, we specified that we would like\n",
        "to have 25% of samples in the testing set while the remaining samples (75%)\n",
        "will be available in the training set. We can check quickly if we got\n",
        "what we expected."
      ],
      "metadata": {
        "id": "UMGx46BL2Ec3"
      }
    },
    {
      "cell_type": "code",
      "source": [
        "print(f\"Number of samples in testing: {data_test.shape[0]} => \"\n",
        "      f\"{data_test.shape[0] / data.shape[0] * 100:.1f}% of the\"\n",
        "      f\" original set\")"
      ],
      "metadata": {
        "colab": {
          "base_uri": "https://localhost:8080/"
        },
        "id": "X8f-OQT012JD",
        "outputId": "478ea757-6506-4748-a9c9-f19a6e5c9182"
      },
      "execution_count": 27,
      "outputs": [
        {
          "output_type": "stream",
          "name": "stdout",
          "text": [
            "Number of samples in testing: 12211 => 25.0% of the original set\n"
          ]
        }
      ]
    },
    {
      "cell_type": "code",
      "source": [
        "print(f\"Number of samples in training: {data_train.shape[0]} => \"\n",
        "      f\"{data_train.shape[0] / data.shape[0] * 100:.1f}% of the\"\n",
        "      f\" original set\")"
      ],
      "metadata": {
        "colab": {
          "base_uri": "https://localhost:8080/"
        },
        "id": "qknPxUN32Iyy",
        "outputId": "de0a83ca-e268-4ac8-8d88-2f42315ef71a"
      },
      "execution_count": 29,
      "outputs": [
        {
          "output_type": "stream",
          "name": "stdout",
          "text": [
            "Number of samples in training: 36631 => 75.0% of the original set\n"
          ]
        }
      ]
    },
    {
      "cell_type": "markdown",
      "source": [
        "In the previous notebook, we used a k-nearest neighbors model. While this\n",
        "model is intuitive to understand, it is not widely used in practice. Now, we\n",
        "will use a more useful model, called a logistic regression, which belongs to\n",
        "the linear models family.\n",
        "\n",
        "<div class=\"admonition note alert alert-info\">\n",
        "<p class=\"first admonition-title\" style=\"font-weight: bold;\">Note</p>\n",
        "<p>In short, linear models find a set of weights to combine features linearly\n",
        "and predict the target. For instance, the model can come up with a rule such\n",
        "as:</p>\n",
        "<ul class=\"simple\">\n",
        "<li>if <tt class=\"docutils literal\">0.1 * age + 3.3 * <span class=\"pre\">hours-per-week</span> - 15.1 &gt; 0</tt>, predict <tt class=\"docutils literal\"><span class=\"pre\">high-income</span></tt></li>\n",
        "<li>otherwise predict <tt class=\"docutils literal\"><span class=\"pre\">low-income</span></tt></li>\n",
        "</ul>\n",
        "<p class=\"last\">Linear models, and in particular the logistic regression, will be covered in\n",
        "more details in the \"Linear models\" module later in this course. For now the\n",
        "focus is to use this logistic regression model in scikit-learn rather than\n",
        "understand how it works in details.</p>\n",
        "</div>\n",
        "\n",
        "To create a logistic regression model in scikit-learn you can do:"
      ],
      "metadata": {
        "id": "oMHWuhxL2csM"
      }
    },
    {
      "cell_type": "code",
      "source": [
        "# to display nice model diagram\n",
        "from sklearn import set_config\n",
        "set_config(display='diagram')"
      ],
      "metadata": {
        "id": "Hf7in4h-2UVB"
      },
      "execution_count": 30,
      "outputs": []
    },
    {
      "cell_type": "code",
      "source": [
        "from sklearn.linear_model import LogisticRegression\n",
        "\n",
        "model = LogisticRegression()"
      ],
      "metadata": {
        "id": "0ziYTX6J2vug"
      },
      "execution_count": 31,
      "outputs": []
    },
    {
      "cell_type": "markdown",
      "source": [
        "Now that the model has been created, you can use it exactly the same way as\n",
        "we used the k-nearest neighbors model in the previous notebook. In\n",
        "particular, we can use the `fit` method to train the model using the training\n",
        "data and labels:"
      ],
      "metadata": {
        "id": "-u5m0h5E2146"
      }
    },
    {
      "cell_type": "code",
      "source": [
        "model.fit(data_train, target_train)"
      ],
      "metadata": {
        "colab": {
          "base_uri": "https://localhost:8080/",
          "height": 75
        },
        "id": "RzSDPBkJ2x3Q",
        "outputId": "e0ce5092-c2cb-4c00-a084-9342c97b4db8"
      },
      "execution_count": 32,
      "outputs": [
        {
          "output_type": "execute_result",
          "data": {
            "text/plain": [
              "LogisticRegression()"
            ],
            "text/html": [
              "<style>#sk-2e351fe3-8631-42e2-95c8-060af648bcdf {color: black;background-color: white;}#sk-2e351fe3-8631-42e2-95c8-060af648bcdf pre{padding: 0;}#sk-2e351fe3-8631-42e2-95c8-060af648bcdf div.sk-toggleable {background-color: white;}#sk-2e351fe3-8631-42e2-95c8-060af648bcdf label.sk-toggleable__label {cursor: pointer;display: block;width: 100%;margin-bottom: 0;padding: 0.3em;box-sizing: border-box;text-align: center;}#sk-2e351fe3-8631-42e2-95c8-060af648bcdf label.sk-toggleable__label-arrow:before {content: \"▸\";float: left;margin-right: 0.25em;color: #696969;}#sk-2e351fe3-8631-42e2-95c8-060af648bcdf label.sk-toggleable__label-arrow:hover:before {color: black;}#sk-2e351fe3-8631-42e2-95c8-060af648bcdf div.sk-estimator:hover label.sk-toggleable__label-arrow:before {color: black;}#sk-2e351fe3-8631-42e2-95c8-060af648bcdf div.sk-toggleable__content {max-height: 0;max-width: 0;overflow: hidden;text-align: left;background-color: #f0f8ff;}#sk-2e351fe3-8631-42e2-95c8-060af648bcdf div.sk-toggleable__content pre {margin: 0.2em;color: black;border-radius: 0.25em;background-color: #f0f8ff;}#sk-2e351fe3-8631-42e2-95c8-060af648bcdf input.sk-toggleable__control:checked~div.sk-toggleable__content {max-height: 200px;max-width: 100%;overflow: auto;}#sk-2e351fe3-8631-42e2-95c8-060af648bcdf input.sk-toggleable__control:checked~label.sk-toggleable__label-arrow:before {content: \"▾\";}#sk-2e351fe3-8631-42e2-95c8-060af648bcdf div.sk-estimator input.sk-toggleable__control:checked~label.sk-toggleable__label {background-color: #d4ebff;}#sk-2e351fe3-8631-42e2-95c8-060af648bcdf div.sk-label input.sk-toggleable__control:checked~label.sk-toggleable__label {background-color: #d4ebff;}#sk-2e351fe3-8631-42e2-95c8-060af648bcdf input.sk-hidden--visually {border: 0;clip: rect(1px 1px 1px 1px);clip: rect(1px, 1px, 1px, 1px);height: 1px;margin: -1px;overflow: hidden;padding: 0;position: absolute;width: 1px;}#sk-2e351fe3-8631-42e2-95c8-060af648bcdf div.sk-estimator {font-family: monospace;background-color: #f0f8ff;border: 1px dotted black;border-radius: 0.25em;box-sizing: border-box;margin-bottom: 0.5em;}#sk-2e351fe3-8631-42e2-95c8-060af648bcdf div.sk-estimator:hover {background-color: #d4ebff;}#sk-2e351fe3-8631-42e2-95c8-060af648bcdf div.sk-parallel-item::after {content: \"\";width: 100%;border-bottom: 1px solid gray;flex-grow: 1;}#sk-2e351fe3-8631-42e2-95c8-060af648bcdf div.sk-label:hover label.sk-toggleable__label {background-color: #d4ebff;}#sk-2e351fe3-8631-42e2-95c8-060af648bcdf div.sk-serial::before {content: \"\";position: absolute;border-left: 1px solid gray;box-sizing: border-box;top: 2em;bottom: 0;left: 50%;}#sk-2e351fe3-8631-42e2-95c8-060af648bcdf div.sk-serial {display: flex;flex-direction: column;align-items: center;background-color: white;padding-right: 0.2em;padding-left: 0.2em;}#sk-2e351fe3-8631-42e2-95c8-060af648bcdf div.sk-item {z-index: 1;}#sk-2e351fe3-8631-42e2-95c8-060af648bcdf div.sk-parallel {display: flex;align-items: stretch;justify-content: center;background-color: white;}#sk-2e351fe3-8631-42e2-95c8-060af648bcdf div.sk-parallel::before {content: \"\";position: absolute;border-left: 1px solid gray;box-sizing: border-box;top: 2em;bottom: 0;left: 50%;}#sk-2e351fe3-8631-42e2-95c8-060af648bcdf div.sk-parallel-item {display: flex;flex-direction: column;position: relative;background-color: white;}#sk-2e351fe3-8631-42e2-95c8-060af648bcdf div.sk-parallel-item:first-child::after {align-self: flex-end;width: 50%;}#sk-2e351fe3-8631-42e2-95c8-060af648bcdf div.sk-parallel-item:last-child::after {align-self: flex-start;width: 50%;}#sk-2e351fe3-8631-42e2-95c8-060af648bcdf div.sk-parallel-item:only-child::after {width: 0;}#sk-2e351fe3-8631-42e2-95c8-060af648bcdf div.sk-dashed-wrapped {border: 1px dashed gray;margin: 0 0.4em 0.5em 0.4em;box-sizing: border-box;padding-bottom: 0.4em;background-color: white;position: relative;}#sk-2e351fe3-8631-42e2-95c8-060af648bcdf div.sk-label label {font-family: monospace;font-weight: bold;background-color: white;display: inline-block;line-height: 1.2em;}#sk-2e351fe3-8631-42e2-95c8-060af648bcdf div.sk-label-container {position: relative;z-index: 2;text-align: center;}#sk-2e351fe3-8631-42e2-95c8-060af648bcdf div.sk-container {/* jupyter's `normalize.less` sets `[hidden] { display: none; }` but bootstrap.min.css set `[hidden] { display: none !important; }` so we also need the `!important` here to be able to override the default hidden behavior on the sphinx rendered scikit-learn.org. See: https://github.com/scikit-learn/scikit-learn/issues/21755 */display: inline-block !important;position: relative;}#sk-2e351fe3-8631-42e2-95c8-060af648bcdf div.sk-text-repr-fallback {display: none;}</style><div id=\"sk-2e351fe3-8631-42e2-95c8-060af648bcdf\" class=\"sk-top-container\"><div class=\"sk-text-repr-fallback\"><pre>LogisticRegression()</pre><b>Please rerun this cell to show the HTML repr or trust the notebook.</b></div><div class=\"sk-container\" hidden><div class=\"sk-item\"><div class=\"sk-estimator sk-toggleable\"><input class=\"sk-toggleable__control sk-hidden--visually\" id=\"6a924bd7-b0fa-44a5-be45-c0b10e780cf6\" type=\"checkbox\" checked><label for=\"6a924bd7-b0fa-44a5-be45-c0b10e780cf6\" class=\"sk-toggleable__label sk-toggleable__label-arrow\">LogisticRegression</label><div class=\"sk-toggleable__content\"><pre>LogisticRegression()</pre></div></div></div></div></div>"
            ]
          },
          "metadata": {},
          "execution_count": 32
        }
      ]
    },
    {
      "cell_type": "markdown",
      "source": [
        "We can also use the `score` method to check the model generalization performance\n",
        "on the test set."
      ],
      "metadata": {
        "id": "o02Is7iS2-mR"
      }
    },
    {
      "cell_type": "code",
      "source": [
        "accuracy = model.score(data_test, target_test)\n",
        "print(f\"Accuracy of logistic regression: {accuracy:.3f}\")"
      ],
      "metadata": {
        "colab": {
          "base_uri": "https://localhost:8080/"
        },
        "id": "vm4raNZT24wy",
        "outputId": "6bd472e4-0144-4b35-f69b-0bd90d59d4c2"
      },
      "execution_count": 33,
      "outputs": [
        {
          "output_type": "stream",
          "name": "stdout",
          "text": [
            "Accuracy of logistic regression: 0.807\n"
          ]
        }
      ]
    },
    {
      "cell_type": "markdown",
      "source": [
        "In scikit-learn, the `score` method of a classification model returns the accuracy,\n",
        "i.e. the fraction of correctly classified samples. In this case, around\n",
        "8 / 10 of the times, the logistic regression predicts the right income of a\n",
        "person. Now the real question is: is this generalization performance relevant\n",
        "of a good predictive model? Find out by solving the next exercise!\n",
        "\n",
        "In this notebook, we learned to:\n",
        "\n",
        "* identify numerical data in a heterogeneous dataset;\n",
        "* select the subset of columns corresponding to numerical data;\n",
        "* use the scikit-learn `train_test_split` function to separate data into\n",
        "  a train and a test set;\n",
        "* train and evaluate a logistic regression model."
      ],
      "metadata": {
        "id": "QWHFx4jn3FWS"
      }
    },
    {
      "cell_type": "markdown",
      "source": [
        "## Compare performance of the previous classifier with some simple baseline classifiers.\n",
        "\n",
        "Use a `DummyClassifier` such that the resulting classifier will always\n",
        "predict the class `' >50K'`. What is the accuracy score on the test set?\n",
        "Repeat the experiment by always predicting the class `' <=50K'`.\n"
      ],
      "metadata": {
        "id": "ZsMZe7ml4efQ"
      }
    },
    {
      "cell_type": "code",
      "source": [
        "from sklearn.dummy import DummyClassifier\n",
        "\n",
        "# predict for 50k\n",
        "class_to_predict =  ' >50K'\n",
        "high_rev_clf = DummyClassifier(strategy='constant',\n",
        "                               constant=class_to_predict)\n",
        "high_rev_clf.fit(data_train, target_train)\n",
        "score = high_rev_clf.score(data_test, target_test)\n",
        "\n",
        "print(f\"Accuracy of a model predicting only high revenue: {score:.3f}\")"
      ],
      "metadata": {
        "colab": {
          "base_uri": "https://localhost:8080/"
        },
        "id": "y8_O1xaR3Byu",
        "outputId": "91d8170e-a8d4-4111-db79-9d235dc5ab16"
      },
      "execution_count": 34,
      "outputs": [
        {
          "output_type": "stream",
          "name": "stdout",
          "text": [
            "Accuracy of a model predicting only high revenue: 0.234\n"
          ]
        }
      ]
    },
    {
      "cell_type": "code",
      "source": [
        "# predict for <50K\n",
        "class_to_predict = ' <=50K'\n",
        "low_rev_clf = DummyClassifier(strategy='constant',\n",
        "                              constant=class_to_predict)\n",
        "low_rev_clf.fit(data_train, target_train)\n",
        "score = low_rev_clf.score(data_test, target_test)\n",
        "\n",
        "print(f\"Accuracy of a model predicting only high revenue: {score:.3f}\")"
      ],
      "metadata": {
        "colab": {
          "base_uri": "https://localhost:8080/"
        },
        "id": "l_4BFuhp5bd8",
        "outputId": "1cb604cd-00bb-41a8-fab0-c11a4ee1f6fd"
      },
      "execution_count": 35,
      "outputs": [
        {
          "output_type": "stream",
          "name": "stdout",
          "text": [
            "Accuracy of a model predicting only high revenue: 0.766\n"
          ]
        }
      ]
    },
    {
      "cell_type": "code",
      "source": [
        ""
      ],
      "metadata": {
        "id": "RavrMQAP5hi7"
      },
      "execution_count": null,
      "outputs": []
    }
  ]
}