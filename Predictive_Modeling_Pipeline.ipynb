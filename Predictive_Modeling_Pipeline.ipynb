{
  "nbformat": 4,
  "nbformat_minor": 0,
  "metadata": {
    "colab": {
      "name": "Predictive_Modeling_Pipeline.ipynb",
      "provenance": [],
      "collapsed_sections": [],
      "authorship_tag": "ABX9TyNPpiTUaXNsBev3WwEHUHwY",
      "include_colab_link": true
    },
    "kernelspec": {
      "name": "python3",
      "display_name": "Python 3"
    },
    "language_info": {
      "name": "python"
    }
  },
  "cells": [
    {
      "cell_type": "markdown",
      "metadata": {
        "id": "view-in-github",
        "colab_type": "text"
      },
      "source": [
        "<a href=\"https://colab.research.google.com/github/GabeMaldonado/sklearn_FUN/blob/main/Predictive_Modeling_Pipeline.ipynb\" target=\"_parent\"><img src=\"https://colab.research.google.com/assets/colab-badge.svg\" alt=\"Open In Colab\"/></a>"
      ]
    },
    {
      "cell_type": "markdown",
      "source": [
        "## Building a model with sklearn\n",
        "\n",
        "Build a predictive model on a tabular dataset using only numerical features."
      ],
      "metadata": {
        "id": "0kHgliEKlIfw"
      }
    },
    {
      "cell_type": "code",
      "source": [
        "import pandas as pd\n",
        "import numpy as np\n",
        "import matplotlib.pyplot as plt\n",
        "import seaborn as sns"
      ],
      "metadata": {
        "id": "Le_JTDmplbAF"
      },
      "execution_count": 2,
      "outputs": []
    },
    {
      "cell_type": "code",
      "execution_count": 3,
      "metadata": {
        "colab": {
          "base_uri": "https://localhost:8080/",
          "height": 392
        },
        "id": "0ifBy4Gcj8Tp",
        "outputId": "ebe2553e-0752-46da-8dac-6b0ef0360285"
      },
      "outputs": [
        {
          "output_type": "execute_result",
          "data": {
            "text/plain": [
              "       age      workclass  fnlwgt   education  education-num  \\\n",
              "12355   30        Private   62932     HS-grad              9   \n",
              "14940   47   Self-emp-inc  147869     HS-grad              9   \n",
              "3684    18        Private  232190     HS-grad              9   \n",
              "4313    43   Self-emp-inc  677398   Bachelors             13   \n",
              "13806   58      State-gov  138130     HS-grad              9   \n",
              "\n",
              "            marital-status        occupation relationship    race      sex  \\\n",
              "12355        Never-married   Farming-fishing    Own-child   White     Male   \n",
              "14940   Married-civ-spouse             Sales      Husband   White     Male   \n",
              "3684         Never-married             Sales    Own-child   White     Male   \n",
              "4313    Married-civ-spouse             Sales      Husband   White     Male   \n",
              "13806        Never-married      Tech-support    Own-child   Black   Female   \n",
              "\n",
              "       capital-gain  capital-loss  hours-per-week  native-country   class  \n",
              "12355             0           0.0            60.0   United-States   <=50K  \n",
              "14940             0           0.0            50.0   United-States   <=50K  \n",
              "3684              0           0.0            20.0   United-States   <=50K  \n",
              "4313              0           0.0            45.0   United-States    >50K  \n",
              "13806             0           0.0            40.0   United-States   <=50K  "
            ],
            "text/html": [
              "\n",
              "  <div id=\"df-0a04fb1b-c8a3-496d-aaf7-1427c903539d\">\n",
              "    <div class=\"colab-df-container\">\n",
              "      <div>\n",
              "<style scoped>\n",
              "    .dataframe tbody tr th:only-of-type {\n",
              "        vertical-align: middle;\n",
              "    }\n",
              "\n",
              "    .dataframe tbody tr th {\n",
              "        vertical-align: top;\n",
              "    }\n",
              "\n",
              "    .dataframe thead th {\n",
              "        text-align: right;\n",
              "    }\n",
              "</style>\n",
              "<table border=\"1\" class=\"dataframe\">\n",
              "  <thead>\n",
              "    <tr style=\"text-align: right;\">\n",
              "      <th></th>\n",
              "      <th>age</th>\n",
              "      <th>workclass</th>\n",
              "      <th>fnlwgt</th>\n",
              "      <th>education</th>\n",
              "      <th>education-num</th>\n",
              "      <th>marital-status</th>\n",
              "      <th>occupation</th>\n",
              "      <th>relationship</th>\n",
              "      <th>race</th>\n",
              "      <th>sex</th>\n",
              "      <th>capital-gain</th>\n",
              "      <th>capital-loss</th>\n",
              "      <th>hours-per-week</th>\n",
              "      <th>native-country</th>\n",
              "      <th>class</th>\n",
              "    </tr>\n",
              "  </thead>\n",
              "  <tbody>\n",
              "    <tr>\n",
              "      <th>12355</th>\n",
              "      <td>30</td>\n",
              "      <td>Private</td>\n",
              "      <td>62932</td>\n",
              "      <td>HS-grad</td>\n",
              "      <td>9</td>\n",
              "      <td>Never-married</td>\n",
              "      <td>Farming-fishing</td>\n",
              "      <td>Own-child</td>\n",
              "      <td>White</td>\n",
              "      <td>Male</td>\n",
              "      <td>0</td>\n",
              "      <td>0.0</td>\n",
              "      <td>60.0</td>\n",
              "      <td>United-States</td>\n",
              "      <td>&lt;=50K</td>\n",
              "    </tr>\n",
              "    <tr>\n",
              "      <th>14940</th>\n",
              "      <td>47</td>\n",
              "      <td>Self-emp-inc</td>\n",
              "      <td>147869</td>\n",
              "      <td>HS-grad</td>\n",
              "      <td>9</td>\n",
              "      <td>Married-civ-spouse</td>\n",
              "      <td>Sales</td>\n",
              "      <td>Husband</td>\n",
              "      <td>White</td>\n",
              "      <td>Male</td>\n",
              "      <td>0</td>\n",
              "      <td>0.0</td>\n",
              "      <td>50.0</td>\n",
              "      <td>United-States</td>\n",
              "      <td>&lt;=50K</td>\n",
              "    </tr>\n",
              "    <tr>\n",
              "      <th>3684</th>\n",
              "      <td>18</td>\n",
              "      <td>Private</td>\n",
              "      <td>232190</td>\n",
              "      <td>HS-grad</td>\n",
              "      <td>9</td>\n",
              "      <td>Never-married</td>\n",
              "      <td>Sales</td>\n",
              "      <td>Own-child</td>\n",
              "      <td>White</td>\n",
              "      <td>Male</td>\n",
              "      <td>0</td>\n",
              "      <td>0.0</td>\n",
              "      <td>20.0</td>\n",
              "      <td>United-States</td>\n",
              "      <td>&lt;=50K</td>\n",
              "    </tr>\n",
              "    <tr>\n",
              "      <th>4313</th>\n",
              "      <td>43</td>\n",
              "      <td>Self-emp-inc</td>\n",
              "      <td>677398</td>\n",
              "      <td>Bachelors</td>\n",
              "      <td>13</td>\n",
              "      <td>Married-civ-spouse</td>\n",
              "      <td>Sales</td>\n",
              "      <td>Husband</td>\n",
              "      <td>White</td>\n",
              "      <td>Male</td>\n",
              "      <td>0</td>\n",
              "      <td>0.0</td>\n",
              "      <td>45.0</td>\n",
              "      <td>United-States</td>\n",
              "      <td>&gt;50K</td>\n",
              "    </tr>\n",
              "    <tr>\n",
              "      <th>13806</th>\n",
              "      <td>58</td>\n",
              "      <td>State-gov</td>\n",
              "      <td>138130</td>\n",
              "      <td>HS-grad</td>\n",
              "      <td>9</td>\n",
              "      <td>Never-married</td>\n",
              "      <td>Tech-support</td>\n",
              "      <td>Own-child</td>\n",
              "      <td>Black</td>\n",
              "      <td>Female</td>\n",
              "      <td>0</td>\n",
              "      <td>0.0</td>\n",
              "      <td>40.0</td>\n",
              "      <td>United-States</td>\n",
              "      <td>&lt;=50K</td>\n",
              "    </tr>\n",
              "  </tbody>\n",
              "</table>\n",
              "</div>\n",
              "      <button class=\"colab-df-convert\" onclick=\"convertToInteractive('df-0a04fb1b-c8a3-496d-aaf7-1427c903539d')\"\n",
              "              title=\"Convert this dataframe to an interactive table.\"\n",
              "              style=\"display:none;\">\n",
              "        \n",
              "  <svg xmlns=\"http://www.w3.org/2000/svg\" height=\"24px\"viewBox=\"0 0 24 24\"\n",
              "       width=\"24px\">\n",
              "    <path d=\"M0 0h24v24H0V0z\" fill=\"none\"/>\n",
              "    <path d=\"M18.56 5.44l.94 2.06.94-2.06 2.06-.94-2.06-.94-.94-2.06-.94 2.06-2.06.94zm-11 1L8.5 8.5l.94-2.06 2.06-.94-2.06-.94L8.5 2.5l-.94 2.06-2.06.94zm10 10l.94 2.06.94-2.06 2.06-.94-2.06-.94-.94-2.06-.94 2.06-2.06.94z\"/><path d=\"M17.41 7.96l-1.37-1.37c-.4-.4-.92-.59-1.43-.59-.52 0-1.04.2-1.43.59L10.3 9.45l-7.72 7.72c-.78.78-.78 2.05 0 2.83L4 21.41c.39.39.9.59 1.41.59.51 0 1.02-.2 1.41-.59l7.78-7.78 2.81-2.81c.8-.78.8-2.07 0-2.86zM5.41 20L4 18.59l7.72-7.72 1.47 1.35L5.41 20z\"/>\n",
              "  </svg>\n",
              "      </button>\n",
              "      \n",
              "  <style>\n",
              "    .colab-df-container {\n",
              "      display:flex;\n",
              "      flex-wrap:wrap;\n",
              "      gap: 12px;\n",
              "    }\n",
              "\n",
              "    .colab-df-convert {\n",
              "      background-color: #E8F0FE;\n",
              "      border: none;\n",
              "      border-radius: 50%;\n",
              "      cursor: pointer;\n",
              "      display: none;\n",
              "      fill: #1967D2;\n",
              "      height: 32px;\n",
              "      padding: 0 0 0 0;\n",
              "      width: 32px;\n",
              "    }\n",
              "\n",
              "    .colab-df-convert:hover {\n",
              "      background-color: #E2EBFA;\n",
              "      box-shadow: 0px 1px 2px rgba(60, 64, 67, 0.3), 0px 1px 3px 1px rgba(60, 64, 67, 0.15);\n",
              "      fill: #174EA6;\n",
              "    }\n",
              "\n",
              "    [theme=dark] .colab-df-convert {\n",
              "      background-color: #3B4455;\n",
              "      fill: #D2E3FC;\n",
              "    }\n",
              "\n",
              "    [theme=dark] .colab-df-convert:hover {\n",
              "      background-color: #434B5C;\n",
              "      box-shadow: 0px 1px 3px 1px rgba(0, 0, 0, 0.15);\n",
              "      filter: drop-shadow(0px 1px 2px rgba(0, 0, 0, 0.3));\n",
              "      fill: #FFFFFF;\n",
              "    }\n",
              "  </style>\n",
              "\n",
              "      <script>\n",
              "        const buttonEl =\n",
              "          document.querySelector('#df-0a04fb1b-c8a3-496d-aaf7-1427c903539d button.colab-df-convert');\n",
              "        buttonEl.style.display =\n",
              "          google.colab.kernel.accessAllowed ? 'block' : 'none';\n",
              "\n",
              "        async function convertToInteractive(key) {\n",
              "          const element = document.querySelector('#df-0a04fb1b-c8a3-496d-aaf7-1427c903539d');\n",
              "          const dataTable =\n",
              "            await google.colab.kernel.invokeFunction('convertToInteractive',\n",
              "                                                     [key], {});\n",
              "          if (!dataTable) return;\n",
              "\n",
              "          const docLinkHtml = 'Like what you see? Visit the ' +\n",
              "            '<a target=\"_blank\" href=https://colab.research.google.com/notebooks/data_table.ipynb>data table notebook</a>'\n",
              "            + ' to learn more about interactive tables.';\n",
              "          element.innerHTML = '';\n",
              "          dataTable['output_type'] = 'display_data';\n",
              "          await google.colab.output.renderOutput(dataTable, element);\n",
              "          const docLink = document.createElement('div');\n",
              "          docLink.innerHTML = docLinkHtml;\n",
              "          element.appendChild(docLink);\n",
              "        }\n",
              "      </script>\n",
              "    </div>\n",
              "  </div>\n",
              "  "
            ]
          },
          "metadata": {},
          "execution_count": 3
        }
      ],
      "source": [
        "# load data\n",
        "\n",
        "df = pd.read_csv(\"/content/adult_census.csv\")\n",
        "df.sample(5)\n"
      ]
    },
    {
      "cell_type": "markdown",
      "source": [
        "Isolate the target variable"
      ],
      "metadata": {
        "id": "1kvH6_HKmBVI"
      }
    },
    {
      "cell_type": "code",
      "source": [
        "target_name = \"class\"\n",
        "target = df[target_name]\n",
        "target.dropna(inplace=True)"
      ],
      "metadata": {
        "id": "YTdbaHS8lknm"
      },
      "execution_count": 4,
      "outputs": []
    },
    {
      "cell_type": "markdown",
      "source": [
        "Separate the data and put them on a different dataframe"
      ],
      "metadata": {
        "id": "2bsshUOomPfk"
      }
    },
    {
      "cell_type": "code",
      "source": [
        "data = df.drop(columns=[target_name])\n",
        "data.info()"
      ],
      "metadata": {
        "colab": {
          "base_uri": "https://localhost:8080/"
        },
        "id": "a0pkqVvwmLxL",
        "outputId": "273620a6-d41b-4000-d5d2-a3bff68d9d52"
      },
      "execution_count": 5,
      "outputs": [
        {
          "output_type": "stream",
          "name": "stdout",
          "text": [
            "<class 'pandas.core.frame.DataFrame'>\n",
            "RangeIndex: 17185 entries, 0 to 17184\n",
            "Data columns (total 14 columns):\n",
            " #   Column          Non-Null Count  Dtype  \n",
            "---  ------          --------------  -----  \n",
            " 0   age             17185 non-null  int64  \n",
            " 1   workclass       17185 non-null  object \n",
            " 2   fnlwgt          17185 non-null  int64  \n",
            " 3   education       17185 non-null  object \n",
            " 4   education-num   17185 non-null  int64  \n",
            " 5   marital-status  17185 non-null  object \n",
            " 6   occupation      17185 non-null  object \n",
            " 7   relationship    17185 non-null  object \n",
            " 8   race            17185 non-null  object \n",
            " 9   sex             17185 non-null  object \n",
            " 10  capital-gain    17185 non-null  int64  \n",
            " 11  capital-loss    17184 non-null  float64\n",
            " 12  hours-per-week  17184 non-null  float64\n",
            " 13  native-country  17184 non-null  object \n",
            "dtypes: float64(2), int64(4), object(8)\n",
            "memory usage: 1.8+ MB\n"
          ]
        }
      ]
    },
    {
      "cell_type": "markdown",
      "source": [
        "Now, get only the numeric features that are relevant for the analysis. (age,, capital-gain, capital-loos, hours-per-week)"
      ],
      "metadata": {
        "id": "ZkDBVwv1m3oR"
      }
    },
    {
      "cell_type": "code",
      "source": [
        "data.drop(columns=['workclass', 'fnlwgt', 'education', 'education-num', 'marital-status',\n",
        "                    'occupation', 'relationship', 'race', 'sex', 'native-country'], inplace=True)"
      ],
      "metadata": {
        "id": "g2emUz7JmqfL"
      },
      "execution_count": 6,
      "outputs": []
    },
    {
      "cell_type": "code",
      "source": [
        "data.head()"
      ],
      "metadata": {
        "colab": {
          "base_uri": "https://localhost:8080/",
          "height": 206
        },
        "id": "ZX9S7mjKnqQj",
        "outputId": "d80774e6-3d36-4f09-a467-efa0b4441c77"
      },
      "execution_count": 7,
      "outputs": [
        {
          "output_type": "execute_result",
          "data": {
            "text/plain": [
              "   age  capital-gain  capital-loss  hours-per-week\n",
              "0   25             0           0.0            40.0\n",
              "1   38             0           0.0            50.0\n",
              "2   28             0           0.0            40.0\n",
              "3   44          7688           0.0            40.0\n",
              "4   18             0           0.0            30.0"
            ],
            "text/html": [
              "\n",
              "  <div id=\"df-920bf8ea-b5f1-4e49-9bd0-2cb7944e63ba\">\n",
              "    <div class=\"colab-df-container\">\n",
              "      <div>\n",
              "<style scoped>\n",
              "    .dataframe tbody tr th:only-of-type {\n",
              "        vertical-align: middle;\n",
              "    }\n",
              "\n",
              "    .dataframe tbody tr th {\n",
              "        vertical-align: top;\n",
              "    }\n",
              "\n",
              "    .dataframe thead th {\n",
              "        text-align: right;\n",
              "    }\n",
              "</style>\n",
              "<table border=\"1\" class=\"dataframe\">\n",
              "  <thead>\n",
              "    <tr style=\"text-align: right;\">\n",
              "      <th></th>\n",
              "      <th>age</th>\n",
              "      <th>capital-gain</th>\n",
              "      <th>capital-loss</th>\n",
              "      <th>hours-per-week</th>\n",
              "    </tr>\n",
              "  </thead>\n",
              "  <tbody>\n",
              "    <tr>\n",
              "      <th>0</th>\n",
              "      <td>25</td>\n",
              "      <td>0</td>\n",
              "      <td>0.0</td>\n",
              "      <td>40.0</td>\n",
              "    </tr>\n",
              "    <tr>\n",
              "      <th>1</th>\n",
              "      <td>38</td>\n",
              "      <td>0</td>\n",
              "      <td>0.0</td>\n",
              "      <td>50.0</td>\n",
              "    </tr>\n",
              "    <tr>\n",
              "      <th>2</th>\n",
              "      <td>28</td>\n",
              "      <td>0</td>\n",
              "      <td>0.0</td>\n",
              "      <td>40.0</td>\n",
              "    </tr>\n",
              "    <tr>\n",
              "      <th>3</th>\n",
              "      <td>44</td>\n",
              "      <td>7688</td>\n",
              "      <td>0.0</td>\n",
              "      <td>40.0</td>\n",
              "    </tr>\n",
              "    <tr>\n",
              "      <th>4</th>\n",
              "      <td>18</td>\n",
              "      <td>0</td>\n",
              "      <td>0.0</td>\n",
              "      <td>30.0</td>\n",
              "    </tr>\n",
              "  </tbody>\n",
              "</table>\n",
              "</div>\n",
              "      <button class=\"colab-df-convert\" onclick=\"convertToInteractive('df-920bf8ea-b5f1-4e49-9bd0-2cb7944e63ba')\"\n",
              "              title=\"Convert this dataframe to an interactive table.\"\n",
              "              style=\"display:none;\">\n",
              "        \n",
              "  <svg xmlns=\"http://www.w3.org/2000/svg\" height=\"24px\"viewBox=\"0 0 24 24\"\n",
              "       width=\"24px\">\n",
              "    <path d=\"M0 0h24v24H0V0z\" fill=\"none\"/>\n",
              "    <path d=\"M18.56 5.44l.94 2.06.94-2.06 2.06-.94-2.06-.94-.94-2.06-.94 2.06-2.06.94zm-11 1L8.5 8.5l.94-2.06 2.06-.94-2.06-.94L8.5 2.5l-.94 2.06-2.06.94zm10 10l.94 2.06.94-2.06 2.06-.94-2.06-.94-.94-2.06-.94 2.06-2.06.94z\"/><path d=\"M17.41 7.96l-1.37-1.37c-.4-.4-.92-.59-1.43-.59-.52 0-1.04.2-1.43.59L10.3 9.45l-7.72 7.72c-.78.78-.78 2.05 0 2.83L4 21.41c.39.39.9.59 1.41.59.51 0 1.02-.2 1.41-.59l7.78-7.78 2.81-2.81c.8-.78.8-2.07 0-2.86zM5.41 20L4 18.59l7.72-7.72 1.47 1.35L5.41 20z\"/>\n",
              "  </svg>\n",
              "      </button>\n",
              "      \n",
              "  <style>\n",
              "    .colab-df-container {\n",
              "      display:flex;\n",
              "      flex-wrap:wrap;\n",
              "      gap: 12px;\n",
              "    }\n",
              "\n",
              "    .colab-df-convert {\n",
              "      background-color: #E8F0FE;\n",
              "      border: none;\n",
              "      border-radius: 50%;\n",
              "      cursor: pointer;\n",
              "      display: none;\n",
              "      fill: #1967D2;\n",
              "      height: 32px;\n",
              "      padding: 0 0 0 0;\n",
              "      width: 32px;\n",
              "    }\n",
              "\n",
              "    .colab-df-convert:hover {\n",
              "      background-color: #E2EBFA;\n",
              "      box-shadow: 0px 1px 2px rgba(60, 64, 67, 0.3), 0px 1px 3px 1px rgba(60, 64, 67, 0.15);\n",
              "      fill: #174EA6;\n",
              "    }\n",
              "\n",
              "    [theme=dark] .colab-df-convert {\n",
              "      background-color: #3B4455;\n",
              "      fill: #D2E3FC;\n",
              "    }\n",
              "\n",
              "    [theme=dark] .colab-df-convert:hover {\n",
              "      background-color: #434B5C;\n",
              "      box-shadow: 0px 1px 3px 1px rgba(0, 0, 0, 0.15);\n",
              "      filter: drop-shadow(0px 1px 2px rgba(0, 0, 0, 0.3));\n",
              "      fill: #FFFFFF;\n",
              "    }\n",
              "  </style>\n",
              "\n",
              "      <script>\n",
              "        const buttonEl =\n",
              "          document.querySelector('#df-920bf8ea-b5f1-4e49-9bd0-2cb7944e63ba button.colab-df-convert');\n",
              "        buttonEl.style.display =\n",
              "          google.colab.kernel.accessAllowed ? 'block' : 'none';\n",
              "\n",
              "        async function convertToInteractive(key) {\n",
              "          const element = document.querySelector('#df-920bf8ea-b5f1-4e49-9bd0-2cb7944e63ba');\n",
              "          const dataTable =\n",
              "            await google.colab.kernel.invokeFunction('convertToInteractive',\n",
              "                                                     [key], {});\n",
              "          if (!dataTable) return;\n",
              "\n",
              "          const docLinkHtml = 'Like what you see? Visit the ' +\n",
              "            '<a target=\"_blank\" href=https://colab.research.google.com/notebooks/data_table.ipynb>data table notebook</a>'\n",
              "            + ' to learn more about interactive tables.';\n",
              "          element.innerHTML = '';\n",
              "          dataTable['output_type'] = 'display_data';\n",
              "          await google.colab.output.renderOutput(dataTable, element);\n",
              "          const docLink = document.createElement('div');\n",
              "          docLink.innerHTML = docLinkHtml;\n",
              "          element.appendChild(docLink);\n",
              "        }\n",
              "      </script>\n",
              "    </div>\n",
              "  </div>\n",
              "  "
            ]
          },
          "metadata": {},
          "execution_count": 7
        }
      ]
    },
    {
      "cell_type": "code",
      "source": [
        "data.columns"
      ],
      "metadata": {
        "colab": {
          "base_uri": "https://localhost:8080/"
        },
        "id": "1EK_BBgzoRIl",
        "outputId": "9583c8af-fcd5-46b3-880d-fa62b64d0ef5"
      },
      "execution_count": 8,
      "outputs": [
        {
          "output_type": "execute_result",
          "data": {
            "text/plain": [
              "Index(['age', 'capital-gain', 'capital-loss', 'hours-per-week'], dtype='object')"
            ]
          },
          "metadata": {},
          "execution_count": 8
        }
      ]
    },
    {
      "cell_type": "code",
      "source": [
        "# print the number of features and samples\n",
        "\n",
        "print(f\"The dataset contains {data.shape[1]} of features and {data.shape[0]} samples\")"
      ],
      "metadata": {
        "colab": {
          "base_uri": "https://localhost:8080/"
        },
        "id": "-A9WAszroXNC",
        "outputId": "e82fa90d-f0c8-4452-8508-31cdfcedee06"
      },
      "execution_count": 9,
      "outputs": [
        {
          "output_type": "stream",
          "name": "stdout",
          "text": [
            "The dataset contains 4 of features and 17185 samples\n"
          ]
        }
      ]
    },
    {
      "cell_type": "code",
      "source": [
        "data.dropna(inplace=True)\n",
        "data.reset_index(drop=True)\n"
      ],
      "metadata": {
        "colab": {
          "base_uri": "https://localhost:8080/",
          "height": 424
        },
        "id": "DJ_QmKoSjWqj",
        "outputId": "a496cdcd-07a9-4547-aeb9-f54b33f24ab9"
      },
      "execution_count": 10,
      "outputs": [
        {
          "output_type": "execute_result",
          "data": {
            "text/plain": [
              "       age  capital-gain  capital-loss  hours-per-week\n",
              "0       25             0           0.0            40.0\n",
              "1       38             0           0.0            50.0\n",
              "2       28             0           0.0            40.0\n",
              "3       44          7688           0.0            40.0\n",
              "4       18             0           0.0            30.0\n",
              "...    ...           ...           ...             ...\n",
              "17179   30             0           0.0            45.0\n",
              "17180   28             0           0.0            40.0\n",
              "17181   63             0           0.0            55.0\n",
              "17182   51             0           0.0            20.0\n",
              "17183   22             0           0.0            40.0\n",
              "\n",
              "[17184 rows x 4 columns]"
            ],
            "text/html": [
              "\n",
              "  <div id=\"df-6f68a696-9fb8-4acf-af60-1cdaf0986760\">\n",
              "    <div class=\"colab-df-container\">\n",
              "      <div>\n",
              "<style scoped>\n",
              "    .dataframe tbody tr th:only-of-type {\n",
              "        vertical-align: middle;\n",
              "    }\n",
              "\n",
              "    .dataframe tbody tr th {\n",
              "        vertical-align: top;\n",
              "    }\n",
              "\n",
              "    .dataframe thead th {\n",
              "        text-align: right;\n",
              "    }\n",
              "</style>\n",
              "<table border=\"1\" class=\"dataframe\">\n",
              "  <thead>\n",
              "    <tr style=\"text-align: right;\">\n",
              "      <th></th>\n",
              "      <th>age</th>\n",
              "      <th>capital-gain</th>\n",
              "      <th>capital-loss</th>\n",
              "      <th>hours-per-week</th>\n",
              "    </tr>\n",
              "  </thead>\n",
              "  <tbody>\n",
              "    <tr>\n",
              "      <th>0</th>\n",
              "      <td>25</td>\n",
              "      <td>0</td>\n",
              "      <td>0.0</td>\n",
              "      <td>40.0</td>\n",
              "    </tr>\n",
              "    <tr>\n",
              "      <th>1</th>\n",
              "      <td>38</td>\n",
              "      <td>0</td>\n",
              "      <td>0.0</td>\n",
              "      <td>50.0</td>\n",
              "    </tr>\n",
              "    <tr>\n",
              "      <th>2</th>\n",
              "      <td>28</td>\n",
              "      <td>0</td>\n",
              "      <td>0.0</td>\n",
              "      <td>40.0</td>\n",
              "    </tr>\n",
              "    <tr>\n",
              "      <th>3</th>\n",
              "      <td>44</td>\n",
              "      <td>7688</td>\n",
              "      <td>0.0</td>\n",
              "      <td>40.0</td>\n",
              "    </tr>\n",
              "    <tr>\n",
              "      <th>4</th>\n",
              "      <td>18</td>\n",
              "      <td>0</td>\n",
              "      <td>0.0</td>\n",
              "      <td>30.0</td>\n",
              "    </tr>\n",
              "    <tr>\n",
              "      <th>...</th>\n",
              "      <td>...</td>\n",
              "      <td>...</td>\n",
              "      <td>...</td>\n",
              "      <td>...</td>\n",
              "    </tr>\n",
              "    <tr>\n",
              "      <th>17179</th>\n",
              "      <td>30</td>\n",
              "      <td>0</td>\n",
              "      <td>0.0</td>\n",
              "      <td>45.0</td>\n",
              "    </tr>\n",
              "    <tr>\n",
              "      <th>17180</th>\n",
              "      <td>28</td>\n",
              "      <td>0</td>\n",
              "      <td>0.0</td>\n",
              "      <td>40.0</td>\n",
              "    </tr>\n",
              "    <tr>\n",
              "      <th>17181</th>\n",
              "      <td>63</td>\n",
              "      <td>0</td>\n",
              "      <td>0.0</td>\n",
              "      <td>55.0</td>\n",
              "    </tr>\n",
              "    <tr>\n",
              "      <th>17182</th>\n",
              "      <td>51</td>\n",
              "      <td>0</td>\n",
              "      <td>0.0</td>\n",
              "      <td>20.0</td>\n",
              "    </tr>\n",
              "    <tr>\n",
              "      <th>17183</th>\n",
              "      <td>22</td>\n",
              "      <td>0</td>\n",
              "      <td>0.0</td>\n",
              "      <td>40.0</td>\n",
              "    </tr>\n",
              "  </tbody>\n",
              "</table>\n",
              "<p>17184 rows × 4 columns</p>\n",
              "</div>\n",
              "      <button class=\"colab-df-convert\" onclick=\"convertToInteractive('df-6f68a696-9fb8-4acf-af60-1cdaf0986760')\"\n",
              "              title=\"Convert this dataframe to an interactive table.\"\n",
              "              style=\"display:none;\">\n",
              "        \n",
              "  <svg xmlns=\"http://www.w3.org/2000/svg\" height=\"24px\"viewBox=\"0 0 24 24\"\n",
              "       width=\"24px\">\n",
              "    <path d=\"M0 0h24v24H0V0z\" fill=\"none\"/>\n",
              "    <path d=\"M18.56 5.44l.94 2.06.94-2.06 2.06-.94-2.06-.94-.94-2.06-.94 2.06-2.06.94zm-11 1L8.5 8.5l.94-2.06 2.06-.94-2.06-.94L8.5 2.5l-.94 2.06-2.06.94zm10 10l.94 2.06.94-2.06 2.06-.94-2.06-.94-.94-2.06-.94 2.06-2.06.94z\"/><path d=\"M17.41 7.96l-1.37-1.37c-.4-.4-.92-.59-1.43-.59-.52 0-1.04.2-1.43.59L10.3 9.45l-7.72 7.72c-.78.78-.78 2.05 0 2.83L4 21.41c.39.39.9.59 1.41.59.51 0 1.02-.2 1.41-.59l7.78-7.78 2.81-2.81c.8-.78.8-2.07 0-2.86zM5.41 20L4 18.59l7.72-7.72 1.47 1.35L5.41 20z\"/>\n",
              "  </svg>\n",
              "      </button>\n",
              "      \n",
              "  <style>\n",
              "    .colab-df-container {\n",
              "      display:flex;\n",
              "      flex-wrap:wrap;\n",
              "      gap: 12px;\n",
              "    }\n",
              "\n",
              "    .colab-df-convert {\n",
              "      background-color: #E8F0FE;\n",
              "      border: none;\n",
              "      border-radius: 50%;\n",
              "      cursor: pointer;\n",
              "      display: none;\n",
              "      fill: #1967D2;\n",
              "      height: 32px;\n",
              "      padding: 0 0 0 0;\n",
              "      width: 32px;\n",
              "    }\n",
              "\n",
              "    .colab-df-convert:hover {\n",
              "      background-color: #E2EBFA;\n",
              "      box-shadow: 0px 1px 2px rgba(60, 64, 67, 0.3), 0px 1px 3px 1px rgba(60, 64, 67, 0.15);\n",
              "      fill: #174EA6;\n",
              "    }\n",
              "\n",
              "    [theme=dark] .colab-df-convert {\n",
              "      background-color: #3B4455;\n",
              "      fill: #D2E3FC;\n",
              "    }\n",
              "\n",
              "    [theme=dark] .colab-df-convert:hover {\n",
              "      background-color: #434B5C;\n",
              "      box-shadow: 0px 1px 3px 1px rgba(0, 0, 0, 0.15);\n",
              "      filter: drop-shadow(0px 1px 2px rgba(0, 0, 0, 0.3));\n",
              "      fill: #FFFFFF;\n",
              "    }\n",
              "  </style>\n",
              "\n",
              "      <script>\n",
              "        const buttonEl =\n",
              "          document.querySelector('#df-6f68a696-9fb8-4acf-af60-1cdaf0986760 button.colab-df-convert');\n",
              "        buttonEl.style.display =\n",
              "          google.colab.kernel.accessAllowed ? 'block' : 'none';\n",
              "\n",
              "        async function convertToInteractive(key) {\n",
              "          const element = document.querySelector('#df-6f68a696-9fb8-4acf-af60-1cdaf0986760');\n",
              "          const dataTable =\n",
              "            await google.colab.kernel.invokeFunction('convertToInteractive',\n",
              "                                                     [key], {});\n",
              "          if (!dataTable) return;\n",
              "\n",
              "          const docLinkHtml = 'Like what you see? Visit the ' +\n",
              "            '<a target=\"_blank\" href=https://colab.research.google.com/notebooks/data_table.ipynb>data table notebook</a>'\n",
              "            + ' to learn more about interactive tables.';\n",
              "          element.innerHTML = '';\n",
              "          dataTable['output_type'] = 'display_data';\n",
              "          await google.colab.output.renderOutput(dataTable, element);\n",
              "          const docLink = document.createElement('div');\n",
              "          docLink.innerHTML = docLinkHtml;\n",
              "          element.appendChild(docLink);\n",
              "        }\n",
              "      </script>\n",
              "    </div>\n",
              "  </div>\n",
              "  "
            ]
          },
          "metadata": {},
          "execution_count": 10
        }
      ]
    },
    {
      "cell_type": "markdown",
      "source": [
        "## Fit a model and make predictions\n",
        "\n",
        "We build a classification model using the *k-nearest neighbors* algorithm. To predict the target of a new sample, a k-nearest neighbors takes into account its *k* closest samples in the training set and predicts the majority targert of these samples. \n",
        "\n",
        "<div class=\"admonition caution alert alert-warning\">\n",
        "<p class=\"first admonition-title\" style=\"font-weight: bold;\">Caution!</p>\n",
        "<p class=\"last\">We use a K-nearest neighbors here. However, be aware that it is seldom useful\n",
        "in practice. We use it because it is an intuitive algorithm. In the next\n",
        "notebook, we will introduce better models.</p>\n",
        "</div>\n",
        "\n",
        "The `fit` method is called to train the model from the input (features) and target data."
      ],
      "metadata": {
        "id": "ZUDO6jc_o26W"
      }
    },
    {
      "cell_type": "code",
      "source": [
        "from sklearn.neighbors import KNeighborsClassifier\n",
        "\n",
        "model = KNeighborsClassifier()\n",
        "model.fit(data, target)"
      ],
      "metadata": {
        "colab": {
          "base_uri": "https://localhost:8080/"
        },
        "id": "oJXs7ZUqo2by",
        "outputId": "35eeb5ac-75f2-4ab4-802b-8fcdc9ba993c"
      },
      "execution_count": 11,
      "outputs": [
        {
          "output_type": "execute_result",
          "data": {
            "text/plain": [
              "KNeighborsClassifier()"
            ]
          },
          "metadata": {},
          "execution_count": 11
        }
      ]
    },
    {
      "cell_type": "markdown",
      "source": [
        "The method `fit` is composed of two elements: (i) a **learning algorithm**\n",
        "and (ii) some **model states**. The learning algorithm takes the training\n",
        "data and training target as input and sets the model states. These model\n",
        "states will be used later to either predict (for classifiers and regressors)\n",
        "or transform data (for transformers).\n",
        "\n",
        "Both the learning algorithm and the type of model states are specific to each\n",
        "type of model."
      ],
      "metadata": {
        "id": "gPMH6TXYqyhk"
      }
    },
    {
      "cell_type": "code",
      "source": [
        "# Use the model to make some predictions using the same dataset\n",
        "\n",
        "target_predicted = model.predict(data)"
      ],
      "metadata": {
        "id": "GpyjQt7tot-K"
      },
      "execution_count": 12,
      "outputs": []
    },
    {
      "cell_type": "markdown",
      "source": [
        "To predict, a model uses a **prediction function** that will use the input\n",
        "data together with the model states. As for the learning algorithm and the\n",
        "model states, the prediction function is specific for each type of model.\n",
        "\n",
        "Take a look at the first five predictions:"
      ],
      "metadata": {
        "id": "xtdjfKjJrruP"
      }
    },
    {
      "cell_type": "code",
      "source": [
        "target_predicted[:5]"
      ],
      "metadata": {
        "colab": {
          "base_uri": "https://localhost:8080/"
        },
        "id": "AxV5_n1xrJYp",
        "outputId": "15c3b2be-69f8-4db5-e0c6-5fbc98f85615"
      },
      "execution_count": 13,
      "outputs": [
        {
          "output_type": "execute_result",
          "data": {
            "text/plain": [
              "array([' <=50K', ' >50K', ' <=50K', ' >50K', ' <=50K'], dtype=object)"
            ]
          },
          "metadata": {},
          "execution_count": 13
        }
      ]
    },
    {
      "cell_type": "markdown",
      "source": [
        "Compare these predictions to the actual data"
      ],
      "metadata": {
        "id": "ZSWUigILsQu5"
      }
    },
    {
      "cell_type": "code",
      "source": [
        "target[:5]"
      ],
      "metadata": {
        "colab": {
          "base_uri": "https://localhost:8080/"
        },
        "id": "AtBXmXMosGSY",
        "outputId": "ababd556-60b9-4ad7-ae84-6f160462dc89"
      },
      "execution_count": 14,
      "outputs": [
        {
          "output_type": "execute_result",
          "data": {
            "text/plain": [
              "0     <=50K\n",
              "1     <=50K\n",
              "2      >50K\n",
              "3      >50K\n",
              "4     <=50K\n",
              "Name: class, dtype: object"
            ]
          },
          "metadata": {},
          "execution_count": 14
        }
      ]
    },
    {
      "cell_type": "markdown",
      "source": [
        "Let's compare the predictions with the actual data/\n"
      ],
      "metadata": {
        "id": "H8BnObfLsmNl"
      }
    },
    {
      "cell_type": "code",
      "source": [
        "target[:5] == target_predicted[:5]"
      ],
      "metadata": {
        "colab": {
          "base_uri": "https://localhost:8080/"
        },
        "id": "C6zSraU3sjKy",
        "outputId": "869068b5-ad0e-4e08-f64e-0dbd8400f180"
      },
      "execution_count": 15,
      "outputs": [
        {
          "output_type": "execute_result",
          "data": {
            "text/plain": [
              "0     True\n",
              "1    False\n",
              "2    False\n",
              "3     True\n",
              "4     True\n",
              "Name: class, dtype: bool"
            ]
          },
          "metadata": {},
          "execution_count": 15
        }
      ]
    },
    {
      "cell_type": "code",
      "source": [
        "print(f\"Number of correct prediction: \"\n",
        "      f\"{(target[:5] == target_predicted[:5]).sum()} / 5\")"
      ],
      "metadata": {
        "colab": {
          "base_uri": "https://localhost:8080/"
        },
        "id": "GsRb4-5PtDnU",
        "outputId": "2917cc73-6623-458b-aa05-f9891e211fec"
      },
      "execution_count": 16,
      "outputs": [
        {
          "output_type": "stream",
          "name": "stdout",
          "text": [
            "Number of correct prediction: 3 / 5\n"
          ]
        }
      ]
    },
    {
      "cell_type": "markdown",
      "source": [
        "Calculate average success rate"
      ],
      "metadata": {
        "id": "qsIqPoNvtNeO"
      }
    },
    {
      "cell_type": "code",
      "source": [
        "(target == target_predicted).mean()"
      ],
      "metadata": {
        "colab": {
          "base_uri": "https://localhost:8080/"
        },
        "id": "ChnDKs3dtQi3",
        "outputId": "e1151819-10f5-4888-c6f4-46109df61683"
      },
      "execution_count": 17,
      "outputs": [
        {
          "output_type": "execute_result",
          "data": {
            "text/plain": [
              "0.8254189944134078"
            ]
          },
          "metadata": {},
          "execution_count": 17
        }
      ]
    },
    {
      "cell_type": "markdown",
      "source": [
        "## Train-test split the dataset\n",
        "\n",
        "Scikit-learn provides the helper function\n",
        "`sklearn.model_selection.train_test_split` which is used to automatically\n",
        "split the dataset into two subsets."
      ],
      "metadata": {
        "id": "4l_nQK2H1hpg"
      }
    },
    {
      "cell_type": "code",
      "source": [
        "from sklearn.model_selection import train_test_split\n",
        "\n",
        "data_train, data_test, target_train, target_test = train_test_split(\n",
        "    data, target, random_state=42, test_size=0.25)"
      ],
      "metadata": {
        "id": "jjHtiNznxY1m"
      },
      "execution_count": 18,
      "outputs": []
    },
    {
      "cell_type": "markdown",
      "source": [
        "<div class=\"admonition tip alert alert-warning\">\n",
        "<p class=\"first admonition-title\" style=\"font-weight: bold;\">Tip</p>\n",
        "<p class=\"last\">In scikit-learn setting the <tt class=\"docutils literal\">random_state</tt> parameter allows to get\n",
        "deterministic results when we use a random number generator. In the\n",
        "<tt class=\"docutils literal\">train_test_split</tt> case the randomness comes from shuffling the data, which\n",
        "decides how the dataset is split into a train and a test set).</p>\n",
        "</div>"
      ],
      "metadata": {
        "id": "jhVzK6aP1-qs"
      }
    },
    {
      "cell_type": "markdown",
      "source": [
        "When calling the function `train_test_split`, we specified that we would like\n",
        "to have 25% of samples in the testing set while the remaining samples (75%)\n",
        "will be available in the training set. We can check quickly if we got\n",
        "what we expected."
      ],
      "metadata": {
        "id": "UMGx46BL2Ec3"
      }
    },
    {
      "cell_type": "code",
      "source": [
        "print(f\"Number of samples in testing: {data_test.shape[0]} => \"\n",
        "      f\"{data_test.shape[0] / data.shape[0] * 100:.1f}% of the\"\n",
        "      f\" original set\")"
      ],
      "metadata": {
        "colab": {
          "base_uri": "https://localhost:8080/"
        },
        "id": "X8f-OQT012JD",
        "outputId": "cfedf9ca-3eb2-451d-965f-4ca40e79d21e"
      },
      "execution_count": 19,
      "outputs": [
        {
          "output_type": "stream",
          "name": "stdout",
          "text": [
            "Number of samples in testing: 4296 => 25.0% of the original set\n"
          ]
        }
      ]
    },
    {
      "cell_type": "code",
      "source": [
        "print(f\"Number of samples in training: {data_train.shape[0]} => \"\n",
        "      f\"{data_train.shape[0] / data.shape[0] * 100:.1f}% of the\"\n",
        "      f\" original set\")"
      ],
      "metadata": {
        "colab": {
          "base_uri": "https://localhost:8080/"
        },
        "id": "qknPxUN32Iyy",
        "outputId": "6bfed95b-82f7-45b2-c70d-67fa570e794e"
      },
      "execution_count": 20,
      "outputs": [
        {
          "output_type": "stream",
          "name": "stdout",
          "text": [
            "Number of samples in training: 12888 => 75.0% of the original set\n"
          ]
        }
      ]
    },
    {
      "cell_type": "markdown",
      "source": [
        "In the previous notebook, we used a k-nearest neighbors model. While this\n",
        "model is intuitive to understand, it is not widely used in practice. Now, we\n",
        "will use a more useful model, called a logistic regression, which belongs to\n",
        "the linear models family.\n",
        "\n",
        "<div class=\"admonition note alert alert-info\">\n",
        "<p class=\"first admonition-title\" style=\"font-weight: bold;\">Note</p>\n",
        "<p>In short, linear models find a set of weights to combine features linearly\n",
        "and predict the target. For instance, the model can come up with a rule such\n",
        "as:</p>\n",
        "<ul class=\"simple\">\n",
        "<li>if <tt class=\"docutils literal\">0.1 * age + 3.3 * <span class=\"pre\">hours-per-week</span> - 15.1 &gt; 0</tt>, predict <tt class=\"docutils literal\"><span class=\"pre\">high-income</span></tt></li>\n",
        "<li>otherwise predict <tt class=\"docutils literal\"><span class=\"pre\">low-income</span></tt></li>\n",
        "</ul>\n",
        "<p class=\"last\">Linear models, and in particular the logistic regression, will be covered in\n",
        "more details in the \"Linear models\" module later in this course. For now the\n",
        "focus is to use this logistic regression model in scikit-learn rather than\n",
        "understand how it works in details.</p>\n",
        "</div>\n",
        "\n",
        "To create a logistic regression model in scikit-learn you can do:"
      ],
      "metadata": {
        "id": "oMHWuhxL2csM"
      }
    },
    {
      "cell_type": "code",
      "source": [
        "# to display nice model diagram\n",
        "from sklearn import set_config\n",
        "set_config(display='diagram')"
      ],
      "metadata": {
        "id": "Hf7in4h-2UVB"
      },
      "execution_count": 21,
      "outputs": []
    },
    {
      "cell_type": "code",
      "source": [
        "from sklearn.linear_model import LogisticRegression\n",
        "\n",
        "model = LogisticRegression()"
      ],
      "metadata": {
        "id": "0ziYTX6J2vug"
      },
      "execution_count": 22,
      "outputs": []
    },
    {
      "cell_type": "markdown",
      "source": [
        "Now that the model has been created, you can use it exactly the same way as\n",
        "we used the k-nearest neighbors model in the previous notebook. In\n",
        "particular, we can use the `fit` method to train the model using the training\n",
        "data and labels:"
      ],
      "metadata": {
        "id": "-u5m0h5E2146"
      }
    },
    {
      "cell_type": "code",
      "source": [
        "model.fit(data_train, target_train)"
      ],
      "metadata": {
        "colab": {
          "base_uri": "https://localhost:8080/",
          "height": 75
        },
        "id": "RzSDPBkJ2x3Q",
        "outputId": "919473dc-479e-4f9d-bb10-37fbc704728d"
      },
      "execution_count": 23,
      "outputs": [
        {
          "output_type": "execute_result",
          "data": {
            "text/plain": [
              "LogisticRegression()"
            ],
            "text/html": [
              "<style>#sk-ee10c134-1220-481c-adcd-28dc5005be66 {color: black;background-color: white;}#sk-ee10c134-1220-481c-adcd-28dc5005be66 pre{padding: 0;}#sk-ee10c134-1220-481c-adcd-28dc5005be66 div.sk-toggleable {background-color: white;}#sk-ee10c134-1220-481c-adcd-28dc5005be66 label.sk-toggleable__label {cursor: pointer;display: block;width: 100%;margin-bottom: 0;padding: 0.3em;box-sizing: border-box;text-align: center;}#sk-ee10c134-1220-481c-adcd-28dc5005be66 label.sk-toggleable__label-arrow:before {content: \"▸\";float: left;margin-right: 0.25em;color: #696969;}#sk-ee10c134-1220-481c-adcd-28dc5005be66 label.sk-toggleable__label-arrow:hover:before {color: black;}#sk-ee10c134-1220-481c-adcd-28dc5005be66 div.sk-estimator:hover label.sk-toggleable__label-arrow:before {color: black;}#sk-ee10c134-1220-481c-adcd-28dc5005be66 div.sk-toggleable__content {max-height: 0;max-width: 0;overflow: hidden;text-align: left;background-color: #f0f8ff;}#sk-ee10c134-1220-481c-adcd-28dc5005be66 div.sk-toggleable__content pre {margin: 0.2em;color: black;border-radius: 0.25em;background-color: #f0f8ff;}#sk-ee10c134-1220-481c-adcd-28dc5005be66 input.sk-toggleable__control:checked~div.sk-toggleable__content {max-height: 200px;max-width: 100%;overflow: auto;}#sk-ee10c134-1220-481c-adcd-28dc5005be66 input.sk-toggleable__control:checked~label.sk-toggleable__label-arrow:before {content: \"▾\";}#sk-ee10c134-1220-481c-adcd-28dc5005be66 div.sk-estimator input.sk-toggleable__control:checked~label.sk-toggleable__label {background-color: #d4ebff;}#sk-ee10c134-1220-481c-adcd-28dc5005be66 div.sk-label input.sk-toggleable__control:checked~label.sk-toggleable__label {background-color: #d4ebff;}#sk-ee10c134-1220-481c-adcd-28dc5005be66 input.sk-hidden--visually {border: 0;clip: rect(1px 1px 1px 1px);clip: rect(1px, 1px, 1px, 1px);height: 1px;margin: -1px;overflow: hidden;padding: 0;position: absolute;width: 1px;}#sk-ee10c134-1220-481c-adcd-28dc5005be66 div.sk-estimator {font-family: monospace;background-color: #f0f8ff;border: 1px dotted black;border-radius: 0.25em;box-sizing: border-box;margin-bottom: 0.5em;}#sk-ee10c134-1220-481c-adcd-28dc5005be66 div.sk-estimator:hover {background-color: #d4ebff;}#sk-ee10c134-1220-481c-adcd-28dc5005be66 div.sk-parallel-item::after {content: \"\";width: 100%;border-bottom: 1px solid gray;flex-grow: 1;}#sk-ee10c134-1220-481c-adcd-28dc5005be66 div.sk-label:hover label.sk-toggleable__label {background-color: #d4ebff;}#sk-ee10c134-1220-481c-adcd-28dc5005be66 div.sk-serial::before {content: \"\";position: absolute;border-left: 1px solid gray;box-sizing: border-box;top: 2em;bottom: 0;left: 50%;}#sk-ee10c134-1220-481c-adcd-28dc5005be66 div.sk-serial {display: flex;flex-direction: column;align-items: center;background-color: white;padding-right: 0.2em;padding-left: 0.2em;}#sk-ee10c134-1220-481c-adcd-28dc5005be66 div.sk-item {z-index: 1;}#sk-ee10c134-1220-481c-adcd-28dc5005be66 div.sk-parallel {display: flex;align-items: stretch;justify-content: center;background-color: white;}#sk-ee10c134-1220-481c-adcd-28dc5005be66 div.sk-parallel::before {content: \"\";position: absolute;border-left: 1px solid gray;box-sizing: border-box;top: 2em;bottom: 0;left: 50%;}#sk-ee10c134-1220-481c-adcd-28dc5005be66 div.sk-parallel-item {display: flex;flex-direction: column;position: relative;background-color: white;}#sk-ee10c134-1220-481c-adcd-28dc5005be66 div.sk-parallel-item:first-child::after {align-self: flex-end;width: 50%;}#sk-ee10c134-1220-481c-adcd-28dc5005be66 div.sk-parallel-item:last-child::after {align-self: flex-start;width: 50%;}#sk-ee10c134-1220-481c-adcd-28dc5005be66 div.sk-parallel-item:only-child::after {width: 0;}#sk-ee10c134-1220-481c-adcd-28dc5005be66 div.sk-dashed-wrapped {border: 1px dashed gray;margin: 0 0.4em 0.5em 0.4em;box-sizing: border-box;padding-bottom: 0.4em;background-color: white;position: relative;}#sk-ee10c134-1220-481c-adcd-28dc5005be66 div.sk-label label {font-family: monospace;font-weight: bold;background-color: white;display: inline-block;line-height: 1.2em;}#sk-ee10c134-1220-481c-adcd-28dc5005be66 div.sk-label-container {position: relative;z-index: 2;text-align: center;}#sk-ee10c134-1220-481c-adcd-28dc5005be66 div.sk-container {/* jupyter's `normalize.less` sets `[hidden] { display: none; }` but bootstrap.min.css set `[hidden] { display: none !important; }` so we also need the `!important` here to be able to override the default hidden behavior on the sphinx rendered scikit-learn.org. See: https://github.com/scikit-learn/scikit-learn/issues/21755 */display: inline-block !important;position: relative;}#sk-ee10c134-1220-481c-adcd-28dc5005be66 div.sk-text-repr-fallback {display: none;}</style><div id=\"sk-ee10c134-1220-481c-adcd-28dc5005be66\" class=\"sk-top-container\"><div class=\"sk-text-repr-fallback\"><pre>LogisticRegression()</pre><b>Please rerun this cell to show the HTML repr or trust the notebook.</b></div><div class=\"sk-container\" hidden><div class=\"sk-item\"><div class=\"sk-estimator sk-toggleable\"><input class=\"sk-toggleable__control sk-hidden--visually\" id=\"e221f84d-e71f-43d7-a726-b9fe887112e3\" type=\"checkbox\" checked><label for=\"e221f84d-e71f-43d7-a726-b9fe887112e3\" class=\"sk-toggleable__label sk-toggleable__label-arrow\">LogisticRegression</label><div class=\"sk-toggleable__content\"><pre>LogisticRegression()</pre></div></div></div></div></div>"
            ]
          },
          "metadata": {},
          "execution_count": 23
        }
      ]
    },
    {
      "cell_type": "markdown",
      "source": [
        "We can also use the `score` method to check the model generalization performance\n",
        "on the test set."
      ],
      "metadata": {
        "id": "o02Is7iS2-mR"
      }
    },
    {
      "cell_type": "code",
      "source": [
        "accuracy = model.score(data_test, target_test)\n",
        "print(f\"Accuracy of logistic regression: {accuracy:.3f}\")"
      ],
      "metadata": {
        "colab": {
          "base_uri": "https://localhost:8080/"
        },
        "id": "vm4raNZT24wy",
        "outputId": "882010e8-57fa-4590-e0cd-5c60fdb50a58"
      },
      "execution_count": 24,
      "outputs": [
        {
          "output_type": "stream",
          "name": "stdout",
          "text": [
            "Accuracy of logistic regression: 0.797\n"
          ]
        }
      ]
    },
    {
      "cell_type": "markdown",
      "source": [
        "In scikit-learn, the `score` method of a classification model returns the accuracy,\n",
        "i.e. the fraction of correctly classified samples. In this case, around\n",
        "8 / 10 of the times, the logistic regression predicts the right income of a\n",
        "person. Now the real question is: is this generalization performance relevant\n",
        "of a good predictive model? Find out by solving the next exercise!\n",
        "\n",
        "In this notebook, we learned to:\n",
        "\n",
        "* identify numerical data in a heterogeneous dataset;\n",
        "* select the subset of columns corresponding to numerical data;\n",
        "* use the scikit-learn `train_test_split` function to separate data into\n",
        "  a train and a test set;\n",
        "* train and evaluate a logistic regression model."
      ],
      "metadata": {
        "id": "QWHFx4jn3FWS"
      }
    },
    {
      "cell_type": "markdown",
      "source": [
        "## Compare performance of the previous classifier with some simple baseline classifiers.\n",
        "\n",
        "Use a `DummyClassifier` such that the resulting classifier will always\n",
        "predict the class `' >50K'`. What is the accuracy score on the test set?\n",
        "Repeat the experiment by always predicting the class `' <=50K'`.\n"
      ],
      "metadata": {
        "id": "ZsMZe7ml4efQ"
      }
    },
    {
      "cell_type": "code",
      "source": [
        "from sklearn.dummy import DummyClassifier\n",
        "\n",
        "# predict for 50k\n",
        "class_to_predict =  ' >50K'\n",
        "high_rev_clf = DummyClassifier(strategy='constant',\n",
        "                               constant=class_to_predict)\n",
        "high_rev_clf.fit(data_train, target_train)\n",
        "score = high_rev_clf.score(data_test, target_test)\n",
        "\n",
        "print(f\"Accuracy of a model predicting only high revenue: {score:.3f}\")"
      ],
      "metadata": {
        "colab": {
          "base_uri": "https://localhost:8080/"
        },
        "id": "y8_O1xaR3Byu",
        "outputId": "346ee2e5-a70f-4687-af6c-6255bdc147e2"
      },
      "execution_count": 25,
      "outputs": [
        {
          "output_type": "stream",
          "name": "stdout",
          "text": [
            "Accuracy of a model predicting only high revenue: 0.240\n"
          ]
        }
      ]
    },
    {
      "cell_type": "code",
      "source": [
        "# predict for <50K\n",
        "class_to_predict = ' <=50K'\n",
        "low_rev_clf = DummyClassifier(strategy='constant',\n",
        "                              constant=class_to_predict)\n",
        "low_rev_clf.fit(data_train, target_train)\n",
        "score = low_rev_clf.score(data_test, target_test)\n",
        "\n",
        "print(f\"Accuracy of a model predicting only high revenue: {score:.3f}\")"
      ],
      "metadata": {
        "colab": {
          "base_uri": "https://localhost:8080/"
        },
        "id": "l_4BFuhp5bd8",
        "outputId": "68f31d49-6dd0-4666-a9aa-f7a18bbc0e4c"
      },
      "execution_count": 26,
      "outputs": [
        {
          "output_type": "stream",
          "name": "stdout",
          "text": [
            "Accuracy of a model predicting only high revenue: 0.760\n"
          ]
        }
      ]
    },
    {
      "cell_type": "markdown",
      "source": [
        "## Preprocessing for Numerical Features\n",
        "\n",
        "Here we will see: \n",
        "* an example of preprocessing, namely **scaling numerical variables**\n",
        "* using scikit-learn **pipeline** to chain preprocessing and model training\n",
        "\n",
        "## Model fitting with preprocessing\n",
        "\n",
        "A range of preprocessing algorithms in scikit-learn allow us to transform\n",
        "the input data before training a model. In our case, we will standardize the\n",
        "data and then train a new logistic regression model on that new version of\n",
        "the dataset.\n",
        "\n",
        "Let's start by printing some statistics about the training data."
      ],
      "metadata": {
        "id": "f7_nJEnrNDoP"
      }
    },
    {
      "cell_type": "code",
      "source": [
        "data_train.describe()"
      ],
      "metadata": {
        "colab": {
          "base_uri": "https://localhost:8080/",
          "height": 300
        },
        "id": "RavrMQAP5hi7",
        "outputId": "b9554a4c-d6d3-46b2-e37f-1c72b7ddabdf"
      },
      "execution_count": 27,
      "outputs": [
        {
          "output_type": "execute_result",
          "data": {
            "text/plain": [
              "                age  capital-gain  capital-loss  hours-per-week\n",
              "count  12888.000000  12888.000000  12888.000000    12888.000000\n",
              "mean      38.835273   1063.742629     86.520562       40.396338\n",
              "std       13.864780   7517.837288    399.551495       12.430589\n",
              "min       17.000000      0.000000      0.000000        1.000000\n",
              "25%       28.000000      0.000000      0.000000       40.000000\n",
              "50%       37.000000      0.000000      0.000000       40.000000\n",
              "75%       48.000000      0.000000      0.000000       45.000000\n",
              "max       90.000000  99999.000000   3770.000000       99.000000"
            ],
            "text/html": [
              "\n",
              "  <div id=\"df-125237b0-88eb-4d46-a644-1dc781691cbe\">\n",
              "    <div class=\"colab-df-container\">\n",
              "      <div>\n",
              "<style scoped>\n",
              "    .dataframe tbody tr th:only-of-type {\n",
              "        vertical-align: middle;\n",
              "    }\n",
              "\n",
              "    .dataframe tbody tr th {\n",
              "        vertical-align: top;\n",
              "    }\n",
              "\n",
              "    .dataframe thead th {\n",
              "        text-align: right;\n",
              "    }\n",
              "</style>\n",
              "<table border=\"1\" class=\"dataframe\">\n",
              "  <thead>\n",
              "    <tr style=\"text-align: right;\">\n",
              "      <th></th>\n",
              "      <th>age</th>\n",
              "      <th>capital-gain</th>\n",
              "      <th>capital-loss</th>\n",
              "      <th>hours-per-week</th>\n",
              "    </tr>\n",
              "  </thead>\n",
              "  <tbody>\n",
              "    <tr>\n",
              "      <th>count</th>\n",
              "      <td>12888.000000</td>\n",
              "      <td>12888.000000</td>\n",
              "      <td>12888.000000</td>\n",
              "      <td>12888.000000</td>\n",
              "    </tr>\n",
              "    <tr>\n",
              "      <th>mean</th>\n",
              "      <td>38.835273</td>\n",
              "      <td>1063.742629</td>\n",
              "      <td>86.520562</td>\n",
              "      <td>40.396338</td>\n",
              "    </tr>\n",
              "    <tr>\n",
              "      <th>std</th>\n",
              "      <td>13.864780</td>\n",
              "      <td>7517.837288</td>\n",
              "      <td>399.551495</td>\n",
              "      <td>12.430589</td>\n",
              "    </tr>\n",
              "    <tr>\n",
              "      <th>min</th>\n",
              "      <td>17.000000</td>\n",
              "      <td>0.000000</td>\n",
              "      <td>0.000000</td>\n",
              "      <td>1.000000</td>\n",
              "    </tr>\n",
              "    <tr>\n",
              "      <th>25%</th>\n",
              "      <td>28.000000</td>\n",
              "      <td>0.000000</td>\n",
              "      <td>0.000000</td>\n",
              "      <td>40.000000</td>\n",
              "    </tr>\n",
              "    <tr>\n",
              "      <th>50%</th>\n",
              "      <td>37.000000</td>\n",
              "      <td>0.000000</td>\n",
              "      <td>0.000000</td>\n",
              "      <td>40.000000</td>\n",
              "    </tr>\n",
              "    <tr>\n",
              "      <th>75%</th>\n",
              "      <td>48.000000</td>\n",
              "      <td>0.000000</td>\n",
              "      <td>0.000000</td>\n",
              "      <td>45.000000</td>\n",
              "    </tr>\n",
              "    <tr>\n",
              "      <th>max</th>\n",
              "      <td>90.000000</td>\n",
              "      <td>99999.000000</td>\n",
              "      <td>3770.000000</td>\n",
              "      <td>99.000000</td>\n",
              "    </tr>\n",
              "  </tbody>\n",
              "</table>\n",
              "</div>\n",
              "      <button class=\"colab-df-convert\" onclick=\"convertToInteractive('df-125237b0-88eb-4d46-a644-1dc781691cbe')\"\n",
              "              title=\"Convert this dataframe to an interactive table.\"\n",
              "              style=\"display:none;\">\n",
              "        \n",
              "  <svg xmlns=\"http://www.w3.org/2000/svg\" height=\"24px\"viewBox=\"0 0 24 24\"\n",
              "       width=\"24px\">\n",
              "    <path d=\"M0 0h24v24H0V0z\" fill=\"none\"/>\n",
              "    <path d=\"M18.56 5.44l.94 2.06.94-2.06 2.06-.94-2.06-.94-.94-2.06-.94 2.06-2.06.94zm-11 1L8.5 8.5l.94-2.06 2.06-.94-2.06-.94L8.5 2.5l-.94 2.06-2.06.94zm10 10l.94 2.06.94-2.06 2.06-.94-2.06-.94-.94-2.06-.94 2.06-2.06.94z\"/><path d=\"M17.41 7.96l-1.37-1.37c-.4-.4-.92-.59-1.43-.59-.52 0-1.04.2-1.43.59L10.3 9.45l-7.72 7.72c-.78.78-.78 2.05 0 2.83L4 21.41c.39.39.9.59 1.41.59.51 0 1.02-.2 1.41-.59l7.78-7.78 2.81-2.81c.8-.78.8-2.07 0-2.86zM5.41 20L4 18.59l7.72-7.72 1.47 1.35L5.41 20z\"/>\n",
              "  </svg>\n",
              "      </button>\n",
              "      \n",
              "  <style>\n",
              "    .colab-df-container {\n",
              "      display:flex;\n",
              "      flex-wrap:wrap;\n",
              "      gap: 12px;\n",
              "    }\n",
              "\n",
              "    .colab-df-convert {\n",
              "      background-color: #E8F0FE;\n",
              "      border: none;\n",
              "      border-radius: 50%;\n",
              "      cursor: pointer;\n",
              "      display: none;\n",
              "      fill: #1967D2;\n",
              "      height: 32px;\n",
              "      padding: 0 0 0 0;\n",
              "      width: 32px;\n",
              "    }\n",
              "\n",
              "    .colab-df-convert:hover {\n",
              "      background-color: #E2EBFA;\n",
              "      box-shadow: 0px 1px 2px rgba(60, 64, 67, 0.3), 0px 1px 3px 1px rgba(60, 64, 67, 0.15);\n",
              "      fill: #174EA6;\n",
              "    }\n",
              "\n",
              "    [theme=dark] .colab-df-convert {\n",
              "      background-color: #3B4455;\n",
              "      fill: #D2E3FC;\n",
              "    }\n",
              "\n",
              "    [theme=dark] .colab-df-convert:hover {\n",
              "      background-color: #434B5C;\n",
              "      box-shadow: 0px 1px 3px 1px rgba(0, 0, 0, 0.15);\n",
              "      filter: drop-shadow(0px 1px 2px rgba(0, 0, 0, 0.3));\n",
              "      fill: #FFFFFF;\n",
              "    }\n",
              "  </style>\n",
              "\n",
              "      <script>\n",
              "        const buttonEl =\n",
              "          document.querySelector('#df-125237b0-88eb-4d46-a644-1dc781691cbe button.colab-df-convert');\n",
              "        buttonEl.style.display =\n",
              "          google.colab.kernel.accessAllowed ? 'block' : 'none';\n",
              "\n",
              "        async function convertToInteractive(key) {\n",
              "          const element = document.querySelector('#df-125237b0-88eb-4d46-a644-1dc781691cbe');\n",
              "          const dataTable =\n",
              "            await google.colab.kernel.invokeFunction('convertToInteractive',\n",
              "                                                     [key], {});\n",
              "          if (!dataTable) return;\n",
              "\n",
              "          const docLinkHtml = 'Like what you see? Visit the ' +\n",
              "            '<a target=\"_blank\" href=https://colab.research.google.com/notebooks/data_table.ipynb>data table notebook</a>'\n",
              "            + ' to learn more about interactive tables.';\n",
              "          element.innerHTML = '';\n",
              "          dataTable['output_type'] = 'display_data';\n",
              "          await google.colab.output.renderOutput(dataTable, element);\n",
              "          const docLink = document.createElement('div');\n",
              "          docLink.innerHTML = docLinkHtml;\n",
              "          element.appendChild(docLink);\n",
              "        }\n",
              "      </script>\n",
              "    </div>\n",
              "  </div>\n",
              "  "
            ]
          },
          "metadata": {},
          "execution_count": 27
        }
      ]
    },
    {
      "cell_type": "markdown",
      "source": [
        "We see that the dataset's features span across different ranges. Some\n",
        "algorithms make some assumptions regarding the feature distributions and\n",
        "usually normalizing features will be helpful to address these assumptions.\n",
        "\n",
        "<div class=\"admonition tip alert alert-warning\">\n",
        "<p class=\"first admonition-title\" style=\"font-weight: bold;\">Tip</p>\n",
        "<p>Here are some reasons for scaling features:</p>\n",
        "<ul class=\"last simple\">\n",
        "<li>Models that rely on the distance between a pair of samples, for instance\n",
        "k-nearest neighbors, should be trained on normalized features to make each\n",
        "feature contribute approximately equally to the distance computations.</li>\n",
        "<li>Many models such as logistic regression use a numerical solver (based on\n",
        "gradient descent) to find their optimal parameters. This solver converges\n",
        "faster when the features are scaled.</li>\n",
        "</ul>\n",
        "</div>\n",
        "\n",
        "Whether or not a machine learning model requires scaling the features depends\n",
        "on the model family. Linear models such as logistic regression generally\n",
        "benefit from scaling the features while other models such as decision trees\n",
        "do not need such preprocessing (but will not suffer from it).\n",
        "\n",
        "We show how to apply such normalization using a scikit-learn transformer\n",
        "called `StandardScaler`. This transformer shifts and scales each feature\n",
        "individually so that they all have a 0-mean and a unit standard deviation.\n",
        "\n",
        "We will investigate different steps used in scikit-learn to achieve such a\n",
        "transformation of the data.\n",
        "\n",
        "First, one needs to call the method `fit` in order to learn the scaling from\n",
        "the data."
      ],
      "metadata": {
        "id": "tm5J7N4uO2_1"
      }
    },
    {
      "cell_type": "code",
      "source": [
        "from sklearn.preprocessing import StandardScaler\n",
        "\n",
        "scaler = StandardScaler()\n",
        "scaler.fit(data_train)"
      ],
      "metadata": {
        "colab": {
          "base_uri": "https://localhost:8080/",
          "height": 75
        },
        "id": "ZkB5bZ_gOoMR",
        "outputId": "3da1eb1c-5e13-4a79-f5c3-34e1cadebb72"
      },
      "execution_count": 28,
      "outputs": [
        {
          "output_type": "execute_result",
          "data": {
            "text/plain": [
              "StandardScaler()"
            ],
            "text/html": [
              "<style>#sk-3b060c71-6822-4b04-9a13-7a8dba799d92 {color: black;background-color: white;}#sk-3b060c71-6822-4b04-9a13-7a8dba799d92 pre{padding: 0;}#sk-3b060c71-6822-4b04-9a13-7a8dba799d92 div.sk-toggleable {background-color: white;}#sk-3b060c71-6822-4b04-9a13-7a8dba799d92 label.sk-toggleable__label {cursor: pointer;display: block;width: 100%;margin-bottom: 0;padding: 0.3em;box-sizing: border-box;text-align: center;}#sk-3b060c71-6822-4b04-9a13-7a8dba799d92 label.sk-toggleable__label-arrow:before {content: \"▸\";float: left;margin-right: 0.25em;color: #696969;}#sk-3b060c71-6822-4b04-9a13-7a8dba799d92 label.sk-toggleable__label-arrow:hover:before {color: black;}#sk-3b060c71-6822-4b04-9a13-7a8dba799d92 div.sk-estimator:hover label.sk-toggleable__label-arrow:before {color: black;}#sk-3b060c71-6822-4b04-9a13-7a8dba799d92 div.sk-toggleable__content {max-height: 0;max-width: 0;overflow: hidden;text-align: left;background-color: #f0f8ff;}#sk-3b060c71-6822-4b04-9a13-7a8dba799d92 div.sk-toggleable__content pre {margin: 0.2em;color: black;border-radius: 0.25em;background-color: #f0f8ff;}#sk-3b060c71-6822-4b04-9a13-7a8dba799d92 input.sk-toggleable__control:checked~div.sk-toggleable__content {max-height: 200px;max-width: 100%;overflow: auto;}#sk-3b060c71-6822-4b04-9a13-7a8dba799d92 input.sk-toggleable__control:checked~label.sk-toggleable__label-arrow:before {content: \"▾\";}#sk-3b060c71-6822-4b04-9a13-7a8dba799d92 div.sk-estimator input.sk-toggleable__control:checked~label.sk-toggleable__label {background-color: #d4ebff;}#sk-3b060c71-6822-4b04-9a13-7a8dba799d92 div.sk-label input.sk-toggleable__control:checked~label.sk-toggleable__label {background-color: #d4ebff;}#sk-3b060c71-6822-4b04-9a13-7a8dba799d92 input.sk-hidden--visually {border: 0;clip: rect(1px 1px 1px 1px);clip: rect(1px, 1px, 1px, 1px);height: 1px;margin: -1px;overflow: hidden;padding: 0;position: absolute;width: 1px;}#sk-3b060c71-6822-4b04-9a13-7a8dba799d92 div.sk-estimator {font-family: monospace;background-color: #f0f8ff;border: 1px dotted black;border-radius: 0.25em;box-sizing: border-box;margin-bottom: 0.5em;}#sk-3b060c71-6822-4b04-9a13-7a8dba799d92 div.sk-estimator:hover {background-color: #d4ebff;}#sk-3b060c71-6822-4b04-9a13-7a8dba799d92 div.sk-parallel-item::after {content: \"\";width: 100%;border-bottom: 1px solid gray;flex-grow: 1;}#sk-3b060c71-6822-4b04-9a13-7a8dba799d92 div.sk-label:hover label.sk-toggleable__label {background-color: #d4ebff;}#sk-3b060c71-6822-4b04-9a13-7a8dba799d92 div.sk-serial::before {content: \"\";position: absolute;border-left: 1px solid gray;box-sizing: border-box;top: 2em;bottom: 0;left: 50%;}#sk-3b060c71-6822-4b04-9a13-7a8dba799d92 div.sk-serial {display: flex;flex-direction: column;align-items: center;background-color: white;padding-right: 0.2em;padding-left: 0.2em;}#sk-3b060c71-6822-4b04-9a13-7a8dba799d92 div.sk-item {z-index: 1;}#sk-3b060c71-6822-4b04-9a13-7a8dba799d92 div.sk-parallel {display: flex;align-items: stretch;justify-content: center;background-color: white;}#sk-3b060c71-6822-4b04-9a13-7a8dba799d92 div.sk-parallel::before {content: \"\";position: absolute;border-left: 1px solid gray;box-sizing: border-box;top: 2em;bottom: 0;left: 50%;}#sk-3b060c71-6822-4b04-9a13-7a8dba799d92 div.sk-parallel-item {display: flex;flex-direction: column;position: relative;background-color: white;}#sk-3b060c71-6822-4b04-9a13-7a8dba799d92 div.sk-parallel-item:first-child::after {align-self: flex-end;width: 50%;}#sk-3b060c71-6822-4b04-9a13-7a8dba799d92 div.sk-parallel-item:last-child::after {align-self: flex-start;width: 50%;}#sk-3b060c71-6822-4b04-9a13-7a8dba799d92 div.sk-parallel-item:only-child::after {width: 0;}#sk-3b060c71-6822-4b04-9a13-7a8dba799d92 div.sk-dashed-wrapped {border: 1px dashed gray;margin: 0 0.4em 0.5em 0.4em;box-sizing: border-box;padding-bottom: 0.4em;background-color: white;position: relative;}#sk-3b060c71-6822-4b04-9a13-7a8dba799d92 div.sk-label label {font-family: monospace;font-weight: bold;background-color: white;display: inline-block;line-height: 1.2em;}#sk-3b060c71-6822-4b04-9a13-7a8dba799d92 div.sk-label-container {position: relative;z-index: 2;text-align: center;}#sk-3b060c71-6822-4b04-9a13-7a8dba799d92 div.sk-container {/* jupyter's `normalize.less` sets `[hidden] { display: none; }` but bootstrap.min.css set `[hidden] { display: none !important; }` so we also need the `!important` here to be able to override the default hidden behavior on the sphinx rendered scikit-learn.org. See: https://github.com/scikit-learn/scikit-learn/issues/21755 */display: inline-block !important;position: relative;}#sk-3b060c71-6822-4b04-9a13-7a8dba799d92 div.sk-text-repr-fallback {display: none;}</style><div id=\"sk-3b060c71-6822-4b04-9a13-7a8dba799d92\" class=\"sk-top-container\"><div class=\"sk-text-repr-fallback\"><pre>StandardScaler()</pre><b>Please rerun this cell to show the HTML repr or trust the notebook.</b></div><div class=\"sk-container\" hidden><div class=\"sk-item\"><div class=\"sk-estimator sk-toggleable\"><input class=\"sk-toggleable__control sk-hidden--visually\" id=\"3440fc89-8ef5-4e13-86fb-64f5de7ea324\" type=\"checkbox\" checked><label for=\"3440fc89-8ef5-4e13-86fb-64f5de7ea324\" class=\"sk-toggleable__label sk-toggleable__label-arrow\">StandardScaler</label><div class=\"sk-toggleable__content\"><pre>StandardScaler()</pre></div></div></div></div></div>"
            ]
          },
          "metadata": {},
          "execution_count": 28
        }
      ]
    },
    {
      "cell_type": "markdown",
      "source": [
        "The `fit` method for transformers is similar to the `fit` method for predictors. The main difference is that the former has a single argument (the data matrix), whereas the latter has two arguments (the data matrix and the target).\n",
        "\n",
        "In thsi case, the algorithm needs to compute the mean and standard deviation for each feature and store them into some NumPy arrays. Here, these\n",
        "statistics are the model states.\n",
        "\n",
        "<div class=\"admonition note alert alert-info\">\n",
        "<p class=\"first admonition-title\" style=\"font-weight: bold;\">Note</p>\n",
        "<p class=\"last\">The fact that the model states of this scaler are arrays of means and\n",
        "standard deviations is specific to the <tt class=\"docutils literal\">StandardScaler</tt>. Other\n",
        "scikit-learn transformers will compute different statistics and store them\n",
        "as model states, in the same fashion.</p>\n",
        "</div>\n",
        "\n",
        "We can inspect the computed means and standard deviations."
      ],
      "metadata": {
        "id": "f6Mg5xUtPyDP"
      }
    },
    {
      "cell_type": "code",
      "source": [
        "scaler.mean_"
      ],
      "metadata": {
        "colab": {
          "base_uri": "https://localhost:8080/"
        },
        "id": "OIG8J5oRPvG-",
        "outputId": "2c2ee33b-f644-422b-ae2b-9190278fe4b7"
      },
      "execution_count": 29,
      "outputs": [
        {
          "output_type": "execute_result",
          "data": {
            "text/plain": [
              "array([  38.83527312, 1063.7426288 ,   86.52056176,   40.39633768])"
            ]
          },
          "metadata": {},
          "execution_count": 29
        }
      ]
    },
    {
      "cell_type": "code",
      "source": [
        "scaler.scale_"
      ],
      "metadata": {
        "colab": {
          "base_uri": "https://localhost:8080/"
        },
        "id": "DOmGngX6QyQN",
        "outputId": "02c948bb-7362-481e-e996-21e62ce3b72a"
      },
      "execution_count": 30,
      "outputs": [
        {
          "output_type": "execute_result",
          "data": {
            "text/plain": [
              "array([  13.86424181, 7517.54562166,  399.53599373,   12.43010723])"
            ]
          },
          "metadata": {},
          "execution_count": 30
        }
      ]
    },
    {
      "cell_type": "markdown",
      "source": [
        "<div class=\"admonition note alert alert-info\">\n",
        "<p class=\"first admonition-title\" style=\"font-weight: bold;\">Note</p>\n",
        "<p class=\"last\">scikit-learn convention: if an attribute is learned from the data, its name\n",
        "ends with an underscore (i.e. <tt class=\"docutils literal\">_</tt>), as in <tt class=\"docutils literal\">mean_</tt> and <tt class=\"docutils literal\">scale_</tt> for the\n",
        "<tt class=\"docutils literal\">StandardScaler</tt>.</p>\n",
        "</div>\n",
        "\n",
        "Scaling the data is applied to each feature individually (i.e. each column in\n",
        "the data matrix). For each feature, we subtract its mean and divide by its\n",
        "standard deviation.\n",
        "\n",
        "Once we have called the `fit` method, we can perform data transformation by\n",
        "calling the method `transform`."
      ],
      "metadata": {
        "id": "wDYTiCgdQ7jj"
      }
    },
    {
      "cell_type": "code",
      "source": [
        "data_train_scaled = scaler.transform(data_train)\n",
        "data_train_scaled"
      ],
      "metadata": {
        "colab": {
          "base_uri": "https://localhost:8080/"
        },
        "id": "pjhBYU-LQ0Pd",
        "outputId": "7815d3b9-0683-4137-a4e3-18b5cac5bbe7"
      },
      "execution_count": 31,
      "outputs": [
        {
          "output_type": "execute_result",
          "data": {
            "text/plain": [
              "array([[ 0.01188142, -0.14150132, -0.21655261, -0.0318853 ],\n",
              "       [-0.06024658, -0.14150132, -0.21655261, -0.0318853 ],\n",
              "       [-0.78152655, -0.14150132, -0.21655261,  0.20946419],\n",
              "       ...,\n",
              "       [ 1.02167339, -0.14150132, -0.21655261, -0.83638359],\n",
              "       [ 0.5167774 , -0.14150132, -0.21655261, -0.0318853 ],\n",
              "       [ 1.45444137, -0.14150132, -0.21655261, -2.68672965]])"
            ]
          },
          "metadata": {},
          "execution_count": 31
        }
      ]
    },
    {
      "cell_type": "markdown",
      "source": [
        "The `transform` method for transformers is similar to the `predict` method\n",
        "for predictors. It uses a predefined function, called a **transformation\n",
        "function**, and uses the model states and the input data. However, instead of\n",
        "outputting predictions, the job of the `transform` method is to output a\n",
        "transformed version of the input data.\n",
        "\n",
        "Finally, the method `fit_transform` is a shorthand method to call\n",
        "successively `fit` and then `transform`.\n"
      ],
      "metadata": {
        "id": "x9OQuv5fR0TO"
      }
    },
    {
      "cell_type": "code",
      "source": [
        "data_train_scaled = scaler.fit_transform(data_train)\n",
        "data_train_scaled"
      ],
      "metadata": {
        "colab": {
          "base_uri": "https://localhost:8080/"
        },
        "id": "G4FOPuvXRoji",
        "outputId": "f0e47759-3097-4e13-adae-04c24031fc35"
      },
      "execution_count": 32,
      "outputs": [
        {
          "output_type": "execute_result",
          "data": {
            "text/plain": [
              "array([[ 0.01188142, -0.14150132, -0.21655261, -0.0318853 ],\n",
              "       [-0.06024658, -0.14150132, -0.21655261, -0.0318853 ],\n",
              "       [-0.78152655, -0.14150132, -0.21655261,  0.20946419],\n",
              "       ...,\n",
              "       [ 1.02167339, -0.14150132, -0.21655261, -0.83638359],\n",
              "       [ 0.5167774 , -0.14150132, -0.21655261, -0.0318853 ],\n",
              "       [ 1.45444137, -0.14150132, -0.21655261, -2.68672965]])"
            ]
          },
          "metadata": {},
          "execution_count": 32
        }
      ]
    },
    {
      "cell_type": "code",
      "source": [
        "data_train_scaled = pd.DataFrame(data_train_scaled,\n",
        "                                 columns=data_train.columns)\n",
        "data_train_scaled.describe()"
      ],
      "metadata": {
        "colab": {
          "base_uri": "https://localhost:8080/",
          "height": 300
        },
        "id": "ue1I-IxRSdLk",
        "outputId": "b9c965fa-55e0-4767-fb3b-c2ac0e80724d"
      },
      "execution_count": 33,
      "outputs": [
        {
          "output_type": "execute_result",
          "data": {
            "text/plain": [
              "                age  capital-gain  capital-loss  hours-per-week\n",
              "count  1.288800e+04  1.288800e+04  1.288800e+04    1.288800e+04\n",
              "mean   1.550591e-16 -3.242759e-16  8.214729e-16    3.027787e-16\n",
              "std    1.000039e+00  1.000039e+00  1.000039e+00    1.000039e+00\n",
              "min   -1.574935e+00 -1.415013e-01 -2.165526e-01   -3.169429e+00\n",
              "25%   -7.815266e-01 -1.415013e-01 -2.165526e-01   -3.188530e-02\n",
              "50%   -1.323746e-01 -1.415013e-01 -2.165526e-01   -3.188530e-02\n",
              "75%    6.610334e-01 -1.415013e-01 -2.165526e-01    3.703638e-01\n",
              "max    3.690409e+00  1.316058e+01  9.219393e+00    4.714655e+00"
            ],
            "text/html": [
              "\n",
              "  <div id=\"df-d5ecdee7-f0cc-4b95-9d94-c52cebcd6c95\">\n",
              "    <div class=\"colab-df-container\">\n",
              "      <div>\n",
              "<style scoped>\n",
              "    .dataframe tbody tr th:only-of-type {\n",
              "        vertical-align: middle;\n",
              "    }\n",
              "\n",
              "    .dataframe tbody tr th {\n",
              "        vertical-align: top;\n",
              "    }\n",
              "\n",
              "    .dataframe thead th {\n",
              "        text-align: right;\n",
              "    }\n",
              "</style>\n",
              "<table border=\"1\" class=\"dataframe\">\n",
              "  <thead>\n",
              "    <tr style=\"text-align: right;\">\n",
              "      <th></th>\n",
              "      <th>age</th>\n",
              "      <th>capital-gain</th>\n",
              "      <th>capital-loss</th>\n",
              "      <th>hours-per-week</th>\n",
              "    </tr>\n",
              "  </thead>\n",
              "  <tbody>\n",
              "    <tr>\n",
              "      <th>count</th>\n",
              "      <td>1.288800e+04</td>\n",
              "      <td>1.288800e+04</td>\n",
              "      <td>1.288800e+04</td>\n",
              "      <td>1.288800e+04</td>\n",
              "    </tr>\n",
              "    <tr>\n",
              "      <th>mean</th>\n",
              "      <td>1.550591e-16</td>\n",
              "      <td>-3.242759e-16</td>\n",
              "      <td>8.214729e-16</td>\n",
              "      <td>3.027787e-16</td>\n",
              "    </tr>\n",
              "    <tr>\n",
              "      <th>std</th>\n",
              "      <td>1.000039e+00</td>\n",
              "      <td>1.000039e+00</td>\n",
              "      <td>1.000039e+00</td>\n",
              "      <td>1.000039e+00</td>\n",
              "    </tr>\n",
              "    <tr>\n",
              "      <th>min</th>\n",
              "      <td>-1.574935e+00</td>\n",
              "      <td>-1.415013e-01</td>\n",
              "      <td>-2.165526e-01</td>\n",
              "      <td>-3.169429e+00</td>\n",
              "    </tr>\n",
              "    <tr>\n",
              "      <th>25%</th>\n",
              "      <td>-7.815266e-01</td>\n",
              "      <td>-1.415013e-01</td>\n",
              "      <td>-2.165526e-01</td>\n",
              "      <td>-3.188530e-02</td>\n",
              "    </tr>\n",
              "    <tr>\n",
              "      <th>50%</th>\n",
              "      <td>-1.323746e-01</td>\n",
              "      <td>-1.415013e-01</td>\n",
              "      <td>-2.165526e-01</td>\n",
              "      <td>-3.188530e-02</td>\n",
              "    </tr>\n",
              "    <tr>\n",
              "      <th>75%</th>\n",
              "      <td>6.610334e-01</td>\n",
              "      <td>-1.415013e-01</td>\n",
              "      <td>-2.165526e-01</td>\n",
              "      <td>3.703638e-01</td>\n",
              "    </tr>\n",
              "    <tr>\n",
              "      <th>max</th>\n",
              "      <td>3.690409e+00</td>\n",
              "      <td>1.316058e+01</td>\n",
              "      <td>9.219393e+00</td>\n",
              "      <td>4.714655e+00</td>\n",
              "    </tr>\n",
              "  </tbody>\n",
              "</table>\n",
              "</div>\n",
              "      <button class=\"colab-df-convert\" onclick=\"convertToInteractive('df-d5ecdee7-f0cc-4b95-9d94-c52cebcd6c95')\"\n",
              "              title=\"Convert this dataframe to an interactive table.\"\n",
              "              style=\"display:none;\">\n",
              "        \n",
              "  <svg xmlns=\"http://www.w3.org/2000/svg\" height=\"24px\"viewBox=\"0 0 24 24\"\n",
              "       width=\"24px\">\n",
              "    <path d=\"M0 0h24v24H0V0z\" fill=\"none\"/>\n",
              "    <path d=\"M18.56 5.44l.94 2.06.94-2.06 2.06-.94-2.06-.94-.94-2.06-.94 2.06-2.06.94zm-11 1L8.5 8.5l.94-2.06 2.06-.94-2.06-.94L8.5 2.5l-.94 2.06-2.06.94zm10 10l.94 2.06.94-2.06 2.06-.94-2.06-.94-.94-2.06-.94 2.06-2.06.94z\"/><path d=\"M17.41 7.96l-1.37-1.37c-.4-.4-.92-.59-1.43-.59-.52 0-1.04.2-1.43.59L10.3 9.45l-7.72 7.72c-.78.78-.78 2.05 0 2.83L4 21.41c.39.39.9.59 1.41.59.51 0 1.02-.2 1.41-.59l7.78-7.78 2.81-2.81c.8-.78.8-2.07 0-2.86zM5.41 20L4 18.59l7.72-7.72 1.47 1.35L5.41 20z\"/>\n",
              "  </svg>\n",
              "      </button>\n",
              "      \n",
              "  <style>\n",
              "    .colab-df-container {\n",
              "      display:flex;\n",
              "      flex-wrap:wrap;\n",
              "      gap: 12px;\n",
              "    }\n",
              "\n",
              "    .colab-df-convert {\n",
              "      background-color: #E8F0FE;\n",
              "      border: none;\n",
              "      border-radius: 50%;\n",
              "      cursor: pointer;\n",
              "      display: none;\n",
              "      fill: #1967D2;\n",
              "      height: 32px;\n",
              "      padding: 0 0 0 0;\n",
              "      width: 32px;\n",
              "    }\n",
              "\n",
              "    .colab-df-convert:hover {\n",
              "      background-color: #E2EBFA;\n",
              "      box-shadow: 0px 1px 2px rgba(60, 64, 67, 0.3), 0px 1px 3px 1px rgba(60, 64, 67, 0.15);\n",
              "      fill: #174EA6;\n",
              "    }\n",
              "\n",
              "    [theme=dark] .colab-df-convert {\n",
              "      background-color: #3B4455;\n",
              "      fill: #D2E3FC;\n",
              "    }\n",
              "\n",
              "    [theme=dark] .colab-df-convert:hover {\n",
              "      background-color: #434B5C;\n",
              "      box-shadow: 0px 1px 3px 1px rgba(0, 0, 0, 0.15);\n",
              "      filter: drop-shadow(0px 1px 2px rgba(0, 0, 0, 0.3));\n",
              "      fill: #FFFFFF;\n",
              "    }\n",
              "  </style>\n",
              "\n",
              "      <script>\n",
              "        const buttonEl =\n",
              "          document.querySelector('#df-d5ecdee7-f0cc-4b95-9d94-c52cebcd6c95 button.colab-df-convert');\n",
              "        buttonEl.style.display =\n",
              "          google.colab.kernel.accessAllowed ? 'block' : 'none';\n",
              "\n",
              "        async function convertToInteractive(key) {\n",
              "          const element = document.querySelector('#df-d5ecdee7-f0cc-4b95-9d94-c52cebcd6c95');\n",
              "          const dataTable =\n",
              "            await google.colab.kernel.invokeFunction('convertToInteractive',\n",
              "                                                     [key], {});\n",
              "          if (!dataTable) return;\n",
              "\n",
              "          const docLinkHtml = 'Like what you see? Visit the ' +\n",
              "            '<a target=\"_blank\" href=https://colab.research.google.com/notebooks/data_table.ipynb>data table notebook</a>'\n",
              "            + ' to learn more about interactive tables.';\n",
              "          element.innerHTML = '';\n",
              "          dataTable['output_type'] = 'display_data';\n",
              "          await google.colab.output.renderOutput(dataTable, element);\n",
              "          const docLink = document.createElement('div');\n",
              "          docLink.innerHTML = docLinkHtml;\n",
              "          element.appendChild(docLink);\n",
              "        }\n",
              "      </script>\n",
              "    </div>\n",
              "  </div>\n",
              "  "
            ]
          },
          "metadata": {},
          "execution_count": 33
        }
      ]
    },
    {
      "cell_type": "markdown",
      "source": [
        "Notice that the mean of all the columns is close to 0 and the standard deviation\n",
        "in all cases is close to 1.\n",
        "We can also visualize the effect of `StandardScaler` using a jointplot to show\n",
        "both the histograms of the distributions and a scatterplot of any pair of numerical\n",
        "features at the same time. We can observe that `StandardScaler` does not change\n",
        "the structure of the data itself but the axes get shifted and scaled."
      ],
      "metadata": {
        "id": "0iORBDLtSz37"
      }
    },
    {
      "cell_type": "code",
      "source": [
        "# visualize the regular vs the scaled data\n",
        "\n",
        "num_points_to_plot = 300\n",
        "\n",
        "# original data\n",
        "sns.jointplot(data=data_train[:num_points_to_plot],\n",
        "              x=\"age\", y=\"hours-per-week\", marginal_kws=dict(bins=15))\n",
        "plt.suptitle(\"Jointplot of 'age' vs 'hours-per-week' \\nbefore StandardScaler\", y=1.1)\n",
        "\n",
        "# scaled data\n",
        "\n",
        "sns.jointplot(data=data_train_scaled[:num_points_to_plot],\n",
        "              x=\"age\", y=\"hours-per-week\", marginal_kws=dict(bins=15))\n",
        "_ = plt.suptitle(\"Jointplot of 'age' vs 'hours-per-week' \\nafter StandardScaler\", y=1.1)\n",
        "\n"
      ],
      "metadata": {
        "colab": {
          "base_uri": "https://localhost:8080/",
          "height": 973
        },
        "id": "K4XZDEvfSzsX",
        "outputId": "79c72b89-358b-46c8-f96e-d5fb4d3428b8"
      },
      "execution_count": 34,
      "outputs": [
        {
          "output_type": "display_data",
          "data": {
            "text/plain": [
              "<Figure size 432x432 with 3 Axes>"
            ],
            "image/png": "[encoded data removed]"
          },
          "metadata": {
            "needs_background": "light"
          }
        },
        {
          "output_type": "display_data",
          "data": {
            "text/plain": [
              "<Figure size 432x432 with 3 Axes>"
            ],
            "image/png": "[encoded data removed]"
          },
          "metadata": {
            "needs_background": "light"
          }
        }
      ]
    },
    {
      "cell_type": "markdown",
      "source": [
        "We can easily combine sequential operations with a scikit-learn\n",
        "`Pipeline`, which chains together operations and is used as any other\n",
        "classifier or regressor. The helper function `make_pipeline` will create a\n",
        "`Pipeline`: it takes as arguments the successive transformations to perform,\n",
        "followed by the classifier or regressor model."
      ],
      "metadata": {
        "id": "FyCE1NEBXs9W"
      }
    },
    {
      "cell_type": "code",
      "source": [
        "import time\n",
        "from sklearn.linear_model import LogisticRegression\n",
        "from sklearn.pipeline import make_pipeline\n",
        "\n",
        "model = make_pipeline(StandardScaler(), LogisticRegression())\n",
        "model"
      ],
      "metadata": {
        "colab": {
          "base_uri": "https://localhost:8080/",
          "height": 126
        },
        "id": "64xoFDOeSvzG",
        "outputId": "418b5e8f-9abd-41d8-e09d-205efa927860"
      },
      "execution_count": 35,
      "outputs": [
        {
          "output_type": "execute_result",
          "data": {
            "text/plain": [
              "Pipeline(steps=[('standardscaler', StandardScaler()),\n",
              "                ('logisticregression', LogisticRegression())])"
            ],
            "text/html": [
              "<style>#sk-2187fcf5-c5a7-4df3-bbe0-46a060b153cf {color: black;background-color: white;}#sk-2187fcf5-c5a7-4df3-bbe0-46a060b153cf pre{padding: 0;}#sk-2187fcf5-c5a7-4df3-bbe0-46a060b153cf div.sk-toggleable {background-color: white;}#sk-2187fcf5-c5a7-4df3-bbe0-46a060b153cf label.sk-toggleable__label {cursor: pointer;display: block;width: 100%;margin-bottom: 0;padding: 0.3em;box-sizing: border-box;text-align: center;}#sk-2187fcf5-c5a7-4df3-bbe0-46a060b153cf label.sk-toggleable__label-arrow:before {content: \"▸\";float: left;margin-right: 0.25em;color: #696969;}#sk-2187fcf5-c5a7-4df3-bbe0-46a060b153cf label.sk-toggleable__label-arrow:hover:before {color: black;}#sk-2187fcf5-c5a7-4df3-bbe0-46a060b153cf div.sk-estimator:hover label.sk-toggleable__label-arrow:before {color: black;}#sk-2187fcf5-c5a7-4df3-bbe0-46a060b153cf div.sk-toggleable__content {max-height: 0;max-width: 0;overflow: hidden;text-align: left;background-color: #f0f8ff;}#sk-2187fcf5-c5a7-4df3-bbe0-46a060b153cf div.sk-toggleable__content pre {margin: 0.2em;color: black;border-radius: 0.25em;background-color: #f0f8ff;}#sk-2187fcf5-c5a7-4df3-bbe0-46a060b153cf input.sk-toggleable__control:checked~div.sk-toggleable__content {max-height: 200px;max-width: 100%;overflow: auto;}#sk-2187fcf5-c5a7-4df3-bbe0-46a060b153cf input.sk-toggleable__control:checked~label.sk-toggleable__label-arrow:before {content: \"▾\";}#sk-2187fcf5-c5a7-4df3-bbe0-46a060b153cf div.sk-estimator input.sk-toggleable__control:checked~label.sk-toggleable__label {background-color: #d4ebff;}#sk-2187fcf5-c5a7-4df3-bbe0-46a060b153cf div.sk-label input.sk-toggleable__control:checked~label.sk-toggleable__label {background-color: #d4ebff;}#sk-2187fcf5-c5a7-4df3-bbe0-46a060b153cf input.sk-hidden--visually {border: 0;clip: rect(1px 1px 1px 1px);clip: rect(1px, 1px, 1px, 1px);height: 1px;margin: -1px;overflow: hidden;padding: 0;position: absolute;width: 1px;}#sk-2187fcf5-c5a7-4df3-bbe0-46a060b153cf div.sk-estimator {font-family: monospace;background-color: #f0f8ff;border: 1px dotted black;border-radius: 0.25em;box-sizing: border-box;margin-bottom: 0.5em;}#sk-2187fcf5-c5a7-4df3-bbe0-46a060b153cf div.sk-estimator:hover {background-color: #d4ebff;}#sk-2187fcf5-c5a7-4df3-bbe0-46a060b153cf div.sk-parallel-item::after {content: \"\";width: 100%;border-bottom: 1px solid gray;flex-grow: 1;}#sk-2187fcf5-c5a7-4df3-bbe0-46a060b153cf div.sk-label:hover label.sk-toggleable__label {background-color: #d4ebff;}#sk-2187fcf5-c5a7-4df3-bbe0-46a060b153cf div.sk-serial::before {content: \"\";position: absolute;border-left: 1px solid gray;box-sizing: border-box;top: 2em;bottom: 0;left: 50%;}#sk-2187fcf5-c5a7-4df3-bbe0-46a060b153cf div.sk-serial {display: flex;flex-direction: column;align-items: center;background-color: white;padding-right: 0.2em;padding-left: 0.2em;}#sk-2187fcf5-c5a7-4df3-bbe0-46a060b153cf div.sk-item {z-index: 1;}#sk-2187fcf5-c5a7-4df3-bbe0-46a060b153cf div.sk-parallel {display: flex;align-items: stretch;justify-content: center;background-color: white;}#sk-2187fcf5-c5a7-4df3-bbe0-46a060b153cf div.sk-parallel::before {content: \"\";position: absolute;border-left: 1px solid gray;box-sizing: border-box;top: 2em;bottom: 0;left: 50%;}#sk-2187fcf5-c5a7-4df3-bbe0-46a060b153cf div.sk-parallel-item {display: flex;flex-direction: column;position: relative;background-color: white;}#sk-2187fcf5-c5a7-4df3-bbe0-46a060b153cf div.sk-parallel-item:first-child::after {align-self: flex-end;width: 50%;}#sk-2187fcf5-c5a7-4df3-bbe0-46a060b153cf div.sk-parallel-item:last-child::after {align-self: flex-start;width: 50%;}#sk-2187fcf5-c5a7-4df3-bbe0-46a060b153cf div.sk-parallel-item:only-child::after {width: 0;}#sk-2187fcf5-c5a7-4df3-bbe0-46a060b153cf div.sk-dashed-wrapped {border: 1px dashed gray;margin: 0 0.4em 0.5em 0.4em;box-sizing: border-box;padding-bottom: 0.4em;background-color: white;position: relative;}#sk-2187fcf5-c5a7-4df3-bbe0-46a060b153cf div.sk-label label {font-family: monospace;font-weight: bold;background-color: white;display: inline-block;line-height: 1.2em;}#sk-2187fcf5-c5a7-4df3-bbe0-46a060b153cf div.sk-label-container {position: relative;z-index: 2;text-align: center;}#sk-2187fcf5-c5a7-4df3-bbe0-46a060b153cf div.sk-container {/* jupyter's `normalize.less` sets `[hidden] { display: none; }` but bootstrap.min.css set `[hidden] { display: none !important; }` so we also need the `!important` here to be able to override the default hidden behavior on the sphinx rendered scikit-learn.org. See: https://github.com/scikit-learn/scikit-learn/issues/21755 */display: inline-block !important;position: relative;}#sk-2187fcf5-c5a7-4df3-bbe0-46a060b153cf div.sk-text-repr-fallback {display: none;}</style><div id=\"sk-2187fcf5-c5a7-4df3-bbe0-46a060b153cf\" class=\"sk-top-container\"><div class=\"sk-text-repr-fallback\"><pre>Pipeline(steps=[(&#x27;standardscaler&#x27;, StandardScaler()),\n",
              "                (&#x27;logisticregression&#x27;, LogisticRegression())])</pre><b>Please rerun this cell to show the HTML repr or trust the notebook.</b></div><div class=\"sk-container\" hidden><div class=\"sk-item sk-dashed-wrapped\"><div class=\"sk-label-container\"><div class=\"sk-label sk-toggleable\"><input class=\"sk-toggleable__control sk-hidden--visually\" id=\"57e5eb84-9ee4-4280-a029-5f77a71e966a\" type=\"checkbox\" ><label for=\"57e5eb84-9ee4-4280-a029-5f77a71e966a\" class=\"sk-toggleable__label sk-toggleable__label-arrow\">Pipeline</label><div class=\"sk-toggleable__content\"><pre>Pipeline(steps=[(&#x27;standardscaler&#x27;, StandardScaler()),\n",
              "                (&#x27;logisticregression&#x27;, LogisticRegression())])</pre></div></div></div><div class=\"sk-serial\"><div class=\"sk-item\"><div class=\"sk-estimator sk-toggleable\"><input class=\"sk-toggleable__control sk-hidden--visually\" id=\"cfa543e7-a842-408a-96b1-9877015ff501\" type=\"checkbox\" ><label for=\"cfa543e7-a842-408a-96b1-9877015ff501\" class=\"sk-toggleable__label sk-toggleable__label-arrow\">StandardScaler</label><div class=\"sk-toggleable__content\"><pre>StandardScaler()</pre></div></div></div><div class=\"sk-item\"><div class=\"sk-estimator sk-toggleable\"><input class=\"sk-toggleable__control sk-hidden--visually\" id=\"7e86c3c5-745e-4bc6-8bc9-c950df962a1a\" type=\"checkbox\" ><label for=\"7e86c3c5-745e-4bc6-8bc9-c950df962a1a\" class=\"sk-toggleable__label sk-toggleable__label-arrow\">LogisticRegression</label><div class=\"sk-toggleable__content\"><pre>LogisticRegression()</pre></div></div></div></div></div></div></div>"
            ]
          },
          "metadata": {},
          "execution_count": 35
        }
      ]
    },
    {
      "cell_type": "markdown",
      "source": [
        "The `make_pipeline` function did not require us to give a name to each step.\n",
        "Indeed, it was automatically assigned based on the name of the classes\n",
        "provided; a `StandardScaler` will be a step named `\"standardscaler\"` in the\n",
        "resulting pipeline. We can check the name of each steps of our model:"
      ],
      "metadata": {
        "id": "_9bQT1eXX6uJ"
      }
    },
    {
      "cell_type": "code",
      "source": [
        "model.named_steps"
      ],
      "metadata": {
        "colab": {
          "base_uri": "https://localhost:8080/"
        },
        "id": "shh0dVRyXy7T",
        "outputId": "88089802-3793-468c-eafb-c67814023280"
      },
      "execution_count": 36,
      "outputs": [
        {
          "output_type": "execute_result",
          "data": {
            "text/plain": [
              "{'logisticregression': LogisticRegression(),\n",
              " 'standardscaler': StandardScaler()}"
            ]
          },
          "metadata": {},
          "execution_count": 36
        }
      ]
    },
    {
      "cell_type": "markdown",
      "source": [
        "This predictive pipeline exposes the same methods as the final predictor:\n",
        "`fit` and `predict` (and additionally `predict_proba`, `decision_function`,\n",
        "or `score`).\n",
        "\n"
      ],
      "metadata": {
        "id": "uWdDWS8wYCtn"
      }
    },
    {
      "cell_type": "code",
      "source": [
        "start = time.time()\n",
        "model.fit(data_train, target_train)\n",
        "elapsed_time = time.time() - start"
      ],
      "metadata": {
        "id": "fm-h2wXDYTee"
      },
      "execution_count": 37,
      "outputs": []
    },
    {
      "cell_type": "markdown",
      "source": [
        "When calling `model.fit`, the method `fit_transform` from each underlying\n",
        "transformer (here a single transformer) in the pipeline will be called to:\n",
        "\n",
        "- learn their internal model states\n",
        "- transform the training data. Finally, the preprocessed data are provided to\n",
        "  train the predictor.\n",
        "\n",
        "To predict the targets given a test set, one uses the `predict` method."
      ],
      "metadata": {
        "id": "nf2Hz1UGYTwR"
      }
    },
    {
      "cell_type": "code",
      "source": [
        "predicted_target = model.predict(data_test)\n",
        "predicted_target[:5]"
      ],
      "metadata": {
        "colab": {
          "base_uri": "https://localhost:8080/"
        },
        "id": "_lZoUy6mX_vc",
        "outputId": "6273da9b-6dcc-4842-9a35-9cb84a1f1206"
      },
      "execution_count": 38,
      "outputs": [
        {
          "output_type": "execute_result",
          "data": {
            "text/plain": [
              "array([' <=50K', ' <=50K', ' <=50K', ' <=50K', ' <=50K'], dtype=object)"
            ]
          },
          "metadata": {},
          "execution_count": 38
        }
      ]
    },
    {
      "cell_type": "markdown",
      "source": [
        "The method `transform` of each transformer (here a single transformer) is\n",
        "called to preprocess the data. Note that there is no need to call the `fit`\n",
        "method for these transformers because we are using the internal model states\n",
        "computed when calling `model.fit`. The preprocessed data is then provided to\n",
        "the predictor that will output the predicted target by calling its method\n",
        "`predict`.\n",
        "\n",
        "As a shorthand, we can check the score of the full predictive pipeline\n",
        "calling the method `model.score`. Thus, let's check the computational and\n",
        "generalization performance of such a predictive pipeline."
      ],
      "metadata": {
        "id": "Bn6AYRgNYiXY"
      }
    },
    {
      "cell_type": "code",
      "source": [
        "model_name = model.__class__.__name__\n",
        "score = model.score(data_test, target_test)\n",
        "print(f\"The accuracy using a {model_name} is {score:.3f} \"\n",
        "      f\"with a fitting time of {elapsed_time:.3f} seconds \"\n",
        "      f\"in {model[-1].n_iter_[0]} iterations\")"
      ],
      "metadata": {
        "colab": {
          "base_uri": "https://localhost:8080/"
        },
        "id": "C3jmiEGUYN1J",
        "outputId": "ddea1897-052c-4f99-864f-500769e83a32"
      },
      "execution_count": 39,
      "outputs": [
        {
          "output_type": "stream",
          "name": "stdout",
          "text": [
            "The accuracy using a Pipeline is 0.797 with a fitting time of 0.179 seconds in 12 iterations\n"
          ]
        }
      ]
    },
    {
      "cell_type": "markdown",
      "source": [
        "We could compare this predictive model with the predictive model used in the previous notebook which did not scale features."
      ],
      "metadata": {
        "id": "aOSOSyT5YoL2"
      }
    },
    {
      "cell_type": "code",
      "source": [
        "model = LogisticRegression()\n",
        "start = time.time()\n",
        "model.fit(data_train, target_train)\n",
        "elapsed_time = time.time() - start"
      ],
      "metadata": {
        "id": "Z8RPqrtmYlYB"
      },
      "execution_count": 40,
      "outputs": []
    },
    {
      "cell_type": "code",
      "source": [
        "model_name = model.__class__.__name__\n",
        "score = model.score(data_test, target_test)\n",
        "print(f\"The accuracy using a {model_name} is {score:.3f} \"\n",
        "      f\"with a fitting time of {elapsed_time:.3f} seconds \"\n",
        "      f\"in {model.n_iter_[0]} iterations\")"
      ],
      "metadata": {
        "colab": {
          "base_uri": "https://localhost:8080/"
        },
        "id": "d5akx2H0YqAX",
        "outputId": "ffe33482-eeec-4e41-df0b-50dfbb970191"
      },
      "execution_count": 41,
      "outputs": [
        {
          "output_type": "stream",
          "name": "stdout",
          "text": [
            "The accuracy using a LogisticRegression is 0.797 with a fitting time of 0.495 seconds in 63 iterations\n"
          ]
        }
      ]
    },
    {
      "cell_type": "markdown",
      "source": [
        "We see that scaling the data before training the logistic regression was\n",
        "beneficial in terms of computational performance. Indeed, the number of\n",
        "iterations decreased as well as the training time. The generalization\n",
        "performance did not change since both models converged.\n",
        "\n",
        "<div class=\"admonition warning alert alert-danger\">\n",
        "<p class=\"first admonition-title\" style=\"font-weight: bold;\">Warning</p>\n",
        "<p class=\"last\">Working with non-scaled data will potentially force the algorithm to iterate\n",
        "more as we showed in the example above. There is also the catastrophic\n",
        "scenario where the number of required iterations is larger than the maximum\n",
        "number of iterations allowed by the predictor (controlled by the <tt class=\"docutils literal\">max_iter</tt>)\n",
        "parameter. Therefore, before increasing <tt class=\"docutils literal\">max_iter</tt>, make sure that the data\n",
        "are well scaled.</p>\n",
        "</div>"
      ],
      "metadata": {
        "id": "w0BI3k5FYzEb"
      }
    },
    {
      "cell_type": "markdown",
      "source": [
        "## Model Evaluation Using Cross-Validation\n",
        "\n",
        "Create a model using the `make_pipeline` tool to chain the preprocessing and the estimator in every iteration of the cross-validation."
      ],
      "metadata": {
        "id": "o70SKa7hrw_z"
      }
    },
    {
      "cell_type": "code",
      "source": [
        "from sklearn.preprocessing import StandardScaler\n",
        "from sklearn.linear_model import LogisticRegression\n",
        "from sklearn.pipeline import make_pipeline\n"
      ],
      "metadata": {
        "id": "_N24f53RYtjL"
      },
      "execution_count": 42,
      "outputs": []
    },
    {
      "cell_type": "code",
      "source": [
        "# create model\n",
        "\n",
        "model = make_pipeline(StandardScaler(), LogisticRegression())"
      ],
      "metadata": {
        "id": "TxMxjTjibEBO"
      },
      "execution_count": 43,
      "outputs": []
    },
    {
      "cell_type": "markdown",
      "source": [
        "### The need for cross-validation\n",
        "\n",
        "In the previous steps, we split the original data into a training set and a\n",
        "testing set. The score of a model will in general depend on the way we make\n",
        "such a split. One downside of doing a single split is that it does not give\n",
        "any information about this variability. Another downside, in a setting where\n",
        "the amount of data is small, is that the data available for training and\n",
        "testing will be even smaller after splitting.\n",
        "\n",
        "Instead, we can use cross-validation. Cross-validation consists of repeating\n",
        "the procedure such that the training and testing sets are different each time.\n",
        "Generalization performance metrics are collected for each repetition and then\n",
        "aggregated. As a result we can assess the variability of our measure of the\n",
        "model's generalization performance.\n",
        "\n",
        "Note that there exists several cross-validation strategies, each of them\n",
        "defines how to repeat the `fit`/`score` procedure. In this section, we will\n",
        "use the K-fold strategy: the entire dataset is split into `K` partitions. The\n",
        "`fit`/`score` procedure is repeated `K` times where at each iteration `K - 1`\n",
        "partitions are used to fit the model and `1` partition is used to score. \n",
        "For each cross-validation split, the procedure trains a clone of model on all the red\n",
        "samples and evaluate the score of the model on the blue samples.\n",
        "As mentioned earlier, there is a variety of different cross-validation\n",
        "strategies. Some of these aspects will be covered in more detail in future notebooks.</p>\n",
        "</div>\n",
        "\n",
        "Cross-validation is therefore computationally intensive because it requires\n",
        "training several models instead of one.\n",
        "\n",
        "In scikit-learn, the function `cross_validate` allows to do cross-validation\n",
        "and you need to pass it the model, the data, and the target. Since there\n",
        "exists several cross-validation strategies, `cross_validate` takes a parameter\n",
        "`cv` which defines the splitting strategy."
      ],
      "metadata": {
        "id": "AwsmTILNsx3V"
      }
    },
    {
      "cell_type": "code",
      "source": [
        "%%time\n",
        "from sklearn.model_selection import cross_validate\n",
        "\n",
        "model = make_pipeline(StandardScaler(), LogisticRegression())\n",
        "cv_result = cross_validate(model, data, target, cv=5)\n",
        "cv_result"
      ],
      "metadata": {
        "colab": {
          "base_uri": "https://localhost:8080/"
        },
        "id": "nzpToalHsr9E",
        "outputId": "3e41db43-e1e6-4534-bc1c-b2b2b8fe17fd"
      },
      "execution_count": 44,
      "outputs": [
        {
          "output_type": "stream",
          "name": "stdout",
          "text": [
            "CPU times: user 583 ms, sys: 403 ms, total: 985 ms\n",
            "Wall time: 1.07 s\n"
          ]
        }
      ]
    },
    {
      "cell_type": "code",
      "source": [
        "cv_result"
      ],
      "metadata": {
        "colab": {
          "base_uri": "https://localhost:8080/"
        },
        "id": "y53qb7uhuXGb",
        "outputId": "d926c824-0e68-410d-8019-fbd66f4ecb53"
      },
      "execution_count": 45,
      "outputs": [
        {
          "output_type": "execute_result",
          "data": {
            "text/plain": [
              "{'fit_time': array([0.18823218, 0.13735294, 0.16664505, 0.17054701, 0.16506481]),\n",
              " 'score_time': array([0.02373314, 0.0296917 , 0.02895999, 0.02746201, 0.02642846]),\n",
              " 'test_score': array([0.80098923, 0.80215304, 0.79371545, 0.79807972, 0.80529686])}"
            ]
          },
          "metadata": {},
          "execution_count": 45
        }
      ]
    },
    {
      "cell_type": "markdown",
      "source": [
        "The output of `cross_validate` is a Python dictionary, which by default\n",
        "contains three entries:\n",
        "- (i) the time to train the model on the training data for each fold,\n",
        "- (ii) the time to predict with the model on the testing data for each fold,\n",
        "- (iii) the default score on the testing data for each fold.\n",
        "\n",
        "Setting `cv=5` created 5 distinct splits to get 5 variations for the training\n",
        "and testing sets. Each training set is used to fit one model which is then\n",
        "scored on the matching test set. The default strategy when setting `cv=int` is\n",
        "the K-fold cross-validation where `K` corresponds to the (integer) number of\n",
        "splits. Setting `cv=5` or `cv=10` is a common practice, as it is a good\n",
        "trade-off between computation time and stability of the estimated variability.\n",
        "\n",
        "Note that by default the `cross_validate` function discards the `K` models\n",
        "that were trained on the different overlapping subset of the dataset. The goal\n",
        "of cross-validation is not to train a model, but rather to estimate\n",
        "approximately the generalization performance of a model that would have been\n",
        "trained to the full training set, along with an estimate of the variability\n",
        "(uncertainty on the generalization accuracy).\n",
        "\n",
        "You can pass additional parameters to\n",
        "[`sklearn.model_selection.cross_validate`](https://scikit-learn.org/stable/modules/generated/sklearn.model_selection.cross_validate.html)\n",
        "to collect additional information, such as the training scores of the models\n",
        "obtained on each round or even return the models themselves instead of\n",
        "discarding them.  These features will be covered in a future notebook.\n",
        "\n",
        "Let's extract the scores computed on the test fold of each cross-validation\n",
        "round from the `cv_result` dictionary and compute the mean accuracy and the\n",
        "variation of the accuracy across folds."
      ],
      "metadata": {
        "id": "UxmpZpMrvCaW"
      }
    },
    {
      "cell_type": "code",
      "source": [
        "scores = cv_result[\"test_score\"]\n",
        "print(\n",
        "    \"The mean cross-validation accuracy is: \"\n",
        "    f\"{scores.mean():.3f} +/- {scores.std():.3f}\"\n",
        ")"
      ],
      "metadata": {
        "colab": {
          "base_uri": "https://localhost:8080/"
        },
        "id": "cYqARrJau3A3",
        "outputId": "d1981dde-24d6-4b0b-97b6-df5dd23c0d5a"
      },
      "execution_count": 46,
      "outputs": [
        {
          "output_type": "stream",
          "name": "stdout",
          "text": [
            "The mean cross-validation accuracy is: 0.800 +/- 0.004\n"
          ]
        }
      ]
    },
    {
      "cell_type": "markdown",
      "source": [
        "Note that by computing the standard-deviation of the cross-validation scores,\n",
        "we can estimate the uncertainty of our model generalization performance. This\n",
        "is the main advantage of cross-validation and can be crucial in practice, for\n",
        "example when comparing different models to figure out whether one is better\n",
        "than the other or whether our measures of the generalization performance of each\n",
        "model are within the error bars of one-another.\n",
        "\n",
        "In this particular case, only the first 2 decimals seem to be trustworthy. If\n",
        "you go up in this notebook, you can check that the performance we get with\n",
        "cross-validation is compatible with the one from a single train-test split."
      ],
      "metadata": {
        "id": "sxsqgLzLvV1l"
      }
    },
    {
      "cell_type": "markdown",
      "source": [
        "### Encoding of categorical variables\n",
        "\n",
        "In this section, we will present typical ways of dealing with\n",
        "**categorical variables** by encoding them, namely **ordinal encoding** and\n",
        "**one-hot encoding**."
      ],
      "metadata": {
        "id": "zInQq_yUyv9H"
      }
    },
    {
      "cell_type": "code",
      "source": [
        "adult_census = pd.read_csv(\"/content/adult_census.csv\")\n",
        "# drop the duplicated column `\"education-num\"` as stated in the first notebook\n",
        "adult_census = adult_census.drop(columns=\"education-num\")\n",
        "\n",
        "target_name = \"class\"\n",
        "target = adult_census[target_name]\n",
        "\n",
        "data = adult_census.drop(columns=[target_name])"
      ],
      "metadata": {
        "id": "6l62ZUe0vWKT"
      },
      "execution_count": 47,
      "outputs": []
    },
    {
      "cell_type": "markdown",
      "source": [
        "\n",
        "## Identify categorical variables\n",
        "\n",
        "As we saw in the previous section, a numerical variable is a\n",
        "quantity represented by a real or integer number. These variables can be\n",
        "naturally handled by machine learning algorithms that are typically composed\n",
        "of a sequence of arithmetic instructions such as additions and\n",
        "multiplications.\n",
        "\n",
        "In contrast, categorical variables have discrete values, typically\n",
        "represented by string labels (but not only) taken from a finite list of\n",
        "possible choices. For instance, the variable `native-country` in our dataset\n",
        "is a categorical variable because it encodes the data using a finite list of\n",
        "possible countries (along with the `?` symbol when this information is\n",
        "missing):"
      ],
      "metadata": {
        "id": "7Q6UzxcdzbVl"
      }
    },
    {
      "cell_type": "code",
      "source": [
        "data[\"native-country\"].value_counts().sort_index()"
      ],
      "metadata": {
        "colab": {
          "base_uri": "https://localhost:8080/"
        },
        "id": "kXizq-tXzDPN",
        "outputId": "c5b212bb-acad-4f95-8ac9-f0289347fc62"
      },
      "execution_count": 48,
      "outputs": [
        {
          "output_type": "execute_result",
          "data": {
            "text/plain": [
              " ?                               857\n",
              " Cambodia                         28\n",
              " Canada                          182\n",
              " China                           122\n",
              " Columbia                         85\n",
              " Cuba                            138\n",
              " Dominican-Republic              103\n",
              " Ecuador                          45\n",
              " El-Salvador                     155\n",
              " England                         127\n",
              " France                           38\n",
              " Germany                         206\n",
              " Greece                           49\n",
              " Guatemala                        88\n",
              " Haiti                            75\n",
              " Holand-Netherlands                1\n",
              " Honduras                         20\n",
              " Hong                             30\n",
              " Hungary                          19\n",
              " India                           151\n",
              " Iran                             59\n",
              " Ireland                          37\n",
              " Italy                           105\n",
              " Jamaica                         106\n",
              " Japan                            92\n",
              " Laos                             23\n",
              " Mexico                          951\n",
              " Nicaragua                        49\n",
              " Outlying-US(Guam-USVI-etc)       23\n",
              " Peru                             46\n",
              " Philippines                     295\n",
              " Poland                           87\n",
              " Portugal                         67\n",
              " Puerto-Rico                     184\n",
              " Scotland                         21\n",
              " South                           115\n",
              " Taiwan                           65\n",
              " Thailand                         30\n",
              " Trinadad&Tobago                  27\n",
              " United-States                 43832\n",
              " Vietnam                          86\n",
              " Yugoslavia                       23\n",
              "Name: native-country, dtype: int64"
            ]
          },
          "metadata": {},
          "execution_count": 48
        }
      ]
    },
    {
      "cell_type": "markdown",
      "source": [
        "How can we easily recognize categorical columns among the dataset? Part of\n",
        "the answer lies in the columns' data type:"
      ],
      "metadata": {
        "id": "kK_6ajUWz17x"
      }
    },
    {
      "cell_type": "code",
      "source": [
        "data.dtypes"
      ],
      "metadata": {
        "colab": {
          "base_uri": "https://localhost:8080/"
        },
        "id": "lLSlo0sTz1X1",
        "outputId": "8bc96a9a-2b7e-49c5-8084-5de22b05bc1c"
      },
      "execution_count": 49,
      "outputs": [
        {
          "output_type": "execute_result",
          "data": {
            "text/plain": [
              "age                int64\n",
              "workclass         object\n",
              "fnlwgt             int64\n",
              "education         object\n",
              "marital-status    object\n",
              "occupation        object\n",
              "relationship      object\n",
              "race              object\n",
              "sex               object\n",
              "capital-gain       int64\n",
              "capital-loss       int64\n",
              "hours-per-week     int64\n",
              "native-country    object\n",
              "dtype: object"
            ]
          },
          "metadata": {},
          "execution_count": 49
        }
      ]
    },
    {
      "cell_type": "markdown",
      "source": [
        "If we look at the `\"native-country\"` column, we observe its data type is\n",
        "`object`, meaning it contains string values.\n",
        "\n",
        "## Select features based on their data type\n",
        "\n",
        "In the previous notebook, we manually defined the numerical columns. We could\n",
        "do a similar approach. Instead, we will use the scikit-learn helper function\n",
        "`make_column_selector`, which allows us to select columns based on\n",
        "their data type. We will illustrate how to use this helper."
      ],
      "metadata": {
        "id": "aiHBD8Ywz-Dh"
      }
    },
    {
      "cell_type": "code",
      "source": [
        "from sklearn.compose import make_column_selector as selector\n",
        "\n",
        "categorical_columns_selector = selector(dtype_include=object)\n",
        "categorical_columns = categorical_columns_selector(data)\n",
        "categorical_columns"
      ],
      "metadata": {
        "colab": {
          "base_uri": "https://localhost:8080/"
        },
        "id": "i9UFZcVzzsni",
        "outputId": "51f53192-58a2-4707-c1a6-ce0475360f42"
      },
      "execution_count": 50,
      "outputs": [
        {
          "output_type": "execute_result",
          "data": {
            "text/plain": [
              "['workclass',\n",
              " 'education',\n",
              " 'marital-status',\n",
              " 'occupation',\n",
              " 'relationship',\n",
              " 'race',\n",
              " 'sex',\n",
              " 'native-country']"
            ]
          },
          "metadata": {},
          "execution_count": 50
        }
      ]
    },
    {
      "cell_type": "markdown",
      "source": [
        "Here, we created the selector by passing the data type to include; we then\n",
        "passed the input dataset to the selector object, which returned a list of\n",
        "column names that have the requested data type. We can now filter out the\n",
        "unwanted columns:"
      ],
      "metadata": {
        "id": "0WDoTzbO0e1K"
      }
    },
    {
      "cell_type": "code",
      "source": [
        "data_categorical = data[categorical_columns]\n",
        "data_categorical.head()"
      ],
      "metadata": {
        "colab": {
          "base_uri": "https://localhost:8080/",
          "height": 250
        },
        "id": "UiAqRf240bJR",
        "outputId": "ea846863-5130-48e4-bc41-a6fc0fa1fa2c"
      },
      "execution_count": 51,
      "outputs": [
        {
          "output_type": "execute_result",
          "data": {
            "text/plain": [
              "    workclass      education       marital-status          occupation  \\\n",
              "0     Private           11th        Never-married   Machine-op-inspct   \n",
              "1     Private        HS-grad   Married-civ-spouse     Farming-fishing   \n",
              "2   Local-gov     Assoc-acdm   Married-civ-spouse     Protective-serv   \n",
              "3     Private   Some-college   Married-civ-spouse   Machine-op-inspct   \n",
              "4           ?   Some-college        Never-married                   ?   \n",
              "\n",
              "  relationship    race      sex  native-country  \n",
              "0    Own-child   Black     Male   United-States  \n",
              "1      Husband   White     Male   United-States  \n",
              "2      Husband   White     Male   United-States  \n",
              "3      Husband   Black     Male   United-States  \n",
              "4    Own-child   White   Female   United-States  "
            ],
            "text/html": [
              "\n",
              "  <div id=\"df-974d296c-9a24-470a-aca5-3f0695f44293\">\n",
              "    <div class=\"colab-df-container\">\n",
              "      <div>\n",
              "<style scoped>\n",
              "    .dataframe tbody tr th:only-of-type {\n",
              "        vertical-align: middle;\n",
              "    }\n",
              "\n",
              "    .dataframe tbody tr th {\n",
              "        vertical-align: top;\n",
              "    }\n",
              "\n",
              "    .dataframe thead th {\n",
              "        text-align: right;\n",
              "    }\n",
              "</style>\n",
              "<table border=\"1\" class=\"dataframe\">\n",
              "  <thead>\n",
              "    <tr style=\"text-align: right;\">\n",
              "      <th></th>\n",
              "      <th>workclass</th>\n",
              "      <th>education</th>\n",
              "      <th>marital-status</th>\n",
              "      <th>occupation</th>\n",
              "      <th>relationship</th>\n",
              "      <th>race</th>\n",
              "      <th>sex</th>\n",
              "      <th>native-country</th>\n",
              "    </tr>\n",
              "  </thead>\n",
              "  <tbody>\n",
              "    <tr>\n",
              "      <th>0</th>\n",
              "      <td>Private</td>\n",
              "      <td>11th</td>\n",
              "      <td>Never-married</td>\n",
              "      <td>Machine-op-inspct</td>\n",
              "      <td>Own-child</td>\n",
              "      <td>Black</td>\n",
              "      <td>Male</td>\n",
              "      <td>United-States</td>\n",
              "    </tr>\n",
              "    <tr>\n",
              "      <th>1</th>\n",
              "      <td>Private</td>\n",
              "      <td>HS-grad</td>\n",
              "      <td>Married-civ-spouse</td>\n",
              "      <td>Farming-fishing</td>\n",
              "      <td>Husband</td>\n",
              "      <td>White</td>\n",
              "      <td>Male</td>\n",
              "      <td>United-States</td>\n",
              "    </tr>\n",
              "    <tr>\n",
              "      <th>2</th>\n",
              "      <td>Local-gov</td>\n",
              "      <td>Assoc-acdm</td>\n",
              "      <td>Married-civ-spouse</td>\n",
              "      <td>Protective-serv</td>\n",
              "      <td>Husband</td>\n",
              "      <td>White</td>\n",
              "      <td>Male</td>\n",
              "      <td>United-States</td>\n",
              "    </tr>\n",
              "    <tr>\n",
              "      <th>3</th>\n",
              "      <td>Private</td>\n",
              "      <td>Some-college</td>\n",
              "      <td>Married-civ-spouse</td>\n",
              "      <td>Machine-op-inspct</td>\n",
              "      <td>Husband</td>\n",
              "      <td>Black</td>\n",
              "      <td>Male</td>\n",
              "      <td>United-States</td>\n",
              "    </tr>\n",
              "    <tr>\n",
              "      <th>4</th>\n",
              "      <td>?</td>\n",
              "      <td>Some-college</td>\n",
              "      <td>Never-married</td>\n",
              "      <td>?</td>\n",
              "      <td>Own-child</td>\n",
              "      <td>White</td>\n",
              "      <td>Female</td>\n",
              "      <td>United-States</td>\n",
              "    </tr>\n",
              "  </tbody>\n",
              "</table>\n",
              "</div>\n",
              "      <button class=\"colab-df-convert\" onclick=\"convertToInteractive('df-974d296c-9a24-470a-aca5-3f0695f44293')\"\n",
              "              title=\"Convert this dataframe to an interactive table.\"\n",
              "              style=\"display:none;\">\n",
              "        \n",
              "  <svg xmlns=\"http://www.w3.org/2000/svg\" height=\"24px\"viewBox=\"0 0 24 24\"\n",
              "       width=\"24px\">\n",
              "    <path d=\"M0 0h24v24H0V0z\" fill=\"none\"/>\n",
              "    <path d=\"M18.56 5.44l.94 2.06.94-2.06 2.06-.94-2.06-.94-.94-2.06-.94 2.06-2.06.94zm-11 1L8.5 8.5l.94-2.06 2.06-.94-2.06-.94L8.5 2.5l-.94 2.06-2.06.94zm10 10l.94 2.06.94-2.06 2.06-.94-2.06-.94-.94-2.06-.94 2.06-2.06.94z\"/><path d=\"M17.41 7.96l-1.37-1.37c-.4-.4-.92-.59-1.43-.59-.52 0-1.04.2-1.43.59L10.3 9.45l-7.72 7.72c-.78.78-.78 2.05 0 2.83L4 21.41c.39.39.9.59 1.41.59.51 0 1.02-.2 1.41-.59l7.78-7.78 2.81-2.81c.8-.78.8-2.07 0-2.86zM5.41 20L4 18.59l7.72-7.72 1.47 1.35L5.41 20z\"/>\n",
              "  </svg>\n",
              "      </button>\n",
              "      \n",
              "  <style>\n",
              "    .colab-df-container {\n",
              "      display:flex;\n",
              "      flex-wrap:wrap;\n",
              "      gap: 12px;\n",
              "    }\n",
              "\n",
              "    .colab-df-convert {\n",
              "      background-color: #E8F0FE;\n",
              "      border: none;\n",
              "      border-radius: 50%;\n",
              "      cursor: pointer;\n",
              "      display: none;\n",
              "      fill: #1967D2;\n",
              "      height: 32px;\n",
              "      padding: 0 0 0 0;\n",
              "      width: 32px;\n",
              "    }\n",
              "\n",
              "    .colab-df-convert:hover {\n",
              "      background-color: #E2EBFA;\n",
              "      box-shadow: 0px 1px 2px rgba(60, 64, 67, 0.3), 0px 1px 3px 1px rgba(60, 64, 67, 0.15);\n",
              "      fill: #174EA6;\n",
              "    }\n",
              "\n",
              "    [theme=dark] .colab-df-convert {\n",
              "      background-color: #3B4455;\n",
              "      fill: #D2E3FC;\n",
              "    }\n",
              "\n",
              "    [theme=dark] .colab-df-convert:hover {\n",
              "      background-color: #434B5C;\n",
              "      box-shadow: 0px 1px 3px 1px rgba(0, 0, 0, 0.15);\n",
              "      filter: drop-shadow(0px 1px 2px rgba(0, 0, 0, 0.3));\n",
              "      fill: #FFFFFF;\n",
              "    }\n",
              "  </style>\n",
              "\n",
              "      <script>\n",
              "        const buttonEl =\n",
              "          document.querySelector('#df-974d296c-9a24-470a-aca5-3f0695f44293 button.colab-df-convert');\n",
              "        buttonEl.style.display =\n",
              "          google.colab.kernel.accessAllowed ? 'block' : 'none';\n",
              "\n",
              "        async function convertToInteractive(key) {\n",
              "          const element = document.querySelector('#df-974d296c-9a24-470a-aca5-3f0695f44293');\n",
              "          const dataTable =\n",
              "            await google.colab.kernel.invokeFunction('convertToInteractive',\n",
              "                                                     [key], {});\n",
              "          if (!dataTable) return;\n",
              "\n",
              "          const docLinkHtml = 'Like what you see? Visit the ' +\n",
              "            '<a target=\"_blank\" href=https://colab.research.google.com/notebooks/data_table.ipynb>data table notebook</a>'\n",
              "            + ' to learn more about interactive tables.';\n",
              "          element.innerHTML = '';\n",
              "          dataTable['output_type'] = 'display_data';\n",
              "          await google.colab.output.renderOutput(dataTable, element);\n",
              "          const docLink = document.createElement('div');\n",
              "          docLink.innerHTML = docLinkHtml;\n",
              "          element.appendChild(docLink);\n",
              "        }\n",
              "      </script>\n",
              "    </div>\n",
              "  </div>\n",
              "  "
            ]
          },
          "metadata": {},
          "execution_count": 51
        }
      ]
    },
    {
      "cell_type": "code",
      "source": [
        "print(f\"The dataset is composed of {data_categorical.shape[1]} features\")"
      ],
      "metadata": {
        "colab": {
          "base_uri": "https://localhost:8080/"
        },
        "id": "PwJoxNjL0lkJ",
        "outputId": "478b4be2-f06e-4eaa-edc9-25ed31e1fef7"
      },
      "execution_count": 52,
      "outputs": [
        {
          "output_type": "stream",
          "name": "stdout",
          "text": [
            "The dataset is composed of 8 features\n"
          ]
        }
      ]
    },
    {
      "cell_type": "markdown",
      "source": [
        "## Strategies to encode categories\n",
        "\n",
        "### Encoding ordinal categories\n",
        "\n",
        "The most intuitive strategy is to encode each category with a different\n",
        "number. The `OrdinalEncoder` will transform the data in such manner.\n",
        "We will start by encoding a single column to understand how the encoding\n",
        "works."
      ],
      "metadata": {
        "id": "LvgAL5Ff016Y"
      }
    },
    {
      "cell_type": "code",
      "source": [
        "from sklearn.preprocessing import OrdinalEncoder\n",
        "\n",
        "education_column = data_categorical[[\"education\"]]\n",
        "\n",
        "encoder = OrdinalEncoder()\n",
        "education_encoded = encoder.fit_transform(education_column)\n",
        "education_encoded"
      ],
      "metadata": {
        "colab": {
          "base_uri": "https://localhost:8080/"
        },
        "id": "1hpvjUTj0n_A",
        "outputId": "ffdb1a64-d122-4c3f-e4cb-3df21f9a5e35"
      },
      "execution_count": 53,
      "outputs": [
        {
          "output_type": "execute_result",
          "data": {
            "text/plain": [
              "array([[ 1.],\n",
              "       [11.],\n",
              "       [ 7.],\n",
              "       ...,\n",
              "       [11.],\n",
              "       [11.],\n",
              "       [11.]])"
            ]
          },
          "metadata": {},
          "execution_count": 53
        }
      ]
    },
    {
      "cell_type": "markdown",
      "source": [
        "We see that each category in `\"education\"` has been replaced by a numeric\n",
        "value. We could check the mapping between the categories and the numerical\n",
        "values by checking the fitted attribute `categories_`."
      ],
      "metadata": {
        "id": "7ugU6xiG1eAx"
      }
    },
    {
      "cell_type": "code",
      "source": [
        "encoder.categories_"
      ],
      "metadata": {
        "colab": {
          "base_uri": "https://localhost:8080/"
        },
        "id": "4ooq9J8y1ZSG",
        "outputId": "bd202619-c7dc-44a0-94f5-11bf9cb71f6a"
      },
      "execution_count": 54,
      "outputs": [
        {
          "output_type": "execute_result",
          "data": {
            "text/plain": [
              "[array([' 10th', ' 11th', ' 12th', ' 1st-4th', ' 5th-6th', ' 7th-8th',\n",
              "        ' 9th', ' Assoc-acdm', ' Assoc-voc', ' Bachelors', ' Doctorate',\n",
              "        ' HS-grad', ' Masters', ' Preschool', ' Prof-school',\n",
              "        ' Some-college'], dtype=object)]"
            ]
          },
          "metadata": {},
          "execution_count": 54
        }
      ]
    },
    {
      "cell_type": "markdown",
      "source": [
        "Now we can check the encoding applied on all categorical features"
      ],
      "metadata": {
        "id": "75cIQxAq1lZ1"
      }
    },
    {
      "cell_type": "code",
      "source": [
        "data_encoded = encoder.fit_transform(data_categorical)\n",
        "data_encoded[:5]"
      ],
      "metadata": {
        "colab": {
          "base_uri": "https://localhost:8080/"
        },
        "id": "JFM3EEVD1jl9",
        "outputId": "af33c84f-69b5-4fd1-dcf7-45d3bd3a68de"
      },
      "execution_count": 55,
      "outputs": [
        {
          "output_type": "execute_result",
          "data": {
            "text/plain": [
              "array([[ 4.,  1.,  4.,  7.,  3.,  2.,  1., 39.],\n",
              "       [ 4., 11.,  2.,  5.,  0.,  4.,  1., 39.],\n",
              "       [ 2.,  7.,  2., 11.,  0.,  4.,  1., 39.],\n",
              "       [ 4., 15.,  2.,  7.,  0.,  2.,  1., 39.],\n",
              "       [ 0., 15.,  4.,  0.,  3.,  4.,  0., 39.]])"
            ]
          },
          "metadata": {},
          "execution_count": 55
        }
      ]
    },
    {
      "cell_type": "code",
      "source": [
        "print(\n",
        "    f\"The dataset encoded contains {data_encoded.shape[1]} features\"\n",
        ")"
      ],
      "metadata": {
        "colab": {
          "base_uri": "https://localhost:8080/"
        },
        "id": "jl0VJjXJ1yS2",
        "outputId": "04928200-b9bd-422f-dc45-9f26c9a92809"
      },
      "execution_count": 56,
      "outputs": [
        {
          "output_type": "stream",
          "name": "stdout",
          "text": [
            "The dataset encoded contains 8 features\n"
          ]
        }
      ]
    },
    {
      "cell_type": "markdown",
      "source": [
        "We see that the categories have been encoded for each feature (column)\n",
        "independently. We also note that the number of features before and after the\n",
        "encoding is the same.\n",
        "\n",
        "However, be careful when applying this encoding strategy:\n",
        "using this integer representation leads downstream predictive models\n",
        "to assume that the values are ordered (0 < 1 < 2 < 3... for instance).\n",
        "\n",
        "By default, `OrdinalEncoder` uses a lexicographical strategy to map string\n",
        "category labels to integers. This strategy is arbitrary and often\n",
        "meaningless. For instance, suppose the dataset has a categorical variable\n",
        "named `\"size\"` with categories such as \"S\", \"M\", \"L\", \"XL\". We would like the\n",
        "integer representation to respect the meaning of the sizes by mapping them to\n",
        "increasing integers such as `0, 1, 2, 3`.\n",
        "However, the lexicographical strategy used by default would map the labels\n",
        "\"S\", \"M\", \"L\", \"XL\" to 2, 1, 0, 3, by following the alphabetical order.\n",
        "\n",
        "The `OrdinalEncoder` class accepts a `categories` constructor argument to\n",
        "pass categories in the expected ordering explicitly. You can find more\n",
        "information in the\n",
        "[scikit-learn documentation](https://scikit-learn.org/stable/modules/preprocessing.html#encoding-categorical-features)\n",
        "if needed.\n",
        "\n",
        "If a categorical variable does not carry any meaningful order information\n",
        "then this encoding might be misleading to downstream statistical models and\n",
        "you might consider using one-hot encoding instead (see below).\n",
        "\n",
        "### Encoding nominal categories (without assuming any order)\n",
        "\n",
        "`OneHotEncoder` is an alternative encoder that prevents the downstream\n",
        "models to make a false assumption about the ordering of categories. For a\n",
        "given feature, it will create as many new columns as there are possible\n",
        "categories. For a given sample, the value of the column corresponding to the\n",
        "category will be set to `1` while all the columns of the other categories\n",
        "will be set to `0`.\n",
        "\n",
        "We will start by encoding a single feature (e.g. `\"education\"`) to illustrate\n",
        "how the encoding works."
      ],
      "metadata": {
        "id": "rWvLkcRB2rjr"
      }
    },
    {
      "cell_type": "code",
      "source": [
        "from sklearn.preprocessing import OneHotEncoder\n",
        "\n",
        "encoder = OneHotEncoder(sparse=False)\n",
        "education_encoded = encoder.fit_transform(education_column)\n",
        "education_encoded"
      ],
      "metadata": {
        "colab": {
          "base_uri": "https://localhost:8080/"
        },
        "id": "NI-yVcKl2DnF",
        "outputId": "42674b57-fdd4-4c81-c9ae-cbc4ff1507b9"
      },
      "execution_count": 57,
      "outputs": [
        {
          "output_type": "execute_result",
          "data": {
            "text/plain": [
              "array([[0., 1., 0., ..., 0., 0., 0.],\n",
              "       [0., 0., 0., ..., 0., 0., 0.],\n",
              "       [0., 0., 0., ..., 0., 0., 0.],\n",
              "       ...,\n",
              "       [0., 0., 0., ..., 0., 0., 0.],\n",
              "       [0., 0., 0., ..., 0., 0., 0.],\n",
              "       [0., 0., 0., ..., 0., 0., 0.]])"
            ]
          },
          "metadata": {},
          "execution_count": 57
        }
      ]
    },
    {
      "cell_type": "markdown",
      "source": [
        "<div class=\"admonition note alert alert-info\">\n",
        "<p class=\"first admonition-title\" style=\"font-weight: bold;\">Note</p>\n",
        "<p><tt class=\"docutils literal\">sparse=False</tt> is used in the <tt class=\"docutils literal\">OneHotEncoder</tt> for didactic purposes, namely\n",
        "easier visualization of the data.</p>\n",
        "<p class=\"last\">Sparse matrices are efficient data structures when most of your matrix\n",
        "elements are zero. They won't be covered in detail in this course. If you\n",
        "want more details about them, you can look at\n",
        "<a class=\"reference external\" href=\"https://scipy-lectures.org/advanced/scipy_sparse/introduction.html#why-sparse-matrices\">this</a>.</p>\n",
        "</div>"
      ],
      "metadata": {
        "id": "Pwp_xyaW3AyU"
      }
    },
    {
      "cell_type": "markdown",
      "source": [
        "We see that encoding a single feature will give a NumPy array full of zeros\n",
        "and ones. We can get a better understanding using the associated feature\n",
        "names resulting from the transformation."
      ],
      "metadata": {
        "id": "_WE3abtV3Mly"
      }
    },
    {
      "cell_type": "code",
      "source": [
        "feature_names = encoder.get_feature_names_out(input_features=[\"education\"])\n",
        "education_encoded = pd.DataFrame(education_encoded, columns=feature_names)\n",
        "education_encoded"
      ],
      "metadata": {
        "colab": {
          "base_uri": "https://localhost:8080/",
          "height": 522
        },
        "id": "MLJOd74e26vx",
        "outputId": "7ee56bea-a17b-4416-bd49-794420048ff6"
      },
      "execution_count": 58,
      "outputs": [
        {
          "output_type": "execute_result",
          "data": {
            "text/plain": [
              "       education_ 10th  education_ 11th  education_ 12th  education_ 1st-4th  \\\n",
              "0                  0.0              1.0              0.0                 0.0   \n",
              "1                  0.0              0.0              0.0                 0.0   \n",
              "2                  0.0              0.0              0.0                 0.0   \n",
              "3                  0.0              0.0              0.0                 0.0   \n",
              "4                  0.0              0.0              0.0                 0.0   \n",
              "...                ...              ...              ...                 ...   \n",
              "48837              0.0              0.0              0.0                 0.0   \n",
              "48838              0.0              0.0              0.0                 0.0   \n",
              "48839              0.0              0.0              0.0                 0.0   \n",
              "48840              0.0              0.0              0.0                 0.0   \n",
              "48841              0.0              0.0              0.0                 0.0   \n",
              "\n",
              "       education_ 5th-6th  education_ 7th-8th  education_ 9th  \\\n",
              "0                     0.0                 0.0             0.0   \n",
              "1                     0.0                 0.0             0.0   \n",
              "2                     0.0                 0.0             0.0   \n",
              "3                     0.0                 0.0             0.0   \n",
              "4                     0.0                 0.0             0.0   \n",
              "...                   ...                 ...             ...   \n",
              "48837                 0.0                 0.0             0.0   \n",
              "48838                 0.0                 0.0             0.0   \n",
              "48839                 0.0                 0.0             0.0   \n",
              "48840                 0.0                 0.0             0.0   \n",
              "48841                 0.0                 0.0             0.0   \n",
              "\n",
              "       education_ Assoc-acdm  education_ Assoc-voc  education_ Bachelors  \\\n",
              "0                        0.0                   0.0                   0.0   \n",
              "1                        0.0                   0.0                   0.0   \n",
              "2                        1.0                   0.0                   0.0   \n",
              "3                        0.0                   0.0                   0.0   \n",
              "4                        0.0                   0.0                   0.0   \n",
              "...                      ...                   ...                   ...   \n",
              "48837                    1.0                   0.0                   0.0   \n",
              "48838                    0.0                   0.0                   0.0   \n",
              "48839                    0.0                   0.0                   0.0   \n",
              "48840                    0.0                   0.0                   0.0   \n",
              "48841                    0.0                   0.0                   0.0   \n",
              "\n",
              "       education_ Doctorate  education_ HS-grad  education_ Masters  \\\n",
              "0                       0.0                 0.0                 0.0   \n",
              "1                       0.0                 1.0                 0.0   \n",
              "2                       0.0                 0.0                 0.0   \n",
              "3                       0.0                 0.0                 0.0   \n",
              "4                       0.0                 0.0                 0.0   \n",
              "...                     ...                 ...                 ...   \n",
              "48837                   0.0                 0.0                 0.0   \n",
              "48838                   0.0                 1.0                 0.0   \n",
              "48839                   0.0                 1.0                 0.0   \n",
              "48840                   0.0                 1.0                 0.0   \n",
              "48841                   0.0                 1.0                 0.0   \n",
              "\n",
              "       education_ Preschool  education_ Prof-school  education_ Some-college  \n",
              "0                       0.0                     0.0                      0.0  \n",
              "1                       0.0                     0.0                      0.0  \n",
              "2                       0.0                     0.0                      0.0  \n",
              "3                       0.0                     0.0                      1.0  \n",
              "4                       0.0                     0.0                      1.0  \n",
              "...                     ...                     ...                      ...  \n",
              "48837                   0.0                     0.0                      0.0  \n",
              "48838                   0.0                     0.0                      0.0  \n",
              "48839                   0.0                     0.0                      0.0  \n",
              "48840                   0.0                     0.0                      0.0  \n",
              "48841                   0.0                     0.0                      0.0  \n",
              "\n",
              "[48842 rows x 16 columns]"
            ],
            "text/html": [
              "\n",
              "  <div id=\"df-9e58059a-6d36-4fbd-a9cd-4f612ce16a53\">\n",
              "    <div class=\"colab-df-container\">\n",
              "      <div>\n",
              "<style scoped>\n",
              "    .dataframe tbody tr th:only-of-type {\n",
              "        vertical-align: middle;\n",
              "    }\n",
              "\n",
              "    .dataframe tbody tr th {\n",
              "        vertical-align: top;\n",
              "    }\n",
              "\n",
              "    .dataframe thead th {\n",
              "        text-align: right;\n",
              "    }\n",
              "</style>\n",
              "<table border=\"1\" class=\"dataframe\">\n",
              "  <thead>\n",
              "    <tr style=\"text-align: right;\">\n",
              "      <th></th>\n",
              "      <th>education_ 10th</th>\n",
              "      <th>education_ 11th</th>\n",
              "      <th>education_ 12th</th>\n",
              "      <th>education_ 1st-4th</th>\n",
              "      <th>education_ 5th-6th</th>\n",
              "      <th>education_ 7th-8th</th>\n",
              "      <th>education_ 9th</th>\n",
              "      <th>education_ Assoc-acdm</th>\n",
              "      <th>education_ Assoc-voc</th>\n",
              "      <th>education_ Bachelors</th>\n",
              "      <th>education_ Doctorate</th>\n",
              "      <th>education_ HS-grad</th>\n",
              "      <th>education_ Masters</th>\n",
              "      <th>education_ Preschool</th>\n",
              "      <th>education_ Prof-school</th>\n",
              "      <th>education_ Some-college</th>\n",
              "    </tr>\n",
              "  </thead>\n",
              "  <tbody>\n",
              "    <tr>\n",
              "      <th>0</th>\n",
              "      <td>0.0</td>\n",
              "      <td>1.0</td>\n",
              "      <td>0.0</td>\n",
              "      <td>0.0</td>\n",
              "      <td>0.0</td>\n",
              "      <td>0.0</td>\n",
              "      <td>0.0</td>\n",
              "      <td>0.0</td>\n",
              "      <td>0.0</td>\n",
              "      <td>0.0</td>\n",
              "      <td>0.0</td>\n",
              "      <td>0.0</td>\n",
              "      <td>0.0</td>\n",
              "      <td>0.0</td>\n",
              "      <td>0.0</td>\n",
              "      <td>0.0</td>\n",
              "    </tr>\n",
              "    <tr>\n",
              "      <th>1</th>\n",
              "      <td>0.0</td>\n",
              "      <td>0.0</td>\n",
              "      <td>0.0</td>\n",
              "      <td>0.0</td>\n",
              "      <td>0.0</td>\n",
              "      <td>0.0</td>\n",
              "      <td>0.0</td>\n",
              "      <td>0.0</td>\n",
              "      <td>0.0</td>\n",
              "      <td>0.0</td>\n",
              "      <td>0.0</td>\n",
              "      <td>1.0</td>\n",
              "      <td>0.0</td>\n",
              "      <td>0.0</td>\n",
              "      <td>0.0</td>\n",
              "      <td>0.0</td>\n",
              "    </tr>\n",
              "    <tr>\n",
              "      <th>2</th>\n",
              "      <td>0.0</td>\n",
              "      <td>0.0</td>\n",
              "      <td>0.0</td>\n",
              "      <td>0.0</td>\n",
              "      <td>0.0</td>\n",
              "      <td>0.0</td>\n",
              "      <td>0.0</td>\n",
              "      <td>1.0</td>\n",
              "      <td>0.0</td>\n",
              "      <td>0.0</td>\n",
              "      <td>0.0</td>\n",
              "      <td>0.0</td>\n",
              "      <td>0.0</td>\n",
              "      <td>0.0</td>\n",
              "      <td>0.0</td>\n",
              "      <td>0.0</td>\n",
              "    </tr>\n",
              "    <tr>\n",
              "      <th>3</th>\n",
              "      <td>0.0</td>\n",
              "      <td>0.0</td>\n",
              "      <td>0.0</td>\n",
              "      <td>0.0</td>\n",
              "      <td>0.0</td>\n",
              "      <td>0.0</td>\n",
              "      <td>0.0</td>\n",
              "      <td>0.0</td>\n",
              "      <td>0.0</td>\n",
              "      <td>0.0</td>\n",
              "      <td>0.0</td>\n",
              "      <td>0.0</td>\n",
              "      <td>0.0</td>\n",
              "      <td>0.0</td>\n",
              "      <td>0.0</td>\n",
              "      <td>1.0</td>\n",
              "    </tr>\n",
              "    <tr>\n",
              "      <th>4</th>\n",
              "      <td>0.0</td>\n",
              "      <td>0.0</td>\n",
              "      <td>0.0</td>\n",
              "      <td>0.0</td>\n",
              "      <td>0.0</td>\n",
              "      <td>0.0</td>\n",
              "      <td>0.0</td>\n",
              "      <td>0.0</td>\n",
              "      <td>0.0</td>\n",
              "      <td>0.0</td>\n",
              "      <td>0.0</td>\n",
              "      <td>0.0</td>\n",
              "      <td>0.0</td>\n",
              "      <td>0.0</td>\n",
              "      <td>0.0</td>\n",
              "      <td>1.0</td>\n",
              "    </tr>\n",
              "    <tr>\n",
              "      <th>...</th>\n",
              "      <td>...</td>\n",
              "      <td>...</td>\n",
              "      <td>...</td>\n",
              "      <td>...</td>\n",
              "      <td>...</td>\n",
              "      <td>...</td>\n",
              "      <td>...</td>\n",
              "      <td>...</td>\n",
              "      <td>...</td>\n",
              "      <td>...</td>\n",
              "      <td>...</td>\n",
              "      <td>...</td>\n",
              "      <td>...</td>\n",
              "      <td>...</td>\n",
              "      <td>...</td>\n",
              "      <td>...</td>\n",
              "    </tr>\n",
              "    <tr>\n",
              "      <th>48837</th>\n",
              "      <td>0.0</td>\n",
              "      <td>0.0</td>\n",
              "      <td>0.0</td>\n",
              "      <td>0.0</td>\n",
              "      <td>0.0</td>\n",
              "      <td>0.0</td>\n",
              "      <td>0.0</td>\n",
              "      <td>1.0</td>\n",
              "      <td>0.0</td>\n",
              "      <td>0.0</td>\n",
              "      <td>0.0</td>\n",
              "      <td>0.0</td>\n",
              "      <td>0.0</td>\n",
              "      <td>0.0</td>\n",
              "      <td>0.0</td>\n",
              "      <td>0.0</td>\n",
              "    </tr>\n",
              "    <tr>\n",
              "      <th>48838</th>\n",
              "      <td>0.0</td>\n",
              "      <td>0.0</td>\n",
              "      <td>0.0</td>\n",
              "      <td>0.0</td>\n",
              "      <td>0.0</td>\n",
              "      <td>0.0</td>\n",
              "      <td>0.0</td>\n",
              "      <td>0.0</td>\n",
              "      <td>0.0</td>\n",
              "      <td>0.0</td>\n",
              "      <td>0.0</td>\n",
              "      <td>1.0</td>\n",
              "      <td>0.0</td>\n",
              "      <td>0.0</td>\n",
              "      <td>0.0</td>\n",
              "      <td>0.0</td>\n",
              "    </tr>\n",
              "    <tr>\n",
              "      <th>48839</th>\n",
              "      <td>0.0</td>\n",
              "      <td>0.0</td>\n",
              "      <td>0.0</td>\n",
              "      <td>0.0</td>\n",
              "      <td>0.0</td>\n",
              "      <td>0.0</td>\n",
              "      <td>0.0</td>\n",
              "      <td>0.0</td>\n",
              "      <td>0.0</td>\n",
              "      <td>0.0</td>\n",
              "      <td>0.0</td>\n",
              "      <td>1.0</td>\n",
              "      <td>0.0</td>\n",
              "      <td>0.0</td>\n",
              "      <td>0.0</td>\n",
              "      <td>0.0</td>\n",
              "    </tr>\n",
              "    <tr>\n",
              "      <th>48840</th>\n",
              "      <td>0.0</td>\n",
              "      <td>0.0</td>\n",
              "      <td>0.0</td>\n",
              "      <td>0.0</td>\n",
              "      <td>0.0</td>\n",
              "      <td>0.0</td>\n",
              "      <td>0.0</td>\n",
              "      <td>0.0</td>\n",
              "      <td>0.0</td>\n",
              "      <td>0.0</td>\n",
              "      <td>0.0</td>\n",
              "      <td>1.0</td>\n",
              "      <td>0.0</td>\n",
              "      <td>0.0</td>\n",
              "      <td>0.0</td>\n",
              "      <td>0.0</td>\n",
              "    </tr>\n",
              "    <tr>\n",
              "      <th>48841</th>\n",
              "      <td>0.0</td>\n",
              "      <td>0.0</td>\n",
              "      <td>0.0</td>\n",
              "      <td>0.0</td>\n",
              "      <td>0.0</td>\n",
              "      <td>0.0</td>\n",
              "      <td>0.0</td>\n",
              "      <td>0.0</td>\n",
              "      <td>0.0</td>\n",
              "      <td>0.0</td>\n",
              "      <td>0.0</td>\n",
              "      <td>1.0</td>\n",
              "      <td>0.0</td>\n",
              "      <td>0.0</td>\n",
              "      <td>0.0</td>\n",
              "      <td>0.0</td>\n",
              "    </tr>\n",
              "  </tbody>\n",
              "</table>\n",
              "<p>48842 rows × 16 columns</p>\n",
              "</div>\n",
              "      <button class=\"colab-df-convert\" onclick=\"convertToInteractive('df-9e58059a-6d36-4fbd-a9cd-4f612ce16a53')\"\n",
              "              title=\"Convert this dataframe to an interactive table.\"\n",
              "              style=\"display:none;\">\n",
              "        \n",
              "  <svg xmlns=\"http://www.w3.org/2000/svg\" height=\"24px\"viewBox=\"0 0 24 24\"\n",
              "       width=\"24px\">\n",
              "    <path d=\"M0 0h24v24H0V0z\" fill=\"none\"/>\n",
              "    <path d=\"M18.56 5.44l.94 2.06.94-2.06 2.06-.94-2.06-.94-.94-2.06-.94 2.06-2.06.94zm-11 1L8.5 8.5l.94-2.06 2.06-.94-2.06-.94L8.5 2.5l-.94 2.06-2.06.94zm10 10l.94 2.06.94-2.06 2.06-.94-2.06-.94-.94-2.06-.94 2.06-2.06.94z\"/><path d=\"M17.41 7.96l-1.37-1.37c-.4-.4-.92-.59-1.43-.59-.52 0-1.04.2-1.43.59L10.3 9.45l-7.72 7.72c-.78.78-.78 2.05 0 2.83L4 21.41c.39.39.9.59 1.41.59.51 0 1.02-.2 1.41-.59l7.78-7.78 2.81-2.81c.8-.78.8-2.07 0-2.86zM5.41 20L4 18.59l7.72-7.72 1.47 1.35L5.41 20z\"/>\n",
              "  </svg>\n",
              "      </button>\n",
              "      \n",
              "  <style>\n",
              "    .colab-df-container {\n",
              "      display:flex;\n",
              "      flex-wrap:wrap;\n",
              "      gap: 12px;\n",
              "    }\n",
              "\n",
              "    .colab-df-convert {\n",
              "      background-color: #E8F0FE;\n",
              "      border: none;\n",
              "      border-radius: 50%;\n",
              "      cursor: pointer;\n",
              "      display: none;\n",
              "      fill: #1967D2;\n",
              "      height: 32px;\n",
              "      padding: 0 0 0 0;\n",
              "      width: 32px;\n",
              "    }\n",
              "\n",
              "    .colab-df-convert:hover {\n",
              "      background-color: #E2EBFA;\n",
              "      box-shadow: 0px 1px 2px rgba(60, 64, 67, 0.3), 0px 1px 3px 1px rgba(60, 64, 67, 0.15);\n",
              "      fill: #174EA6;\n",
              "    }\n",
              "\n",
              "    [theme=dark] .colab-df-convert {\n",
              "      background-color: #3B4455;\n",
              "      fill: #D2E3FC;\n",
              "    }\n",
              "\n",
              "    [theme=dark] .colab-df-convert:hover {\n",
              "      background-color: #434B5C;\n",
              "      box-shadow: 0px 1px 3px 1px rgba(0, 0, 0, 0.15);\n",
              "      filter: drop-shadow(0px 1px 2px rgba(0, 0, 0, 0.3));\n",
              "      fill: #FFFFFF;\n",
              "    }\n",
              "  </style>\n",
              "\n",
              "      <script>\n",
              "        const buttonEl =\n",
              "          document.querySelector('#df-9e58059a-6d36-4fbd-a9cd-4f612ce16a53 button.colab-df-convert');\n",
              "        buttonEl.style.display =\n",
              "          google.colab.kernel.accessAllowed ? 'block' : 'none';\n",
              "\n",
              "        async function convertToInteractive(key) {\n",
              "          const element = document.querySelector('#df-9e58059a-6d36-4fbd-a9cd-4f612ce16a53');\n",
              "          const dataTable =\n",
              "            await google.colab.kernel.invokeFunction('convertToInteractive',\n",
              "                                                     [key], {});\n",
              "          if (!dataTable) return;\n",
              "\n",
              "          const docLinkHtml = 'Like what you see? Visit the ' +\n",
              "            '<a target=\"_blank\" href=https://colab.research.google.com/notebooks/data_table.ipynb>data table notebook</a>'\n",
              "            + ' to learn more about interactive tables.';\n",
              "          element.innerHTML = '';\n",
              "          dataTable['output_type'] = 'display_data';\n",
              "          await google.colab.output.renderOutput(dataTable, element);\n",
              "          const docLink = document.createElement('div');\n",
              "          docLink.innerHTML = docLinkHtml;\n",
              "          element.appendChild(docLink);\n",
              "        }\n",
              "      </script>\n",
              "    </div>\n",
              "  </div>\n",
              "  "
            ]
          },
          "metadata": {},
          "execution_count": 58
        }
      ]
    },
    {
      "cell_type": "markdown",
      "source": [
        "As we can see, each category (unique value) became a column; the encoding\n",
        "returned, for each sample, a 1 to specify which category it belongs to.\n",
        "\n",
        "Let's apply this encoding on the full dataset."
      ],
      "metadata": {
        "id": "RJM9xiuz3VpK"
      }
    },
    {
      "cell_type": "code",
      "source": [
        "print(\n",
        "    f\"The dataset is composed of {data_categorical.shape[1]} features\")\n",
        "data_categorical.head()"
      ],
      "metadata": {
        "colab": {
          "base_uri": "https://localhost:8080/",
          "height": 268
        },
        "id": "PFwx6nhM3P13",
        "outputId": "c51145ba-3dba-4c65-efa6-ed2d703cc2f9"
      },
      "execution_count": 59,
      "outputs": [
        {
          "output_type": "stream",
          "name": "stdout",
          "text": [
            "The dataset is composed of 8 features\n"
          ]
        },
        {
          "output_type": "execute_result",
          "data": {
            "text/plain": [
              "    workclass      education       marital-status          occupation  \\\n",
              "0     Private           11th        Never-married   Machine-op-inspct   \n",
              "1     Private        HS-grad   Married-civ-spouse     Farming-fishing   \n",
              "2   Local-gov     Assoc-acdm   Married-civ-spouse     Protective-serv   \n",
              "3     Private   Some-college   Married-civ-spouse   Machine-op-inspct   \n",
              "4           ?   Some-college        Never-married                   ?   \n",
              "\n",
              "  relationship    race      sex  native-country  \n",
              "0    Own-child   Black     Male   United-States  \n",
              "1      Husband   White     Male   United-States  \n",
              "2      Husband   White     Male   United-States  \n",
              "3      Husband   Black     Male   United-States  \n",
              "4    Own-child   White   Female   United-States  "
            ],
            "text/html": [
              "\n",
              "  <div id=\"df-cdc71e75-e6ec-4e59-b3a9-be1ab3f25b9e\">\n",
              "    <div class=\"colab-df-container\">\n",
              "      <div>\n",
              "<style scoped>\n",
              "    .dataframe tbody tr th:only-of-type {\n",
              "        vertical-align: middle;\n",
              "    }\n",
              "\n",
              "    .dataframe tbody tr th {\n",
              "        vertical-align: top;\n",
              "    }\n",
              "\n",
              "    .dataframe thead th {\n",
              "        text-align: right;\n",
              "    }\n",
              "</style>\n",
              "<table border=\"1\" class=\"dataframe\">\n",
              "  <thead>\n",
              "    <tr style=\"text-align: right;\">\n",
              "      <th></th>\n",
              "      <th>workclass</th>\n",
              "      <th>education</th>\n",
              "      <th>marital-status</th>\n",
              "      <th>occupation</th>\n",
              "      <th>relationship</th>\n",
              "      <th>race</th>\n",
              "      <th>sex</th>\n",
              "      <th>native-country</th>\n",
              "    </tr>\n",
              "  </thead>\n",
              "  <tbody>\n",
              "    <tr>\n",
              "      <th>0</th>\n",
              "      <td>Private</td>\n",
              "      <td>11th</td>\n",
              "      <td>Never-married</td>\n",
              "      <td>Machine-op-inspct</td>\n",
              "      <td>Own-child</td>\n",
              "      <td>Black</td>\n",
              "      <td>Male</td>\n",
              "      <td>United-States</td>\n",
              "    </tr>\n",
              "    <tr>\n",
              "      <th>1</th>\n",
              "      <td>Private</td>\n",
              "      <td>HS-grad</td>\n",
              "      <td>Married-civ-spouse</td>\n",
              "      <td>Farming-fishing</td>\n",
              "      <td>Husband</td>\n",
              "      <td>White</td>\n",
              "      <td>Male</td>\n",
              "      <td>United-States</td>\n",
              "    </tr>\n",
              "    <tr>\n",
              "      <th>2</th>\n",
              "      <td>Local-gov</td>\n",
              "      <td>Assoc-acdm</td>\n",
              "      <td>Married-civ-spouse</td>\n",
              "      <td>Protective-serv</td>\n",
              "      <td>Husband</td>\n",
              "      <td>White</td>\n",
              "      <td>Male</td>\n",
              "      <td>United-States</td>\n",
              "    </tr>\n",
              "    <tr>\n",
              "      <th>3</th>\n",
              "      <td>Private</td>\n",
              "      <td>Some-college</td>\n",
              "      <td>Married-civ-spouse</td>\n",
              "      <td>Machine-op-inspct</td>\n",
              "      <td>Husband</td>\n",
              "      <td>Black</td>\n",
              "      <td>Male</td>\n",
              "      <td>United-States</td>\n",
              "    </tr>\n",
              "    <tr>\n",
              "      <th>4</th>\n",
              "      <td>?</td>\n",
              "      <td>Some-college</td>\n",
              "      <td>Never-married</td>\n",
              "      <td>?</td>\n",
              "      <td>Own-child</td>\n",
              "      <td>White</td>\n",
              "      <td>Female</td>\n",
              "      <td>United-States</td>\n",
              "    </tr>\n",
              "  </tbody>\n",
              "</table>\n",
              "</div>\n",
              "      <button class=\"colab-df-convert\" onclick=\"convertToInteractive('df-cdc71e75-e6ec-4e59-b3a9-be1ab3f25b9e')\"\n",
              "              title=\"Convert this dataframe to an interactive table.\"\n",
              "              style=\"display:none;\">\n",
              "        \n",
              "  <svg xmlns=\"http://www.w3.org/2000/svg\" height=\"24px\"viewBox=\"0 0 24 24\"\n",
              "       width=\"24px\">\n",
              "    <path d=\"M0 0h24v24H0V0z\" fill=\"none\"/>\n",
              "    <path d=\"M18.56 5.44l.94 2.06.94-2.06 2.06-.94-2.06-.94-.94-2.06-.94 2.06-2.06.94zm-11 1L8.5 8.5l.94-2.06 2.06-.94-2.06-.94L8.5 2.5l-.94 2.06-2.06.94zm10 10l.94 2.06.94-2.06 2.06-.94-2.06-.94-.94-2.06-.94 2.06-2.06.94z\"/><path d=\"M17.41 7.96l-1.37-1.37c-.4-.4-.92-.59-1.43-.59-.52 0-1.04.2-1.43.59L10.3 9.45l-7.72 7.72c-.78.78-.78 2.05 0 2.83L4 21.41c.39.39.9.59 1.41.59.51 0 1.02-.2 1.41-.59l7.78-7.78 2.81-2.81c.8-.78.8-2.07 0-2.86zM5.41 20L4 18.59l7.72-7.72 1.47 1.35L5.41 20z\"/>\n",
              "  </svg>\n",
              "      </button>\n",
              "      \n",
              "  <style>\n",
              "    .colab-df-container {\n",
              "      display:flex;\n",
              "      flex-wrap:wrap;\n",
              "      gap: 12px;\n",
              "    }\n",
              "\n",
              "    .colab-df-convert {\n",
              "      background-color: #E8F0FE;\n",
              "      border: none;\n",
              "      border-radius: 50%;\n",
              "      cursor: pointer;\n",
              "      display: none;\n",
              "      fill: #1967D2;\n",
              "      height: 32px;\n",
              "      padding: 0 0 0 0;\n",
              "      width: 32px;\n",
              "    }\n",
              "\n",
              "    .colab-df-convert:hover {\n",
              "      background-color: #E2EBFA;\n",
              "      box-shadow: 0px 1px 2px rgba(60, 64, 67, 0.3), 0px 1px 3px 1px rgba(60, 64, 67, 0.15);\n",
              "      fill: #174EA6;\n",
              "    }\n",
              "\n",
              "    [theme=dark] .colab-df-convert {\n",
              "      background-color: #3B4455;\n",
              "      fill: #D2E3FC;\n",
              "    }\n",
              "\n",
              "    [theme=dark] .colab-df-convert:hover {\n",
              "      background-color: #434B5C;\n",
              "      box-shadow: 0px 1px 3px 1px rgba(0, 0, 0, 0.15);\n",
              "      filter: drop-shadow(0px 1px 2px rgba(0, 0, 0, 0.3));\n",
              "      fill: #FFFFFF;\n",
              "    }\n",
              "  </style>\n",
              "\n",
              "      <script>\n",
              "        const buttonEl =\n",
              "          document.querySelector('#df-cdc71e75-e6ec-4e59-b3a9-be1ab3f25b9e button.colab-df-convert');\n",
              "        buttonEl.style.display =\n",
              "          google.colab.kernel.accessAllowed ? 'block' : 'none';\n",
              "\n",
              "        async function convertToInteractive(key) {\n",
              "          const element = document.querySelector('#df-cdc71e75-e6ec-4e59-b3a9-be1ab3f25b9e');\n",
              "          const dataTable =\n",
              "            await google.colab.kernel.invokeFunction('convertToInteractive',\n",
              "                                                     [key], {});\n",
              "          if (!dataTable) return;\n",
              "\n",
              "          const docLinkHtml = 'Like what you see? Visit the ' +\n",
              "            '<a target=\"_blank\" href=https://colab.research.google.com/notebooks/data_table.ipynb>data table notebook</a>'\n",
              "            + ' to learn more about interactive tables.';\n",
              "          element.innerHTML = '';\n",
              "          dataTable['output_type'] = 'display_data';\n",
              "          await google.colab.output.renderOutput(dataTable, element);\n",
              "          const docLink = document.createElement('div');\n",
              "          docLink.innerHTML = docLinkHtml;\n",
              "          element.appendChild(docLink);\n",
              "        }\n",
              "      </script>\n",
              "    </div>\n",
              "  </div>\n",
              "  "
            ]
          },
          "metadata": {},
          "execution_count": 59
        }
      ]
    },
    {
      "cell_type": "code",
      "source": [
        "data_encoded = encoder.fit_transform(data_categorical)\n",
        "data_encoded[:5]"
      ],
      "metadata": {
        "colab": {
          "base_uri": "https://localhost:8080/"
        },
        "id": "AkF4pJSW3TZJ",
        "outputId": "66d8d6bd-69fe-435c-f47a-793e8f493fe6"
      },
      "execution_count": 60,
      "outputs": [
        {
          "output_type": "execute_result",
          "data": {
            "text/plain": [
              "array([[0., 0., 0., 0., 1., 0., 0., 0., 0., 0., 1., 0., 0., 0., 0., 0.,\n",
              "        0., 0., 0., 0., 0., 0., 0., 0., 0., 0., 0., 0., 0., 1., 0., 0.,\n",
              "        0., 0., 0., 0., 0., 0., 0., 1., 0., 0., 0., 0., 0., 0., 0., 0.,\n",
              "        0., 0., 1., 0., 0., 0., 0., 1., 0., 0., 0., 1., 0., 0., 0., 0.,\n",
              "        0., 0., 0., 0., 0., 0., 0., 0., 0., 0., 0., 0., 0., 0., 0., 0.,\n",
              "        0., 0., 0., 0., 0., 0., 0., 0., 0., 0., 0., 0., 0., 0., 0., 0.,\n",
              "        0., 0., 0., 1., 0., 0.],\n",
              "       [0., 0., 0., 0., 1., 0., 0., 0., 0., 0., 0., 0., 0., 0., 0., 0.,\n",
              "        0., 0., 0., 0., 1., 0., 0., 0., 0., 0., 0., 1., 0., 0., 0., 0.,\n",
              "        0., 0., 0., 0., 0., 1., 0., 0., 0., 0., 0., 0., 0., 0., 0., 1.,\n",
              "        0., 0., 0., 0., 0., 0., 0., 0., 0., 1., 0., 1., 0., 0., 0., 0.,\n",
              "        0., 0., 0., 0., 0., 0., 0., 0., 0., 0., 0., 0., 0., 0., 0., 0.,\n",
              "        0., 0., 0., 0., 0., 0., 0., 0., 0., 0., 0., 0., 0., 0., 0., 0.,\n",
              "        0., 0., 0., 1., 0., 0.],\n",
              "       [0., 0., 1., 0., 0., 0., 0., 0., 0., 0., 0., 0., 0., 0., 0., 0.,\n",
              "        1., 0., 0., 0., 0., 0., 0., 0., 0., 0., 0., 1., 0., 0., 0., 0.,\n",
              "        0., 0., 0., 0., 0., 0., 0., 0., 0., 0., 0., 1., 0., 0., 0., 1.,\n",
              "        0., 0., 0., 0., 0., 0., 0., 0., 0., 1., 0., 1., 0., 0., 0., 0.,\n",
              "        0., 0., 0., 0., 0., 0., 0., 0., 0., 0., 0., 0., 0., 0., 0., 0.,\n",
              "        0., 0., 0., 0., 0., 0., 0., 0., 0., 0., 0., 0., 0., 0., 0., 0.,\n",
              "        0., 0., 0., 1., 0., 0.],\n",
              "       [0., 0., 0., 0., 1., 0., 0., 0., 0., 0., 0., 0., 0., 0., 0., 0.,\n",
              "        0., 0., 0., 0., 0., 0., 0., 0., 1., 0., 0., 1., 0., 0., 0., 0.,\n",
              "        0., 0., 0., 0., 0., 0., 0., 1., 0., 0., 0., 0., 0., 0., 0., 1.,\n",
              "        0., 0., 0., 0., 0., 0., 0., 1., 0., 0., 0., 1., 0., 0., 0., 0.,\n",
              "        0., 0., 0., 0., 0., 0., 0., 0., 0., 0., 0., 0., 0., 0., 0., 0.,\n",
              "        0., 0., 0., 0., 0., 0., 0., 0., 0., 0., 0., 0., 0., 0., 0., 0.,\n",
              "        0., 0., 0., 1., 0., 0.],\n",
              "       [1., 0., 0., 0., 0., 0., 0., 0., 0., 0., 0., 0., 0., 0., 0., 0.,\n",
              "        0., 0., 0., 0., 0., 0., 0., 0., 1., 0., 0., 0., 0., 1., 0., 0.,\n",
              "        1., 0., 0., 0., 0., 0., 0., 0., 0., 0., 0., 0., 0., 0., 0., 0.,\n",
              "        0., 0., 1., 0., 0., 0., 0., 0., 0., 1., 1., 0., 0., 0., 0., 0.,\n",
              "        0., 0., 0., 0., 0., 0., 0., 0., 0., 0., 0., 0., 0., 0., 0., 0.,\n",
              "        0., 0., 0., 0., 0., 0., 0., 0., 0., 0., 0., 0., 0., 0., 0., 0.,\n",
              "        0., 0., 0., 1., 0., 0.]])"
            ]
          },
          "metadata": {},
          "execution_count": 60
        }
      ]
    },
    {
      "cell_type": "code",
      "source": [
        "print(\n",
        "    f\"The encoded dataset contains {data_encoded.shape[1]} features\")"
      ],
      "metadata": {
        "colab": {
          "base_uri": "https://localhost:8080/"
        },
        "id": "jgp_Ryip3czJ",
        "outputId": "c07324be-0f18-435e-ac73-3591af80f767"
      },
      "execution_count": 61,
      "outputs": [
        {
          "output_type": "stream",
          "name": "stdout",
          "text": [
            "The encoded dataset contains 102 features\n"
          ]
        }
      ]
    },
    {
      "cell_type": "markdown",
      "source": [
        "Let's wrap this NumPy array in a dataframe with informative column names as\n",
        "provided by the encoder object:"
      ],
      "metadata": {
        "id": "jE8F9Ds53igD"
      }
    },
    {
      "cell_type": "code",
      "source": [
        "columns_encoded = encoder.get_feature_names_out(data_categorical.columns)\n",
        "pd.DataFrame(data_encoded, columns=columns_encoded).head()"
      ],
      "metadata": {
        "colab": {
          "base_uri": "https://localhost:8080/",
          "height": 352
        },
        "id": "MHtVzRTF3fIu",
        "outputId": "8ebf8d22-2e84-4137-9d85-190b539ede73"
      },
      "execution_count": 62,
      "outputs": [
        {
          "output_type": "execute_result",
          "data": {
            "text/plain": [
              "   workclass_ ?  workclass_ Federal-gov  workclass_ Local-gov  \\\n",
              "0           0.0                     0.0                   0.0   \n",
              "1           0.0                     0.0                   0.0   \n",
              "2           0.0                     0.0                   1.0   \n",
              "3           0.0                     0.0                   0.0   \n",
              "4           1.0                     0.0                   0.0   \n",
              "\n",
              "   workclass_ Never-worked  workclass_ Private  workclass_ Self-emp-inc  \\\n",
              "0                      0.0                 1.0                      0.0   \n",
              "1                      0.0                 1.0                      0.0   \n",
              "2                      0.0                 0.0                      0.0   \n",
              "3                      0.0                 1.0                      0.0   \n",
              "4                      0.0                 0.0                      0.0   \n",
              "\n",
              "   workclass_ Self-emp-not-inc  workclass_ State-gov  workclass_ Without-pay  \\\n",
              "0                          0.0                   0.0                     0.0   \n",
              "1                          0.0                   0.0                     0.0   \n",
              "2                          0.0                   0.0                     0.0   \n",
              "3                          0.0                   0.0                     0.0   \n",
              "4                          0.0                   0.0                     0.0   \n",
              "\n",
              "   education_ 10th  ...  native-country_ Portugal  \\\n",
              "0              0.0  ...                       0.0   \n",
              "1              0.0  ...                       0.0   \n",
              "2              0.0  ...                       0.0   \n",
              "3              0.0  ...                       0.0   \n",
              "4              0.0  ...                       0.0   \n",
              "\n",
              "   native-country_ Puerto-Rico  native-country_ Scotland  \\\n",
              "0                          0.0                       0.0   \n",
              "1                          0.0                       0.0   \n",
              "2                          0.0                       0.0   \n",
              "3                          0.0                       0.0   \n",
              "4                          0.0                       0.0   \n",
              "\n",
              "   native-country_ South  native-country_ Taiwan  native-country_ Thailand  \\\n",
              "0                    0.0                     0.0                       0.0   \n",
              "1                    0.0                     0.0                       0.0   \n",
              "2                    0.0                     0.0                       0.0   \n",
              "3                    0.0                     0.0                       0.0   \n",
              "4                    0.0                     0.0                       0.0   \n",
              "\n",
              "   native-country_ Trinadad&Tobago  native-country_ United-States  \\\n",
              "0                              0.0                            1.0   \n",
              "1                              0.0                            1.0   \n",
              "2                              0.0                            1.0   \n",
              "3                              0.0                            1.0   \n",
              "4                              0.0                            1.0   \n",
              "\n",
              "   native-country_ Vietnam  native-country_ Yugoslavia  \n",
              "0                      0.0                         0.0  \n",
              "1                      0.0                         0.0  \n",
              "2                      0.0                         0.0  \n",
              "3                      0.0                         0.0  \n",
              "4                      0.0                         0.0  \n",
              "\n",
              "[5 rows x 102 columns]"
            ],
            "text/html": [
              "\n",
              "  <div id=\"df-073ecb1b-bd71-45de-9aa8-7f1f2a1e4588\">\n",
              "    <div class=\"colab-df-container\">\n",
              "      <div>\n",
              "<style scoped>\n",
              "    .dataframe tbody tr th:only-of-type {\n",
              "        vertical-align: middle;\n",
              "    }\n",
              "\n",
              "    .dataframe tbody tr th {\n",
              "        vertical-align: top;\n",
              "    }\n",
              "\n",
              "    .dataframe thead th {\n",
              "        text-align: right;\n",
              "    }\n",
              "</style>\n",
              "<table border=\"1\" class=\"dataframe\">\n",
              "  <thead>\n",
              "    <tr style=\"text-align: right;\">\n",
              "      <th></th>\n",
              "      <th>workclass_ ?</th>\n",
              "      <th>workclass_ Federal-gov</th>\n",
              "      <th>workclass_ Local-gov</th>\n",
              "      <th>workclass_ Never-worked</th>\n",
              "      <th>workclass_ Private</th>\n",
              "      <th>workclass_ Self-emp-inc</th>\n",
              "      <th>workclass_ Self-emp-not-inc</th>\n",
              "      <th>workclass_ State-gov</th>\n",
              "      <th>workclass_ Without-pay</th>\n",
              "      <th>education_ 10th</th>\n",
              "      <th>...</th>\n",
              "      <th>native-country_ Portugal</th>\n",
              "      <th>native-country_ Puerto-Rico</th>\n",
              "      <th>native-country_ Scotland</th>\n",
              "      <th>native-country_ South</th>\n",
              "      <th>native-country_ Taiwan</th>\n",
              "      <th>native-country_ Thailand</th>\n",
              "      <th>native-country_ Trinadad&amp;Tobago</th>\n",
              "      <th>native-country_ United-States</th>\n",
              "      <th>native-country_ Vietnam</th>\n",
              "      <th>native-country_ Yugoslavia</th>\n",
              "    </tr>\n",
              "  </thead>\n",
              "  <tbody>\n",
              "    <tr>\n",
              "      <th>0</th>\n",
              "      <td>0.0</td>\n",
              "      <td>0.0</td>\n",
              "      <td>0.0</td>\n",
              "      <td>0.0</td>\n",
              "      <td>1.0</td>\n",
              "      <td>0.0</td>\n",
              "      <td>0.0</td>\n",
              "      <td>0.0</td>\n",
              "      <td>0.0</td>\n",
              "      <td>0.0</td>\n",
              "      <td>...</td>\n",
              "      <td>0.0</td>\n",
              "      <td>0.0</td>\n",
              "      <td>0.0</td>\n",
              "      <td>0.0</td>\n",
              "      <td>0.0</td>\n",
              "      <td>0.0</td>\n",
              "      <td>0.0</td>\n",
              "      <td>1.0</td>\n",
              "      <td>0.0</td>\n",
              "      <td>0.0</td>\n",
              "    </tr>\n",
              "    <tr>\n",
              "      <th>1</th>\n",
              "      <td>0.0</td>\n",
              "      <td>0.0</td>\n",
              "      <td>0.0</td>\n",
              "      <td>0.0</td>\n",
              "      <td>1.0</td>\n",
              "      <td>0.0</td>\n",
              "      <td>0.0</td>\n",
              "      <td>0.0</td>\n",
              "      <td>0.0</td>\n",
              "      <td>0.0</td>\n",
              "      <td>...</td>\n",
              "      <td>0.0</td>\n",
              "      <td>0.0</td>\n",
              "      <td>0.0</td>\n",
              "      <td>0.0</td>\n",
              "      <td>0.0</td>\n",
              "      <td>0.0</td>\n",
              "      <td>0.0</td>\n",
              "      <td>1.0</td>\n",
              "      <td>0.0</td>\n",
              "      <td>0.0</td>\n",
              "    </tr>\n",
              "    <tr>\n",
              "      <th>2</th>\n",
              "      <td>0.0</td>\n",
              "      <td>0.0</td>\n",
              "      <td>1.0</td>\n",
              "      <td>0.0</td>\n",
              "      <td>0.0</td>\n",
              "      <td>0.0</td>\n",
              "      <td>0.0</td>\n",
              "      <td>0.0</td>\n",
              "      <td>0.0</td>\n",
              "      <td>0.0</td>\n",
              "      <td>...</td>\n",
              "      <td>0.0</td>\n",
              "      <td>0.0</td>\n",
              "      <td>0.0</td>\n",
              "      <td>0.0</td>\n",
              "      <td>0.0</td>\n",
              "      <td>0.0</td>\n",
              "      <td>0.0</td>\n",
              "      <td>1.0</td>\n",
              "      <td>0.0</td>\n",
              "      <td>0.0</td>\n",
              "    </tr>\n",
              "    <tr>\n",
              "      <th>3</th>\n",
              "      <td>0.0</td>\n",
              "      <td>0.0</td>\n",
              "      <td>0.0</td>\n",
              "      <td>0.0</td>\n",
              "      <td>1.0</td>\n",
              "      <td>0.0</td>\n",
              "      <td>0.0</td>\n",
              "      <td>0.0</td>\n",
              "      <td>0.0</td>\n",
              "      <td>0.0</td>\n",
              "      <td>...</td>\n",
              "      <td>0.0</td>\n",
              "      <td>0.0</td>\n",
              "      <td>0.0</td>\n",
              "      <td>0.0</td>\n",
              "      <td>0.0</td>\n",
              "      <td>0.0</td>\n",
              "      <td>0.0</td>\n",
              "      <td>1.0</td>\n",
              "      <td>0.0</td>\n",
              "      <td>0.0</td>\n",
              "    </tr>\n",
              "    <tr>\n",
              "      <th>4</th>\n",
              "      <td>1.0</td>\n",
              "      <td>0.0</td>\n",
              "      <td>0.0</td>\n",
              "      <td>0.0</td>\n",
              "      <td>0.0</td>\n",
              "      <td>0.0</td>\n",
              "      <td>0.0</td>\n",
              "      <td>0.0</td>\n",
              "      <td>0.0</td>\n",
              "      <td>0.0</td>\n",
              "      <td>...</td>\n",
              "      <td>0.0</td>\n",
              "      <td>0.0</td>\n",
              "      <td>0.0</td>\n",
              "      <td>0.0</td>\n",
              "      <td>0.0</td>\n",
              "      <td>0.0</td>\n",
              "      <td>0.0</td>\n",
              "      <td>1.0</td>\n",
              "      <td>0.0</td>\n",
              "      <td>0.0</td>\n",
              "    </tr>\n",
              "  </tbody>\n",
              "</table>\n",
              "<p>5 rows × 102 columns</p>\n",
              "</div>\n",
              "      <button class=\"colab-df-convert\" onclick=\"convertToInteractive('df-073ecb1b-bd71-45de-9aa8-7f1f2a1e4588')\"\n",
              "              title=\"Convert this dataframe to an interactive table.\"\n",
              "              style=\"display:none;\">\n",
              "        \n",
              "  <svg xmlns=\"http://www.w3.org/2000/svg\" height=\"24px\"viewBox=\"0 0 24 24\"\n",
              "       width=\"24px\">\n",
              "    <path d=\"M0 0h24v24H0V0z\" fill=\"none\"/>\n",
              "    <path d=\"M18.56 5.44l.94 2.06.94-2.06 2.06-.94-2.06-.94-.94-2.06-.94 2.06-2.06.94zm-11 1L8.5 8.5l.94-2.06 2.06-.94-2.06-.94L8.5 2.5l-.94 2.06-2.06.94zm10 10l.94 2.06.94-2.06 2.06-.94-2.06-.94-.94-2.06-.94 2.06-2.06.94z\"/><path d=\"M17.41 7.96l-1.37-1.37c-.4-.4-.92-.59-1.43-.59-.52 0-1.04.2-1.43.59L10.3 9.45l-7.72 7.72c-.78.78-.78 2.05 0 2.83L4 21.41c.39.39.9.59 1.41.59.51 0 1.02-.2 1.41-.59l7.78-7.78 2.81-2.81c.8-.78.8-2.07 0-2.86zM5.41 20L4 18.59l7.72-7.72 1.47 1.35L5.41 20z\"/>\n",
              "  </svg>\n",
              "      </button>\n",
              "      \n",
              "  <style>\n",
              "    .colab-df-container {\n",
              "      display:flex;\n",
              "      flex-wrap:wrap;\n",
              "      gap: 12px;\n",
              "    }\n",
              "\n",
              "    .colab-df-convert {\n",
              "      background-color: #E8F0FE;\n",
              "      border: none;\n",
              "      border-radius: 50%;\n",
              "      cursor: pointer;\n",
              "      display: none;\n",
              "      fill: #1967D2;\n",
              "      height: 32px;\n",
              "      padding: 0 0 0 0;\n",
              "      width: 32px;\n",
              "    }\n",
              "\n",
              "    .colab-df-convert:hover {\n",
              "      background-color: #E2EBFA;\n",
              "      box-shadow: 0px 1px 2px rgba(60, 64, 67, 0.3), 0px 1px 3px 1px rgba(60, 64, 67, 0.15);\n",
              "      fill: #174EA6;\n",
              "    }\n",
              "\n",
              "    [theme=dark] .colab-df-convert {\n",
              "      background-color: #3B4455;\n",
              "      fill: #D2E3FC;\n",
              "    }\n",
              "\n",
              "    [theme=dark] .colab-df-convert:hover {\n",
              "      background-color: #434B5C;\n",
              "      box-shadow: 0px 1px 3px 1px rgba(0, 0, 0, 0.15);\n",
              "      filter: drop-shadow(0px 1px 2px rgba(0, 0, 0, 0.3));\n",
              "      fill: #FFFFFF;\n",
              "    }\n",
              "  </style>\n",
              "\n",
              "      <script>\n",
              "        const buttonEl =\n",
              "          document.querySelector('#df-073ecb1b-bd71-45de-9aa8-7f1f2a1e4588 button.colab-df-convert');\n",
              "        buttonEl.style.display =\n",
              "          google.colab.kernel.accessAllowed ? 'block' : 'none';\n",
              "\n",
              "        async function convertToInteractive(key) {\n",
              "          const element = document.querySelector('#df-073ecb1b-bd71-45de-9aa8-7f1f2a1e4588');\n",
              "          const dataTable =\n",
              "            await google.colab.kernel.invokeFunction('convertToInteractive',\n",
              "                                                     [key], {});\n",
              "          if (!dataTable) return;\n",
              "\n",
              "          const docLinkHtml = 'Like what you see? Visit the ' +\n",
              "            '<a target=\"_blank\" href=https://colab.research.google.com/notebooks/data_table.ipynb>data table notebook</a>'\n",
              "            + ' to learn more about interactive tables.';\n",
              "          element.innerHTML = '';\n",
              "          dataTable['output_type'] = 'display_data';\n",
              "          await google.colab.output.renderOutput(dataTable, element);\n",
              "          const docLink = document.createElement('div');\n",
              "          docLink.innerHTML = docLinkHtml;\n",
              "          element.appendChild(docLink);\n",
              "        }\n",
              "      </script>\n",
              "    </div>\n",
              "  </div>\n",
              "  "
            ]
          },
          "metadata": {},
          "execution_count": 62
        }
      ]
    },
    {
      "cell_type": "markdown",
      "source": [
        "Look at how the `\"workclass\"` variable of the 3 first records has been\n",
        "encoded and compare this to the original string representation.\n",
        "\n",
        "The number of features after the encoding is more than 10 times larger than\n",
        "in the original data because some variables such as `occupation` and\n",
        "`native-country` have many possible categories."
      ],
      "metadata": {
        "id": "-6lURyZa3sUG"
      }
    },
    {
      "cell_type": "markdown",
      "source": [
        "### Choosing an encoding strategy\n",
        "\n",
        "Choosing an encoding strategy will depend on the underlying models and the\n",
        "type of categories (i.e. ordinal vs. nominal)."
      ],
      "metadata": {
        "id": "FvN3f1O-36tp"
      }
    },
    {
      "cell_type": "markdown",
      "source": [
        "<div class=\"admonition note alert alert-info\">\n",
        "<p class=\"first admonition-title\" style=\"font-weight: bold;\">Note</p>\n",
        "<p class=\"last\">In general <tt class=\"docutils literal\">OneHotEncoder</tt> is the encoding strategy used when the\n",
        "downstream models are <strong>linear models</strong> while <tt class=\"docutils literal\">OrdinalEncoder</tt> is often a\n",
        "good strategy with <strong>tree-based models</strong>.</p>\n",
        "</div>"
      ],
      "metadata": {
        "id": "58RGmgTj385Z"
      }
    },
    {
      "cell_type": "markdown",
      "source": [
        "\n",
        "Using an `OrdinalEncoder` will output ordinal categories. This means\n",
        "that there is an order in the resulting categories (e.g. `0 < 1 < 2`). The\n",
        "impact of violating this ordering assumption is really dependent on the\n",
        "downstream models. Linear models will be impacted by misordered categories\n",
        "while tree-based models will not.\n",
        "\n",
        "You can still use an `OrdinalEncoder` with linear models but you need to be\n",
        "sure that:\n",
        "- the original categories (before encoding) have an ordering;\n",
        "- the encoded categories follow the same ordering than the original\n",
        "  categories.\n",
        "The **next exercise** highlights the issue of misusing `OrdinalEncoder` with\n",
        "a linear model.\n",
        "\n",
        "One-hot encoding categorical variables with high cardinality can cause \n",
        "computational inefficiency in tree-based models. Because of this, it is not recommended\n",
        "to use `OneHotEncoder` in such cases even if the original categories do not \n",
        "have a given order. We will show this in the **final exercise** of this sequence."
      ],
      "metadata": {
        "id": "5NXAG2943-5M"
      }
    },
    {
      "cell_type": "markdown",
      "source": [
        "## Evaluate our predictive pipeline\n",
        "\n",
        "We can now integrate this encoder inside a machine learning pipeline like we\n",
        "did with numerical data: let's train a linear classifier on the encoded data\n",
        "and check the generalization performance of this machine learning pipeline using\n",
        "cross-validation.\n",
        "\n",
        "Before we create the pipeline, we have to linger on the `native-country`.\n",
        "Let's recall some statistics regarding this column."
      ],
      "metadata": {
        "id": "INfspw304WSo"
      }
    },
    {
      "cell_type": "code",
      "source": [
        "data[\"native-country\"].value_counts()"
      ],
      "metadata": {
        "colab": {
          "base_uri": "https://localhost:8080/"
        },
        "id": "VjczJg2T3hpC",
        "outputId": "32b4cc29-5e12-4c87-9ca8-671057feadd6"
      },
      "execution_count": 63,
      "outputs": [
        {
          "output_type": "execute_result",
          "data": {
            "text/plain": [
              " United-States                 43832\n",
              " Mexico                          951\n",
              " ?                               857\n",
              " Philippines                     295\n",
              " Germany                         206\n",
              " Puerto-Rico                     184\n",
              " Canada                          182\n",
              " El-Salvador                     155\n",
              " India                           151\n",
              " Cuba                            138\n",
              " England                         127\n",
              " China                           122\n",
              " South                           115\n",
              " Jamaica                         106\n",
              " Italy                           105\n",
              " Dominican-Republic              103\n",
              " Japan                            92\n",
              " Guatemala                        88\n",
              " Poland                           87\n",
              " Vietnam                          86\n",
              " Columbia                         85\n",
              " Haiti                            75\n",
              " Portugal                         67\n",
              " Taiwan                           65\n",
              " Iran                             59\n",
              " Greece                           49\n",
              " Nicaragua                        49\n",
              " Peru                             46\n",
              " Ecuador                          45\n",
              " France                           38\n",
              " Ireland                          37\n",
              " Hong                             30\n",
              " Thailand                         30\n",
              " Cambodia                         28\n",
              " Trinadad&Tobago                  27\n",
              " Laos                             23\n",
              " Yugoslavia                       23\n",
              " Outlying-US(Guam-USVI-etc)       23\n",
              " Scotland                         21\n",
              " Honduras                         20\n",
              " Hungary                          19\n",
              " Holand-Netherlands                1\n",
              "Name: native-country, dtype: int64"
            ]
          },
          "metadata": {},
          "execution_count": 63
        }
      ]
    },
    {
      "cell_type": "markdown",
      "source": [
        "We see that the `Holand-Netherlands` category is occurring rarely. This will\n",
        "be a problem during cross-validation: if the sample ends up in the test set\n",
        "during splitting then the classifier would not have seen the category during\n",
        "training and will not be able to encode it.\n",
        "\n",
        "In scikit-learn, there are two solutions to bypass this issue:\n",
        "\n",
        "* list all the possible categories and provide it to the encoder via the\n",
        "  keyword argument `categories`;\n",
        "* use the parameter `handle_unknown`.\n",
        "\n",
        "Here, we will use the latter solution for simplicity."
      ],
      "metadata": {
        "id": "8RsAUWVi4e1j"
      }
    },
    {
      "cell_type": "markdown",
      "source": [
        "<div class=\"admonition tip alert alert-warning\">\n",
        "<p class=\"first admonition-title\" style=\"font-weight: bold;\">Tip</p>\n",
        "<p class=\"last\">Be aware the <tt class=\"docutils literal\">OrdinalEncoder</tt> exposes as well a parameter\n",
        "<tt class=\"docutils literal\">handle_unknown</tt>. It can be set to <tt class=\"docutils literal\">use_encoded_value</tt> and by setting\n",
        "<tt class=\"docutils literal\">unknown_value</tt> to handle rare categories. You are going to use these\n",
        "parameters in the next exercise.</p>\n",
        "</div>"
      ],
      "metadata": {
        "id": "SgduBLqU4olO"
      }
    },
    {
      "cell_type": "markdown",
      "source": [
        "WE can now create our machine learning pipeline"
      ],
      "metadata": {
        "id": "oMTOHcf54tPe"
      }
    },
    {
      "cell_type": "code",
      "source": [
        "from sklearn.pipeline import make_pipeline\n",
        "from sklearn.linear_model import LogisticRegression\n",
        "\n",
        "model = make_pipeline(\n",
        "    OneHotEncoder(handle_unknown=\"ignore\"), LogisticRegression(max_iter=500)\n",
        ")"
      ],
      "metadata": {
        "id": "ZQ__166i4Ybe"
      },
      "execution_count": 64,
      "outputs": []
    },
    {
      "cell_type": "markdown",
      "source": [
        "<div class=\"admonition note alert alert-info\">\n",
        "<p class=\"first admonition-title\" style=\"font-weight: bold;\">Note</p>\n",
        "<p class=\"last\">Here, we need to increase the maximum number of iterations to obtain a fully\n",
        "converged <tt class=\"docutils literal\">LogisticRegression</tt> and silence a <tt class=\"docutils literal\">ConvergenceWarning</tt>. Contrary\n",
        "to the numerical features, the one-hot encoded categorical features are all\n",
        "on the same scale (values are 0 or 1), so they would not benefit from\n",
        "scaling. In this case, increasing <tt class=\"docutils literal\">max_iter</tt> is the right thing to do.</p>\n",
        "</div>"
      ],
      "metadata": {
        "id": "_dsR8Z675KI7"
      }
    },
    {
      "cell_type": "markdown",
      "source": [
        "Finally, we can check the model's generalization performance only using the\n",
        "categorical columns."
      ],
      "metadata": {
        "id": "4SuHWDxV5MyM"
      }
    },
    {
      "cell_type": "code",
      "source": [
        "from sklearn.model_selection import cross_validate\n",
        "cv_results = cross_validate(model, data_categorical, target)\n",
        "cv_results"
      ],
      "metadata": {
        "colab": {
          "base_uri": "https://localhost:8080/"
        },
        "id": "FhG7yite5GGj",
        "outputId": "541df912-d31f-450f-b86d-c85aced33e1b"
      },
      "execution_count": 65,
      "outputs": [
        {
          "output_type": "execute_result",
          "data": {
            "text/plain": [
              "{'fit_time': array([1.97115803, 1.53005624, 1.73345733, 1.49277639, 1.71608019]),\n",
              " 'score_time': array([0.03899455, 0.03860331, 0.04099703, 0.0449264 , 0.04732943]),\n",
              " 'test_score': array([0.83222438, 0.83560242, 0.82872645, 0.83312858, 0.83466421])}"
            ]
          },
          "metadata": {},
          "execution_count": 65
        }
      ]
    },
    {
      "cell_type": "code",
      "source": [
        "scores = cv_results[\"test_score\"]\n",
        "print(f\"The accuracy is: {scores.mean():.3f} +/- {scores.std():.3f}\")"
      ],
      "metadata": {
        "colab": {
          "base_uri": "https://localhost:8080/"
        },
        "id": "6ZKEanM15PcK",
        "outputId": "1f99241c-0f32-43a2-e843-812141f4337d"
      },
      "execution_count": 66,
      "outputs": [
        {
          "output_type": "stream",
          "name": "stdout",
          "text": [
            "The accuracy is: 0.833 +/- 0.002\n"
          ]
        }
      ]
    },
    {
      "cell_type": "markdown",
      "source": [
        "As you can see, this representation of the categorical variables is\n",
        "slightly more predictive of the revenue than the numerical variables\n",
        "that we used previously."
      ],
      "metadata": {
        "id": "Z0sWpm5z5au7"
      }
    },
    {
      "cell_type": "markdown",
      "source": [
        "### Exercise\n",
        "\n",
        "The goal of this exercise is to evaluate the impact of using an arbitrary\n",
        "integer encoding for categorical variables along with a linear\n",
        "classification model such as Logistic Regression.\n",
        "\n",
        "To do so, let's try to use `OrdinalEncoder` to preprocess the categorical\n",
        "variables. This preprocessor is assembled in a pipeline with\n",
        "`LogisticRegression`. The generalization performance of the pipeline can be\n",
        "evaluated by cross-validation and then compared to the score obtained when\n",
        "using `OneHotEncoder` or to some other baseline score.\n",
        "\n",
        "Earlier, we used `sklearn.compose.make_column_selector` to\n",
        "automatically select columns with a specific data type (also called `dtype`).\n",
        "Here, we will use this selector to get only the columns containing strings\n",
        "(column with `object` dtype) that correspond to categorical features in our\n",
        "dataset."
      ],
      "metadata": {
        "id": "nXnFwAI3kokD"
      }
    },
    {
      "cell_type": "code",
      "source": [
        "from sklearn.compose import make_column_selector as selector\n",
        "\n",
        "categorical_columns_selector = selector(dtype_include=object)\n",
        "categorical_columns = categorical_columns_selector(data)\n",
        "data_categorical = data[categorical_columns]"
      ],
      "metadata": {
        "id": "sySYd_FKkmWj"
      },
      "execution_count": 67,
      "outputs": []
    },
    {
      "cell_type": "markdown",
      "source": [
        "Define a scikit-learn pipeline composed of an `OrdinalEncoder` and a\n",
        "`LogisticRegression` classifier.\n",
        "\n",
        "Because `OrdinalEncoder` can raise errors if it sees an unknown category at\n",
        "prediction time, you can set the `handle_unknown=\"use_encoded_value\"` and\n",
        "`unknown_value` parameters. You can refer to the\n",
        "[scikit-learn documentation](https://scikit-learn.org/stable/modules/generated/sklearn.preprocessing.OrdinalEncoder.html)\n",
        "for more details regarding these parameters."
      ],
      "metadata": {
        "id": "roE-0vW4k7Op"
      }
    },
    {
      "cell_type": "code",
      "source": [
        "from sklearn.pipeline import make_pipeline\n",
        "from sklearn.preprocessing import OrdinalEncoder\n",
        "from sklearn.linear_model import LogisticRegression\n",
        "\n",
        "# Write your code here.\n",
        "model = make_pipeline(OrdinalEncoder(handle_unknown=\"use_encoded_value\", unknown_value=-1),\n",
        "                     LogisticRegression(max_iter=500))"
      ],
      "metadata": {
        "id": "Ap1RjPpUk3zR"
      },
      "execution_count": 68,
      "outputs": []
    },
    {
      "cell_type": "markdown",
      "source": [
        "Your model is now defined. Evaluate it using a cross-validation using\n",
        "`sklearn.model_selection.cross_validate`.\n",
        "\n",
        "<div class=\"admonition note alert alert-info\">\n",
        "<p class=\"first admonition-title\" style=\"font-weight: bold;\">Note</p>\n",
        "<p class=\"last\">Be aware that if an error happened during the cross-validation,\n",
        "<tt class=\"docutils literal\">cross_validate</tt> will raise a warning and return NaN (Not a Number)\n",
        "as scores.  To make it raise a standard Python exception with a traceback,\n",
        "you can pass the <tt class=\"docutils literal\"><span class=\"pre\">error_score=\"raise\"</span></tt> argument in the call to\n",
        "<tt class=\"docutils literal\">cross_validate</tt>. An exception will be raised instead of a warning at the first\n",
        "encountered problem  and <tt class=\"docutils literal\">cross_validate</tt> will stop right away instead of\n",
        "returning NaN values. This is particularly handy when developing\n",
        "complex machine learning pipelines.</p>\n",
        "</div>"
      ],
      "metadata": {
        "id": "5lP1SeG7nDMy"
      }
    },
    {
      "cell_type": "code",
      "source": [
        "from sklearn.model_selection import cross_validate\n",
        "\n",
        "cv_results = cross_validate(model, data_categorical, target, error_score=\"raise\")"
      ],
      "metadata": {
        "id": "R1cj_jwPnBjU"
      },
      "execution_count": 69,
      "outputs": []
    },
    {
      "cell_type": "code",
      "source": [
        "scores = cv_results[\"test_score\"]\n",
        "print(\"The mean cross-validation accuracy is: \"\n",
        "      f\"{scores.mean():.3f} +/- {scores.std():.3f}\")"
      ],
      "metadata": {
        "colab": {
          "base_uri": "https://localhost:8080/"
        },
        "id": "HOefRV8Mn0V7",
        "outputId": "c6834cf5-187c-4bee-fcea-0cf1c62aefa7"
      },
      "execution_count": 70,
      "outputs": [
        {
          "output_type": "stream",
          "name": "stdout",
          "text": [
            "The mean cross-validation accuracy is: 0.755 +/- 0.002\n"
          ]
        }
      ]
    },
    {
      "cell_type": "markdown",
      "source": [
        "Now, we would like to compare the generalization performance of our previous\n",
        "model with a new model where instead of using an `OrdinalEncoder`, we will\n",
        "use a `OneHotEncoder`. Repeat the model evaluation using cross-validation.\n",
        "Compare the score of both models and conclude on the impact of choosing a\n",
        "specific encoding strategy when using a linear model."
      ],
      "metadata": {
        "id": "nTqjKFVPn9ri"
      }
    },
    {
      "cell_type": "code",
      "source": [
        "from sklearn.preprocessing import OneHotEncoder\n",
        "\n",
        "model = make_pipeline(\n",
        "        OneHotEncoder(handle_unknown=\"ignore\"),\n",
        "        LogisticRegression(max_iter=500))\n",
        "cv_resuls = cross_validate(model, data_categorical, target)\n",
        "score = cv_results[\"test_score\"]\n",
        "print(f\"The mean cross-validation accuracy is: {score.mean():.3f} +- {score.std():.3f}\")"
      ],
      "metadata": {
        "colab": {
          "base_uri": "https://localhost:8080/"
        },
        "id": "j9AjoUi8n7AW",
        "outputId": "92cfdcdb-8564-4b9b-974d-1c9a14addd9a"
      },
      "execution_count": 71,
      "outputs": [
        {
          "output_type": "stream",
          "name": "stdout",
          "text": [
            "The mean cross-validation accuracy is: 0.755 +- 0.002\n"
          ]
        }
      ]
    },
    {
      "cell_type": "markdown",
      "source": [
        "# Using numerical and categorical variables together\n",
        "\n",
        "Earlier, we showed the required preprocessing to apply\n",
        "when dealing with numerical and categorical variables. However, we decoupled\n",
        "the process to treat each type individually. In this notebook, we will show\n",
        "how to combine these preprocessing steps.\n",
        "\n",
        "We will first load the entire adult census dataset."
      ],
      "metadata": {
        "id": "zygSo1Fdq49B"
      }
    },
    {
      "cell_type": "code",
      "source": [
        "import pandas as pd\n",
        "\n",
        "adult_census = pd.read_csv(\"/content/adult_census.csv\")\n",
        "# drop the duplicated column `\"education-num\"` as stated in the first notebook\n",
        "adult_census = adult_census.drop(columns=\"education-num\")\n",
        "\n",
        "target_name = \"class\"\n",
        "target = adult_census[target_name]\n",
        "\n",
        "data = adult_census.drop(columns=[target_name])"
      ],
      "metadata": {
        "id": "dPEpoM7fqxjI"
      },
      "execution_count": 72,
      "outputs": []
    },
    {
      "cell_type": "markdown",
      "source": [
        "## Selection based on data types\n",
        "\n",
        "We will separate categorical and numerical variables using their data\n",
        "types to identify them, as we saw previously that `object` corresponds\n",
        "to categorical columns (strings). We make use of `make_column_selector`\n",
        "helper to select the corresponding columns."
      ],
      "metadata": {
        "id": "O7BholuhscqN"
      }
    },
    {
      "cell_type": "code",
      "source": [
        "from sklearn.compose import make_column_selector as selector\n",
        "\n",
        "numerical_columns_selector = selector(dtype_exclude=object)\n",
        "categorical_columns_selector = selector(dtype_include=object)\n",
        "\n",
        "numerical_columns = numerical_columns_selector(data)\n",
        "categorical_columns = categorical_columns_selector(data)"
      ],
      "metadata": {
        "id": "fPu-SU3Iq7ng"
      },
      "execution_count": 73,
      "outputs": []
    },
    {
      "cell_type": "markdown",
      "source": [
        "<div class=\"admonition caution alert alert-warning\">\n",
        "<p class=\"first admonition-title\" style=\"font-weight: bold;\">Caution!</p>\n",
        "<p>Here, we know that <tt class=\"docutils literal\">object</tt> data type is used to represent strings and thus\n",
        "categorical features. Be aware that this is not always the case. Sometimes\n",
        "<tt class=\"docutils literal\">object</tt> data type could contain other types of information, such as dates that\n",
        "were not properly formatted (strings) and yet relate to a quantity of\n",
        "elapsed  time.</p>\n",
        "<p class=\"last\">In a more general scenario you should manually introspect the content of your\n",
        "dataframe not to wrongly use <tt class=\"docutils literal\">make_column_selector</tt>.</p>\n",
        "</div>"
      ],
      "metadata": {
        "id": "cm5nP0j-tCqY"
      }
    },
    {
      "cell_type": "markdown",
      "source": [
        "## Dispatch columns to a specific processor\n",
        "\n",
        "In the previous sections, we saw that we need to treat data differently\n",
        "depending on their nature (i.e. numerical or categorical).\n",
        "\n",
        "Scikit-learn provides a `ColumnTransformer` class which will send specific\n",
        "columns to a specific transformer, making it easy to fit a single predictive\n",
        "model on a dataset that combines both kinds of variables together\n",
        "(heterogeneously typed tabular data).\n",
        "\n",
        "We first define the columns depending on their data type:\n",
        "\n",
        "* **one-hot encoding** will be applied to categorical columns. Besides, we\n",
        "  use `handle_unknown=\"ignore\"` to solve the potential issues due to rare\n",
        "  categories.\n",
        "* **numerical scaling** numerical features which will be standardized.\n",
        "\n",
        "Now, we create our `ColumnTransfomer` by specifying three values:\n",
        "the preprocessor name, the transformer, and the columns.\n",
        "First, let's create the preprocessors for the numerical and categorical\n",
        "parts."
      ],
      "metadata": {
        "id": "krEIuIPztFsM"
      }
    },
    {
      "cell_type": "code",
      "source": [
        "from sklearn.preprocessing import OneHotEncoder, StandardScaler\n",
        "\n",
        "categorical_preprocessor = OneHotEncoder(handle_unknown=\"ignore\")\n",
        "numerical_preprocessor = StandardScaler()"
      ],
      "metadata": {
        "id": "BktivFz4s6dS"
      },
      "execution_count": 74,
      "outputs": []
    },
    {
      "cell_type": "markdown",
      "source": [
        "Now, we create the transformer and associate each of these preprocessors with their respective columns."
      ],
      "metadata": {
        "id": "Se0Gqd1muOLV"
      }
    },
    {
      "cell_type": "code",
      "source": [
        "from sklearn.compose import ColumnTransformer\n",
        "\n",
        "preprocessor = ColumnTransformer([\n",
        "                                  ('one-hot-encoder', categorical_preprocessor, categorical_columns),\n",
        "                                  ('standard_scaler', numerical_preprocessor, numerical_columns)])"
      ],
      "metadata": {
        "id": "IAXzMSAeuIbw"
      },
      "execution_count": 75,
      "outputs": []
    },
    {
      "cell_type": "markdown",
      "source": [
        "A `ColumnTransformer` does the following:\n",
        "\n",
        "* It **splits the columns** of the original dataset based on the column names\n",
        "  or indices provided. We will obtain as many subsets as the number of\n",
        "  transformers passed into the `ColumnTransformer`.\n",
        "* It **transforms each subsets**. A specific transformer is applied to\n",
        "  each subset: it will internally call `fit_transform` or `transform`. The\n",
        "  output of this step is a set of transformed datasets.\n",
        "* It then **concatenates the transformed datasets** into a single dataset.\n",
        "\n",
        "The important thing is that `ColumnTransformer` is like any other\n",
        "scikit-learn transformer. In particular it can be combined with a classifier\n",
        "in a `Pipeline`:"
      ],
      "metadata": {
        "id": "ih3hqNZlu-z5"
      }
    },
    {
      "cell_type": "code",
      "source": [
        "from sklearn.linear_model import LogisticRegression\n",
        "from sklearn.pipeline import make_pipeline\n",
        "\n",
        "model = make_pipeline(preprocessor, LogisticRegression(max_iter=500))"
      ],
      "metadata": {
        "id": "Jtkg1NUSuoCu"
      },
      "execution_count": 76,
      "outputs": []
    },
    {
      "cell_type": "markdown",
      "source": [
        "We can display an interactive diagram with the following command:"
      ],
      "metadata": {
        "id": "H3-JyHfLvM4b"
      }
    },
    {
      "cell_type": "code",
      "source": [
        "from sklearn import set_config\n",
        "set_config(display='diagram')\n",
        "model"
      ],
      "metadata": {
        "colab": {
          "base_uri": "https://localhost:8080/",
          "height": 192
        },
        "id": "wjzwcekdvKkj",
        "outputId": "a677bffc-a649-475d-8b67-240137a4a84e"
      },
      "execution_count": 77,
      "outputs": [
        {
          "output_type": "execute_result",
          "data": {
            "text/plain": [
              "Pipeline(steps=[('columntransformer',\n",
              "                 ColumnTransformer(transformers=[('one-hot-encoder',\n",
              "                                                  OneHotEncoder(handle_unknown='ignore'),\n",
              "                                                  ['workclass', 'education',\n",
              "                                                   'marital-status',\n",
              "                                                   'occupation', 'relationship',\n",
              "                                                   'race', 'sex',\n",
              "                                                   'native-country']),\n",
              "                                                 ('standard_scaler',\n",
              "                                                  StandardScaler(),\n",
              "                                                  ['age', 'fnlwgt',\n",
              "                                                   'capital-gain',\n",
              "                                                   'capital-loss',\n",
              "                                                   'hours-per-week'])])),\n",
              "                ('logisticregression', LogisticRegression(max_iter=500))])"
            ],
            "text/html": [
              "<style>#sk-158b2ae6-7383-4f7d-aa88-0cf8e5c9e007 {color: black;background-color: white;}#sk-158b2ae6-7383-4f7d-aa88-0cf8e5c9e007 pre{padding: 0;}#sk-158b2ae6-7383-4f7d-aa88-0cf8e5c9e007 div.sk-toggleable {background-color: white;}#sk-158b2ae6-7383-4f7d-aa88-0cf8e5c9e007 label.sk-toggleable__label {cursor: pointer;display: block;width: 100%;margin-bottom: 0;padding: 0.3em;box-sizing: border-box;text-align: center;}#sk-158b2ae6-7383-4f7d-aa88-0cf8e5c9e007 label.sk-toggleable__label-arrow:before {content: \"▸\";float: left;margin-right: 0.25em;color: #696969;}#sk-158b2ae6-7383-4f7d-aa88-0cf8e5c9e007 label.sk-toggleable__label-arrow:hover:before {color: black;}#sk-158b2ae6-7383-4f7d-aa88-0cf8e5c9e007 div.sk-estimator:hover label.sk-toggleable__label-arrow:before {color: black;}#sk-158b2ae6-7383-4f7d-aa88-0cf8e5c9e007 div.sk-toggleable__content {max-height: 0;max-width: 0;overflow: hidden;text-align: left;background-color: #f0f8ff;}#sk-158b2ae6-7383-4f7d-aa88-0cf8e5c9e007 div.sk-toggleable__content pre {margin: 0.2em;color: black;border-radius: 0.25em;background-color: #f0f8ff;}#sk-158b2ae6-7383-4f7d-aa88-0cf8e5c9e007 input.sk-toggleable__control:checked~div.sk-toggleable__content {max-height: 200px;max-width: 100%;overflow: auto;}#sk-158b2ae6-7383-4f7d-aa88-0cf8e5c9e007 input.sk-toggleable__control:checked~label.sk-toggleable__label-arrow:before {content: \"▾\";}#sk-158b2ae6-7383-4f7d-aa88-0cf8e5c9e007 div.sk-estimator input.sk-toggleable__control:checked~label.sk-toggleable__label {background-color: #d4ebff;}#sk-158b2ae6-7383-4f7d-aa88-0cf8e5c9e007 div.sk-label input.sk-toggleable__control:checked~label.sk-toggleable__label {background-color: #d4ebff;}#sk-158b2ae6-7383-4f7d-aa88-0cf8e5c9e007 input.sk-hidden--visually {border: 0;clip: rect(1px 1px 1px 1px);clip: rect(1px, 1px, 1px, 1px);height: 1px;margin: -1px;overflow: hidden;padding: 0;position: absolute;width: 1px;}#sk-158b2ae6-7383-4f7d-aa88-0cf8e5c9e007 div.sk-estimator {font-family: monospace;background-color: #f0f8ff;border: 1px dotted black;border-radius: 0.25em;box-sizing: border-box;margin-bottom: 0.5em;}#sk-158b2ae6-7383-4f7d-aa88-0cf8e5c9e007 div.sk-estimator:hover {background-color: #d4ebff;}#sk-158b2ae6-7383-4f7d-aa88-0cf8e5c9e007 div.sk-parallel-item::after {content: \"\";width: 100%;border-bottom: 1px solid gray;flex-grow: 1;}#sk-158b2ae6-7383-4f7d-aa88-0cf8e5c9e007 div.sk-label:hover label.sk-toggleable__label {background-color: #d4ebff;}#sk-158b2ae6-7383-4f7d-aa88-0cf8e5c9e007 div.sk-serial::before {content: \"\";position: absolute;border-left: 1px solid gray;box-sizing: border-box;top: 2em;bottom: 0;left: 50%;}#sk-158b2ae6-7383-4f7d-aa88-0cf8e5c9e007 div.sk-serial {display: flex;flex-direction: column;align-items: center;background-color: white;padding-right: 0.2em;padding-left: 0.2em;}#sk-158b2ae6-7383-4f7d-aa88-0cf8e5c9e007 div.sk-item {z-index: 1;}#sk-158b2ae6-7383-4f7d-aa88-0cf8e5c9e007 div.sk-parallel {display: flex;align-items: stretch;justify-content: center;background-color: white;}#sk-158b2ae6-7383-4f7d-aa88-0cf8e5c9e007 div.sk-parallel::before {content: \"\";position: absolute;border-left: 1px solid gray;box-sizing: border-box;top: 2em;bottom: 0;left: 50%;}#sk-158b2ae6-7383-4f7d-aa88-0cf8e5c9e007 div.sk-parallel-item {display: flex;flex-direction: column;position: relative;background-color: white;}#sk-158b2ae6-7383-4f7d-aa88-0cf8e5c9e007 div.sk-parallel-item:first-child::after {align-self: flex-end;width: 50%;}#sk-158b2ae6-7383-4f7d-aa88-0cf8e5c9e007 div.sk-parallel-item:last-child::after {align-self: flex-start;width: 50%;}#sk-158b2ae6-7383-4f7d-aa88-0cf8e5c9e007 div.sk-parallel-item:only-child::after {width: 0;}#sk-158b2ae6-7383-4f7d-aa88-0cf8e5c9e007 div.sk-dashed-wrapped {border: 1px dashed gray;margin: 0 0.4em 0.5em 0.4em;box-sizing: border-box;padding-bottom: 0.4em;background-color: white;position: relative;}#sk-158b2ae6-7383-4f7d-aa88-0cf8e5c9e007 div.sk-label label {font-family: monospace;font-weight: bold;background-color: white;display: inline-block;line-height: 1.2em;}#sk-158b2ae6-7383-4f7d-aa88-0cf8e5c9e007 div.sk-label-container {position: relative;z-index: 2;text-align: center;}#sk-158b2ae6-7383-4f7d-aa88-0cf8e5c9e007 div.sk-container {/* jupyter's `normalize.less` sets `[hidden] { display: none; }` but bootstrap.min.css set `[hidden] { display: none !important; }` so we also need the `!important` here to be able to override the default hidden behavior on the sphinx rendered scikit-learn.org. See: https://github.com/scikit-learn/scikit-learn/issues/21755 */display: inline-block !important;position: relative;}#sk-158b2ae6-7383-4f7d-aa88-0cf8e5c9e007 div.sk-text-repr-fallback {display: none;}</style><div id=\"sk-158b2ae6-7383-4f7d-aa88-0cf8e5c9e007\" class=\"sk-top-container\"><div class=\"sk-text-repr-fallback\"><pre>Pipeline(steps=[(&#x27;columntransformer&#x27;,\n",
              "                 ColumnTransformer(transformers=[(&#x27;one-hot-encoder&#x27;,\n",
              "                                                  OneHotEncoder(handle_unknown=&#x27;ignore&#x27;),\n",
              "                                                  [&#x27;workclass&#x27;, &#x27;education&#x27;,\n",
              "                                                   &#x27;marital-status&#x27;,\n",
              "                                                   &#x27;occupation&#x27;, &#x27;relationship&#x27;,\n",
              "                                                   &#x27;race&#x27;, &#x27;sex&#x27;,\n",
              "                                                   &#x27;native-country&#x27;]),\n",
              "                                                 (&#x27;standard_scaler&#x27;,\n",
              "                                                  StandardScaler(),\n",
              "                                                  [&#x27;age&#x27;, &#x27;fnlwgt&#x27;,\n",
              "                                                   &#x27;capital-gain&#x27;,\n",
              "                                                   &#x27;capital-loss&#x27;,\n",
              "                                                   &#x27;hours-per-week&#x27;])])),\n",
              "                (&#x27;logisticregression&#x27;, LogisticRegression(max_iter=500))])</pre><b>Please rerun this cell to show the HTML repr or trust the notebook.</b></div><div class=\"sk-container\" hidden><div class=\"sk-item sk-dashed-wrapped\"><div class=\"sk-label-container\"><div class=\"sk-label sk-toggleable\"><input class=\"sk-toggleable__control sk-hidden--visually\" id=\"8620fd95-8142-4485-b74b-3c4671892ea5\" type=\"checkbox\" ><label for=\"8620fd95-8142-4485-b74b-3c4671892ea5\" class=\"sk-toggleable__label sk-toggleable__label-arrow\">Pipeline</label><div class=\"sk-toggleable__content\"><pre>Pipeline(steps=[(&#x27;columntransformer&#x27;,\n",
              "                 ColumnTransformer(transformers=[(&#x27;one-hot-encoder&#x27;,\n",
              "                                                  OneHotEncoder(handle_unknown=&#x27;ignore&#x27;),\n",
              "                                                  [&#x27;workclass&#x27;, &#x27;education&#x27;,\n",
              "                                                   &#x27;marital-status&#x27;,\n",
              "                                                   &#x27;occupation&#x27;, &#x27;relationship&#x27;,\n",
              "                                                   &#x27;race&#x27;, &#x27;sex&#x27;,\n",
              "                                                   &#x27;native-country&#x27;]),\n",
              "                                                 (&#x27;standard_scaler&#x27;,\n",
              "                                                  StandardScaler(),\n",
              "                                                  [&#x27;age&#x27;, &#x27;fnlwgt&#x27;,\n",
              "                                                   &#x27;capital-gain&#x27;,\n",
              "                                                   &#x27;capital-loss&#x27;,\n",
              "                                                   &#x27;hours-per-week&#x27;])])),\n",
              "                (&#x27;logisticregression&#x27;, LogisticRegression(max_iter=500))])</pre></div></div></div><div class=\"sk-serial\"><div class=\"sk-item sk-dashed-wrapped\"><div class=\"sk-label-container\"><div class=\"sk-label sk-toggleable\"><input class=\"sk-toggleable__control sk-hidden--visually\" id=\"0d694dc0-5425-45c9-a95f-c134d50b71a1\" type=\"checkbox\" ><label for=\"0d694dc0-5425-45c9-a95f-c134d50b71a1\" class=\"sk-toggleable__label sk-toggleable__label-arrow\">columntransformer: ColumnTransformer</label><div class=\"sk-toggleable__content\"><pre>ColumnTransformer(transformers=[(&#x27;one-hot-encoder&#x27;,\n",
              "                                 OneHotEncoder(handle_unknown=&#x27;ignore&#x27;),\n",
              "                                 [&#x27;workclass&#x27;, &#x27;education&#x27;, &#x27;marital-status&#x27;,\n",
              "                                  &#x27;occupation&#x27;, &#x27;relationship&#x27;, &#x27;race&#x27;, &#x27;sex&#x27;,\n",
              "                                  &#x27;native-country&#x27;]),\n",
              "                                (&#x27;standard_scaler&#x27;, StandardScaler(),\n",
              "                                 [&#x27;age&#x27;, &#x27;fnlwgt&#x27;, &#x27;capital-gain&#x27;,\n",
              "                                  &#x27;capital-loss&#x27;, &#x27;hours-per-week&#x27;])])</pre></div></div></div><div class=\"sk-parallel\"><div class=\"sk-parallel-item\"><div class=\"sk-item\"><div class=\"sk-label-container\"><div class=\"sk-label sk-toggleable\"><input class=\"sk-toggleable__control sk-hidden--visually\" id=\"51befeb1-a29d-4c49-ae02-cf6f76127d48\" type=\"checkbox\" ><label for=\"51befeb1-a29d-4c49-ae02-cf6f76127d48\" class=\"sk-toggleable__label sk-toggleable__label-arrow\">one-hot-encoder</label><div class=\"sk-toggleable__content\"><pre>[&#x27;workclass&#x27;, &#x27;education&#x27;, &#x27;marital-status&#x27;, &#x27;occupation&#x27;, &#x27;relationship&#x27;, &#x27;race&#x27;, &#x27;sex&#x27;, &#x27;native-country&#x27;]</pre></div></div></div><div class=\"sk-serial\"><div class=\"sk-item\"><div class=\"sk-estimator sk-toggleable\"><input class=\"sk-toggleable__control sk-hidden--visually\" id=\"a33d1533-e55a-443f-924b-2a385df77098\" type=\"checkbox\" ><label for=\"a33d1533-e55a-443f-924b-2a385df77098\" class=\"sk-toggleable__label sk-toggleable__label-arrow\">OneHotEncoder</label><div class=\"sk-toggleable__content\"><pre>OneHotEncoder(handle_unknown=&#x27;ignore&#x27;)</pre></div></div></div></div></div></div><div class=\"sk-parallel-item\"><div class=\"sk-item\"><div class=\"sk-label-container\"><div class=\"sk-label sk-toggleable\"><input class=\"sk-toggleable__control sk-hidden--visually\" id=\"58a731ad-9388-45d2-801f-7aa55e212bd8\" type=\"checkbox\" ><label for=\"58a731ad-9388-45d2-801f-7aa55e212bd8\" class=\"sk-toggleable__label sk-toggleable__label-arrow\">standard_scaler</label><div class=\"sk-toggleable__content\"><pre>[&#x27;age&#x27;, &#x27;fnlwgt&#x27;, &#x27;capital-gain&#x27;, &#x27;capital-loss&#x27;, &#x27;hours-per-week&#x27;]</pre></div></div></div><div class=\"sk-serial\"><div class=\"sk-item\"><div class=\"sk-estimator sk-toggleable\"><input class=\"sk-toggleable__control sk-hidden--visually\" id=\"3971d2b3-37cb-4939-b40a-a0eaa3df894a\" type=\"checkbox\" ><label for=\"3971d2b3-37cb-4939-b40a-a0eaa3df894a\" class=\"sk-toggleable__label sk-toggleable__label-arrow\">StandardScaler</label><div class=\"sk-toggleable__content\"><pre>StandardScaler()</pre></div></div></div></div></div></div></div></div><div class=\"sk-item\"><div class=\"sk-estimator sk-toggleable\"><input class=\"sk-toggleable__control sk-hidden--visually\" id=\"511cd0aa-3521-4b16-816b-a6c2c73bfd2c\" type=\"checkbox\" ><label for=\"511cd0aa-3521-4b16-816b-a6c2c73bfd2c\" class=\"sk-toggleable__label sk-toggleable__label-arrow\">LogisticRegression</label><div class=\"sk-toggleable__content\"><pre>LogisticRegression(max_iter=500)</pre></div></div></div></div></div></div></div>"
            ]
          },
          "metadata": {},
          "execution_count": 77
        }
      ]
    },
    {
      "cell_type": "markdown",
      "source": [
        "The final model is more complex than the previous models but still follows\n",
        "the same API (the same set of methods that can be called by the user):\n",
        "\n",
        "- the `fit` method is called to preprocess the data and then train the\n",
        "  classifier of the preprocessed data;\n",
        "- the `predict` method makes predictions on new data;\n",
        "- the `score` method is used to predict on the test data and compare the\n",
        "  predictions to the expected test labels to compute the accuracy.\n",
        "\n",
        "Let's start by splitting our data into train and test sets."
      ],
      "metadata": {
        "id": "xSGWXx4vvTHX"
      }
    },
    {
      "cell_type": "code",
      "source": [
        "from sklearn.model_selection import train_test_split\n",
        "\n",
        "data_train, data_test, target_train, target_test = train_test_split(\n",
        "    data, target, random_state=42)"
      ],
      "metadata": {
        "id": "9TzAz0O1vO22"
      },
      "execution_count": 78,
      "outputs": []
    },
    {
      "cell_type": "markdown",
      "source": [
        "\n",
        "<div class=\"admonition caution alert alert-warning\">\n",
        "<p class=\"first admonition-title\" style=\"font-weight: bold;\">Caution!</p>\n",
        "<p class=\"last\">Be aware that we use <tt class=\"docutils literal\">train_test_split</tt> here for didactic purposes, to show\n",
        "the scikit-learn API.</p>\n",
        "</div>\n",
        "\n",
        "Now, we can train the model on the train set."
      ],
      "metadata": {
        "id": "kIO_Ru-FvhEb"
      }
    },
    {
      "cell_type": "code",
      "source": [
        "_ = model.fit(data_train, target_train)"
      ],
      "metadata": {
        "id": "KPyjho3EvgZN"
      },
      "execution_count": 79,
      "outputs": []
    },
    {
      "cell_type": "markdown",
      "source": [
        "Then, we can send the raw dataset straight to the pipeline. Indeed, we do not\n",
        "need to make any manual preprocessing (calling the `transform` or\n",
        "`fit_transform` methods) as it will be handled when calling the `predict`\n",
        "method. As an example, we predict on the five first samples from the test\n",
        "set."
      ],
      "metadata": {
        "id": "m2LKof7svtuU"
      }
    },
    {
      "cell_type": "code",
      "source": [
        "data_test.head()"
      ],
      "metadata": {
        "colab": {
          "base_uri": "https://localhost:8080/",
          "height": 392
        },
        "id": "crKieOwOvmm-",
        "outputId": "e9610e52-888d-4f2c-896c-efc04a28a833"
      },
      "execution_count": 80,
      "outputs": [
        {
          "output_type": "execute_result",
          "data": {
            "text/plain": [
              "       age workclass  fnlwgt   education       marital-status  \\\n",
              "7762    56   Private   33115     HS-grad             Divorced   \n",
              "23881   25   Private  112847     HS-grad   Married-civ-spouse   \n",
              "30507   43   Private  170525   Bachelors             Divorced   \n",
              "28911   32   Private  186788     HS-grad   Married-civ-spouse   \n",
              "19484   39   Private  277886   Bachelors   Married-civ-spouse   \n",
              "\n",
              "              occupation    relationship    race      sex  capital-gain  \\\n",
              "7762       Other-service       Unmarried   White   Female             0   \n",
              "23881   Transport-moving       Own-child   Other     Male             0   \n",
              "30507     Prof-specialty   Not-in-family   White   Female         14344   \n",
              "28911   Transport-moving         Husband   White     Male             0   \n",
              "19484              Sales            Wife   White   Female             0   \n",
              "\n",
              "       capital-loss  hours-per-week  native-country  \n",
              "7762              0              40   United-States  \n",
              "23881             0              40   United-States  \n",
              "30507             0              40   United-States  \n",
              "28911             0              40   United-States  \n",
              "19484             0              30   United-States  "
            ],
            "text/html": [
              "\n",
              "  <div id=\"df-60a89841-0646-43b9-aa6f-a5e78ccf8a57\">\n",
              "    <div class=\"colab-df-container\">\n",
              "      <div>\n",
              "<style scoped>\n",
              "    .dataframe tbody tr th:only-of-type {\n",
              "        vertical-align: middle;\n",
              "    }\n",
              "\n",
              "    .dataframe tbody tr th {\n",
              "        vertical-align: top;\n",
              "    }\n",
              "\n",
              "    .dataframe thead th {\n",
              "        text-align: right;\n",
              "    }\n",
              "</style>\n",
              "<table border=\"1\" class=\"dataframe\">\n",
              "  <thead>\n",
              "    <tr style=\"text-align: right;\">\n",
              "      <th></th>\n",
              "      <th>age</th>\n",
              "      <th>workclass</th>\n",
              "      <th>fnlwgt</th>\n",
              "      <th>education</th>\n",
              "      <th>marital-status</th>\n",
              "      <th>occupation</th>\n",
              "      <th>relationship</th>\n",
              "      <th>race</th>\n",
              "      <th>sex</th>\n",
              "      <th>capital-gain</th>\n",
              "      <th>capital-loss</th>\n",
              "      <th>hours-per-week</th>\n",
              "      <th>native-country</th>\n",
              "    </tr>\n",
              "  </thead>\n",
              "  <tbody>\n",
              "    <tr>\n",
              "      <th>7762</th>\n",
              "      <td>56</td>\n",
              "      <td>Private</td>\n",
              "      <td>33115</td>\n",
              "      <td>HS-grad</td>\n",
              "      <td>Divorced</td>\n",
              "      <td>Other-service</td>\n",
              "      <td>Unmarried</td>\n",
              "      <td>White</td>\n",
              "      <td>Female</td>\n",
              "      <td>0</td>\n",
              "      <td>0</td>\n",
              "      <td>40</td>\n",
              "      <td>United-States</td>\n",
              "    </tr>\n",
              "    <tr>\n",
              "      <th>23881</th>\n",
              "      <td>25</td>\n",
              "      <td>Private</td>\n",
              "      <td>112847</td>\n",
              "      <td>HS-grad</td>\n",
              "      <td>Married-civ-spouse</td>\n",
              "      <td>Transport-moving</td>\n",
              "      <td>Own-child</td>\n",
              "      <td>Other</td>\n",
              "      <td>Male</td>\n",
              "      <td>0</td>\n",
              "      <td>0</td>\n",
              "      <td>40</td>\n",
              "      <td>United-States</td>\n",
              "    </tr>\n",
              "    <tr>\n",
              "      <th>30507</th>\n",
              "      <td>43</td>\n",
              "      <td>Private</td>\n",
              "      <td>170525</td>\n",
              "      <td>Bachelors</td>\n",
              "      <td>Divorced</td>\n",
              "      <td>Prof-specialty</td>\n",
              "      <td>Not-in-family</td>\n",
              "      <td>White</td>\n",
              "      <td>Female</td>\n",
              "      <td>14344</td>\n",
              "      <td>0</td>\n",
              "      <td>40</td>\n",
              "      <td>United-States</td>\n",
              "    </tr>\n",
              "    <tr>\n",
              "      <th>28911</th>\n",
              "      <td>32</td>\n",
              "      <td>Private</td>\n",
              "      <td>186788</td>\n",
              "      <td>HS-grad</td>\n",
              "      <td>Married-civ-spouse</td>\n",
              "      <td>Transport-moving</td>\n",
              "      <td>Husband</td>\n",
              "      <td>White</td>\n",
              "      <td>Male</td>\n",
              "      <td>0</td>\n",
              "      <td>0</td>\n",
              "      <td>40</td>\n",
              "      <td>United-States</td>\n",
              "    </tr>\n",
              "    <tr>\n",
              "      <th>19484</th>\n",
              "      <td>39</td>\n",
              "      <td>Private</td>\n",
              "      <td>277886</td>\n",
              "      <td>Bachelors</td>\n",
              "      <td>Married-civ-spouse</td>\n",
              "      <td>Sales</td>\n",
              "      <td>Wife</td>\n",
              "      <td>White</td>\n",
              "      <td>Female</td>\n",
              "      <td>0</td>\n",
              "      <td>0</td>\n",
              "      <td>30</td>\n",
              "      <td>United-States</td>\n",
              "    </tr>\n",
              "  </tbody>\n",
              "</table>\n",
              "</div>\n",
              "      <button class=\"colab-df-convert\" onclick=\"convertToInteractive('df-60a89841-0646-43b9-aa6f-a5e78ccf8a57')\"\n",
              "              title=\"Convert this dataframe to an interactive table.\"\n",
              "              style=\"display:none;\">\n",
              "        \n",
              "  <svg xmlns=\"http://www.w3.org/2000/svg\" height=\"24px\"viewBox=\"0 0 24 24\"\n",
              "       width=\"24px\">\n",
              "    <path d=\"M0 0h24v24H0V0z\" fill=\"none\"/>\n",
              "    <path d=\"M18.56 5.44l.94 2.06.94-2.06 2.06-.94-2.06-.94-.94-2.06-.94 2.06-2.06.94zm-11 1L8.5 8.5l.94-2.06 2.06-.94-2.06-.94L8.5 2.5l-.94 2.06-2.06.94zm10 10l.94 2.06.94-2.06 2.06-.94-2.06-.94-.94-2.06-.94 2.06-2.06.94z\"/><path d=\"M17.41 7.96l-1.37-1.37c-.4-.4-.92-.59-1.43-.59-.52 0-1.04.2-1.43.59L10.3 9.45l-7.72 7.72c-.78.78-.78 2.05 0 2.83L4 21.41c.39.39.9.59 1.41.59.51 0 1.02-.2 1.41-.59l7.78-7.78 2.81-2.81c.8-.78.8-2.07 0-2.86zM5.41 20L4 18.59l7.72-7.72 1.47 1.35L5.41 20z\"/>\n",
              "  </svg>\n",
              "      </button>\n",
              "      \n",
              "  <style>\n",
              "    .colab-df-container {\n",
              "      display:flex;\n",
              "      flex-wrap:wrap;\n",
              "      gap: 12px;\n",
              "    }\n",
              "\n",
              "    .colab-df-convert {\n",
              "      background-color: #E8F0FE;\n",
              "      border: none;\n",
              "      border-radius: 50%;\n",
              "      cursor: pointer;\n",
              "      display: none;\n",
              "      fill: #1967D2;\n",
              "      height: 32px;\n",
              "      padding: 0 0 0 0;\n",
              "      width: 32px;\n",
              "    }\n",
              "\n",
              "    .colab-df-convert:hover {\n",
              "      background-color: #E2EBFA;\n",
              "      box-shadow: 0px 1px 2px rgba(60, 64, 67, 0.3), 0px 1px 3px 1px rgba(60, 64, 67, 0.15);\n",
              "      fill: #174EA6;\n",
              "    }\n",
              "\n",
              "    [theme=dark] .colab-df-convert {\n",
              "      background-color: #3B4455;\n",
              "      fill: #D2E3FC;\n",
              "    }\n",
              "\n",
              "    [theme=dark] .colab-df-convert:hover {\n",
              "      background-color: #434B5C;\n",
              "      box-shadow: 0px 1px 3px 1px rgba(0, 0, 0, 0.15);\n",
              "      filter: drop-shadow(0px 1px 2px rgba(0, 0, 0, 0.3));\n",
              "      fill: #FFFFFF;\n",
              "    }\n",
              "  </style>\n",
              "\n",
              "      <script>\n",
              "        const buttonEl =\n",
              "          document.querySelector('#df-60a89841-0646-43b9-aa6f-a5e78ccf8a57 button.colab-df-convert');\n",
              "        buttonEl.style.display =\n",
              "          google.colab.kernel.accessAllowed ? 'block' : 'none';\n",
              "\n",
              "        async function convertToInteractive(key) {\n",
              "          const element = document.querySelector('#df-60a89841-0646-43b9-aa6f-a5e78ccf8a57');\n",
              "          const dataTable =\n",
              "            await google.colab.kernel.invokeFunction('convertToInteractive',\n",
              "                                                     [key], {});\n",
              "          if (!dataTable) return;\n",
              "\n",
              "          const docLinkHtml = 'Like what you see? Visit the ' +\n",
              "            '<a target=\"_blank\" href=https://colab.research.google.com/notebooks/data_table.ipynb>data table notebook</a>'\n",
              "            + ' to learn more about interactive tables.';\n",
              "          element.innerHTML = '';\n",
              "          dataTable['output_type'] = 'display_data';\n",
              "          await google.colab.output.renderOutput(dataTable, element);\n",
              "          const docLink = document.createElement('div');\n",
              "          docLink.innerHTML = docLinkHtml;\n",
              "          element.appendChild(docLink);\n",
              "        }\n",
              "      </script>\n",
              "    </div>\n",
              "  </div>\n",
              "  "
            ]
          },
          "metadata": {},
          "execution_count": 80
        }
      ]
    },
    {
      "cell_type": "code",
      "source": [
        "model.predict(data_test)[:5]"
      ],
      "metadata": {
        "colab": {
          "base_uri": "https://localhost:8080/"
        },
        "id": "nAJ-EwzqvyGv",
        "outputId": "58597af2-c794-408a-dd47-1ee9cdcd9697"
      },
      "execution_count": 81,
      "outputs": [
        {
          "output_type": "execute_result",
          "data": {
            "text/plain": [
              "array([' <=50K', ' <=50K', ' >50K', ' <=50K', ' >50K'], dtype=object)"
            ]
          },
          "metadata": {},
          "execution_count": 81
        }
      ]
    },
    {
      "cell_type": "code",
      "source": [
        "target_test[:5]"
      ],
      "metadata": {
        "colab": {
          "base_uri": "https://localhost:8080/"
        },
        "id": "1N8f0iv8v0_1",
        "outputId": "88f5c3b9-7907-477e-de29-8776af473aae"
      },
      "execution_count": 82,
      "outputs": [
        {
          "output_type": "execute_result",
          "data": {
            "text/plain": [
              "7762      <=50K\n",
              "23881     <=50K\n",
              "30507      >50K\n",
              "28911     <=50K\n",
              "19484     <=50K\n",
              "Name: class, dtype: object"
            ]
          },
          "metadata": {},
          "execution_count": 82
        }
      ]
    },
    {
      "cell_type": "markdown",
      "source": [
        "To get directly the accuracy score, we need to call the `score` method. Let's\n",
        "compute the accuracy score on the entire test set."
      ],
      "metadata": {
        "id": "RlY8VVTjv55G"
      }
    },
    {
      "cell_type": "code",
      "source": [
        "model.score(data_test, target_test)"
      ],
      "metadata": {
        "colab": {
          "base_uri": "https://localhost:8080/"
        },
        "id": "HZbUEh91v3AW",
        "outputId": "ee88bce8-819c-4937-9d46-262e268ad1e0"
      },
      "execution_count": 83,
      "outputs": [
        {
          "output_type": "execute_result",
          "data": {
            "text/plain": [
              "0.8583244615510606"
            ]
          },
          "metadata": {},
          "execution_count": 83
        }
      ]
    },
    {
      "cell_type": "markdown",
      "source": [
        "### Evaluation of the model with cross-validation\n",
        "\n",
        "As previously stated, a predictive model should be evaluated by\n",
        "cross-validation. Our model is usable with the cross-validation tools of\n",
        "scikit-learn as any other predictors:"
      ],
      "metadata": {
        "id": "E_6zhx7Usd0B"
      }
    },
    {
      "cell_type": "code",
      "source": [
        "from sklearn.model_selection import cross_validate\n",
        "\n",
        "cv_results = cross_validate(model, data, target, cv=5)\n",
        "cv_results"
      ],
      "metadata": {
        "colab": {
          "base_uri": "https://localhost:8080/"
        },
        "id": "6hnm0BUSsdXO",
        "outputId": "b5860486-fc21-48fc-c37a-e33060f7fe91"
      },
      "execution_count": 84,
      "outputs": [
        {
          "output_type": "execute_result",
          "data": {
            "text/plain": [
              "{'fit_time': array([3.67044473, 1.98456478, 1.87102652, 1.99357224, 2.12234235]),\n",
              " 'score_time': array([0.05020142, 0.04882216, 0.05086136, 0.05137444, 0.04985785]),\n",
              " 'test_score': array([0.85228785, 0.85095711, 0.84920147, 0.85257985, 0.85667486])}"
            ]
          },
          "metadata": {},
          "execution_count": 84
        }
      ]
    },
    {
      "cell_type": "code",
      "source": [
        "scores = cv_results[\"test_score\"]\n",
        "print(f\"The mean cross-validation accuracy is: {scores.mean():.3f} +- {scores.std():.3f}\")"
      ],
      "metadata": {
        "colab": {
          "base_uri": "https://localhost:8080/"
        },
        "id": "DE9SLhe0v9AB",
        "outputId": "02c241f0-94c8-4582-df9b-69d42b690cc5"
      },
      "execution_count": 85,
      "outputs": [
        {
          "output_type": "stream",
          "name": "stdout",
          "text": [
            "The mean cross-validation accuracy is: 0.852 +- 0.002\n"
          ]
        }
      ]
    },
    {
      "cell_type": "markdown",
      "source": [
        "The compound model has a higher predictive accuracy than the two models that used numerical and categorical variables in isolation.\n",
        "\n"
      ],
      "metadata": {
        "id": "R1Eh95LIt9uk"
      }
    },
    {
      "cell_type": "markdown",
      "source": [
        "## Fitting a more powerful model\n",
        "\n",
        "**Linear models** are nice because they are usually cheap to train,\n",
        "**small** to deploy, **fast** to predict and give a **good baseline**.\n",
        "\n",
        "However, it is often useful to check whether more complex models such as an\n",
        "ensemble of decision trees can lead to higher predictive performance. In this\n",
        "section we will use such a model called **gradient-boosting trees** and\n",
        "evaluate its generalization performance. More precisely, the scikit-learn model\n",
        "we will use is called `HistGradientBoostingClassifier`. Note that boosting\n",
        "models will be covered in more detail in a future module.\n",
        "\n",
        "For tree-based models, the handling of numerical and categorical variables is\n",
        "simpler than for linear models:\n",
        "* we do **not need to scale the numerical features**\n",
        "* using an **ordinal encoding for the categorical variables** is fine even if\n",
        "  the encoding results in an arbitrary ordering\n",
        "\n",
        "Therefore, for `HistGradientBoostingClassifier`, the preprocessing pipeline\n",
        "is slightly simpler than the one we saw earlier for the `LogisticRegression`:"
      ],
      "metadata": {
        "id": "lQEJ651QuCg2"
      }
    },
    {
      "cell_type": "code",
      "source": [
        "from sklearn.ensemble import HistGradientBoostingClassifier\n",
        "from sklearn.preprocessing import OrdinalEncoder\n",
        "\n",
        "categorical_preprocessor = OrdinalEncoder(handle_unknown=\"use_encoded_value\",\n",
        "                                          unknown_value=-1)\n",
        "\n",
        "preprocessor = ColumnTransformer([\n",
        "    ('categorical', categorical_preprocessor, categorical_columns)],\n",
        "    remainder=\"passthrough\")\n",
        "\n",
        "model = make_pipeline(preprocessor, HistGradientBoostingClassifier())"
      ],
      "metadata": {
        "id": "lvGwlEcDt0uh"
      },
      "execution_count": 88,
      "outputs": []
    },
    {
      "cell_type": "markdown",
      "source": [
        "Now that the model is created, we can check its generalization performance."
      ],
      "metadata": {
        "id": "nKGv9vOnx2Zl"
      }
    },
    {
      "cell_type": "code",
      "source": [
        "%%time\n",
        "_ = model.fit(data_train, target_train)"
      ],
      "metadata": {
        "colab": {
          "base_uri": "https://localhost:8080/"
        },
        "id": "_qKc_chdxz4u",
        "outputId": "c7dd1060-472d-4a1c-f10f-97e59c7c582f"
      },
      "execution_count": 89,
      "outputs": [
        {
          "output_type": "stream",
          "name": "stdout",
          "text": [
            "CPU times: user 4.82 s, sys: 22.2 ms, total: 4.84 s\n",
            "Wall time: 5.05 s\n"
          ]
        }
      ]
    },
    {
      "cell_type": "code",
      "source": [
        "model.score(data_test, target_test)"
      ],
      "metadata": {
        "colab": {
          "base_uri": "https://localhost:8080/"
        },
        "id": "oFtCRbDPyHQi",
        "outputId": "4372d581-a5fa-495c-dcb8-fae289021d8f"
      },
      "execution_count": 90,
      "outputs": [
        {
          "output_type": "execute_result",
          "data": {
            "text/plain": [
              "0.8801080992547703"
            ]
          },
          "metadata": {},
          "execution_count": 90
        }
      ]
    },
    {
      "cell_type": "markdown",
      "source": [
        "We can observe that we get significantly higher accuracies with the Gradient Boosting model. This is often what we observe whenever the dataset has a large number of samples and limited number of informative features (e.g. less than 1000) with a mix of numerical and categorical variables.\n",
        "\n",
        "This explains why Gradient Boosted Machines are very popular among data science practitioners who work with tabular data."
      ],
      "metadata": {
        "id": "FD39m8Qvy2dz"
      }
    },
    {
      "cell_type": "markdown",
      "source": [
        "# 📝 Exercise\n",
        "\n",
        "The goal of this exercise is to evaluate the impact of feature preprocessing\n",
        "on a pipeline that uses a decision-tree-based classifier instead of a logistic\n",
        "regression.\n",
        "\n",
        "- The first question is to empirically evaluate whether scaling numerical\n",
        "  features is helpful or not;\n",
        "- The second question is to evaluate whether it is empirically better (both\n",
        "  from a computational and a statistical perspective) to use integer coded or\n",
        "  one-hot encoded categories.\n",
        "\n",
        "  ## Reference pipeline (no numerical scaling and integer-coded categories)\n",
        "\n",
        "First let's time the pipeline we used in the main notebook to serve as a\n",
        "reference:"
      ],
      "metadata": {
        "id": "kKawHuKqzrYf"
      }
    },
    {
      "cell_type": "code",
      "source": [
        "import time\n",
        "\n",
        "from sklearn.model_selection import cross_validate\n",
        "from sklearn.pipeline import make_pipeline\n",
        "from sklearn.compose import ColumnTransformer\n",
        "from sklearn.preprocessing import OrdinalEncoder\n",
        "from sklearn.ensemble import HistGradientBoostingClassifier\n",
        "\n",
        "categorical_preprocessor = OrdinalEncoder(handle_unknown=\"use_encoded_value\",\n",
        "                                          unknown_value=-1)\n",
        "preprocessor = ColumnTransformer([\n",
        "    ('categorical', categorical_preprocessor, categorical_columns)],\n",
        "    remainder=\"passthrough\")\n",
        "\n",
        "model = make_pipeline(preprocessor, HistGradientBoostingClassifier())\n",
        "\n",
        "start = time.time()\n",
        "cv_results = cross_validate(model, data, target)\n",
        "elapsed_time = time.time() - start\n",
        "\n",
        "scores = cv_results[\"test_score\"]\n",
        "\n",
        "print(\"The mean cross-validation accuracy is: \"\n",
        "      f\"{scores.mean():.3f} +/- {scores.std():.3f} \"\n",
        "      f\"with a fitting time of {elapsed_time:.3f}\")"
      ],
      "metadata": {
        "colab": {
          "base_uri": "https://localhost:8080/"
        },
        "id": "bjZTaolSyy8E",
        "outputId": "9c0eac88-c9a3-495d-9b19-d457d77ebcc5"
      },
      "execution_count": 91,
      "outputs": [
        {
          "output_type": "stream",
          "name": "stdout",
          "text": [
            "The mean cross-validation accuracy is: 0.873 +/- 0.003 with a fitting time of 12.072\n"
          ]
        }
      ]
    },
    {
      "cell_type": "markdown",
      "source": [
        "## Scaling numerical features\n",
        "\n",
        "Let's write a similar pipeline that also scales the numerical features using\n",
        "`StandardScaler` (or similar):"
      ],
      "metadata": {
        "id": "CLfOILKT0a7S"
      }
    },
    {
      "cell_type": "code",
      "source": [
        "# Write your code here.\n",
        "\n",
        "import time\n",
        "\n",
        "from sklearn.preprocessing import StandardScaler\n",
        "\n",
        "preprocessor = ColumnTransformer([\n",
        "    ('numerical', StandardScaler(), numerical_columns),\n",
        "    ('categorical', OrdinalEncoder(handle_unknown=\"use_encoded_value\",\n",
        "                                  unknown_value=-1),\n",
        "    categorical_columns)])\n",
        "\n",
        "model = make_pipeline(preprocessor, HistGradientBoostingClassifier())\n",
        "\n",
        "start = time.time()\n",
        "cv_result = cross_validate(model, data, target)\n",
        "elapsed_time = time.time() - start\n",
        "\n",
        "scores = cv_result[\"test_score\"]\n",
        "\n",
        "print(\"The mean corss-validation accuracy is: \"\n",
        "     f\"{scores.mean():.3f} +- {scores.std():.3f} \"\n",
        "     f\"with a fitting time of {elapsed_time:.2f} seconds\")"
      ],
      "metadata": {
        "colab": {
          "base_uri": "https://localhost:8080/"
        },
        "id": "5BsMGg7K0Iu2",
        "outputId": "7ee684d5-e05c-4d0b-d809-7a075ae4ca27"
      },
      "execution_count": 92,
      "outputs": [
        {
          "output_type": "stream",
          "name": "stdout",
          "text": [
            "The mean corss-validation accuracy is: 0.874 +- 0.002 with a fitting time of 11.79 seconds\n"
          ]
        }
      ]
    },
    {
      "cell_type": "markdown",
      "source": [
        "### Analysis\n",
        "We can observe that both the accuracy and the training time are approximately the same as the reference pipeline (any time difference you might observe is not significant).\n",
        "\n",
        "Scaling numerical features is indeed useless for most decision tree models in general and for `HistGradientBoostingClassifier` in particular.\n",
        "\n",
        "### One-hot encoding of categorical variables\n",
        "\n",
        "We observed that integer coding of categorical variables can be very\n",
        "detrimental for linear models. However, it does not seem to be the case for\n",
        "`HistGradientBoostingClassifier` models, as the cross-validation score\n",
        "of the reference pipeline with `OrdinalEncoder` is reasonably good.\n",
        "\n",
        "Let's see if we can get an even better accuracy with `OneHotEncoder`.\n",
        "\n",
        "Hint: `HistGradientBoostingClassifier` does not yet support sparse input\n",
        "data. You might want to use\n",
        "`OneHotEncoder(handle_unknown=\"ignore\", sparse=False)` to force the use of a\n",
        "dense representation as a workaround.\n",
        "\n"
      ],
      "metadata": {
        "id": "0MPlsUBe2nn2"
      }
    },
    {
      "cell_type": "code",
      "source": [
        "# Write your code here.\n",
        "import time\n",
        "from sklearn.preprocessing import OneHotEncoder\n",
        "\n",
        "categorical_preprocessor = OneHotEncoder(handle_unknown=\"ignore\", sparse=False)\n",
        "preprocessor = ColumnTransformer([\n",
        "    ('one-hot-encoder', categorical_preprocessor, categorical_columns)],\n",
        "    remainder=\"passthrough\")\n",
        "model = make_pipeline(preprocessor, HistGradientBoostingClassifier())\n",
        "\n",
        "start = time.time()\n",
        "cv_result = cross_validate(model, data, target)\n",
        "elapsed_time = time.time() - start\n",
        "\n",
        "scores = cv_results[\"test_score\"]\n",
        "\n",
        "print(\"The mean cross-validation accuracy is: \"\n",
        "     f\"{scores.mean():.3f} +- {scores.std():.3f} \"\n",
        "     f\"with a fitting time of {elapsed_time:.3f} seconds.\")\n"
      ],
      "metadata": {
        "colab": {
          "base_uri": "https://localhost:8080/"
        },
        "id": "3r5FUrjk2atC",
        "outputId": "4c5e7bb0-50c5-48fd-d5c6-1ec98ce782c0"
      },
      "execution_count": 93,
      "outputs": [
        {
          "output_type": "stream",
          "name": "stdout",
          "text": [
            "The mean cross-validation accuracy is: 0.873 +- 0.003 with a fitting time of 22.767 seconds.\n"
          ]
        }
      ]
    },
    {
      "cell_type": "code",
      "source": [
        ""
      ],
      "metadata": {
        "id": "_UKVSXNL50ec"
      },
      "execution_count": null,
      "outputs": []
    }
  ]
}