{
  "nbformat": 4,
  "nbformat_minor": 0,
  "metadata": {
    "colab": {
      "name": "Predictive_Modeling_Pipeline.ipynb",
      "provenance": [],
      "collapsed_sections": [
        "4l_nQK2H1hpg"
      ],
      "authorship_tag": "ABX9TyOMhfhsc3W3b0cC0ixCEWuS",
      "include_colab_link": true
    },
    "kernelspec": {
      "name": "python3",
      "display_name": "Python 3"
    },
    "language_info": {
      "name": "python"
    }
  },
  "cells": [
    {
      "cell_type": "markdown",
      "metadata": {
        "id": "view-in-github",
        "colab_type": "text"
      },
      "source": [
        "<a href=\"https://colab.research.google.com/github/GabeMaldonado/sklearn_FUN/blob/main/Predictive_Modeling_Pipeline.ipynb\" target=\"_parent\"><img src=\"https://colab.research.google.com/assets/colab-badge.svg\" alt=\"Open In Colab\"/></a>"
      ]
    },
    {
      "cell_type": "markdown",
      "source": [
        "## Building a model with sklearn\n",
        "\n",
        "Build a predictive model on a tabular dataset using only numerical features."
      ],
      "metadata": {
        "id": "0kHgliEKlIfw"
      }
    },
    {
      "cell_type": "code",
      "source": [
        "import pandas as pd\n",
        "import numpy as np\n",
        "import matplotlib.pyplot as plt\n",
        "import seaborn as sns"
      ],
      "metadata": {
        "id": "Le_JTDmplbAF"
      },
      "execution_count": 1,
      "outputs": []
    },
    {
      "cell_type": "code",
      "execution_count": 2,
      "metadata": {
        "colab": {
          "base_uri": "https://localhost:8080/",
          "height": 392
        },
        "id": "0ifBy4Gcj8Tp",
        "outputId": "d593ad68-7c67-443c-ae77-95c80d0f4d8b"
      },
      "outputs": [
        {
          "output_type": "execute_result",
          "data": {
            "text/plain": [
              "       age     workclass  fnlwgt      education  education-num  \\\n",
              "15919   37       Private  171393        HS-grad              9   \n",
              "41037   54   Federal-gov   35576   Some-college             10   \n",
              "24156   47   Federal-gov  224559        HS-grad              9   \n",
              "28698   34       Private  405386   Some-college             10   \n",
              "34968   36       Private   35429   Some-college             10   \n",
              "\n",
              "            marital-status         occupation    relationship    race    sex  \\\n",
              "15919   Married-civ-spouse              Sales         Husband   White   Male   \n",
              "41037   Married-civ-spouse       Craft-repair         Husband   White   Male   \n",
              "24156   Married-civ-spouse   Transport-moving         Husband   Black   Male   \n",
              "28698        Never-married       Craft-repair   Not-in-family   Black   Male   \n",
              "34968   Married-civ-spouse    Exec-managerial         Husband   White   Male   \n",
              "\n",
              "       capital-gain  capital-loss  hours-per-week  native-country   class  \n",
              "15919             0          1740              40   United-States   <=50K  \n",
              "41037             0             0              40   United-States   <=50K  \n",
              "24156             0             0              40   United-States    >50K  \n",
              "28698             0             0              28   United-States   <=50K  \n",
              "34968             0             0              60   United-States   <=50K  "
            ],
            "text/html": [
              "\n",
              "  <div id=\"df-68338995-13d4-4858-aa3c-1d301ce21665\">\n",
              "    <div class=\"colab-df-container\">\n",
              "      <div>\n",
              "<style scoped>\n",
              "    .dataframe tbody tr th:only-of-type {\n",
              "        vertical-align: middle;\n",
              "    }\n",
              "\n",
              "    .dataframe tbody tr th {\n",
              "        vertical-align: top;\n",
              "    }\n",
              "\n",
              "    .dataframe thead th {\n",
              "        text-align: right;\n",
              "    }\n",
              "</style>\n",
              "<table border=\"1\" class=\"dataframe\">\n",
              "  <thead>\n",
              "    <tr style=\"text-align: right;\">\n",
              "      <th></th>\n",
              "      <th>age</th>\n",
              "      <th>workclass</th>\n",
              "      <th>fnlwgt</th>\n",
              "      <th>education</th>\n",
              "      <th>education-num</th>\n",
              "      <th>marital-status</th>\n",
              "      <th>occupation</th>\n",
              "      <th>relationship</th>\n",
              "      <th>race</th>\n",
              "      <th>sex</th>\n",
              "      <th>capital-gain</th>\n",
              "      <th>capital-loss</th>\n",
              "      <th>hours-per-week</th>\n",
              "      <th>native-country</th>\n",
              "      <th>class</th>\n",
              "    </tr>\n",
              "  </thead>\n",
              "  <tbody>\n",
              "    <tr>\n",
              "      <th>15919</th>\n",
              "      <td>37</td>\n",
              "      <td>Private</td>\n",
              "      <td>171393</td>\n",
              "      <td>HS-grad</td>\n",
              "      <td>9</td>\n",
              "      <td>Married-civ-spouse</td>\n",
              "      <td>Sales</td>\n",
              "      <td>Husband</td>\n",
              "      <td>White</td>\n",
              "      <td>Male</td>\n",
              "      <td>0</td>\n",
              "      <td>1740</td>\n",
              "      <td>40</td>\n",
              "      <td>United-States</td>\n",
              "      <td>&lt;=50K</td>\n",
              "    </tr>\n",
              "    <tr>\n",
              "      <th>41037</th>\n",
              "      <td>54</td>\n",
              "      <td>Federal-gov</td>\n",
              "      <td>35576</td>\n",
              "      <td>Some-college</td>\n",
              "      <td>10</td>\n",
              "      <td>Married-civ-spouse</td>\n",
              "      <td>Craft-repair</td>\n",
              "      <td>Husband</td>\n",
              "      <td>White</td>\n",
              "      <td>Male</td>\n",
              "      <td>0</td>\n",
              "      <td>0</td>\n",
              "      <td>40</td>\n",
              "      <td>United-States</td>\n",
              "      <td>&lt;=50K</td>\n",
              "    </tr>\n",
              "    <tr>\n",
              "      <th>24156</th>\n",
              "      <td>47</td>\n",
              "      <td>Federal-gov</td>\n",
              "      <td>224559</td>\n",
              "      <td>HS-grad</td>\n",
              "      <td>9</td>\n",
              "      <td>Married-civ-spouse</td>\n",
              "      <td>Transport-moving</td>\n",
              "      <td>Husband</td>\n",
              "      <td>Black</td>\n",
              "      <td>Male</td>\n",
              "      <td>0</td>\n",
              "      <td>0</td>\n",
              "      <td>40</td>\n",
              "      <td>United-States</td>\n",
              "      <td>&gt;50K</td>\n",
              "    </tr>\n",
              "    <tr>\n",
              "      <th>28698</th>\n",
              "      <td>34</td>\n",
              "      <td>Private</td>\n",
              "      <td>405386</td>\n",
              "      <td>Some-college</td>\n",
              "      <td>10</td>\n",
              "      <td>Never-married</td>\n",
              "      <td>Craft-repair</td>\n",
              "      <td>Not-in-family</td>\n",
              "      <td>Black</td>\n",
              "      <td>Male</td>\n",
              "      <td>0</td>\n",
              "      <td>0</td>\n",
              "      <td>28</td>\n",
              "      <td>United-States</td>\n",
              "      <td>&lt;=50K</td>\n",
              "    </tr>\n",
              "    <tr>\n",
              "      <th>34968</th>\n",
              "      <td>36</td>\n",
              "      <td>Private</td>\n",
              "      <td>35429</td>\n",
              "      <td>Some-college</td>\n",
              "      <td>10</td>\n",
              "      <td>Married-civ-spouse</td>\n",
              "      <td>Exec-managerial</td>\n",
              "      <td>Husband</td>\n",
              "      <td>White</td>\n",
              "      <td>Male</td>\n",
              "      <td>0</td>\n",
              "      <td>0</td>\n",
              "      <td>60</td>\n",
              "      <td>United-States</td>\n",
              "      <td>&lt;=50K</td>\n",
              "    </tr>\n",
              "  </tbody>\n",
              "</table>\n",
              "</div>\n",
              "      <button class=\"colab-df-convert\" onclick=\"convertToInteractive('df-68338995-13d4-4858-aa3c-1d301ce21665')\"\n",
              "              title=\"Convert this dataframe to an interactive table.\"\n",
              "              style=\"display:none;\">\n",
              "        \n",
              "  <svg xmlns=\"http://www.w3.org/2000/svg\" height=\"24px\"viewBox=\"0 0 24 24\"\n",
              "       width=\"24px\">\n",
              "    <path d=\"M0 0h24v24H0V0z\" fill=\"none\"/>\n",
              "    <path d=\"M18.56 5.44l.94 2.06.94-2.06 2.06-.94-2.06-.94-.94-2.06-.94 2.06-2.06.94zm-11 1L8.5 8.5l.94-2.06 2.06-.94-2.06-.94L8.5 2.5l-.94 2.06-2.06.94zm10 10l.94 2.06.94-2.06 2.06-.94-2.06-.94-.94-2.06-.94 2.06-2.06.94z\"/><path d=\"M17.41 7.96l-1.37-1.37c-.4-.4-.92-.59-1.43-.59-.52 0-1.04.2-1.43.59L10.3 9.45l-7.72 7.72c-.78.78-.78 2.05 0 2.83L4 21.41c.39.39.9.59 1.41.59.51 0 1.02-.2 1.41-.59l7.78-7.78 2.81-2.81c.8-.78.8-2.07 0-2.86zM5.41 20L4 18.59l7.72-7.72 1.47 1.35L5.41 20z\"/>\n",
              "  </svg>\n",
              "      </button>\n",
              "      \n",
              "  <style>\n",
              "    .colab-df-container {\n",
              "      display:flex;\n",
              "      flex-wrap:wrap;\n",
              "      gap: 12px;\n",
              "    }\n",
              "\n",
              "    .colab-df-convert {\n",
              "      background-color: #E8F0FE;\n",
              "      border: none;\n",
              "      border-radius: 50%;\n",
              "      cursor: pointer;\n",
              "      display: none;\n",
              "      fill: #1967D2;\n",
              "      height: 32px;\n",
              "      padding: 0 0 0 0;\n",
              "      width: 32px;\n",
              "    }\n",
              "\n",
              "    .colab-df-convert:hover {\n",
              "      background-color: #E2EBFA;\n",
              "      box-shadow: 0px 1px 2px rgba(60, 64, 67, 0.3), 0px 1px 3px 1px rgba(60, 64, 67, 0.15);\n",
              "      fill: #174EA6;\n",
              "    }\n",
              "\n",
              "    [theme=dark] .colab-df-convert {\n",
              "      background-color: #3B4455;\n",
              "      fill: #D2E3FC;\n",
              "    }\n",
              "\n",
              "    [theme=dark] .colab-df-convert:hover {\n",
              "      background-color: #434B5C;\n",
              "      box-shadow: 0px 1px 3px 1px rgba(0, 0, 0, 0.15);\n",
              "      filter: drop-shadow(0px 1px 2px rgba(0, 0, 0, 0.3));\n",
              "      fill: #FFFFFF;\n",
              "    }\n",
              "  </style>\n",
              "\n",
              "      <script>\n",
              "        const buttonEl =\n",
              "          document.querySelector('#df-68338995-13d4-4858-aa3c-1d301ce21665 button.colab-df-convert');\n",
              "        buttonEl.style.display =\n",
              "          google.colab.kernel.accessAllowed ? 'block' : 'none';\n",
              "\n",
              "        async function convertToInteractive(key) {\n",
              "          const element = document.querySelector('#df-68338995-13d4-4858-aa3c-1d301ce21665');\n",
              "          const dataTable =\n",
              "            await google.colab.kernel.invokeFunction('convertToInteractive',\n",
              "                                                     [key], {});\n",
              "          if (!dataTable) return;\n",
              "\n",
              "          const docLinkHtml = 'Like what you see? Visit the ' +\n",
              "            '<a target=\"_blank\" href=https://colab.research.google.com/notebooks/data_table.ipynb>data table notebook</a>'\n",
              "            + ' to learn more about interactive tables.';\n",
              "          element.innerHTML = '';\n",
              "          dataTable['output_type'] = 'display_data';\n",
              "          await google.colab.output.renderOutput(dataTable, element);\n",
              "          const docLink = document.createElement('div');\n",
              "          docLink.innerHTML = docLinkHtml;\n",
              "          element.appendChild(docLink);\n",
              "        }\n",
              "      </script>\n",
              "    </div>\n",
              "  </div>\n",
              "  "
            ]
          },
          "metadata": {},
          "execution_count": 2
        }
      ],
      "source": [
        "# load data\n",
        "\n",
        "df = pd.read_csv(\"/content/adult_census.csv\")\n",
        "df.sample(5)\n"
      ]
    },
    {
      "cell_type": "markdown",
      "source": [
        "Isolate the target variable"
      ],
      "metadata": {
        "id": "1kvH6_HKmBVI"
      }
    },
    {
      "cell_type": "code",
      "source": [
        "target_name = \"class\"\n",
        "target = df[target_name]\n",
        "target"
      ],
      "metadata": {
        "colab": {
          "base_uri": "https://localhost:8080/"
        },
        "id": "YTdbaHS8lknm",
        "outputId": "d0ee3458-03d3-439d-f859-1c53701360b9"
      },
      "execution_count": 3,
      "outputs": [
        {
          "output_type": "execute_result",
          "data": {
            "text/plain": [
              "0         <=50K\n",
              "1         <=50K\n",
              "2          >50K\n",
              "3          >50K\n",
              "4         <=50K\n",
              "          ...  \n",
              "48837     <=50K\n",
              "48838      >50K\n",
              "48839     <=50K\n",
              "48840     <=50K\n",
              "48841      >50K\n",
              "Name: class, Length: 48842, dtype: object"
            ]
          },
          "metadata": {},
          "execution_count": 3
        }
      ]
    },
    {
      "cell_type": "markdown",
      "source": [
        "Separate the data and put them on a different dataframe"
      ],
      "metadata": {
        "id": "2bsshUOomPfk"
      }
    },
    {
      "cell_type": "code",
      "source": [
        "data = df.drop(columns=[target_name])\n",
        "data.info()"
      ],
      "metadata": {
        "colab": {
          "base_uri": "https://localhost:8080/"
        },
        "id": "a0pkqVvwmLxL",
        "outputId": "b49c9253-b090-4aef-8fad-3f335d653204"
      },
      "execution_count": 4,
      "outputs": [
        {
          "output_type": "stream",
          "name": "stdout",
          "text": [
            "<class 'pandas.core.frame.DataFrame'>\n",
            "RangeIndex: 48842 entries, 0 to 48841\n",
            "Data columns (total 14 columns):\n",
            " #   Column          Non-Null Count  Dtype \n",
            "---  ------          --------------  ----- \n",
            " 0   age             48842 non-null  int64 \n",
            " 1   workclass       48842 non-null  object\n",
            " 2   fnlwgt          48842 non-null  int64 \n",
            " 3   education       48842 non-null  object\n",
            " 4   education-num   48842 non-null  int64 \n",
            " 5   marital-status  48842 non-null  object\n",
            " 6   occupation      48842 non-null  object\n",
            " 7   relationship    48842 non-null  object\n",
            " 8   race            48842 non-null  object\n",
            " 9   sex             48842 non-null  object\n",
            " 10  capital-gain    48842 non-null  int64 \n",
            " 11  capital-loss    48842 non-null  int64 \n",
            " 12  hours-per-week  48842 non-null  int64 \n",
            " 13  native-country  48842 non-null  object\n",
            "dtypes: int64(6), object(8)\n",
            "memory usage: 5.2+ MB\n"
          ]
        }
      ]
    },
    {
      "cell_type": "markdown",
      "source": [
        "Now, get only the numeric features that are relevant for the analysis. (age,, capital-gain, capital-loos, hours-per-week)"
      ],
      "metadata": {
        "id": "ZkDBVwv1m3oR"
      }
    },
    {
      "cell_type": "code",
      "source": [
        "data.drop(columns=['workclass', 'fnlwgt', 'education', 'education-num', 'marital-status',\n",
        "                    'occupation', 'relationship', 'race', 'sex', 'native-country'], inplace=True)"
      ],
      "metadata": {
        "id": "g2emUz7JmqfL"
      },
      "execution_count": 5,
      "outputs": []
    },
    {
      "cell_type": "code",
      "source": [
        "data.head()"
      ],
      "metadata": {
        "colab": {
          "base_uri": "https://localhost:8080/",
          "height": 206
        },
        "id": "ZX9S7mjKnqQj",
        "outputId": "2224964c-6d58-46c2-ecd8-54cd1b9f8a3e"
      },
      "execution_count": 6,
      "outputs": [
        {
          "output_type": "execute_result",
          "data": {
            "text/plain": [
              "   age  capital-gain  capital-loss  hours-per-week\n",
              "0   25             0             0              40\n",
              "1   38             0             0              50\n",
              "2   28             0             0              40\n",
              "3   44          7688             0              40\n",
              "4   18             0             0              30"
            ],
            "text/html": [
              "\n",
              "  <div id=\"df-ad6c1d37-d0f1-4b24-a7e5-b5c71433e1b5\">\n",
              "    <div class=\"colab-df-container\">\n",
              "      <div>\n",
              "<style scoped>\n",
              "    .dataframe tbody tr th:only-of-type {\n",
              "        vertical-align: middle;\n",
              "    }\n",
              "\n",
              "    .dataframe tbody tr th {\n",
              "        vertical-align: top;\n",
              "    }\n",
              "\n",
              "    .dataframe thead th {\n",
              "        text-align: right;\n",
              "    }\n",
              "</style>\n",
              "<table border=\"1\" class=\"dataframe\">\n",
              "  <thead>\n",
              "    <tr style=\"text-align: right;\">\n",
              "      <th></th>\n",
              "      <th>age</th>\n",
              "      <th>capital-gain</th>\n",
              "      <th>capital-loss</th>\n",
              "      <th>hours-per-week</th>\n",
              "    </tr>\n",
              "  </thead>\n",
              "  <tbody>\n",
              "    <tr>\n",
              "      <th>0</th>\n",
              "      <td>25</td>\n",
              "      <td>0</td>\n",
              "      <td>0</td>\n",
              "      <td>40</td>\n",
              "    </tr>\n",
              "    <tr>\n",
              "      <th>1</th>\n",
              "      <td>38</td>\n",
              "      <td>0</td>\n",
              "      <td>0</td>\n",
              "      <td>50</td>\n",
              "    </tr>\n",
              "    <tr>\n",
              "      <th>2</th>\n",
              "      <td>28</td>\n",
              "      <td>0</td>\n",
              "      <td>0</td>\n",
              "      <td>40</td>\n",
              "    </tr>\n",
              "    <tr>\n",
              "      <th>3</th>\n",
              "      <td>44</td>\n",
              "      <td>7688</td>\n",
              "      <td>0</td>\n",
              "      <td>40</td>\n",
              "    </tr>\n",
              "    <tr>\n",
              "      <th>4</th>\n",
              "      <td>18</td>\n",
              "      <td>0</td>\n",
              "      <td>0</td>\n",
              "      <td>30</td>\n",
              "    </tr>\n",
              "  </tbody>\n",
              "</table>\n",
              "</div>\n",
              "      <button class=\"colab-df-convert\" onclick=\"convertToInteractive('df-ad6c1d37-d0f1-4b24-a7e5-b5c71433e1b5')\"\n",
              "              title=\"Convert this dataframe to an interactive table.\"\n",
              "              style=\"display:none;\">\n",
              "        \n",
              "  <svg xmlns=\"http://www.w3.org/2000/svg\" height=\"24px\"viewBox=\"0 0 24 24\"\n",
              "       width=\"24px\">\n",
              "    <path d=\"M0 0h24v24H0V0z\" fill=\"none\"/>\n",
              "    <path d=\"M18.56 5.44l.94 2.06.94-2.06 2.06-.94-2.06-.94-.94-2.06-.94 2.06-2.06.94zm-11 1L8.5 8.5l.94-2.06 2.06-.94-2.06-.94L8.5 2.5l-.94 2.06-2.06.94zm10 10l.94 2.06.94-2.06 2.06-.94-2.06-.94-.94-2.06-.94 2.06-2.06.94z\"/><path d=\"M17.41 7.96l-1.37-1.37c-.4-.4-.92-.59-1.43-.59-.52 0-1.04.2-1.43.59L10.3 9.45l-7.72 7.72c-.78.78-.78 2.05 0 2.83L4 21.41c.39.39.9.59 1.41.59.51 0 1.02-.2 1.41-.59l7.78-7.78 2.81-2.81c.8-.78.8-2.07 0-2.86zM5.41 20L4 18.59l7.72-7.72 1.47 1.35L5.41 20z\"/>\n",
              "  </svg>\n",
              "      </button>\n",
              "      \n",
              "  <style>\n",
              "    .colab-df-container {\n",
              "      display:flex;\n",
              "      flex-wrap:wrap;\n",
              "      gap: 12px;\n",
              "    }\n",
              "\n",
              "    .colab-df-convert {\n",
              "      background-color: #E8F0FE;\n",
              "      border: none;\n",
              "      border-radius: 50%;\n",
              "      cursor: pointer;\n",
              "      display: none;\n",
              "      fill: #1967D2;\n",
              "      height: 32px;\n",
              "      padding: 0 0 0 0;\n",
              "      width: 32px;\n",
              "    }\n",
              "\n",
              "    .colab-df-convert:hover {\n",
              "      background-color: #E2EBFA;\n",
              "      box-shadow: 0px 1px 2px rgba(60, 64, 67, 0.3), 0px 1px 3px 1px rgba(60, 64, 67, 0.15);\n",
              "      fill: #174EA6;\n",
              "    }\n",
              "\n",
              "    [theme=dark] .colab-df-convert {\n",
              "      background-color: #3B4455;\n",
              "      fill: #D2E3FC;\n",
              "    }\n",
              "\n",
              "    [theme=dark] .colab-df-convert:hover {\n",
              "      background-color: #434B5C;\n",
              "      box-shadow: 0px 1px 3px 1px rgba(0, 0, 0, 0.15);\n",
              "      filter: drop-shadow(0px 1px 2px rgba(0, 0, 0, 0.3));\n",
              "      fill: #FFFFFF;\n",
              "    }\n",
              "  </style>\n",
              "\n",
              "      <script>\n",
              "        const buttonEl =\n",
              "          document.querySelector('#df-ad6c1d37-d0f1-4b24-a7e5-b5c71433e1b5 button.colab-df-convert');\n",
              "        buttonEl.style.display =\n",
              "          google.colab.kernel.accessAllowed ? 'block' : 'none';\n",
              "\n",
              "        async function convertToInteractive(key) {\n",
              "          const element = document.querySelector('#df-ad6c1d37-d0f1-4b24-a7e5-b5c71433e1b5');\n",
              "          const dataTable =\n",
              "            await google.colab.kernel.invokeFunction('convertToInteractive',\n",
              "                                                     [key], {});\n",
              "          if (!dataTable) return;\n",
              "\n",
              "          const docLinkHtml = 'Like what you see? Visit the ' +\n",
              "            '<a target=\"_blank\" href=https://colab.research.google.com/notebooks/data_table.ipynb>data table notebook</a>'\n",
              "            + ' to learn more about interactive tables.';\n",
              "          element.innerHTML = '';\n",
              "          dataTable['output_type'] = 'display_data';\n",
              "          await google.colab.output.renderOutput(dataTable, element);\n",
              "          const docLink = document.createElement('div');\n",
              "          docLink.innerHTML = docLinkHtml;\n",
              "          element.appendChild(docLink);\n",
              "        }\n",
              "      </script>\n",
              "    </div>\n",
              "  </div>\n",
              "  "
            ]
          },
          "metadata": {},
          "execution_count": 6
        }
      ]
    },
    {
      "cell_type": "code",
      "source": [
        "data.columns"
      ],
      "metadata": {
        "colab": {
          "base_uri": "https://localhost:8080/"
        },
        "id": "1EK_BBgzoRIl",
        "outputId": "0a8767f6-703f-4fb2-c194-9201a4fc1e9e"
      },
      "execution_count": 7,
      "outputs": [
        {
          "output_type": "execute_result",
          "data": {
            "text/plain": [
              "Index(['age', 'capital-gain', 'capital-loss', 'hours-per-week'], dtype='object')"
            ]
          },
          "metadata": {},
          "execution_count": 7
        }
      ]
    },
    {
      "cell_type": "code",
      "source": [
        "# print the number of features and samples\n",
        "\n",
        "print(f\"The dataset contains {data.shape[1]} of features and {data.shape[0]} samples\")"
      ],
      "metadata": {
        "colab": {
          "base_uri": "https://localhost:8080/"
        },
        "id": "-A9WAszroXNC",
        "outputId": "aa89b20a-85d4-406f-ceab-ad304576c66d"
      },
      "execution_count": 8,
      "outputs": [
        {
          "output_type": "stream",
          "name": "stdout",
          "text": [
            "The dataset contains 4 of features and 48842 samples\n"
          ]
        }
      ]
    },
    {
      "cell_type": "markdown",
      "source": [
        "## Fit a model and make predictions\n",
        "\n",
        "We build a classification model using the *k-nearest neighbors* algorithm. To predict the target of a new sample, a k-nearest neighbors takes into account its *k* closest samples in the training set and predicts the majority targert of these samples. \n",
        "\n",
        "<div class=\"admonition caution alert alert-warning\">\n",
        "<p class=\"first admonition-title\" style=\"font-weight: bold;\">Caution!</p>\n",
        "<p class=\"last\">We use a K-nearest neighbors here. However, be aware that it is seldom useful\n",
        "in practice. We use it because it is an intuitive algorithm. In the next\n",
        "notebook, we will introduce better models.</p>\n",
        "</div>\n",
        "\n",
        "The `fit` method is called to train the model from the input (features) and target data."
      ],
      "metadata": {
        "id": "ZUDO6jc_o26W"
      }
    },
    {
      "cell_type": "code",
      "source": [
        "from sklearn.neighbors import KNeighborsClassifier\n",
        "\n",
        "model = KNeighborsClassifier()\n",
        "model.fit(data, target)"
      ],
      "metadata": {
        "colab": {
          "base_uri": "https://localhost:8080/"
        },
        "id": "oJXs7ZUqo2by",
        "outputId": "7e20caea-74b6-420c-ecb8-7fb5d656c17a"
      },
      "execution_count": 9,
      "outputs": [
        {
          "output_type": "execute_result",
          "data": {
            "text/plain": [
              "KNeighborsClassifier()"
            ]
          },
          "metadata": {},
          "execution_count": 9
        }
      ]
    },
    {
      "cell_type": "markdown",
      "source": [
        "The method `fit` is composed of two elements: (i) a **learning algorithm**\n",
        "and (ii) some **model states**. The learning algorithm takes the training\n",
        "data and training target as input and sets the model states. These model\n",
        "states will be used later to either predict (for classifiers and regressors)\n",
        "or transform data (for transformers).\n",
        "\n",
        "Both the learning algorithm and the type of model states are specific to each\n",
        "type of model."
      ],
      "metadata": {
        "id": "gPMH6TXYqyhk"
      }
    },
    {
      "cell_type": "code",
      "source": [
        "# Use the model to make some predictions using the same dataset\n",
        "\n",
        "target_predicted = model.predict(data)"
      ],
      "metadata": {
        "id": "GpyjQt7tot-K"
      },
      "execution_count": 10,
      "outputs": []
    },
    {
      "cell_type": "markdown",
      "source": [
        "To predict, a model uses a **prediction function** that will use the input\n",
        "data together with the model states. As for the learning algorithm and the\n",
        "model states, the prediction function is specific for each type of model.\n",
        "\n",
        "Take a look at the first five predictions:"
      ],
      "metadata": {
        "id": "xtdjfKjJrruP"
      }
    },
    {
      "cell_type": "code",
      "source": [
        "target_predicted[:5]"
      ],
      "metadata": {
        "colab": {
          "base_uri": "https://localhost:8080/"
        },
        "id": "AxV5_n1xrJYp",
        "outputId": "ab0eb356-baec-4cac-a910-5b454ad5d065"
      },
      "execution_count": 11,
      "outputs": [
        {
          "output_type": "execute_result",
          "data": {
            "text/plain": [
              "array([' <=50K', ' <=50K', ' <=50K', ' >50K', ' <=50K'], dtype=object)"
            ]
          },
          "metadata": {},
          "execution_count": 11
        }
      ]
    },
    {
      "cell_type": "markdown",
      "source": [
        "Compare these predictions to the actual data"
      ],
      "metadata": {
        "id": "ZSWUigILsQu5"
      }
    },
    {
      "cell_type": "code",
      "source": [
        "target[:5]"
      ],
      "metadata": {
        "colab": {
          "base_uri": "https://localhost:8080/"
        },
        "id": "AtBXmXMosGSY",
        "outputId": "e00fda99-7a48-444a-e2bf-3b9ba3b55941"
      },
      "execution_count": 12,
      "outputs": [
        {
          "output_type": "execute_result",
          "data": {
            "text/plain": [
              "0     <=50K\n",
              "1     <=50K\n",
              "2      >50K\n",
              "3      >50K\n",
              "4     <=50K\n",
              "Name: class, dtype: object"
            ]
          },
          "metadata": {},
          "execution_count": 12
        }
      ]
    },
    {
      "cell_type": "markdown",
      "source": [
        "Let's compare the predictions with the actual data/\n"
      ],
      "metadata": {
        "id": "H8BnObfLsmNl"
      }
    },
    {
      "cell_type": "code",
      "source": [
        "target[:5] == target_predicted[:5]"
      ],
      "metadata": {
        "colab": {
          "base_uri": "https://localhost:8080/"
        },
        "id": "C6zSraU3sjKy",
        "outputId": "707eb5e4-2bf5-4118-f456-6521aa2cb6a4"
      },
      "execution_count": 13,
      "outputs": [
        {
          "output_type": "execute_result",
          "data": {
            "text/plain": [
              "0     True\n",
              "1     True\n",
              "2    False\n",
              "3     True\n",
              "4     True\n",
              "Name: class, dtype: bool"
            ]
          },
          "metadata": {},
          "execution_count": 13
        }
      ]
    },
    {
      "cell_type": "code",
      "source": [
        "print(f\"Number of correct prediction: \"\n",
        "      f\"{(target[:5] == target_predicted[:5]).sum()} / 5\")"
      ],
      "metadata": {
        "colab": {
          "base_uri": "https://localhost:8080/"
        },
        "id": "GsRb4-5PtDnU",
        "outputId": "e9fc01e1-6eed-4529-bf8e-5894b7b68ccb"
      },
      "execution_count": 14,
      "outputs": [
        {
          "output_type": "stream",
          "name": "stdout",
          "text": [
            "Number of correct prediction: 4 / 5\n"
          ]
        }
      ]
    },
    {
      "cell_type": "markdown",
      "source": [
        "Calculate average success rate"
      ],
      "metadata": {
        "id": "qsIqPoNvtNeO"
      }
    },
    {
      "cell_type": "code",
      "source": [
        "(target == target_predicted).mean()"
      ],
      "metadata": {
        "colab": {
          "base_uri": "https://localhost:8080/"
        },
        "id": "ChnDKs3dtQi3",
        "outputId": "f9e9a80c-094e-40a2-960e-f6e90fd84aa1"
      },
      "execution_count": 15,
      "outputs": [
        {
          "output_type": "execute_result",
          "data": {
            "text/plain": [
              "0.8175340895131239"
            ]
          },
          "metadata": {},
          "execution_count": 15
        }
      ]
    },
    {
      "cell_type": "markdown",
      "source": [
        "## Train-test split the dataset\n",
        "\n",
        "Scikit-learn provides the helper function\n",
        "`sklearn.model_selection.train_test_split` which is used to automatically\n",
        "split the dataset into two subsets."
      ],
      "metadata": {
        "id": "4l_nQK2H1hpg"
      }
    },
    {
      "cell_type": "code",
      "source": [
        "from sklearn.model_selection import train_test_split\n",
        "\n",
        "data_train, data_test, target_train, target_test = train_test_split(\n",
        "    data, target, random_state=42, test_size=0.25)"
      ],
      "metadata": {
        "id": "jjHtiNznxY1m"
      },
      "execution_count": 16,
      "outputs": []
    },
    {
      "cell_type": "markdown",
      "source": [
        "<div class=\"admonition tip alert alert-warning\">\n",
        "<p class=\"first admonition-title\" style=\"font-weight: bold;\">Tip</p>\n",
        "<p class=\"last\">In scikit-learn setting the <tt class=\"docutils literal\">random_state</tt> parameter allows to get\n",
        "deterministic results when we use a random number generator. In the\n",
        "<tt class=\"docutils literal\">train_test_split</tt> case the randomness comes from shuffling the data, which\n",
        "decides how the dataset is split into a train and a test set).</p>\n",
        "</div>"
      ],
      "metadata": {
        "id": "jhVzK6aP1-qs"
      }
    },
    {
      "cell_type": "markdown",
      "source": [
        "When calling the function `train_test_split`, we specified that we would like\n",
        "to have 25% of samples in the testing set while the remaining samples (75%)\n",
        "will be available in the training set. We can check quickly if we got\n",
        "what we expected."
      ],
      "metadata": {
        "id": "UMGx46BL2Ec3"
      }
    },
    {
      "cell_type": "code",
      "source": [
        "print(f\"Number of samples in testing: {data_test.shape[0]} => \"\n",
        "      f\"{data_test.shape[0] / data.shape[0] * 100:.1f}% of the\"\n",
        "      f\" original set\")"
      ],
      "metadata": {
        "colab": {
          "base_uri": "https://localhost:8080/"
        },
        "id": "X8f-OQT012JD",
        "outputId": "b78cf950-dc15-405f-e97e-49321a59a719"
      },
      "execution_count": 17,
      "outputs": [
        {
          "output_type": "stream",
          "name": "stdout",
          "text": [
            "Number of samples in testing: 12211 => 25.0% of the original set\n"
          ]
        }
      ]
    },
    {
      "cell_type": "code",
      "source": [
        "print(f\"Number of samples in training: {data_train.shape[0]} => \"\n",
        "      f\"{data_train.shape[0] / data.shape[0] * 100:.1f}% of the\"\n",
        "      f\" original set\")"
      ],
      "metadata": {
        "colab": {
          "base_uri": "https://localhost:8080/"
        },
        "id": "qknPxUN32Iyy",
        "outputId": "c4854492-4e82-468a-b9f7-4b32b4a09f24"
      },
      "execution_count": 18,
      "outputs": [
        {
          "output_type": "stream",
          "name": "stdout",
          "text": [
            "Number of samples in training: 36631 => 75.0% of the original set\n"
          ]
        }
      ]
    },
    {
      "cell_type": "markdown",
      "source": [
        "In the previous notebook, we used a k-nearest neighbors model. While this\n",
        "model is intuitive to understand, it is not widely used in practice. Now, we\n",
        "will use a more useful model, called a logistic regression, which belongs to\n",
        "the linear models family.\n",
        "\n",
        "<div class=\"admonition note alert alert-info\">\n",
        "<p class=\"first admonition-title\" style=\"font-weight: bold;\">Note</p>\n",
        "<p>In short, linear models find a set of weights to combine features linearly\n",
        "and predict the target. For instance, the model can come up with a rule such\n",
        "as:</p>\n",
        "<ul class=\"simple\">\n",
        "<li>if <tt class=\"docutils literal\">0.1 * age + 3.3 * <span class=\"pre\">hours-per-week</span> - 15.1 &gt; 0</tt>, predict <tt class=\"docutils literal\"><span class=\"pre\">high-income</span></tt></li>\n",
        "<li>otherwise predict <tt class=\"docutils literal\"><span class=\"pre\">low-income</span></tt></li>\n",
        "</ul>\n",
        "<p class=\"last\">Linear models, and in particular the logistic regression, will be covered in\n",
        "more details in the \"Linear models\" module later in this course. For now the\n",
        "focus is to use this logistic regression model in scikit-learn rather than\n",
        "understand how it works in details.</p>\n",
        "</div>\n",
        "\n",
        "To create a logistic regression model in scikit-learn you can do:"
      ],
      "metadata": {
        "id": "oMHWuhxL2csM"
      }
    },
    {
      "cell_type": "code",
      "source": [
        "# to display nice model diagram\n",
        "from sklearn import set_config\n",
        "set_config(display='diagram')"
      ],
      "metadata": {
        "id": "Hf7in4h-2UVB"
      },
      "execution_count": 19,
      "outputs": []
    },
    {
      "cell_type": "code",
      "source": [
        "from sklearn.linear_model import LogisticRegression\n",
        "\n",
        "model = LogisticRegression()"
      ],
      "metadata": {
        "id": "0ziYTX6J2vug"
      },
      "execution_count": 20,
      "outputs": []
    },
    {
      "cell_type": "markdown",
      "source": [
        "Now that the model has been created, you can use it exactly the same way as\n",
        "we used the k-nearest neighbors model in the previous notebook. In\n",
        "particular, we can use the `fit` method to train the model using the training\n",
        "data and labels:"
      ],
      "metadata": {
        "id": "-u5m0h5E2146"
      }
    },
    {
      "cell_type": "code",
      "source": [
        "model.fit(data_train, target_train)"
      ],
      "metadata": {
        "colab": {
          "base_uri": "https://localhost:8080/",
          "height": 0
        },
        "id": "RzSDPBkJ2x3Q",
        "outputId": "bdb860b0-9aa9-439c-e9ac-52e94f814f01"
      },
      "execution_count": 21,
      "outputs": [
        {
          "output_type": "execute_result",
          "data": {
            "text/plain": [
              "LogisticRegression()"
            ],
            "text/html": [
              "<style>#sk-0f0f4085-e764-4255-9d94-107f6802966e {color: black;background-color: white;}#sk-0f0f4085-e764-4255-9d94-107f6802966e pre{padding: 0;}#sk-0f0f4085-e764-4255-9d94-107f6802966e div.sk-toggleable {background-color: white;}#sk-0f0f4085-e764-4255-9d94-107f6802966e label.sk-toggleable__label {cursor: pointer;display: block;width: 100%;margin-bottom: 0;padding: 0.3em;box-sizing: border-box;text-align: center;}#sk-0f0f4085-e764-4255-9d94-107f6802966e label.sk-toggleable__label-arrow:before {content: \"▸\";float: left;margin-right: 0.25em;color: #696969;}#sk-0f0f4085-e764-4255-9d94-107f6802966e label.sk-toggleable__label-arrow:hover:before {color: black;}#sk-0f0f4085-e764-4255-9d94-107f6802966e div.sk-estimator:hover label.sk-toggleable__label-arrow:before {color: black;}#sk-0f0f4085-e764-4255-9d94-107f6802966e div.sk-toggleable__content {max-height: 0;max-width: 0;overflow: hidden;text-align: left;background-color: #f0f8ff;}#sk-0f0f4085-e764-4255-9d94-107f6802966e div.sk-toggleable__content pre {margin: 0.2em;color: black;border-radius: 0.25em;background-color: #f0f8ff;}#sk-0f0f4085-e764-4255-9d94-107f6802966e input.sk-toggleable__control:checked~div.sk-toggleable__content {max-height: 200px;max-width: 100%;overflow: auto;}#sk-0f0f4085-e764-4255-9d94-107f6802966e input.sk-toggleable__control:checked~label.sk-toggleable__label-arrow:before {content: \"▾\";}#sk-0f0f4085-e764-4255-9d94-107f6802966e div.sk-estimator input.sk-toggleable__control:checked~label.sk-toggleable__label {background-color: #d4ebff;}#sk-0f0f4085-e764-4255-9d94-107f6802966e div.sk-label input.sk-toggleable__control:checked~label.sk-toggleable__label {background-color: #d4ebff;}#sk-0f0f4085-e764-4255-9d94-107f6802966e input.sk-hidden--visually {border: 0;clip: rect(1px 1px 1px 1px);clip: rect(1px, 1px, 1px, 1px);height: 1px;margin: -1px;overflow: hidden;padding: 0;position: absolute;width: 1px;}#sk-0f0f4085-e764-4255-9d94-107f6802966e div.sk-estimator {font-family: monospace;background-color: #f0f8ff;border: 1px dotted black;border-radius: 0.25em;box-sizing: border-box;margin-bottom: 0.5em;}#sk-0f0f4085-e764-4255-9d94-107f6802966e div.sk-estimator:hover {background-color: #d4ebff;}#sk-0f0f4085-e764-4255-9d94-107f6802966e div.sk-parallel-item::after {content: \"\";width: 100%;border-bottom: 1px solid gray;flex-grow: 1;}#sk-0f0f4085-e764-4255-9d94-107f6802966e div.sk-label:hover label.sk-toggleable__label {background-color: #d4ebff;}#sk-0f0f4085-e764-4255-9d94-107f6802966e div.sk-serial::before {content: \"\";position: absolute;border-left: 1px solid gray;box-sizing: border-box;top: 2em;bottom: 0;left: 50%;}#sk-0f0f4085-e764-4255-9d94-107f6802966e div.sk-serial {display: flex;flex-direction: column;align-items: center;background-color: white;padding-right: 0.2em;padding-left: 0.2em;}#sk-0f0f4085-e764-4255-9d94-107f6802966e div.sk-item {z-index: 1;}#sk-0f0f4085-e764-4255-9d94-107f6802966e div.sk-parallel {display: flex;align-items: stretch;justify-content: center;background-color: white;}#sk-0f0f4085-e764-4255-9d94-107f6802966e div.sk-parallel::before {content: \"\";position: absolute;border-left: 1px solid gray;box-sizing: border-box;top: 2em;bottom: 0;left: 50%;}#sk-0f0f4085-e764-4255-9d94-107f6802966e div.sk-parallel-item {display: flex;flex-direction: column;position: relative;background-color: white;}#sk-0f0f4085-e764-4255-9d94-107f6802966e div.sk-parallel-item:first-child::after {align-self: flex-end;width: 50%;}#sk-0f0f4085-e764-4255-9d94-107f6802966e div.sk-parallel-item:last-child::after {align-self: flex-start;width: 50%;}#sk-0f0f4085-e764-4255-9d94-107f6802966e div.sk-parallel-item:only-child::after {width: 0;}#sk-0f0f4085-e764-4255-9d94-107f6802966e div.sk-dashed-wrapped {border: 1px dashed gray;margin: 0 0.4em 0.5em 0.4em;box-sizing: border-box;padding-bottom: 0.4em;background-color: white;position: relative;}#sk-0f0f4085-e764-4255-9d94-107f6802966e div.sk-label label {font-family: monospace;font-weight: bold;background-color: white;display: inline-block;line-height: 1.2em;}#sk-0f0f4085-e764-4255-9d94-107f6802966e div.sk-label-container {position: relative;z-index: 2;text-align: center;}#sk-0f0f4085-e764-4255-9d94-107f6802966e div.sk-container {/* jupyter's `normalize.less` sets `[hidden] { display: none; }` but bootstrap.min.css set `[hidden] { display: none !important; }` so we also need the `!important` here to be able to override the default hidden behavior on the sphinx rendered scikit-learn.org. See: https://github.com/scikit-learn/scikit-learn/issues/21755 */display: inline-block !important;position: relative;}#sk-0f0f4085-e764-4255-9d94-107f6802966e div.sk-text-repr-fallback {display: none;}</style><div id=\"sk-0f0f4085-e764-4255-9d94-107f6802966e\" class=\"sk-top-container\"><div class=\"sk-text-repr-fallback\"><pre>LogisticRegression()</pre><b>Please rerun this cell to show the HTML repr or trust the notebook.</b></div><div class=\"sk-container\" hidden><div class=\"sk-item\"><div class=\"sk-estimator sk-toggleable\"><input class=\"sk-toggleable__control sk-hidden--visually\" id=\"f1fc257c-60b9-478d-9c7b-a86744833def\" type=\"checkbox\" checked><label for=\"f1fc257c-60b9-478d-9c7b-a86744833def\" class=\"sk-toggleable__label sk-toggleable__label-arrow\">LogisticRegression</label><div class=\"sk-toggleable__content\"><pre>LogisticRegression()</pre></div></div></div></div></div>"
            ]
          },
          "metadata": {},
          "execution_count": 21
        }
      ]
    },
    {
      "cell_type": "markdown",
      "source": [
        "We can also use the `score` method to check the model generalization performance\n",
        "on the test set."
      ],
      "metadata": {
        "id": "o02Is7iS2-mR"
      }
    },
    {
      "cell_type": "code",
      "source": [
        "accuracy = model.score(data_test, target_test)\n",
        "print(f\"Accuracy of logistic regression: {accuracy:.3f}\")"
      ],
      "metadata": {
        "colab": {
          "base_uri": "https://localhost:8080/"
        },
        "id": "vm4raNZT24wy",
        "outputId": "b1eab17f-3964-4f26-90ca-e20b136b3144"
      },
      "execution_count": 22,
      "outputs": [
        {
          "output_type": "stream",
          "name": "stdout",
          "text": [
            "Accuracy of logistic regression: 0.807\n"
          ]
        }
      ]
    },
    {
      "cell_type": "markdown",
      "source": [
        "In scikit-learn, the `score` method of a classification model returns the accuracy,\n",
        "i.e. the fraction of correctly classified samples. In this case, around\n",
        "8 / 10 of the times, the logistic regression predicts the right income of a\n",
        "person. Now the real question is: is this generalization performance relevant\n",
        "of a good predictive model? Find out by solving the next exercise!\n",
        "\n",
        "In this notebook, we learned to:\n",
        "\n",
        "* identify numerical data in a heterogeneous dataset;\n",
        "* select the subset of columns corresponding to numerical data;\n",
        "* use the scikit-learn `train_test_split` function to separate data into\n",
        "  a train and a test set;\n",
        "* train and evaluate a logistic regression model."
      ],
      "metadata": {
        "id": "QWHFx4jn3FWS"
      }
    },
    {
      "cell_type": "markdown",
      "source": [
        "## Compare performance of the previous classifier with some simple baseline classifiers.\n",
        "\n",
        "Use a `DummyClassifier` such that the resulting classifier will always\n",
        "predict the class `' >50K'`. What is the accuracy score on the test set?\n",
        "Repeat the experiment by always predicting the class `' <=50K'`.\n"
      ],
      "metadata": {
        "id": "ZsMZe7ml4efQ"
      }
    },
    {
      "cell_type": "code",
      "source": [
        "from sklearn.dummy import DummyClassifier\n",
        "\n",
        "# predict for 50k\n",
        "class_to_predict =  ' >50K'\n",
        "high_rev_clf = DummyClassifier(strategy='constant',\n",
        "                               constant=class_to_predict)\n",
        "high_rev_clf.fit(data_train, target_train)\n",
        "score = high_rev_clf.score(data_test, target_test)\n",
        "\n",
        "print(f\"Accuracy of a model predicting only high revenue: {score:.3f}\")"
      ],
      "metadata": {
        "colab": {
          "base_uri": "https://localhost:8080/"
        },
        "id": "y8_O1xaR3Byu",
        "outputId": "5997a05a-3f50-49dd-f1a1-f604e96112c1"
      },
      "execution_count": 23,
      "outputs": [
        {
          "output_type": "stream",
          "name": "stdout",
          "text": [
            "Accuracy of a model predicting only high revenue: 0.234\n"
          ]
        }
      ]
    },
    {
      "cell_type": "code",
      "source": [
        "# predict for <50K\n",
        "class_to_predict = ' <=50K'\n",
        "low_rev_clf = DummyClassifier(strategy='constant',\n",
        "                              constant=class_to_predict)\n",
        "low_rev_clf.fit(data_train, target_train)\n",
        "score = low_rev_clf.score(data_test, target_test)\n",
        "\n",
        "print(f\"Accuracy of a model predicting only high revenue: {score:.3f}\")"
      ],
      "metadata": {
        "colab": {
          "base_uri": "https://localhost:8080/"
        },
        "id": "l_4BFuhp5bd8",
        "outputId": "d1c51fb5-c7a6-409b-ed37-98c08f16702d"
      },
      "execution_count": 24,
      "outputs": [
        {
          "output_type": "stream",
          "name": "stdout",
          "text": [
            "Accuracy of a model predicting only high revenue: 0.766\n"
          ]
        }
      ]
    },
    {
      "cell_type": "markdown",
      "source": [
        "## Preprocessing for Numerical Features\n",
        "\n",
        "Here we will see: \n",
        "* an example of preprocessing, namely **scaling numerical variables**\n",
        "* using scikit-learn **pipeline** to chain preprocessing and model training\n",
        "\n",
        "## Model fitting with preprocessing\n",
        "\n",
        "A range of preprocessing algorithms in scikit-learn allow us to transform\n",
        "the input data before training a model. In our case, we will standardize the\n",
        "data and then train a new logistic regression model on that new version of\n",
        "the dataset.\n",
        "\n",
        "Let's start by printing some statistics about the training data."
      ],
      "metadata": {
        "id": "f7_nJEnrNDoP"
      }
    },
    {
      "cell_type": "code",
      "source": [
        "data_train.describe()"
      ],
      "metadata": {
        "colab": {
          "base_uri": "https://localhost:8080/",
          "height": 300
        },
        "id": "RavrMQAP5hi7",
        "outputId": "731e7bd4-2c66-4a9c-b1a0-719920a46334"
      },
      "execution_count": 25,
      "outputs": [
        {
          "output_type": "execute_result",
          "data": {
            "text/plain": [
              "                age  capital-gain  capital-loss  hours-per-week\n",
              "count  36631.000000  36631.000000  36631.000000    36631.000000\n",
              "mean      38.642352   1087.077721     89.665311       40.431247\n",
              "std       13.725748   7522.692939    407.110175       12.423952\n",
              "min       17.000000      0.000000      0.000000        1.000000\n",
              "25%       28.000000      0.000000      0.000000       40.000000\n",
              "50%       37.000000      0.000000      0.000000       40.000000\n",
              "75%       48.000000      0.000000      0.000000       45.000000\n",
              "max       90.000000  99999.000000   4356.000000       99.000000"
            ],
            "text/html": [
              "\n",
              "  <div id=\"df-242b50cb-022a-4d42-9c05-1b2575d36b44\">\n",
              "    <div class=\"colab-df-container\">\n",
              "      <div>\n",
              "<style scoped>\n",
              "    .dataframe tbody tr th:only-of-type {\n",
              "        vertical-align: middle;\n",
              "    }\n",
              "\n",
              "    .dataframe tbody tr th {\n",
              "        vertical-align: top;\n",
              "    }\n",
              "\n",
              "    .dataframe thead th {\n",
              "        text-align: right;\n",
              "    }\n",
              "</style>\n",
              "<table border=\"1\" class=\"dataframe\">\n",
              "  <thead>\n",
              "    <tr style=\"text-align: right;\">\n",
              "      <th></th>\n",
              "      <th>age</th>\n",
              "      <th>capital-gain</th>\n",
              "      <th>capital-loss</th>\n",
              "      <th>hours-per-week</th>\n",
              "    </tr>\n",
              "  </thead>\n",
              "  <tbody>\n",
              "    <tr>\n",
              "      <th>count</th>\n",
              "      <td>36631.000000</td>\n",
              "      <td>36631.000000</td>\n",
              "      <td>36631.000000</td>\n",
              "      <td>36631.000000</td>\n",
              "    </tr>\n",
              "    <tr>\n",
              "      <th>mean</th>\n",
              "      <td>38.642352</td>\n",
              "      <td>1087.077721</td>\n",
              "      <td>89.665311</td>\n",
              "      <td>40.431247</td>\n",
              "    </tr>\n",
              "    <tr>\n",
              "      <th>std</th>\n",
              "      <td>13.725748</td>\n",
              "      <td>7522.692939</td>\n",
              "      <td>407.110175</td>\n",
              "      <td>12.423952</td>\n",
              "    </tr>\n",
              "    <tr>\n",
              "      <th>min</th>\n",
              "      <td>17.000000</td>\n",
              "      <td>0.000000</td>\n",
              "      <td>0.000000</td>\n",
              "      <td>1.000000</td>\n",
              "    </tr>\n",
              "    <tr>\n",
              "      <th>25%</th>\n",
              "      <td>28.000000</td>\n",
              "      <td>0.000000</td>\n",
              "      <td>0.000000</td>\n",
              "      <td>40.000000</td>\n",
              "    </tr>\n",
              "    <tr>\n",
              "      <th>50%</th>\n",
              "      <td>37.000000</td>\n",
              "      <td>0.000000</td>\n",
              "      <td>0.000000</td>\n",
              "      <td>40.000000</td>\n",
              "    </tr>\n",
              "    <tr>\n",
              "      <th>75%</th>\n",
              "      <td>48.000000</td>\n",
              "      <td>0.000000</td>\n",
              "      <td>0.000000</td>\n",
              "      <td>45.000000</td>\n",
              "    </tr>\n",
              "    <tr>\n",
              "      <th>max</th>\n",
              "      <td>90.000000</td>\n",
              "      <td>99999.000000</td>\n",
              "      <td>4356.000000</td>\n",
              "      <td>99.000000</td>\n",
              "    </tr>\n",
              "  </tbody>\n",
              "</table>\n",
              "</div>\n",
              "      <button class=\"colab-df-convert\" onclick=\"convertToInteractive('df-242b50cb-022a-4d42-9c05-1b2575d36b44')\"\n",
              "              title=\"Convert this dataframe to an interactive table.\"\n",
              "              style=\"display:none;\">\n",
              "        \n",
              "  <svg xmlns=\"http://www.w3.org/2000/svg\" height=\"24px\"viewBox=\"0 0 24 24\"\n",
              "       width=\"24px\">\n",
              "    <path d=\"M0 0h24v24H0V0z\" fill=\"none\"/>\n",
              "    <path d=\"M18.56 5.44l.94 2.06.94-2.06 2.06-.94-2.06-.94-.94-2.06-.94 2.06-2.06.94zm-11 1L8.5 8.5l.94-2.06 2.06-.94-2.06-.94L8.5 2.5l-.94 2.06-2.06.94zm10 10l.94 2.06.94-2.06 2.06-.94-2.06-.94-.94-2.06-.94 2.06-2.06.94z\"/><path d=\"M17.41 7.96l-1.37-1.37c-.4-.4-.92-.59-1.43-.59-.52 0-1.04.2-1.43.59L10.3 9.45l-7.72 7.72c-.78.78-.78 2.05 0 2.83L4 21.41c.39.39.9.59 1.41.59.51 0 1.02-.2 1.41-.59l7.78-7.78 2.81-2.81c.8-.78.8-2.07 0-2.86zM5.41 20L4 18.59l7.72-7.72 1.47 1.35L5.41 20z\"/>\n",
              "  </svg>\n",
              "      </button>\n",
              "      \n",
              "  <style>\n",
              "    .colab-df-container {\n",
              "      display:flex;\n",
              "      flex-wrap:wrap;\n",
              "      gap: 12px;\n",
              "    }\n",
              "\n",
              "    .colab-df-convert {\n",
              "      background-color: #E8F0FE;\n",
              "      border: none;\n",
              "      border-radius: 50%;\n",
              "      cursor: pointer;\n",
              "      display: none;\n",
              "      fill: #1967D2;\n",
              "      height: 32px;\n",
              "      padding: 0 0 0 0;\n",
              "      width: 32px;\n",
              "    }\n",
              "\n",
              "    .colab-df-convert:hover {\n",
              "      background-color: #E2EBFA;\n",
              "      box-shadow: 0px 1px 2px rgba(60, 64, 67, 0.3), 0px 1px 3px 1px rgba(60, 64, 67, 0.15);\n",
              "      fill: #174EA6;\n",
              "    }\n",
              "\n",
              "    [theme=dark] .colab-df-convert {\n",
              "      background-color: #3B4455;\n",
              "      fill: #D2E3FC;\n",
              "    }\n",
              "\n",
              "    [theme=dark] .colab-df-convert:hover {\n",
              "      background-color: #434B5C;\n",
              "      box-shadow: 0px 1px 3px 1px rgba(0, 0, 0, 0.15);\n",
              "      filter: drop-shadow(0px 1px 2px rgba(0, 0, 0, 0.3));\n",
              "      fill: #FFFFFF;\n",
              "    }\n",
              "  </style>\n",
              "\n",
              "      <script>\n",
              "        const buttonEl =\n",
              "          document.querySelector('#df-242b50cb-022a-4d42-9c05-1b2575d36b44 button.colab-df-convert');\n",
              "        buttonEl.style.display =\n",
              "          google.colab.kernel.accessAllowed ? 'block' : 'none';\n",
              "\n",
              "        async function convertToInteractive(key) {\n",
              "          const element = document.querySelector('#df-242b50cb-022a-4d42-9c05-1b2575d36b44');\n",
              "          const dataTable =\n",
              "            await google.colab.kernel.invokeFunction('convertToInteractive',\n",
              "                                                     [key], {});\n",
              "          if (!dataTable) return;\n",
              "\n",
              "          const docLinkHtml = 'Like what you see? Visit the ' +\n",
              "            '<a target=\"_blank\" href=https://colab.research.google.com/notebooks/data_table.ipynb>data table notebook</a>'\n",
              "            + ' to learn more about interactive tables.';\n",
              "          element.innerHTML = '';\n",
              "          dataTable['output_type'] = 'display_data';\n",
              "          await google.colab.output.renderOutput(dataTable, element);\n",
              "          const docLink = document.createElement('div');\n",
              "          docLink.innerHTML = docLinkHtml;\n",
              "          element.appendChild(docLink);\n",
              "        }\n",
              "      </script>\n",
              "    </div>\n",
              "  </div>\n",
              "  "
            ]
          },
          "metadata": {},
          "execution_count": 25
        }
      ]
    },
    {
      "cell_type": "markdown",
      "source": [
        "We see that the dataset's features span across different ranges. Some\n",
        "algorithms make some assumptions regarding the feature distributions and\n",
        "usually normalizing features will be helpful to address these assumptions.\n",
        "\n",
        "<div class=\"admonition tip alert alert-warning\">\n",
        "<p class=\"first admonition-title\" style=\"font-weight: bold;\">Tip</p>\n",
        "<p>Here are some reasons for scaling features:</p>\n",
        "<ul class=\"last simple\">\n",
        "<li>Models that rely on the distance between a pair of samples, for instance\n",
        "k-nearest neighbors, should be trained on normalized features to make each\n",
        "feature contribute approximately equally to the distance computations.</li>\n",
        "<li>Many models such as logistic regression use a numerical solver (based on\n",
        "gradient descent) to find their optimal parameters. This solver converges\n",
        "faster when the features are scaled.</li>\n",
        "</ul>\n",
        "</div>\n",
        "\n",
        "Whether or not a machine learning model requires scaling the features depends\n",
        "on the model family. Linear models such as logistic regression generally\n",
        "benefit from scaling the features while other models such as decision trees\n",
        "do not need such preprocessing (but will not suffer from it).\n",
        "\n",
        "We show how to apply such normalization using a scikit-learn transformer\n",
        "called `StandardScaler`. This transformer shifts and scales each feature\n",
        "individually so that they all have a 0-mean and a unit standard deviation.\n",
        "\n",
        "We will investigate different steps used in scikit-learn to achieve such a\n",
        "transformation of the data.\n",
        "\n",
        "First, one needs to call the method `fit` in order to learn the scaling from\n",
        "the data."
      ],
      "metadata": {
        "id": "tm5J7N4uO2_1"
      }
    },
    {
      "cell_type": "code",
      "source": [
        "from sklearn.preprocessing import StandardScaler\n",
        "\n",
        "scaler = StandardScaler()\n",
        "scaler.fit(data_train)"
      ],
      "metadata": {
        "colab": {
          "base_uri": "https://localhost:8080/",
          "height": 75
        },
        "id": "ZkB5bZ_gOoMR",
        "outputId": "0aedb1b7-5d0b-4697-de54-b8b34993c82a"
      },
      "execution_count": 26,
      "outputs": [
        {
          "output_type": "execute_result",
          "data": {
            "text/plain": [
              "StandardScaler()"
            ],
            "text/html": [
              "<style>#sk-2ffd4cf1-364b-4509-a6e3-de0dc75695ee {color: black;background-color: white;}#sk-2ffd4cf1-364b-4509-a6e3-de0dc75695ee pre{padding: 0;}#sk-2ffd4cf1-364b-4509-a6e3-de0dc75695ee div.sk-toggleable {background-color: white;}#sk-2ffd4cf1-364b-4509-a6e3-de0dc75695ee label.sk-toggleable__label {cursor: pointer;display: block;width: 100%;margin-bottom: 0;padding: 0.3em;box-sizing: border-box;text-align: center;}#sk-2ffd4cf1-364b-4509-a6e3-de0dc75695ee label.sk-toggleable__label-arrow:before {content: \"▸\";float: left;margin-right: 0.25em;color: #696969;}#sk-2ffd4cf1-364b-4509-a6e3-de0dc75695ee label.sk-toggleable__label-arrow:hover:before {color: black;}#sk-2ffd4cf1-364b-4509-a6e3-de0dc75695ee div.sk-estimator:hover label.sk-toggleable__label-arrow:before {color: black;}#sk-2ffd4cf1-364b-4509-a6e3-de0dc75695ee div.sk-toggleable__content {max-height: 0;max-width: 0;overflow: hidden;text-align: left;background-color: #f0f8ff;}#sk-2ffd4cf1-364b-4509-a6e3-de0dc75695ee div.sk-toggleable__content pre {margin: 0.2em;color: black;border-radius: 0.25em;background-color: #f0f8ff;}#sk-2ffd4cf1-364b-4509-a6e3-de0dc75695ee input.sk-toggleable__control:checked~div.sk-toggleable__content {max-height: 200px;max-width: 100%;overflow: auto;}#sk-2ffd4cf1-364b-4509-a6e3-de0dc75695ee input.sk-toggleable__control:checked~label.sk-toggleable__label-arrow:before {content: \"▾\";}#sk-2ffd4cf1-364b-4509-a6e3-de0dc75695ee div.sk-estimator input.sk-toggleable__control:checked~label.sk-toggleable__label {background-color: #d4ebff;}#sk-2ffd4cf1-364b-4509-a6e3-de0dc75695ee div.sk-label input.sk-toggleable__control:checked~label.sk-toggleable__label {background-color: #d4ebff;}#sk-2ffd4cf1-364b-4509-a6e3-de0dc75695ee input.sk-hidden--visually {border: 0;clip: rect(1px 1px 1px 1px);clip: rect(1px, 1px, 1px, 1px);height: 1px;margin: -1px;overflow: hidden;padding: 0;position: absolute;width: 1px;}#sk-2ffd4cf1-364b-4509-a6e3-de0dc75695ee div.sk-estimator {font-family: monospace;background-color: #f0f8ff;border: 1px dotted black;border-radius: 0.25em;box-sizing: border-box;margin-bottom: 0.5em;}#sk-2ffd4cf1-364b-4509-a6e3-de0dc75695ee div.sk-estimator:hover {background-color: #d4ebff;}#sk-2ffd4cf1-364b-4509-a6e3-de0dc75695ee div.sk-parallel-item::after {content: \"\";width: 100%;border-bottom: 1px solid gray;flex-grow: 1;}#sk-2ffd4cf1-364b-4509-a6e3-de0dc75695ee div.sk-label:hover label.sk-toggleable__label {background-color: #d4ebff;}#sk-2ffd4cf1-364b-4509-a6e3-de0dc75695ee div.sk-serial::before {content: \"\";position: absolute;border-left: 1px solid gray;box-sizing: border-box;top: 2em;bottom: 0;left: 50%;}#sk-2ffd4cf1-364b-4509-a6e3-de0dc75695ee div.sk-serial {display: flex;flex-direction: column;align-items: center;background-color: white;padding-right: 0.2em;padding-left: 0.2em;}#sk-2ffd4cf1-364b-4509-a6e3-de0dc75695ee div.sk-item {z-index: 1;}#sk-2ffd4cf1-364b-4509-a6e3-de0dc75695ee div.sk-parallel {display: flex;align-items: stretch;justify-content: center;background-color: white;}#sk-2ffd4cf1-364b-4509-a6e3-de0dc75695ee div.sk-parallel::before {content: \"\";position: absolute;border-left: 1px solid gray;box-sizing: border-box;top: 2em;bottom: 0;left: 50%;}#sk-2ffd4cf1-364b-4509-a6e3-de0dc75695ee div.sk-parallel-item {display: flex;flex-direction: column;position: relative;background-color: white;}#sk-2ffd4cf1-364b-4509-a6e3-de0dc75695ee div.sk-parallel-item:first-child::after {align-self: flex-end;width: 50%;}#sk-2ffd4cf1-364b-4509-a6e3-de0dc75695ee div.sk-parallel-item:last-child::after {align-self: flex-start;width: 50%;}#sk-2ffd4cf1-364b-4509-a6e3-de0dc75695ee div.sk-parallel-item:only-child::after {width: 0;}#sk-2ffd4cf1-364b-4509-a6e3-de0dc75695ee div.sk-dashed-wrapped {border: 1px dashed gray;margin: 0 0.4em 0.5em 0.4em;box-sizing: border-box;padding-bottom: 0.4em;background-color: white;position: relative;}#sk-2ffd4cf1-364b-4509-a6e3-de0dc75695ee div.sk-label label {font-family: monospace;font-weight: bold;background-color: white;display: inline-block;line-height: 1.2em;}#sk-2ffd4cf1-364b-4509-a6e3-de0dc75695ee div.sk-label-container {position: relative;z-index: 2;text-align: center;}#sk-2ffd4cf1-364b-4509-a6e3-de0dc75695ee div.sk-container {/* jupyter's `normalize.less` sets `[hidden] { display: none; }` but bootstrap.min.css set `[hidden] { display: none !important; }` so we also need the `!important` here to be able to override the default hidden behavior on the sphinx rendered scikit-learn.org. See: https://github.com/scikit-learn/scikit-learn/issues/21755 */display: inline-block !important;position: relative;}#sk-2ffd4cf1-364b-4509-a6e3-de0dc75695ee div.sk-text-repr-fallback {display: none;}</style><div id=\"sk-2ffd4cf1-364b-4509-a6e3-de0dc75695ee\" class=\"sk-top-container\"><div class=\"sk-text-repr-fallback\"><pre>StandardScaler()</pre><b>Please rerun this cell to show the HTML repr or trust the notebook.</b></div><div class=\"sk-container\" hidden><div class=\"sk-item\"><div class=\"sk-estimator sk-toggleable\"><input class=\"sk-toggleable__control sk-hidden--visually\" id=\"59160266-fd27-4700-ad84-c716cebd5bfc\" type=\"checkbox\" checked><label for=\"59160266-fd27-4700-ad84-c716cebd5bfc\" class=\"sk-toggleable__label sk-toggleable__label-arrow\">StandardScaler</label><div class=\"sk-toggleable__content\"><pre>StandardScaler()</pre></div></div></div></div></div>"
            ]
          },
          "metadata": {},
          "execution_count": 26
        }
      ]
    },
    {
      "cell_type": "markdown",
      "source": [
        "The `fit` method for transformers is similar to the `fit` method for predictors. The main difference is that the former has a single argument (the data matrix), whereas the latter has two arguments (the data matrix and the target).\n",
        "\n",
        "In thsi case, the algorithm needs to compute the mean and standard deviation for each feature and store them into some NumPy arrays. Here, these\n",
        "statistics are the model states.\n",
        "\n",
        "<div class=\"admonition note alert alert-info\">\n",
        "<p class=\"first admonition-title\" style=\"font-weight: bold;\">Note</p>\n",
        "<p class=\"last\">The fact that the model states of this scaler are arrays of means and\n",
        "standard deviations is specific to the <tt class=\"docutils literal\">StandardScaler</tt>. Other\n",
        "scikit-learn transformers will compute different statistics and store them\n",
        "as model states, in the same fashion.</p>\n",
        "</div>\n",
        "\n",
        "We can inspect the computed means and standard deviations."
      ],
      "metadata": {
        "id": "f6Mg5xUtPyDP"
      }
    },
    {
      "cell_type": "code",
      "source": [
        "scaler.mean_"
      ],
      "metadata": {
        "colab": {
          "base_uri": "https://localhost:8080/"
        },
        "id": "OIG8J5oRPvG-",
        "outputId": "151e516b-ace5-4dcb-a0cd-ac2195265316"
      },
      "execution_count": 27,
      "outputs": [
        {
          "output_type": "execute_result",
          "data": {
            "text/plain": [
              "array([  38.64235211, 1087.07772106,   89.6653108 ,   40.43124676])"
            ]
          },
          "metadata": {},
          "execution_count": 27
        }
      ]
    },
    {
      "cell_type": "code",
      "source": [
        "scaler.scale_"
      ],
      "metadata": {
        "colab": {
          "base_uri": "https://localhost:8080/"
        },
        "id": "DOmGngX6QyQN",
        "outputId": "81acf4c1-3a4f-4ebe-b09a-f2311fc17bd3"
      },
      "execution_count": 28,
      "outputs": [
        {
          "output_type": "execute_result",
          "data": {
            "text/plain": [
              "array([  13.72556083, 7522.59025606,  407.10461772,   12.42378265])"
            ]
          },
          "metadata": {},
          "execution_count": 28
        }
      ]
    },
    {
      "cell_type": "markdown",
      "source": [
        "<div class=\"admonition note alert alert-info\">\n",
        "<p class=\"first admonition-title\" style=\"font-weight: bold;\">Note</p>\n",
        "<p class=\"last\">scikit-learn convention: if an attribute is learned from the data, its name\n",
        "ends with an underscore (i.e. <tt class=\"docutils literal\">_</tt>), as in <tt class=\"docutils literal\">mean_</tt> and <tt class=\"docutils literal\">scale_</tt> for the\n",
        "<tt class=\"docutils literal\">StandardScaler</tt>.</p>\n",
        "</div>\n",
        "\n",
        "Scaling the data is applied to each feature individually (i.e. each column in\n",
        "the data matrix). For each feature, we subtract its mean and divide by its\n",
        "standard deviation.\n",
        "\n",
        "Once we have called the `fit` method, we can perform data transformation by\n",
        "calling the method `transform`."
      ],
      "metadata": {
        "id": "wDYTiCgdQ7jj"
      }
    },
    {
      "cell_type": "code",
      "source": [
        "data_train_scaled = scaler.transform(data_train)\n",
        "data_train_scaled"
      ],
      "metadata": {
        "colab": {
          "base_uri": "https://localhost:8080/"
        },
        "id": "pjhBYU-LQ0Pd",
        "outputId": "95a9b308-958a-4d15-a8ad-a56f31d42132"
      },
      "execution_count": 29,
      "outputs": [
        {
          "output_type": "execute_result",
          "data": {
            "text/plain": [
              "array([[ 0.17177061, -0.14450843,  5.71188483, -2.28845333],\n",
              "       [ 0.02605707, -0.14450843, -0.22025127, -0.27618374],\n",
              "       [-0.33822677, -0.14450843, -0.22025127,  0.77019645],\n",
              "       ...,\n",
              "       [-0.77536738, -0.14450843, -0.22025127, -0.03471139],\n",
              "       [ 0.53605445, -0.14450843, -0.22025127, -0.03471139],\n",
              "       [ 1.48319243, -0.14450843, -0.22025127, -2.69090725]])"
            ]
          },
          "metadata": {},
          "execution_count": 29
        }
      ]
    },
    {
      "cell_type": "markdown",
      "source": [
        "The `transform` method for transformers is similar to the `predict` method\n",
        "for predictors. It uses a predefined function, called a **transformation\n",
        "function**, and uses the model states and the input data. However, instead of\n",
        "outputting predictions, the job of the `transform` method is to output a\n",
        "transformed version of the input data.\n",
        "\n",
        "Finally, the method `fit_transform` is a shorthand method to call\n",
        "successively `fit` and then `transform`.\n"
      ],
      "metadata": {
        "id": "x9OQuv5fR0TO"
      }
    },
    {
      "cell_type": "code",
      "source": [
        "data_train_scaled = scaler.fit_transform(data_train)\n",
        "data_train_scaled"
      ],
      "metadata": {
        "colab": {
          "base_uri": "https://localhost:8080/"
        },
        "id": "G4FOPuvXRoji",
        "outputId": "ed01e2bb-8a57-42dd-da52-dacba126681b"
      },
      "execution_count": 30,
      "outputs": [
        {
          "output_type": "execute_result",
          "data": {
            "text/plain": [
              "array([[ 0.17177061, -0.14450843,  5.71188483, -2.28845333],\n",
              "       [ 0.02605707, -0.14450843, -0.22025127, -0.27618374],\n",
              "       [-0.33822677, -0.14450843, -0.22025127,  0.77019645],\n",
              "       ...,\n",
              "       [-0.77536738, -0.14450843, -0.22025127, -0.03471139],\n",
              "       [ 0.53605445, -0.14450843, -0.22025127, -0.03471139],\n",
              "       [ 1.48319243, -0.14450843, -0.22025127, -2.69090725]])"
            ]
          },
          "metadata": {},
          "execution_count": 30
        }
      ]
    },
    {
      "cell_type": "code",
      "source": [
        "data_train_scaled = pd.DataFrame(data_train_scaled,\n",
        "                                 columns=data_train.columns)\n",
        "data_train_scaled.describe()"
      ],
      "metadata": {
        "colab": {
          "base_uri": "https://localhost:8080/",
          "height": 300
        },
        "id": "ue1I-IxRSdLk",
        "outputId": "dd3855c0-8db7-4c46-e0c8-c74706b01b36"
      },
      "execution_count": 31,
      "outputs": [
        {
          "output_type": "execute_result",
          "data": {
            "text/plain": [
              "                age  capital-gain  capital-loss  hours-per-week\n",
              "count  3.663100e+04  3.663100e+04  3.663100e+04    3.663100e+04\n",
              "mean  -1.263553e-16 -1.708425e-15 -1.652358e-15    1.146502e-16\n",
              "std    1.000014e+00  1.000014e+00  1.000014e+00    1.000014e+00\n",
              "min   -1.576792e+00 -1.445084e-01 -2.202513e-01   -3.173852e+00\n",
              "25%   -7.753674e-01 -1.445084e-01 -2.202513e-01   -3.471139e-02\n",
              "50%   -1.196565e-01 -1.445084e-01 -2.202513e-01   -3.471139e-02\n",
              "75%    6.817680e-01 -1.445084e-01 -2.202513e-01    3.677425e-01\n",
              "max    3.741752e+00  1.314865e+01  1.047970e+01    4.714245e+00"
            ],
            "text/html": [
              "\n",
              "  <div id=\"df-128ba715-5ef1-4470-8b06-882c51906d87\">\n",
              "    <div class=\"colab-df-container\">\n",
              "      <div>\n",
              "<style scoped>\n",
              "    .dataframe tbody tr th:only-of-type {\n",
              "        vertical-align: middle;\n",
              "    }\n",
              "\n",
              "    .dataframe tbody tr th {\n",
              "        vertical-align: top;\n",
              "    }\n",
              "\n",
              "    .dataframe thead th {\n",
              "        text-align: right;\n",
              "    }\n",
              "</style>\n",
              "<table border=\"1\" class=\"dataframe\">\n",
              "  <thead>\n",
              "    <tr style=\"text-align: right;\">\n",
              "      <th></th>\n",
              "      <th>age</th>\n",
              "      <th>capital-gain</th>\n",
              "      <th>capital-loss</th>\n",
              "      <th>hours-per-week</th>\n",
              "    </tr>\n",
              "  </thead>\n",
              "  <tbody>\n",
              "    <tr>\n",
              "      <th>count</th>\n",
              "      <td>3.663100e+04</td>\n",
              "      <td>3.663100e+04</td>\n",
              "      <td>3.663100e+04</td>\n",
              "      <td>3.663100e+04</td>\n",
              "    </tr>\n",
              "    <tr>\n",
              "      <th>mean</th>\n",
              "      <td>-1.263553e-16</td>\n",
              "      <td>-1.708425e-15</td>\n",
              "      <td>-1.652358e-15</td>\n",
              "      <td>1.146502e-16</td>\n",
              "    </tr>\n",
              "    <tr>\n",
              "      <th>std</th>\n",
              "      <td>1.000014e+00</td>\n",
              "      <td>1.000014e+00</td>\n",
              "      <td>1.000014e+00</td>\n",
              "      <td>1.000014e+00</td>\n",
              "    </tr>\n",
              "    <tr>\n",
              "      <th>min</th>\n",
              "      <td>-1.576792e+00</td>\n",
              "      <td>-1.445084e-01</td>\n",
              "      <td>-2.202513e-01</td>\n",
              "      <td>-3.173852e+00</td>\n",
              "    </tr>\n",
              "    <tr>\n",
              "      <th>25%</th>\n",
              "      <td>-7.753674e-01</td>\n",
              "      <td>-1.445084e-01</td>\n",
              "      <td>-2.202513e-01</td>\n",
              "      <td>-3.471139e-02</td>\n",
              "    </tr>\n",
              "    <tr>\n",
              "      <th>50%</th>\n",
              "      <td>-1.196565e-01</td>\n",
              "      <td>-1.445084e-01</td>\n",
              "      <td>-2.202513e-01</td>\n",
              "      <td>-3.471139e-02</td>\n",
              "    </tr>\n",
              "    <tr>\n",
              "      <th>75%</th>\n",
              "      <td>6.817680e-01</td>\n",
              "      <td>-1.445084e-01</td>\n",
              "      <td>-2.202513e-01</td>\n",
              "      <td>3.677425e-01</td>\n",
              "    </tr>\n",
              "    <tr>\n",
              "      <th>max</th>\n",
              "      <td>3.741752e+00</td>\n",
              "      <td>1.314865e+01</td>\n",
              "      <td>1.047970e+01</td>\n",
              "      <td>4.714245e+00</td>\n",
              "    </tr>\n",
              "  </tbody>\n",
              "</table>\n",
              "</div>\n",
              "      <button class=\"colab-df-convert\" onclick=\"convertToInteractive('df-128ba715-5ef1-4470-8b06-882c51906d87')\"\n",
              "              title=\"Convert this dataframe to an interactive table.\"\n",
              "              style=\"display:none;\">\n",
              "        \n",
              "  <svg xmlns=\"http://www.w3.org/2000/svg\" height=\"24px\"viewBox=\"0 0 24 24\"\n",
              "       width=\"24px\">\n",
              "    <path d=\"M0 0h24v24H0V0z\" fill=\"none\"/>\n",
              "    <path d=\"M18.56 5.44l.94 2.06.94-2.06 2.06-.94-2.06-.94-.94-2.06-.94 2.06-2.06.94zm-11 1L8.5 8.5l.94-2.06 2.06-.94-2.06-.94L8.5 2.5l-.94 2.06-2.06.94zm10 10l.94 2.06.94-2.06 2.06-.94-2.06-.94-.94-2.06-.94 2.06-2.06.94z\"/><path d=\"M17.41 7.96l-1.37-1.37c-.4-.4-.92-.59-1.43-.59-.52 0-1.04.2-1.43.59L10.3 9.45l-7.72 7.72c-.78.78-.78 2.05 0 2.83L4 21.41c.39.39.9.59 1.41.59.51 0 1.02-.2 1.41-.59l7.78-7.78 2.81-2.81c.8-.78.8-2.07 0-2.86zM5.41 20L4 18.59l7.72-7.72 1.47 1.35L5.41 20z\"/>\n",
              "  </svg>\n",
              "      </button>\n",
              "      \n",
              "  <style>\n",
              "    .colab-df-container {\n",
              "      display:flex;\n",
              "      flex-wrap:wrap;\n",
              "      gap: 12px;\n",
              "    }\n",
              "\n",
              "    .colab-df-convert {\n",
              "      background-color: #E8F0FE;\n",
              "      border: none;\n",
              "      border-radius: 50%;\n",
              "      cursor: pointer;\n",
              "      display: none;\n",
              "      fill: #1967D2;\n",
              "      height: 32px;\n",
              "      padding: 0 0 0 0;\n",
              "      width: 32px;\n",
              "    }\n",
              "\n",
              "    .colab-df-convert:hover {\n",
              "      background-color: #E2EBFA;\n",
              "      box-shadow: 0px 1px 2px rgba(60, 64, 67, 0.3), 0px 1px 3px 1px rgba(60, 64, 67, 0.15);\n",
              "      fill: #174EA6;\n",
              "    }\n",
              "\n",
              "    [theme=dark] .colab-df-convert {\n",
              "      background-color: #3B4455;\n",
              "      fill: #D2E3FC;\n",
              "    }\n",
              "\n",
              "    [theme=dark] .colab-df-convert:hover {\n",
              "      background-color: #434B5C;\n",
              "      box-shadow: 0px 1px 3px 1px rgba(0, 0, 0, 0.15);\n",
              "      filter: drop-shadow(0px 1px 2px rgba(0, 0, 0, 0.3));\n",
              "      fill: #FFFFFF;\n",
              "    }\n",
              "  </style>\n",
              "\n",
              "      <script>\n",
              "        const buttonEl =\n",
              "          document.querySelector('#df-128ba715-5ef1-4470-8b06-882c51906d87 button.colab-df-convert');\n",
              "        buttonEl.style.display =\n",
              "          google.colab.kernel.accessAllowed ? 'block' : 'none';\n",
              "\n",
              "        async function convertToInteractive(key) {\n",
              "          const element = document.querySelector('#df-128ba715-5ef1-4470-8b06-882c51906d87');\n",
              "          const dataTable =\n",
              "            await google.colab.kernel.invokeFunction('convertToInteractive',\n",
              "                                                     [key], {});\n",
              "          if (!dataTable) return;\n",
              "\n",
              "          const docLinkHtml = 'Like what you see? Visit the ' +\n",
              "            '<a target=\"_blank\" href=https://colab.research.google.com/notebooks/data_table.ipynb>data table notebook</a>'\n",
              "            + ' to learn more about interactive tables.';\n",
              "          element.innerHTML = '';\n",
              "          dataTable['output_type'] = 'display_data';\n",
              "          await google.colab.output.renderOutput(dataTable, element);\n",
              "          const docLink = document.createElement('div');\n",
              "          docLink.innerHTML = docLinkHtml;\n",
              "          element.appendChild(docLink);\n",
              "        }\n",
              "      </script>\n",
              "    </div>\n",
              "  </div>\n",
              "  "
            ]
          },
          "metadata": {},
          "execution_count": 31
        }
      ]
    },
    {
      "cell_type": "markdown",
      "source": [
        "Notice that the mean of all the columns is close to 0 and the standard deviation\n",
        "in all cases is close to 1.\n",
        "We can also visualize the effect of `StandardScaler` using a jointplot to show\n",
        "both the histograms of the distributions and a scatterplot of any pair of numerical\n",
        "features at the same time. We can observe that `StandardScaler` does not change\n",
        "the structure of the data itself but the axes get shifted and scaled."
      ],
      "metadata": {
        "id": "0iORBDLtSz37"
      }
    },
    {
      "cell_type": "code",
      "source": [
        "# visualize the regular vs the scaled data\n",
        "\n",
        "num_points_to_plot = 300\n",
        "\n",
        "# original data\n",
        "sns.jointplot(data=data_train[:num_points_to_plot],\n",
        "              x=\"age\", y=\"hours-per-week\", marginal_kws=dict(bins=15))\n",
        "plt.suptitle(\"Jointplot of 'age' vs 'hours-per-week' \\nbefore StandardScaler\", y=1.1)\n",
        "\n",
        "# scaled data\n",
        "\n",
        "sns.jointplot(data=data_train_scaled[:num_points_to_plot],\n",
        "              x=\"age\", y=\"hours-per-week\", marginal_kws=dict(bins=15))\n",
        "_ = plt.suptitle(\"Jointplot of 'age' vs 'hours-per-week' \\nafter StandardScaler\", y=1.1)\n",
        "\n"
      ],
      "metadata": {
        "colab": {
          "base_uri": "https://localhost:8080/",
          "height": 973
        },
        "id": "K4XZDEvfSzsX",
        "outputId": "cff0263c-c09c-4db0-e5b3-526551d9878d"
      },
      "execution_count": 32,
      "outputs": [
        {
          "output_type": "display_data",
          "data": {
            "text/plain": [
              "<Figure size 432x432 with 3 Axes>"
            ],
            "image/png": "[encoded data removed]"
          },
          "metadata": {
            "needs_background": "light"
          }
        },
        {
          "output_type": "display_data",
          "data": {
            "text/plain": [
              "<Figure size 432x432 with 3 Axes>"
            ],
            "image/png": "[encoded data removed]"
          },
          "metadata": {
            "needs_background": "light"
          }
        }
      ]
    },
    {
      "cell_type": "markdown",
      "source": [
        "We can easily combine sequential operations with a scikit-learn\n",
        "`Pipeline`, which chains together operations and is used as any other\n",
        "classifier or regressor. The helper function `make_pipeline` will create a\n",
        "`Pipeline`: it takes as arguments the successive transformations to perform,\n",
        "followed by the classifier or regressor model."
      ],
      "metadata": {
        "id": "FyCE1NEBXs9W"
      }
    },
    {
      "cell_type": "code",
      "source": [
        "import time\n",
        "from sklearn.linear_model import LogisticRegression\n",
        "from sklearn.pipeline import make_pipeline\n",
        "\n",
        "model = make_pipeline(StandardScaler(), LogisticRegression())\n",
        "model"
      ],
      "metadata": {
        "colab": {
          "base_uri": "https://localhost:8080/",
          "height": 126
        },
        "id": "64xoFDOeSvzG",
        "outputId": "3f34059c-fab6-472a-c6f6-1a8391635225"
      },
      "execution_count": 33,
      "outputs": [
        {
          "output_type": "execute_result",
          "data": {
            "text/plain": [
              "Pipeline(steps=[('standardscaler', StandardScaler()),\n",
              "                ('logisticregression', LogisticRegression())])"
            ],
            "text/html": [
              "<style>#sk-cecbe643-d83a-48f1-9b95-80b31861bdb0 {color: black;background-color: white;}#sk-cecbe643-d83a-48f1-9b95-80b31861bdb0 pre{padding: 0;}#sk-cecbe643-d83a-48f1-9b95-80b31861bdb0 div.sk-toggleable {background-color: white;}#sk-cecbe643-d83a-48f1-9b95-80b31861bdb0 label.sk-toggleable__label {cursor: pointer;display: block;width: 100%;margin-bottom: 0;padding: 0.3em;box-sizing: border-box;text-align: center;}#sk-cecbe643-d83a-48f1-9b95-80b31861bdb0 label.sk-toggleable__label-arrow:before {content: \"▸\";float: left;margin-right: 0.25em;color: #696969;}#sk-cecbe643-d83a-48f1-9b95-80b31861bdb0 label.sk-toggleable__label-arrow:hover:before {color: black;}#sk-cecbe643-d83a-48f1-9b95-80b31861bdb0 div.sk-estimator:hover label.sk-toggleable__label-arrow:before {color: black;}#sk-cecbe643-d83a-48f1-9b95-80b31861bdb0 div.sk-toggleable__content {max-height: 0;max-width: 0;overflow: hidden;text-align: left;background-color: #f0f8ff;}#sk-cecbe643-d83a-48f1-9b95-80b31861bdb0 div.sk-toggleable__content pre {margin: 0.2em;color: black;border-radius: 0.25em;background-color: #f0f8ff;}#sk-cecbe643-d83a-48f1-9b95-80b31861bdb0 input.sk-toggleable__control:checked~div.sk-toggleable__content {max-height: 200px;max-width: 100%;overflow: auto;}#sk-cecbe643-d83a-48f1-9b95-80b31861bdb0 input.sk-toggleable__control:checked~label.sk-toggleable__label-arrow:before {content: \"▾\";}#sk-cecbe643-d83a-48f1-9b95-80b31861bdb0 div.sk-estimator input.sk-toggleable__control:checked~label.sk-toggleable__label {background-color: #d4ebff;}#sk-cecbe643-d83a-48f1-9b95-80b31861bdb0 div.sk-label input.sk-toggleable__control:checked~label.sk-toggleable__label {background-color: #d4ebff;}#sk-cecbe643-d83a-48f1-9b95-80b31861bdb0 input.sk-hidden--visually {border: 0;clip: rect(1px 1px 1px 1px);clip: rect(1px, 1px, 1px, 1px);height: 1px;margin: -1px;overflow: hidden;padding: 0;position: absolute;width: 1px;}#sk-cecbe643-d83a-48f1-9b95-80b31861bdb0 div.sk-estimator {font-family: monospace;background-color: #f0f8ff;border: 1px dotted black;border-radius: 0.25em;box-sizing: border-box;margin-bottom: 0.5em;}#sk-cecbe643-d83a-48f1-9b95-80b31861bdb0 div.sk-estimator:hover {background-color: #d4ebff;}#sk-cecbe643-d83a-48f1-9b95-80b31861bdb0 div.sk-parallel-item::after {content: \"\";width: 100%;border-bottom: 1px solid gray;flex-grow: 1;}#sk-cecbe643-d83a-48f1-9b95-80b31861bdb0 div.sk-label:hover label.sk-toggleable__label {background-color: #d4ebff;}#sk-cecbe643-d83a-48f1-9b95-80b31861bdb0 div.sk-serial::before {content: \"\";position: absolute;border-left: 1px solid gray;box-sizing: border-box;top: 2em;bottom: 0;left: 50%;}#sk-cecbe643-d83a-48f1-9b95-80b31861bdb0 div.sk-serial {display: flex;flex-direction: column;align-items: center;background-color: white;padding-right: 0.2em;padding-left: 0.2em;}#sk-cecbe643-d83a-48f1-9b95-80b31861bdb0 div.sk-item {z-index: 1;}#sk-cecbe643-d83a-48f1-9b95-80b31861bdb0 div.sk-parallel {display: flex;align-items: stretch;justify-content: center;background-color: white;}#sk-cecbe643-d83a-48f1-9b95-80b31861bdb0 div.sk-parallel::before {content: \"\";position: absolute;border-left: 1px solid gray;box-sizing: border-box;top: 2em;bottom: 0;left: 50%;}#sk-cecbe643-d83a-48f1-9b95-80b31861bdb0 div.sk-parallel-item {display: flex;flex-direction: column;position: relative;background-color: white;}#sk-cecbe643-d83a-48f1-9b95-80b31861bdb0 div.sk-parallel-item:first-child::after {align-self: flex-end;width: 50%;}#sk-cecbe643-d83a-48f1-9b95-80b31861bdb0 div.sk-parallel-item:last-child::after {align-self: flex-start;width: 50%;}#sk-cecbe643-d83a-48f1-9b95-80b31861bdb0 div.sk-parallel-item:only-child::after {width: 0;}#sk-cecbe643-d83a-48f1-9b95-80b31861bdb0 div.sk-dashed-wrapped {border: 1px dashed gray;margin: 0 0.4em 0.5em 0.4em;box-sizing: border-box;padding-bottom: 0.4em;background-color: white;position: relative;}#sk-cecbe643-d83a-48f1-9b95-80b31861bdb0 div.sk-label label {font-family: monospace;font-weight: bold;background-color: white;display: inline-block;line-height: 1.2em;}#sk-cecbe643-d83a-48f1-9b95-80b31861bdb0 div.sk-label-container {position: relative;z-index: 2;text-align: center;}#sk-cecbe643-d83a-48f1-9b95-80b31861bdb0 div.sk-container {/* jupyter's `normalize.less` sets `[hidden] { display: none; }` but bootstrap.min.css set `[hidden] { display: none !important; }` so we also need the `!important` here to be able to override the default hidden behavior on the sphinx rendered scikit-learn.org. See: https://github.com/scikit-learn/scikit-learn/issues/21755 */display: inline-block !important;position: relative;}#sk-cecbe643-d83a-48f1-9b95-80b31861bdb0 div.sk-text-repr-fallback {display: none;}</style><div id=\"sk-cecbe643-d83a-48f1-9b95-80b31861bdb0\" class=\"sk-top-container\"><div class=\"sk-text-repr-fallback\"><pre>Pipeline(steps=[(&#x27;standardscaler&#x27;, StandardScaler()),\n",
              "                (&#x27;logisticregression&#x27;, LogisticRegression())])</pre><b>Please rerun this cell to show the HTML repr or trust the notebook.</b></div><div class=\"sk-container\" hidden><div class=\"sk-item sk-dashed-wrapped\"><div class=\"sk-label-container\"><div class=\"sk-label sk-toggleable\"><input class=\"sk-toggleable__control sk-hidden--visually\" id=\"38e07fb3-b421-41f2-b4e4-0f97ec2a0f22\" type=\"checkbox\" ><label for=\"38e07fb3-b421-41f2-b4e4-0f97ec2a0f22\" class=\"sk-toggleable__label sk-toggleable__label-arrow\">Pipeline</label><div class=\"sk-toggleable__content\"><pre>Pipeline(steps=[(&#x27;standardscaler&#x27;, StandardScaler()),\n",
              "                (&#x27;logisticregression&#x27;, LogisticRegression())])</pre></div></div></div><div class=\"sk-serial\"><div class=\"sk-item\"><div class=\"sk-estimator sk-toggleable\"><input class=\"sk-toggleable__control sk-hidden--visually\" id=\"dadf6399-2bca-4de4-b4bd-7d8d8c3e3811\" type=\"checkbox\" ><label for=\"dadf6399-2bca-4de4-b4bd-7d8d8c3e3811\" class=\"sk-toggleable__label sk-toggleable__label-arrow\">StandardScaler</label><div class=\"sk-toggleable__content\"><pre>StandardScaler()</pre></div></div></div><div class=\"sk-item\"><div class=\"sk-estimator sk-toggleable\"><input class=\"sk-toggleable__control sk-hidden--visually\" id=\"9fb13280-c6d3-4b86-8051-1d22fd9112ef\" type=\"checkbox\" ><label for=\"9fb13280-c6d3-4b86-8051-1d22fd9112ef\" class=\"sk-toggleable__label sk-toggleable__label-arrow\">LogisticRegression</label><div class=\"sk-toggleable__content\"><pre>LogisticRegression()</pre></div></div></div></div></div></div></div>"
            ]
          },
          "metadata": {},
          "execution_count": 33
        }
      ]
    },
    {
      "cell_type": "markdown",
      "source": [
        "The `make_pipeline` function did not require us to give a name to each step.\n",
        "Indeed, it was automatically assigned based on the name of the classes\n",
        "provided; a `StandardScaler` will be a step named `\"standardscaler\"` in the\n",
        "resulting pipeline. We can check the name of each steps of our model:"
      ],
      "metadata": {
        "id": "_9bQT1eXX6uJ"
      }
    },
    {
      "cell_type": "code",
      "source": [
        "model.named_steps"
      ],
      "metadata": {
        "colab": {
          "base_uri": "https://localhost:8080/"
        },
        "id": "shh0dVRyXy7T",
        "outputId": "33cfe545-7f27-4f3c-f4d4-5052f1137c2c"
      },
      "execution_count": 34,
      "outputs": [
        {
          "output_type": "execute_result",
          "data": {
            "text/plain": [
              "{'logisticregression': LogisticRegression(),\n",
              " 'standardscaler': StandardScaler()}"
            ]
          },
          "metadata": {},
          "execution_count": 34
        }
      ]
    },
    {
      "cell_type": "markdown",
      "source": [
        "This predictive pipeline exposes the same methods as the final predictor:\n",
        "`fit` and `predict` (and additionally `predict_proba`, `decision_function`,\n",
        "or `score`).\n",
        "\n"
      ],
      "metadata": {
        "id": "uWdDWS8wYCtn"
      }
    },
    {
      "cell_type": "code",
      "source": [
        "start = time.time()\n",
        "model.fit(data_train, target_train)\n",
        "elapsed_time = time.time() - start"
      ],
      "metadata": {
        "id": "fm-h2wXDYTee"
      },
      "execution_count": 35,
      "outputs": []
    },
    {
      "cell_type": "markdown",
      "source": [
        "When calling `model.fit`, the method `fit_transform` from each underlying\n",
        "transformer (here a single transformer) in the pipeline will be called to:\n",
        "\n",
        "- learn their internal model states\n",
        "- transform the training data. Finally, the preprocessed data are provided to\n",
        "  train the predictor.\n",
        "\n",
        "To predict the targets given a test set, one uses the `predict` method."
      ],
      "metadata": {
        "id": "nf2Hz1UGYTwR"
      }
    },
    {
      "cell_type": "code",
      "source": [
        "predicted_target = model.predict(data_test)\n",
        "predicted_target[:5]"
      ],
      "metadata": {
        "colab": {
          "base_uri": "https://localhost:8080/"
        },
        "id": "_lZoUy6mX_vc",
        "outputId": "4b8f2ce3-7368-4661-fc13-e60b9d9e6589"
      },
      "execution_count": 36,
      "outputs": [
        {
          "output_type": "execute_result",
          "data": {
            "text/plain": [
              "array([' <=50K', ' <=50K', ' >50K', ' <=50K', ' <=50K'], dtype=object)"
            ]
          },
          "metadata": {},
          "execution_count": 36
        }
      ]
    },
    {
      "cell_type": "markdown",
      "source": [
        "The method `transform` of each transformer (here a single transformer) is\n",
        "called to preprocess the data. Note that there is no need to call the `fit`\n",
        "method for these transformers because we are using the internal model states\n",
        "computed when calling `model.fit`. The preprocessed data is then provided to\n",
        "the predictor that will output the predicted target by calling its method\n",
        "`predict`.\n",
        "\n",
        "As a shorthand, we can check the score of the full predictive pipeline\n",
        "calling the method `model.score`. Thus, let's check the computational and\n",
        "generalization performance of such a predictive pipeline."
      ],
      "metadata": {
        "id": "Bn6AYRgNYiXY"
      }
    },
    {
      "cell_type": "code",
      "source": [
        "model_name = model.__class__.__name__\n",
        "score = model.score(data_test, target_test)\n",
        "print(f\"The accuracy using a {model_name} is {score:.3f} \"\n",
        "      f\"with a fitting time of {elapsed_time:.3f} seconds \"\n",
        "      f\"in {model[-1].n_iter_[0]} iterations\")"
      ],
      "metadata": {
        "colab": {
          "base_uri": "https://localhost:8080/"
        },
        "id": "C3jmiEGUYN1J",
        "outputId": "9346ad46-323c-4b14-acde-e5965bc65454"
      },
      "execution_count": 37,
      "outputs": [
        {
          "output_type": "stream",
          "name": "stdout",
          "text": [
            "The accuracy using a Pipeline is 0.807 with a fitting time of 0.165 seconds in 12 iterations\n"
          ]
        }
      ]
    },
    {
      "cell_type": "markdown",
      "source": [
        "We could compare this predictive model with the predictive model used in the previous notebook which did not scale features."
      ],
      "metadata": {
        "id": "aOSOSyT5YoL2"
      }
    },
    {
      "cell_type": "code",
      "source": [
        "model = LogisticRegression()\n",
        "start = time.time()\n",
        "model.fit(data_train, target_train)\n",
        "elapsed_time = time.time() - start"
      ],
      "metadata": {
        "id": "Z8RPqrtmYlYB"
      },
      "execution_count": 38,
      "outputs": []
    },
    {
      "cell_type": "code",
      "source": [
        "model_name = model.__class__.__name__\n",
        "score = model.score(data_test, target_test)\n",
        "print(f\"The accuracy using a {model_name} is {score:.3f} \"\n",
        "      f\"with a fitting time of {elapsed_time:.3f} seconds \"\n",
        "      f\"in {model.n_iter_[0]} iterations\")"
      ],
      "metadata": {
        "colab": {
          "base_uri": "https://localhost:8080/"
        },
        "id": "d5akx2H0YqAX",
        "outputId": "b5e7abe2-d966-4b76-c703-2047a3b6d296"
      },
      "execution_count": 39,
      "outputs": [
        {
          "output_type": "stream",
          "name": "stdout",
          "text": [
            "The accuracy using a LogisticRegression is 0.807 with a fitting time of 0.540 seconds in 59 iterations\n"
          ]
        }
      ]
    },
    {
      "cell_type": "markdown",
      "source": [
        "We see that scaling the data before training the logistic regression was\n",
        "beneficial in terms of computational performance. Indeed, the number of\n",
        "iterations decreased as well as the training time. The generalization\n",
        "performance did not change since both models converged.\n",
        "\n",
        "<div class=\"admonition warning alert alert-danger\">\n",
        "<p class=\"first admonition-title\" style=\"font-weight: bold;\">Warning</p>\n",
        "<p class=\"last\">Working with non-scaled data will potentially force the algorithm to iterate\n",
        "more as we showed in the example above. There is also the catastrophic\n",
        "scenario where the number of required iterations is larger than the maximum\n",
        "number of iterations allowed by the predictor (controlled by the <tt class=\"docutils literal\">max_iter</tt>)\n",
        "parameter. Therefore, before increasing <tt class=\"docutils literal\">max_iter</tt>, make sure that the data\n",
        "are well scaled.</p>\n",
        "</div>"
      ],
      "metadata": {
        "id": "w0BI3k5FYzEb"
      }
    },
    {
      "cell_type": "markdown",
      "source": [
        "## Model Evaluation Using Cross-Validation\n",
        "\n",
        "Create a model using the `make_pipeline` tool to chain the preprocessing and the estimator in every iteration of the cross-validation."
      ],
      "metadata": {
        "id": "o70SKa7hrw_z"
      }
    },
    {
      "cell_type": "code",
      "source": [
        "from sklearn.preprocessing import StandardScaler\n",
        "from sklearn.linear_model import LogisticRegression\n",
        "from sklearn.pipeline import make_pipeline\n"
      ],
      "metadata": {
        "id": "_N24f53RYtjL"
      },
      "execution_count": 44,
      "outputs": []
    },
    {
      "cell_type": "code",
      "source": [
        "# create model\n",
        "\n",
        "model = make_pipeline(StandardScaler(), LogisticRegression())"
      ],
      "metadata": {
        "id": "TxMxjTjibEBO"
      },
      "execution_count": 45,
      "outputs": []
    },
    {
      "cell_type": "markdown",
      "source": [
        "### The need for cross-validation\n",
        "\n",
        "In the previous steps, we split the original data into a training set and a\n",
        "testing set. The score of a model will in general depend on the way we make\n",
        "such a split. One downside of doing a single split is that it does not give\n",
        "any information about this variability. Another downside, in a setting where\n",
        "the amount of data is small, is that the data available for training and\n",
        "testing will be even smaller after splitting.\n",
        "\n",
        "Instead, we can use cross-validation. Cross-validation consists of repeating\n",
        "the procedure such that the training and testing sets are different each time.\n",
        "Generalization performance metrics are collected for each repetition and then\n",
        "aggregated. As a result we can assess the variability of our measure of the\n",
        "model's generalization performance.\n",
        "\n",
        "Note that there exists several cross-validation strategies, each of them\n",
        "defines how to repeat the `fit`/`score` procedure. In this section, we will\n",
        "use the K-fold strategy: the entire dataset is split into `K` partitions. The\n",
        "`fit`/`score` procedure is repeated `K` times where at each iteration `K - 1`\n",
        "partitions are used to fit the model and `1` partition is used to score. \n",
        "For each cross-validation split, the procedure trains a clone of model on all the red\n",
        "samples and evaluate the score of the model on the blue samples.\n",
        "As mentioned earlier, there is a variety of different cross-validation\n",
        "strategies. Some of these aspects will be covered in more detail in future notebooks.</p>\n",
        "</div>\n",
        "\n",
        "Cross-validation is therefore computationally intensive because it requires\n",
        "training several models instead of one.\n",
        "\n",
        "In scikit-learn, the function `cross_validate` allows to do cross-validation\n",
        "and you need to pass it the model, the data, and the target. Since there\n",
        "exists several cross-validation strategies, `cross_validate` takes a parameter\n",
        "`cv` which defines the splitting strategy."
      ],
      "metadata": {
        "id": "AwsmTILNsx3V"
      }
    },
    {
      "cell_type": "code",
      "source": [
        "%%time\n",
        "from sklearn.model_selection import cross_validate\n",
        "\n",
        "model = make_pipeline(StandardScaler(), LogisticRegression())\n",
        "cv_result = cross_validate(model, data, target, cv=5)\n",
        "cv_result"
      ],
      "metadata": {
        "colab": {
          "base_uri": "https://localhost:8080/"
        },
        "id": "nzpToalHsr9E",
        "outputId": "2e7252e0-08e2-404d-cb09-a8be639e07ed"
      },
      "execution_count": 47,
      "outputs": [
        {
          "output_type": "stream",
          "name": "stdout",
          "text": [
            "CPU times: user 1.33 s, sys: 816 ms, total: 2.15 s\n",
            "Wall time: 1.55 s\n"
          ]
        }
      ]
    },
    {
      "cell_type": "code",
      "source": [
        "cv_result"
      ],
      "metadata": {
        "colab": {
          "base_uri": "https://localhost:8080/"
        },
        "id": "y53qb7uhuXGb",
        "outputId": "524c37a1-a67e-4c76-8672-68b71883a69f"
      },
      "execution_count": 49,
      "outputs": [
        {
          "output_type": "execute_result",
          "data": {
            "text/plain": [
              "{'fit_time': array([0.3223033 , 0.29800773, 0.18175459, 0.18567133, 0.18393898]),\n",
              " 'score_time': array([0.08070683, 0.03886938, 0.03948188, 0.03810024, 0.03783727]),\n",
              " 'test_score': array([0.79557785, 0.80049135, 0.79965192, 0.79873055, 0.80436118])}"
            ]
          },
          "metadata": {},
          "execution_count": 49
        }
      ]
    },
    {
      "cell_type": "markdown",
      "source": [
        "The output of `cross_validate` is a Python dictionary, which by default\n",
        "contains three entries:\n",
        "- (i) the time to train the model on the training data for each fold,\n",
        "- (ii) the time to predict with the model on the testing data for each fold,\n",
        "- (iii) the default score on the testing data for each fold.\n",
        "\n",
        "Setting `cv=5` created 5 distinct splits to get 5 variations for the training\n",
        "and testing sets. Each training set is used to fit one model which is then\n",
        "scored on the matching test set. The default strategy when setting `cv=int` is\n",
        "the K-fold cross-validation where `K` corresponds to the (integer) number of\n",
        "splits. Setting `cv=5` or `cv=10` is a common practice, as it is a good\n",
        "trade-off between computation time and stability of the estimated variability.\n",
        "\n",
        "Note that by default the `cross_validate` function discards the `K` models\n",
        "that were trained on the different overlapping subset of the dataset. The goal\n",
        "of cross-validation is not to train a model, but rather to estimate\n",
        "approximately the generalization performance of a model that would have been\n",
        "trained to the full training set, along with an estimate of the variability\n",
        "(uncertainty on the generalization accuracy).\n",
        "\n",
        "You can pass additional parameters to\n",
        "[`sklearn.model_selection.cross_validate`](https://scikit-learn.org/stable/modules/generated/sklearn.model_selection.cross_validate.html)\n",
        "to collect additional information, such as the training scores of the models\n",
        "obtained on each round or even return the models themselves instead of\n",
        "discarding them.  These features will be covered in a future notebook.\n",
        "\n",
        "Let's extract the scores computed on the test fold of each cross-validation\n",
        "round from the `cv_result` dictionary and compute the mean accuracy and the\n",
        "variation of the accuracy across folds."
      ],
      "metadata": {
        "id": "UxmpZpMrvCaW"
      }
    },
    {
      "cell_type": "code",
      "source": [
        "scores = cv_result[\"test_score\"]\n",
        "print(\n",
        "    \"The mean cross-validation accuracy is: \"\n",
        "    f\"{scores.mean():.3f} +/- {scores.std():.3f}\"\n",
        ")"
      ],
      "metadata": {
        "id": "cYqARrJau3A3"
      },
      "execution_count": null,
      "outputs": []
    },
    {
      "cell_type": "markdown",
      "source": [
        "Note that by computing the standard-deviation of the cross-validation scores,\n",
        "we can estimate the uncertainty of our model generalization performance. This\n",
        "is the main advantage of cross-validation and can be crucial in practice, for\n",
        "example when comparing different models to figure out whether one is better\n",
        "than the other or whether our measures of the generalization performance of each\n",
        "model are within the error bars of one-another.\n",
        "\n",
        "In this particular case, only the first 2 decimals seem to be trustworthy. If\n",
        "you go up in this notebook, you can check that the performance we get with\n",
        "cross-validation is compatible with the one from a single train-test split."
      ],
      "metadata": {
        "id": "sxsqgLzLvV1l"
      }
    },
    {
      "cell_type": "markdown",
      "source": [
        "### Encoding of categorical variables\n",
        "\n",
        "In this section, we will present typical ways of dealing with\n",
        "**categorical variables** by encoding them, namely **ordinal encoding** and\n",
        "**one-hot encoding**."
      ],
      "metadata": {
        "id": "zInQq_yUyv9H"
      }
    },
    {
      "cell_type": "code",
      "source": [
        "adult_census = pd.read_csv(\"/content/adult_census.csv\")\n",
        "# drop the duplicated column `\"education-num\"` as stated in the first notebook\n",
        "adult_census = adult_census.drop(columns=\"education-num\")\n",
        "\n",
        "target_name = \"class\"\n",
        "target = adult_census[target_name]\n",
        "\n",
        "data = adult_census.drop(columns=[target_name])"
      ],
      "metadata": {
        "id": "6l62ZUe0vWKT"
      },
      "execution_count": 55,
      "outputs": []
    },
    {
      "cell_type": "markdown",
      "source": [
        "\n",
        "## Identify categorical variables\n",
        "\n",
        "As we saw in the previous section, a numerical variable is a\n",
        "quantity represented by a real or integer number. These variables can be\n",
        "naturally handled by machine learning algorithms that are typically composed\n",
        "of a sequence of arithmetic instructions such as additions and\n",
        "multiplications.\n",
        "\n",
        "In contrast, categorical variables have discrete values, typically\n",
        "represented by string labels (but not only) taken from a finite list of\n",
        "possible choices. For instance, the variable `native-country` in our dataset\n",
        "is a categorical variable because it encodes the data using a finite list of\n",
        "possible countries (along with the `?` symbol when this information is\n",
        "missing):"
      ],
      "metadata": {
        "id": "7Q6UzxcdzbVl"
      }
    },
    {
      "cell_type": "code",
      "source": [
        "data[\"native-country\"].value_counts().sort_index()"
      ],
      "metadata": {
        "colab": {
          "base_uri": "https://localhost:8080/"
        },
        "id": "kXizq-tXzDPN",
        "outputId": "09531c47-5437-426e-b26c-4dc2204f0798"
      },
      "execution_count": 56,
      "outputs": [
        {
          "output_type": "execute_result",
          "data": {
            "text/plain": [
              " ?                               857\n",
              " Cambodia                         28\n",
              " Canada                          182\n",
              " China                           122\n",
              " Columbia                         85\n",
              " Cuba                            138\n",
              " Dominican-Republic              103\n",
              " Ecuador                          45\n",
              " El-Salvador                     155\n",
              " England                         127\n",
              " France                           38\n",
              " Germany                         206\n",
              " Greece                           49\n",
              " Guatemala                        88\n",
              " Haiti                            75\n",
              " Holand-Netherlands                1\n",
              " Honduras                         20\n",
              " Hong                             30\n",
              " Hungary                          19\n",
              " India                           151\n",
              " Iran                             59\n",
              " Ireland                          37\n",
              " Italy                           105\n",
              " Jamaica                         106\n",
              " Japan                            92\n",
              " Laos                             23\n",
              " Mexico                          951\n",
              " Nicaragua                        49\n",
              " Outlying-US(Guam-USVI-etc)       23\n",
              " Peru                             46\n",
              " Philippines                     295\n",
              " Poland                           87\n",
              " Portugal                         67\n",
              " Puerto-Rico                     184\n",
              " Scotland                         21\n",
              " South                           115\n",
              " Taiwan                           65\n",
              " Thailand                         30\n",
              " Trinadad&Tobago                  27\n",
              " United-States                 43832\n",
              " Vietnam                          86\n",
              " Yugoslavia                       23\n",
              "Name: native-country, dtype: int64"
            ]
          },
          "metadata": {},
          "execution_count": 56
        }
      ]
    },
    {
      "cell_type": "markdown",
      "source": [
        "How can we easily recognize categorical columns among the dataset? Part of\n",
        "the answer lies in the columns' data type:"
      ],
      "metadata": {
        "id": "kK_6ajUWz17x"
      }
    },
    {
      "cell_type": "code",
      "source": [
        "data.dtypes"
      ],
      "metadata": {
        "colab": {
          "base_uri": "https://localhost:8080/"
        },
        "id": "lLSlo0sTz1X1",
        "outputId": "e302c97f-49df-49c9-ae33-e752e5ace11d"
      },
      "execution_count": 57,
      "outputs": [
        {
          "output_type": "execute_result",
          "data": {
            "text/plain": [
              "age                int64\n",
              "workclass         object\n",
              "fnlwgt             int64\n",
              "education         object\n",
              "marital-status    object\n",
              "occupation        object\n",
              "relationship      object\n",
              "race              object\n",
              "sex               object\n",
              "capital-gain       int64\n",
              "capital-loss       int64\n",
              "hours-per-week     int64\n",
              "native-country    object\n",
              "dtype: object"
            ]
          },
          "metadata": {},
          "execution_count": 57
        }
      ]
    },
    {
      "cell_type": "markdown",
      "source": [
        "If we look at the `\"native-country\"` column, we observe its data type is\n",
        "`object`, meaning it contains string values.\n",
        "\n",
        "## Select features based on their data type\n",
        "\n",
        "In the previous notebook, we manually defined the numerical columns. We could\n",
        "do a similar approach. Instead, we will use the scikit-learn helper function\n",
        "`make_column_selector`, which allows us to select columns based on\n",
        "their data type. We will illustrate how to use this helper."
      ],
      "metadata": {
        "id": "aiHBD8Ywz-Dh"
      }
    },
    {
      "cell_type": "code",
      "source": [
        "from sklearn.compose import make_column_selector as selector\n",
        "\n",
        "categorical_columns_selector = selector(dtype_include=object)\n",
        "categorical_columns = categorical_columns_selector(data)\n",
        "categorical_columns"
      ],
      "metadata": {
        "colab": {
          "base_uri": "https://localhost:8080/"
        },
        "id": "i9UFZcVzzsni",
        "outputId": "9df4a310-b801-44a9-b847-f9b9242dac4d"
      },
      "execution_count": 58,
      "outputs": [
        {
          "output_type": "execute_result",
          "data": {
            "text/plain": [
              "['workclass',\n",
              " 'education',\n",
              " 'marital-status',\n",
              " 'occupation',\n",
              " 'relationship',\n",
              " 'race',\n",
              " 'sex',\n",
              " 'native-country']"
            ]
          },
          "metadata": {},
          "execution_count": 58
        }
      ]
    },
    {
      "cell_type": "markdown",
      "source": [
        "Here, we created the selector by passing the data type to include; we then\n",
        "passed the input dataset to the selector object, which returned a list of\n",
        "column names that have the requested data type. We can now filter out the\n",
        "unwanted columns:"
      ],
      "metadata": {
        "id": "0WDoTzbO0e1K"
      }
    },
    {
      "cell_type": "code",
      "source": [
        "data_categorical = data[categorical_columns]\n",
        "data_categorical.head()"
      ],
      "metadata": {
        "colab": {
          "base_uri": "https://localhost:8080/",
          "height": 206
        },
        "id": "UiAqRf240bJR",
        "outputId": "1d393a39-7955-423f-9816-5296690f2980"
      },
      "execution_count": 59,
      "outputs": [
        {
          "output_type": "execute_result",
          "data": {
            "text/plain": [
              "    workclass      education       marital-status          occupation  \\\n",
              "0     Private           11th        Never-married   Machine-op-inspct   \n",
              "1     Private        HS-grad   Married-civ-spouse     Farming-fishing   \n",
              "2   Local-gov     Assoc-acdm   Married-civ-spouse     Protective-serv   \n",
              "3     Private   Some-college   Married-civ-spouse   Machine-op-inspct   \n",
              "4           ?   Some-college        Never-married                   ?   \n",
              "\n",
              "  relationship    race      sex  native-country  \n",
              "0    Own-child   Black     Male   United-States  \n",
              "1      Husband   White     Male   United-States  \n",
              "2      Husband   White     Male   United-States  \n",
              "3      Husband   Black     Male   United-States  \n",
              "4    Own-child   White   Female   United-States  "
            ],
            "text/html": [
              "\n",
              "  <div id=\"df-6a444074-16fc-477e-8ba3-ae255bb3e793\">\n",
              "    <div class=\"colab-df-container\">\n",
              "      <div>\n",
              "<style scoped>\n",
              "    .dataframe tbody tr th:only-of-type {\n",
              "        vertical-align: middle;\n",
              "    }\n",
              "\n",
              "    .dataframe tbody tr th {\n",
              "        vertical-align: top;\n",
              "    }\n",
              "\n",
              "    .dataframe thead th {\n",
              "        text-align: right;\n",
              "    }\n",
              "</style>\n",
              "<table border=\"1\" class=\"dataframe\">\n",
              "  <thead>\n",
              "    <tr style=\"text-align: right;\">\n",
              "      <th></th>\n",
              "      <th>workclass</th>\n",
              "      <th>education</th>\n",
              "      <th>marital-status</th>\n",
              "      <th>occupation</th>\n",
              "      <th>relationship</th>\n",
              "      <th>race</th>\n",
              "      <th>sex</th>\n",
              "      <th>native-country</th>\n",
              "    </tr>\n",
              "  </thead>\n",
              "  <tbody>\n",
              "    <tr>\n",
              "      <th>0</th>\n",
              "      <td>Private</td>\n",
              "      <td>11th</td>\n",
              "      <td>Never-married</td>\n",
              "      <td>Machine-op-inspct</td>\n",
              "      <td>Own-child</td>\n",
              "      <td>Black</td>\n",
              "      <td>Male</td>\n",
              "      <td>United-States</td>\n",
              "    </tr>\n",
              "    <tr>\n",
              "      <th>1</th>\n",
              "      <td>Private</td>\n",
              "      <td>HS-grad</td>\n",
              "      <td>Married-civ-spouse</td>\n",
              "      <td>Farming-fishing</td>\n",
              "      <td>Husband</td>\n",
              "      <td>White</td>\n",
              "      <td>Male</td>\n",
              "      <td>United-States</td>\n",
              "    </tr>\n",
              "    <tr>\n",
              "      <th>2</th>\n",
              "      <td>Local-gov</td>\n",
              "      <td>Assoc-acdm</td>\n",
              "      <td>Married-civ-spouse</td>\n",
              "      <td>Protective-serv</td>\n",
              "      <td>Husband</td>\n",
              "      <td>White</td>\n",
              "      <td>Male</td>\n",
              "      <td>United-States</td>\n",
              "    </tr>\n",
              "    <tr>\n",
              "      <th>3</th>\n",
              "      <td>Private</td>\n",
              "      <td>Some-college</td>\n",
              "      <td>Married-civ-spouse</td>\n",
              "      <td>Machine-op-inspct</td>\n",
              "      <td>Husband</td>\n",
              "      <td>Black</td>\n",
              "      <td>Male</td>\n",
              "      <td>United-States</td>\n",
              "    </tr>\n",
              "    <tr>\n",
              "      <th>4</th>\n",
              "      <td>?</td>\n",
              "      <td>Some-college</td>\n",
              "      <td>Never-married</td>\n",
              "      <td>?</td>\n",
              "      <td>Own-child</td>\n",
              "      <td>White</td>\n",
              "      <td>Female</td>\n",
              "      <td>United-States</td>\n",
              "    </tr>\n",
              "  </tbody>\n",
              "</table>\n",
              "</div>\n",
              "      <button class=\"colab-df-convert\" onclick=\"convertToInteractive('df-6a444074-16fc-477e-8ba3-ae255bb3e793')\"\n",
              "              title=\"Convert this dataframe to an interactive table.\"\n",
              "              style=\"display:none;\">\n",
              "        \n",
              "  <svg xmlns=\"http://www.w3.org/2000/svg\" height=\"24px\"viewBox=\"0 0 24 24\"\n",
              "       width=\"24px\">\n",
              "    <path d=\"M0 0h24v24H0V0z\" fill=\"none\"/>\n",
              "    <path d=\"M18.56 5.44l.94 2.06.94-2.06 2.06-.94-2.06-.94-.94-2.06-.94 2.06-2.06.94zm-11 1L8.5 8.5l.94-2.06 2.06-.94-2.06-.94L8.5 2.5l-.94 2.06-2.06.94zm10 10l.94 2.06.94-2.06 2.06-.94-2.06-.94-.94-2.06-.94 2.06-2.06.94z\"/><path d=\"M17.41 7.96l-1.37-1.37c-.4-.4-.92-.59-1.43-.59-.52 0-1.04.2-1.43.59L10.3 9.45l-7.72 7.72c-.78.78-.78 2.05 0 2.83L4 21.41c.39.39.9.59 1.41.59.51 0 1.02-.2 1.41-.59l7.78-7.78 2.81-2.81c.8-.78.8-2.07 0-2.86zM5.41 20L4 18.59l7.72-7.72 1.47 1.35L5.41 20z\"/>\n",
              "  </svg>\n",
              "      </button>\n",
              "      \n",
              "  <style>\n",
              "    .colab-df-container {\n",
              "      display:flex;\n",
              "      flex-wrap:wrap;\n",
              "      gap: 12px;\n",
              "    }\n",
              "\n",
              "    .colab-df-convert {\n",
              "      background-color: #E8F0FE;\n",
              "      border: none;\n",
              "      border-radius: 50%;\n",
              "      cursor: pointer;\n",
              "      display: none;\n",
              "      fill: #1967D2;\n",
              "      height: 32px;\n",
              "      padding: 0 0 0 0;\n",
              "      width: 32px;\n",
              "    }\n",
              "\n",
              "    .colab-df-convert:hover {\n",
              "      background-color: #E2EBFA;\n",
              "      box-shadow: 0px 1px 2px rgba(60, 64, 67, 0.3), 0px 1px 3px 1px rgba(60, 64, 67, 0.15);\n",
              "      fill: #174EA6;\n",
              "    }\n",
              "\n",
              "    [theme=dark] .colab-df-convert {\n",
              "      background-color: #3B4455;\n",
              "      fill: #D2E3FC;\n",
              "    }\n",
              "\n",
              "    [theme=dark] .colab-df-convert:hover {\n",
              "      background-color: #434B5C;\n",
              "      box-shadow: 0px 1px 3px 1px rgba(0, 0, 0, 0.15);\n",
              "      filter: drop-shadow(0px 1px 2px rgba(0, 0, 0, 0.3));\n",
              "      fill: #FFFFFF;\n",
              "    }\n",
              "  </style>\n",
              "\n",
              "      <script>\n",
              "        const buttonEl =\n",
              "          document.querySelector('#df-6a444074-16fc-477e-8ba3-ae255bb3e793 button.colab-df-convert');\n",
              "        buttonEl.style.display =\n",
              "          google.colab.kernel.accessAllowed ? 'block' : 'none';\n",
              "\n",
              "        async function convertToInteractive(key) {\n",
              "          const element = document.querySelector('#df-6a444074-16fc-477e-8ba3-ae255bb3e793');\n",
              "          const dataTable =\n",
              "            await google.colab.kernel.invokeFunction('convertToInteractive',\n",
              "                                                     [key], {});\n",
              "          if (!dataTable) return;\n",
              "\n",
              "          const docLinkHtml = 'Like what you see? Visit the ' +\n",
              "            '<a target=\"_blank\" href=https://colab.research.google.com/notebooks/data_table.ipynb>data table notebook</a>'\n",
              "            + ' to learn more about interactive tables.';\n",
              "          element.innerHTML = '';\n",
              "          dataTable['output_type'] = 'display_data';\n",
              "          await google.colab.output.renderOutput(dataTable, element);\n",
              "          const docLink = document.createElement('div');\n",
              "          docLink.innerHTML = docLinkHtml;\n",
              "          element.appendChild(docLink);\n",
              "        }\n",
              "      </script>\n",
              "    </div>\n",
              "  </div>\n",
              "  "
            ]
          },
          "metadata": {},
          "execution_count": 59
        }
      ]
    },
    {
      "cell_type": "code",
      "source": [
        "print(f\"The dataset is composed of {data_categorical.shape[1]} features\")"
      ],
      "metadata": {
        "colab": {
          "base_uri": "https://localhost:8080/"
        },
        "id": "PwJoxNjL0lkJ",
        "outputId": "06f4f624-fc02-423a-9d14-c5f66b477de1"
      },
      "execution_count": 60,
      "outputs": [
        {
          "output_type": "stream",
          "name": "stdout",
          "text": [
            "The dataset is composed of 8 features\n"
          ]
        }
      ]
    },
    {
      "cell_type": "markdown",
      "source": [
        "## Strategies to encode categories\n",
        "\n",
        "### Encoding ordinal categories\n",
        "\n",
        "The most intuitive strategy is to encode each category with a different\n",
        "number. The `OrdinalEncoder` will transform the data in such manner.\n",
        "We will start by encoding a single column to understand how the encoding\n",
        "works."
      ],
      "metadata": {
        "id": "LvgAL5Ff016Y"
      }
    },
    {
      "cell_type": "code",
      "source": [
        "from sklearn.preprocessing import OrdinalEncoder\n",
        "\n",
        "education_column = data_categorical[[\"education\"]]\n",
        "\n",
        "encoder = OrdinalEncoder()\n",
        "education_encoded = encoder.fit_transform(education_column)\n",
        "education_encoded"
      ],
      "metadata": {
        "colab": {
          "base_uri": "https://localhost:8080/"
        },
        "id": "1hpvjUTj0n_A",
        "outputId": "86a06b25-10ec-458e-9c99-1b1c5129c85c"
      },
      "execution_count": 61,
      "outputs": [
        {
          "output_type": "execute_result",
          "data": {
            "text/plain": [
              "array([[ 1.],\n",
              "       [11.],\n",
              "       [ 7.],\n",
              "       ...,\n",
              "       [11.],\n",
              "       [11.],\n",
              "       [11.]])"
            ]
          },
          "metadata": {},
          "execution_count": 61
        }
      ]
    },
    {
      "cell_type": "markdown",
      "source": [
        "We see that each category in `\"education\"` has been replaced by a numeric\n",
        "value. We could check the mapping between the categories and the numerical\n",
        "values by checking the fitted attribute `categories_`."
      ],
      "metadata": {
        "id": "7ugU6xiG1eAx"
      }
    },
    {
      "cell_type": "code",
      "source": [
        "encoder.categories_"
      ],
      "metadata": {
        "colab": {
          "base_uri": "https://localhost:8080/"
        },
        "id": "4ooq9J8y1ZSG",
        "outputId": "06449dc3-06ba-4eed-854a-3840c77a8f1a"
      },
      "execution_count": 62,
      "outputs": [
        {
          "output_type": "execute_result",
          "data": {
            "text/plain": [
              "[array([' 10th', ' 11th', ' 12th', ' 1st-4th', ' 5th-6th', ' 7th-8th',\n",
              "        ' 9th', ' Assoc-acdm', ' Assoc-voc', ' Bachelors', ' Doctorate',\n",
              "        ' HS-grad', ' Masters', ' Preschool', ' Prof-school',\n",
              "        ' Some-college'], dtype=object)]"
            ]
          },
          "metadata": {},
          "execution_count": 62
        }
      ]
    },
    {
      "cell_type": "markdown",
      "source": [
        "Now we can check the encoding applied on all categorical features"
      ],
      "metadata": {
        "id": "75cIQxAq1lZ1"
      }
    },
    {
      "cell_type": "code",
      "source": [
        "data_encoded = encoder.fit_transform(data_categorical)\n",
        "data_encoded[:5]"
      ],
      "metadata": {
        "colab": {
          "base_uri": "https://localhost:8080/"
        },
        "id": "JFM3EEVD1jl9",
        "outputId": "38d43352-2cbd-45ce-8617-8cade37207eb"
      },
      "execution_count": 64,
      "outputs": [
        {
          "output_type": "execute_result",
          "data": {
            "text/plain": [
              "array([[ 4.,  1.,  4.,  7.,  3.,  2.,  1., 39.],\n",
              "       [ 4., 11.,  2.,  5.,  0.,  4.,  1., 39.],\n",
              "       [ 2.,  7.,  2., 11.,  0.,  4.,  1., 39.],\n",
              "       [ 4., 15.,  2.,  7.,  0.,  2.,  1., 39.],\n",
              "       [ 0., 15.,  4.,  0.,  3.,  4.,  0., 39.]])"
            ]
          },
          "metadata": {},
          "execution_count": 64
        }
      ]
    },
    {
      "cell_type": "code",
      "source": [
        "print(\n",
        "    f\"The dataset encoded contains {data_encoded.shape[1]} features\"\n",
        ")"
      ],
      "metadata": {
        "colab": {
          "base_uri": "https://localhost:8080/"
        },
        "id": "jl0VJjXJ1yS2",
        "outputId": "ad207c09-d653-4ce4-b012-1907b9007051"
      },
      "execution_count": 65,
      "outputs": [
        {
          "output_type": "stream",
          "name": "stdout",
          "text": [
            "The dataset encoded contains 8 features\n"
          ]
        }
      ]
    },
    {
      "cell_type": "markdown",
      "source": [
        "We see that the categories have been encoded for each feature (column)\n",
        "independently. We also note that the number of features before and after the\n",
        "encoding is the same.\n",
        "\n",
        "However, be careful when applying this encoding strategy:\n",
        "using this integer representation leads downstream predictive models\n",
        "to assume that the values are ordered (0 < 1 < 2 < 3... for instance).\n",
        "\n",
        "By default, `OrdinalEncoder` uses a lexicographical strategy to map string\n",
        "category labels to integers. This strategy is arbitrary and often\n",
        "meaningless. For instance, suppose the dataset has a categorical variable\n",
        "named `\"size\"` with categories such as \"S\", \"M\", \"L\", \"XL\". We would like the\n",
        "integer representation to respect the meaning of the sizes by mapping them to\n",
        "increasing integers such as `0, 1, 2, 3`.\n",
        "However, the lexicographical strategy used by default would map the labels\n",
        "\"S\", \"M\", \"L\", \"XL\" to 2, 1, 0, 3, by following the alphabetical order.\n",
        "\n",
        "The `OrdinalEncoder` class accepts a `categories` constructor argument to\n",
        "pass categories in the expected ordering explicitly. You can find more\n",
        "information in the\n",
        "[scikit-learn documentation](https://scikit-learn.org/stable/modules/preprocessing.html#encoding-categorical-features)\n",
        "if needed.\n",
        "\n",
        "If a categorical variable does not carry any meaningful order information\n",
        "then this encoding might be misleading to downstream statistical models and\n",
        "you might consider using one-hot encoding instead (see below).\n",
        "\n",
        "### Encoding nominal categories (without assuming any order)\n",
        "\n",
        "`OneHotEncoder` is an alternative encoder that prevents the downstream\n",
        "models to make a false assumption about the ordering of categories. For a\n",
        "given feature, it will create as many new columns as there are possible\n",
        "categories. For a given sample, the value of the column corresponding to the\n",
        "category will be set to `1` while all the columns of the other categories\n",
        "will be set to `0`.\n",
        "\n",
        "We will start by encoding a single feature (e.g. `\"education\"`) to illustrate\n",
        "how the encoding works."
      ],
      "metadata": {
        "id": "rWvLkcRB2rjr"
      }
    },
    {
      "cell_type": "code",
      "source": [
        "from sklearn.preprocessing import OneHotEncoder\n",
        "\n",
        "encoder = OneHotEncoder(sparse=False)\n",
        "education_encoded = encoder.fit_transform(education_column)\n",
        "education_encoded"
      ],
      "metadata": {
        "colab": {
          "base_uri": "https://localhost:8080/"
        },
        "id": "NI-yVcKl2DnF",
        "outputId": "50e59dad-938e-4ef8-94fb-3a3a84a26b26"
      },
      "execution_count": 67,
      "outputs": [
        {
          "output_type": "execute_result",
          "data": {
            "text/plain": [
              "array([[0., 1., 0., ..., 0., 0., 0.],\n",
              "       [0., 0., 0., ..., 0., 0., 0.],\n",
              "       [0., 0., 0., ..., 0., 0., 0.],\n",
              "       ...,\n",
              "       [0., 0., 0., ..., 0., 0., 0.],\n",
              "       [0., 0., 0., ..., 0., 0., 0.],\n",
              "       [0., 0., 0., ..., 0., 0., 0.]])"
            ]
          },
          "metadata": {},
          "execution_count": 67
        }
      ]
    },
    {
      "cell_type": "markdown",
      "source": [
        "<div class=\"admonition note alert alert-info\">\n",
        "<p class=\"first admonition-title\" style=\"font-weight: bold;\">Note</p>\n",
        "<p><tt class=\"docutils literal\">sparse=False</tt> is used in the <tt class=\"docutils literal\">OneHotEncoder</tt> for didactic purposes, namely\n",
        "easier visualization of the data.</p>\n",
        "<p class=\"last\">Sparse matrices are efficient data structures when most of your matrix\n",
        "elements are zero. They won't be covered in detail in this course. If you\n",
        "want more details about them, you can look at\n",
        "<a class=\"reference external\" href=\"https://scipy-lectures.org/advanced/scipy_sparse/introduction.html#why-sparse-matrices\">this</a>.</p>\n",
        "</div>"
      ],
      "metadata": {
        "id": "Pwp_xyaW3AyU"
      }
    },
    {
      "cell_type": "markdown",
      "source": [
        "We see that encoding a single feature will give a NumPy array full of zeros\n",
        "and ones. We can get a better understanding using the associated feature\n",
        "names resulting from the transformation."
      ],
      "metadata": {
        "id": "_WE3abtV3Mly"
      }
    },
    {
      "cell_type": "code",
      "source": [
        "feature_names = encoder.get_feature_names_out(input_features=[\"education\"])\n",
        "education_encoded = pd.DataFrame(education_encoded, columns=feature_names)\n",
        "education_encoded"
      ],
      "metadata": {
        "colab": {
          "base_uri": "https://localhost:8080/",
          "height": 522
        },
        "id": "MLJOd74e26vx",
        "outputId": "8a92b759-1109-4a60-b382-8474499422cd"
      },
      "execution_count": 68,
      "outputs": [
        {
          "output_type": "execute_result",
          "data": {
            "text/plain": [
              "       education_ 10th  education_ 11th  education_ 12th  education_ 1st-4th  \\\n",
              "0                  0.0              1.0              0.0                 0.0   \n",
              "1                  0.0              0.0              0.0                 0.0   \n",
              "2                  0.0              0.0              0.0                 0.0   \n",
              "3                  0.0              0.0              0.0                 0.0   \n",
              "4                  0.0              0.0              0.0                 0.0   \n",
              "...                ...              ...              ...                 ...   \n",
              "48837              0.0              0.0              0.0                 0.0   \n",
              "48838              0.0              0.0              0.0                 0.0   \n",
              "48839              0.0              0.0              0.0                 0.0   \n",
              "48840              0.0              0.0              0.0                 0.0   \n",
              "48841              0.0              0.0              0.0                 0.0   \n",
              "\n",
              "       education_ 5th-6th  education_ 7th-8th  education_ 9th  \\\n",
              "0                     0.0                 0.0             0.0   \n",
              "1                     0.0                 0.0             0.0   \n",
              "2                     0.0                 0.0             0.0   \n",
              "3                     0.0                 0.0             0.0   \n",
              "4                     0.0                 0.0             0.0   \n",
              "...                   ...                 ...             ...   \n",
              "48837                 0.0                 0.0             0.0   \n",
              "48838                 0.0                 0.0             0.0   \n",
              "48839                 0.0                 0.0             0.0   \n",
              "48840                 0.0                 0.0             0.0   \n",
              "48841                 0.0                 0.0             0.0   \n",
              "\n",
              "       education_ Assoc-acdm  education_ Assoc-voc  education_ Bachelors  \\\n",
              "0                        0.0                   0.0                   0.0   \n",
              "1                        0.0                   0.0                   0.0   \n",
              "2                        1.0                   0.0                   0.0   \n",
              "3                        0.0                   0.0                   0.0   \n",
              "4                        0.0                   0.0                   0.0   \n",
              "...                      ...                   ...                   ...   \n",
              "48837                    1.0                   0.0                   0.0   \n",
              "48838                    0.0                   0.0                   0.0   \n",
              "48839                    0.0                   0.0                   0.0   \n",
              "48840                    0.0                   0.0                   0.0   \n",
              "48841                    0.0                   0.0                   0.0   \n",
              "\n",
              "       education_ Doctorate  education_ HS-grad  education_ Masters  \\\n",
              "0                       0.0                 0.0                 0.0   \n",
              "1                       0.0                 1.0                 0.0   \n",
              "2                       0.0                 0.0                 0.0   \n",
              "3                       0.0                 0.0                 0.0   \n",
              "4                       0.0                 0.0                 0.0   \n",
              "...                     ...                 ...                 ...   \n",
              "48837                   0.0                 0.0                 0.0   \n",
              "48838                   0.0                 1.0                 0.0   \n",
              "48839                   0.0                 1.0                 0.0   \n",
              "48840                   0.0                 1.0                 0.0   \n",
              "48841                   0.0                 1.0                 0.0   \n",
              "\n",
              "       education_ Preschool  education_ Prof-school  education_ Some-college  \n",
              "0                       0.0                     0.0                      0.0  \n",
              "1                       0.0                     0.0                      0.0  \n",
              "2                       0.0                     0.0                      0.0  \n",
              "3                       0.0                     0.0                      1.0  \n",
              "4                       0.0                     0.0                      1.0  \n",
              "...                     ...                     ...                      ...  \n",
              "48837                   0.0                     0.0                      0.0  \n",
              "48838                   0.0                     0.0                      0.0  \n",
              "48839                   0.0                     0.0                      0.0  \n",
              "48840                   0.0                     0.0                      0.0  \n",
              "48841                   0.0                     0.0                      0.0  \n",
              "\n",
              "[48842 rows x 16 columns]"
            ],
            "text/html": [
              "\n",
              "  <div id=\"df-37f19bbe-fda2-4b26-8cf8-456a59d07c34\">\n",
              "    <div class=\"colab-df-container\">\n",
              "      <div>\n",
              "<style scoped>\n",
              "    .dataframe tbody tr th:only-of-type {\n",
              "        vertical-align: middle;\n",
              "    }\n",
              "\n",
              "    .dataframe tbody tr th {\n",
              "        vertical-align: top;\n",
              "    }\n",
              "\n",
              "    .dataframe thead th {\n",
              "        text-align: right;\n",
              "    }\n",
              "</style>\n",
              "<table border=\"1\" class=\"dataframe\">\n",
              "  <thead>\n",
              "    <tr style=\"text-align: right;\">\n",
              "      <th></th>\n",
              "      <th>education_ 10th</th>\n",
              "      <th>education_ 11th</th>\n",
              "      <th>education_ 12th</th>\n",
              "      <th>education_ 1st-4th</th>\n",
              "      <th>education_ 5th-6th</th>\n",
              "      <th>education_ 7th-8th</th>\n",
              "      <th>education_ 9th</th>\n",
              "      <th>education_ Assoc-acdm</th>\n",
              "      <th>education_ Assoc-voc</th>\n",
              "      <th>education_ Bachelors</th>\n",
              "      <th>education_ Doctorate</th>\n",
              "      <th>education_ HS-grad</th>\n",
              "      <th>education_ Masters</th>\n",
              "      <th>education_ Preschool</th>\n",
              "      <th>education_ Prof-school</th>\n",
              "      <th>education_ Some-college</th>\n",
              "    </tr>\n",
              "  </thead>\n",
              "  <tbody>\n",
              "    <tr>\n",
              "      <th>0</th>\n",
              "      <td>0.0</td>\n",
              "      <td>1.0</td>\n",
              "      <td>0.0</td>\n",
              "      <td>0.0</td>\n",
              "      <td>0.0</td>\n",
              "      <td>0.0</td>\n",
              "      <td>0.0</td>\n",
              "      <td>0.0</td>\n",
              "      <td>0.0</td>\n",
              "      <td>0.0</td>\n",
              "      <td>0.0</td>\n",
              "      <td>0.0</td>\n",
              "      <td>0.0</td>\n",
              "      <td>0.0</td>\n",
              "      <td>0.0</td>\n",
              "      <td>0.0</td>\n",
              "    </tr>\n",
              "    <tr>\n",
              "      <th>1</th>\n",
              "      <td>0.0</td>\n",
              "      <td>0.0</td>\n",
              "      <td>0.0</td>\n",
              "      <td>0.0</td>\n",
              "      <td>0.0</td>\n",
              "      <td>0.0</td>\n",
              "      <td>0.0</td>\n",
              "      <td>0.0</td>\n",
              "      <td>0.0</td>\n",
              "      <td>0.0</td>\n",
              "      <td>0.0</td>\n",
              "      <td>1.0</td>\n",
              "      <td>0.0</td>\n",
              "      <td>0.0</td>\n",
              "      <td>0.0</td>\n",
              "      <td>0.0</td>\n",
              "    </tr>\n",
              "    <tr>\n",
              "      <th>2</th>\n",
              "      <td>0.0</td>\n",
              "      <td>0.0</td>\n",
              "      <td>0.0</td>\n",
              "      <td>0.0</td>\n",
              "      <td>0.0</td>\n",
              "      <td>0.0</td>\n",
              "      <td>0.0</td>\n",
              "      <td>1.0</td>\n",
              "      <td>0.0</td>\n",
              "      <td>0.0</td>\n",
              "      <td>0.0</td>\n",
              "      <td>0.0</td>\n",
              "      <td>0.0</td>\n",
              "      <td>0.0</td>\n",
              "      <td>0.0</td>\n",
              "      <td>0.0</td>\n",
              "    </tr>\n",
              "    <tr>\n",
              "      <th>3</th>\n",
              "      <td>0.0</td>\n",
              "      <td>0.0</td>\n",
              "      <td>0.0</td>\n",
              "      <td>0.0</td>\n",
              "      <td>0.0</td>\n",
              "      <td>0.0</td>\n",
              "      <td>0.0</td>\n",
              "      <td>0.0</td>\n",
              "      <td>0.0</td>\n",
              "      <td>0.0</td>\n",
              "      <td>0.0</td>\n",
              "      <td>0.0</td>\n",
              "      <td>0.0</td>\n",
              "      <td>0.0</td>\n",
              "      <td>0.0</td>\n",
              "      <td>1.0</td>\n",
              "    </tr>\n",
              "    <tr>\n",
              "      <th>4</th>\n",
              "      <td>0.0</td>\n",
              "      <td>0.0</td>\n",
              "      <td>0.0</td>\n",
              "      <td>0.0</td>\n",
              "      <td>0.0</td>\n",
              "      <td>0.0</td>\n",
              "      <td>0.0</td>\n",
              "      <td>0.0</td>\n",
              "      <td>0.0</td>\n",
              "      <td>0.0</td>\n",
              "      <td>0.0</td>\n",
              "      <td>0.0</td>\n",
              "      <td>0.0</td>\n",
              "      <td>0.0</td>\n",
              "      <td>0.0</td>\n",
              "      <td>1.0</td>\n",
              "    </tr>\n",
              "    <tr>\n",
              "      <th>...</th>\n",
              "      <td>...</td>\n",
              "      <td>...</td>\n",
              "      <td>...</td>\n",
              "      <td>...</td>\n",
              "      <td>...</td>\n",
              "      <td>...</td>\n",
              "      <td>...</td>\n",
              "      <td>...</td>\n",
              "      <td>...</td>\n",
              "      <td>...</td>\n",
              "      <td>...</td>\n",
              "      <td>...</td>\n",
              "      <td>...</td>\n",
              "      <td>...</td>\n",
              "      <td>...</td>\n",
              "      <td>...</td>\n",
              "    </tr>\n",
              "    <tr>\n",
              "      <th>48837</th>\n",
              "      <td>0.0</td>\n",
              "      <td>0.0</td>\n",
              "      <td>0.0</td>\n",
              "      <td>0.0</td>\n",
              "      <td>0.0</td>\n",
              "      <td>0.0</td>\n",
              "      <td>0.0</td>\n",
              "      <td>1.0</td>\n",
              "      <td>0.0</td>\n",
              "      <td>0.0</td>\n",
              "      <td>0.0</td>\n",
              "      <td>0.0</td>\n",
              "      <td>0.0</td>\n",
              "      <td>0.0</td>\n",
              "      <td>0.0</td>\n",
              "      <td>0.0</td>\n",
              "    </tr>\n",
              "    <tr>\n",
              "      <th>48838</th>\n",
              "      <td>0.0</td>\n",
              "      <td>0.0</td>\n",
              "      <td>0.0</td>\n",
              "      <td>0.0</td>\n",
              "      <td>0.0</td>\n",
              "      <td>0.0</td>\n",
              "      <td>0.0</td>\n",
              "      <td>0.0</td>\n",
              "      <td>0.0</td>\n",
              "      <td>0.0</td>\n",
              "      <td>0.0</td>\n",
              "      <td>1.0</td>\n",
              "      <td>0.0</td>\n",
              "      <td>0.0</td>\n",
              "      <td>0.0</td>\n",
              "      <td>0.0</td>\n",
              "    </tr>\n",
              "    <tr>\n",
              "      <th>48839</th>\n",
              "      <td>0.0</td>\n",
              "      <td>0.0</td>\n",
              "      <td>0.0</td>\n",
              "      <td>0.0</td>\n",
              "      <td>0.0</td>\n",
              "      <td>0.0</td>\n",
              "      <td>0.0</td>\n",
              "      <td>0.0</td>\n",
              "      <td>0.0</td>\n",
              "      <td>0.0</td>\n",
              "      <td>0.0</td>\n",
              "      <td>1.0</td>\n",
              "      <td>0.0</td>\n",
              "      <td>0.0</td>\n",
              "      <td>0.0</td>\n",
              "      <td>0.0</td>\n",
              "    </tr>\n",
              "    <tr>\n",
              "      <th>48840</th>\n",
              "      <td>0.0</td>\n",
              "      <td>0.0</td>\n",
              "      <td>0.0</td>\n",
              "      <td>0.0</td>\n",
              "      <td>0.0</td>\n",
              "      <td>0.0</td>\n",
              "      <td>0.0</td>\n",
              "      <td>0.0</td>\n",
              "      <td>0.0</td>\n",
              "      <td>0.0</td>\n",
              "      <td>0.0</td>\n",
              "      <td>1.0</td>\n",
              "      <td>0.0</td>\n",
              "      <td>0.0</td>\n",
              "      <td>0.0</td>\n",
              "      <td>0.0</td>\n",
              "    </tr>\n",
              "    <tr>\n",
              "      <th>48841</th>\n",
              "      <td>0.0</td>\n",
              "      <td>0.0</td>\n",
              "      <td>0.0</td>\n",
              "      <td>0.0</td>\n",
              "      <td>0.0</td>\n",
              "      <td>0.0</td>\n",
              "      <td>0.0</td>\n",
              "      <td>0.0</td>\n",
              "      <td>0.0</td>\n",
              "      <td>0.0</td>\n",
              "      <td>0.0</td>\n",
              "      <td>1.0</td>\n",
              "      <td>0.0</td>\n",
              "      <td>0.0</td>\n",
              "      <td>0.0</td>\n",
              "      <td>0.0</td>\n",
              "    </tr>\n",
              "  </tbody>\n",
              "</table>\n",
              "<p>48842 rows × 16 columns</p>\n",
              "</div>\n",
              "      <button class=\"colab-df-convert\" onclick=\"convertToInteractive('df-37f19bbe-fda2-4b26-8cf8-456a59d07c34')\"\n",
              "              title=\"Convert this dataframe to an interactive table.\"\n",
              "              style=\"display:none;\">\n",
              "        \n",
              "  <svg xmlns=\"http://www.w3.org/2000/svg\" height=\"24px\"viewBox=\"0 0 24 24\"\n",
              "       width=\"24px\">\n",
              "    <path d=\"M0 0h24v24H0V0z\" fill=\"none\"/>\n",
              "    <path d=\"M18.56 5.44l.94 2.06.94-2.06 2.06-.94-2.06-.94-.94-2.06-.94 2.06-2.06.94zm-11 1L8.5 8.5l.94-2.06 2.06-.94-2.06-.94L8.5 2.5l-.94 2.06-2.06.94zm10 10l.94 2.06.94-2.06 2.06-.94-2.06-.94-.94-2.06-.94 2.06-2.06.94z\"/><path d=\"M17.41 7.96l-1.37-1.37c-.4-.4-.92-.59-1.43-.59-.52 0-1.04.2-1.43.59L10.3 9.45l-7.72 7.72c-.78.78-.78 2.05 0 2.83L4 21.41c.39.39.9.59 1.41.59.51 0 1.02-.2 1.41-.59l7.78-7.78 2.81-2.81c.8-.78.8-2.07 0-2.86zM5.41 20L4 18.59l7.72-7.72 1.47 1.35L5.41 20z\"/>\n",
              "  </svg>\n",
              "      </button>\n",
              "      \n",
              "  <style>\n",
              "    .colab-df-container {\n",
              "      display:flex;\n",
              "      flex-wrap:wrap;\n",
              "      gap: 12px;\n",
              "    }\n",
              "\n",
              "    .colab-df-convert {\n",
              "      background-color: #E8F0FE;\n",
              "      border: none;\n",
              "      border-radius: 50%;\n",
              "      cursor: pointer;\n",
              "      display: none;\n",
              "      fill: #1967D2;\n",
              "      height: 32px;\n",
              "      padding: 0 0 0 0;\n",
              "      width: 32px;\n",
              "    }\n",
              "\n",
              "    .colab-df-convert:hover {\n",
              "      background-color: #E2EBFA;\n",
              "      box-shadow: 0px 1px 2px rgba(60, 64, 67, 0.3), 0px 1px 3px 1px rgba(60, 64, 67, 0.15);\n",
              "      fill: #174EA6;\n",
              "    }\n",
              "\n",
              "    [theme=dark] .colab-df-convert {\n",
              "      background-color: #3B4455;\n",
              "      fill: #D2E3FC;\n",
              "    }\n",
              "\n",
              "    [theme=dark] .colab-df-convert:hover {\n",
              "      background-color: #434B5C;\n",
              "      box-shadow: 0px 1px 3px 1px rgba(0, 0, 0, 0.15);\n",
              "      filter: drop-shadow(0px 1px 2px rgba(0, 0, 0, 0.3));\n",
              "      fill: #FFFFFF;\n",
              "    }\n",
              "  </style>\n",
              "\n",
              "      <script>\n",
              "        const buttonEl =\n",
              "          document.querySelector('#df-37f19bbe-fda2-4b26-8cf8-456a59d07c34 button.colab-df-convert');\n",
              "        buttonEl.style.display =\n",
              "          google.colab.kernel.accessAllowed ? 'block' : 'none';\n",
              "\n",
              "        async function convertToInteractive(key) {\n",
              "          const element = document.querySelector('#df-37f19bbe-fda2-4b26-8cf8-456a59d07c34');\n",
              "          const dataTable =\n",
              "            await google.colab.kernel.invokeFunction('convertToInteractive',\n",
              "                                                     [key], {});\n",
              "          if (!dataTable) return;\n",
              "\n",
              "          const docLinkHtml = 'Like what you see? Visit the ' +\n",
              "            '<a target=\"_blank\" href=https://colab.research.google.com/notebooks/data_table.ipynb>data table notebook</a>'\n",
              "            + ' to learn more about interactive tables.';\n",
              "          element.innerHTML = '';\n",
              "          dataTable['output_type'] = 'display_data';\n",
              "          await google.colab.output.renderOutput(dataTable, element);\n",
              "          const docLink = document.createElement('div');\n",
              "          docLink.innerHTML = docLinkHtml;\n",
              "          element.appendChild(docLink);\n",
              "        }\n",
              "      </script>\n",
              "    </div>\n",
              "  </div>\n",
              "  "
            ]
          },
          "metadata": {},
          "execution_count": 68
        }
      ]
    },
    {
      "cell_type": "markdown",
      "source": [
        "As we can see, each category (unique value) became a column; the encoding\n",
        "returned, for each sample, a 1 to specify which category it belongs to.\n",
        "\n",
        "Let's apply this encoding on the full dataset."
      ],
      "metadata": {
        "id": "RJM9xiuz3VpK"
      }
    },
    {
      "cell_type": "code",
      "source": [
        "print(\n",
        "    f\"The dataset is composed of {data_categorical.shape[1]} features\")\n",
        "data_categorical.head()"
      ],
      "metadata": {
        "colab": {
          "base_uri": "https://localhost:8080/",
          "height": 224
        },
        "id": "PFwx6nhM3P13",
        "outputId": "c999e62e-4706-4026-b5c4-f221a3d1e980"
      },
      "execution_count": 70,
      "outputs": [
        {
          "output_type": "stream",
          "name": "stdout",
          "text": [
            "The dataset is composed of 8 features\n"
          ]
        },
        {
          "output_type": "execute_result",
          "data": {
            "text/plain": [
              "    workclass      education       marital-status          occupation  \\\n",
              "0     Private           11th        Never-married   Machine-op-inspct   \n",
              "1     Private        HS-grad   Married-civ-spouse     Farming-fishing   \n",
              "2   Local-gov     Assoc-acdm   Married-civ-spouse     Protective-serv   \n",
              "3     Private   Some-college   Married-civ-spouse   Machine-op-inspct   \n",
              "4           ?   Some-college        Never-married                   ?   \n",
              "\n",
              "  relationship    race      sex  native-country  \n",
              "0    Own-child   Black     Male   United-States  \n",
              "1      Husband   White     Male   United-States  \n",
              "2      Husband   White     Male   United-States  \n",
              "3      Husband   Black     Male   United-States  \n",
              "4    Own-child   White   Female   United-States  "
            ],
            "text/html": [
              "\n",
              "  <div id=\"df-b39e5f58-1d84-42ab-9da9-6cba08da92f2\">\n",
              "    <div class=\"colab-df-container\">\n",
              "      <div>\n",
              "<style scoped>\n",
              "    .dataframe tbody tr th:only-of-type {\n",
              "        vertical-align: middle;\n",
              "    }\n",
              "\n",
              "    .dataframe tbody tr th {\n",
              "        vertical-align: top;\n",
              "    }\n",
              "\n",
              "    .dataframe thead th {\n",
              "        text-align: right;\n",
              "    }\n",
              "</style>\n",
              "<table border=\"1\" class=\"dataframe\">\n",
              "  <thead>\n",
              "    <tr style=\"text-align: right;\">\n",
              "      <th></th>\n",
              "      <th>workclass</th>\n",
              "      <th>education</th>\n",
              "      <th>marital-status</th>\n",
              "      <th>occupation</th>\n",
              "      <th>relationship</th>\n",
              "      <th>race</th>\n",
              "      <th>sex</th>\n",
              "      <th>native-country</th>\n",
              "    </tr>\n",
              "  </thead>\n",
              "  <tbody>\n",
              "    <tr>\n",
              "      <th>0</th>\n",
              "      <td>Private</td>\n",
              "      <td>11th</td>\n",
              "      <td>Never-married</td>\n",
              "      <td>Machine-op-inspct</td>\n",
              "      <td>Own-child</td>\n",
              "      <td>Black</td>\n",
              "      <td>Male</td>\n",
              "      <td>United-States</td>\n",
              "    </tr>\n",
              "    <tr>\n",
              "      <th>1</th>\n",
              "      <td>Private</td>\n",
              "      <td>HS-grad</td>\n",
              "      <td>Married-civ-spouse</td>\n",
              "      <td>Farming-fishing</td>\n",
              "      <td>Husband</td>\n",
              "      <td>White</td>\n",
              "      <td>Male</td>\n",
              "      <td>United-States</td>\n",
              "    </tr>\n",
              "    <tr>\n",
              "      <th>2</th>\n",
              "      <td>Local-gov</td>\n",
              "      <td>Assoc-acdm</td>\n",
              "      <td>Married-civ-spouse</td>\n",
              "      <td>Protective-serv</td>\n",
              "      <td>Husband</td>\n",
              "      <td>White</td>\n",
              "      <td>Male</td>\n",
              "      <td>United-States</td>\n",
              "    </tr>\n",
              "    <tr>\n",
              "      <th>3</th>\n",
              "      <td>Private</td>\n",
              "      <td>Some-college</td>\n",
              "      <td>Married-civ-spouse</td>\n",
              "      <td>Machine-op-inspct</td>\n",
              "      <td>Husband</td>\n",
              "      <td>Black</td>\n",
              "      <td>Male</td>\n",
              "      <td>United-States</td>\n",
              "    </tr>\n",
              "    <tr>\n",
              "      <th>4</th>\n",
              "      <td>?</td>\n",
              "      <td>Some-college</td>\n",
              "      <td>Never-married</td>\n",
              "      <td>?</td>\n",
              "      <td>Own-child</td>\n",
              "      <td>White</td>\n",
              "      <td>Female</td>\n",
              "      <td>United-States</td>\n",
              "    </tr>\n",
              "  </tbody>\n",
              "</table>\n",
              "</div>\n",
              "      <button class=\"colab-df-convert\" onclick=\"convertToInteractive('df-b39e5f58-1d84-42ab-9da9-6cba08da92f2')\"\n",
              "              title=\"Convert this dataframe to an interactive table.\"\n",
              "              style=\"display:none;\">\n",
              "        \n",
              "  <svg xmlns=\"http://www.w3.org/2000/svg\" height=\"24px\"viewBox=\"0 0 24 24\"\n",
              "       width=\"24px\">\n",
              "    <path d=\"M0 0h24v24H0V0z\" fill=\"none\"/>\n",
              "    <path d=\"M18.56 5.44l.94 2.06.94-2.06 2.06-.94-2.06-.94-.94-2.06-.94 2.06-2.06.94zm-11 1L8.5 8.5l.94-2.06 2.06-.94-2.06-.94L8.5 2.5l-.94 2.06-2.06.94zm10 10l.94 2.06.94-2.06 2.06-.94-2.06-.94-.94-2.06-.94 2.06-2.06.94z\"/><path d=\"M17.41 7.96l-1.37-1.37c-.4-.4-.92-.59-1.43-.59-.52 0-1.04.2-1.43.59L10.3 9.45l-7.72 7.72c-.78.78-.78 2.05 0 2.83L4 21.41c.39.39.9.59 1.41.59.51 0 1.02-.2 1.41-.59l7.78-7.78 2.81-2.81c.8-.78.8-2.07 0-2.86zM5.41 20L4 18.59l7.72-7.72 1.47 1.35L5.41 20z\"/>\n",
              "  </svg>\n",
              "      </button>\n",
              "      \n",
              "  <style>\n",
              "    .colab-df-container {\n",
              "      display:flex;\n",
              "      flex-wrap:wrap;\n",
              "      gap: 12px;\n",
              "    }\n",
              "\n",
              "    .colab-df-convert {\n",
              "      background-color: #E8F0FE;\n",
              "      border: none;\n",
              "      border-radius: 50%;\n",
              "      cursor: pointer;\n",
              "      display: none;\n",
              "      fill: #1967D2;\n",
              "      height: 32px;\n",
              "      padding: 0 0 0 0;\n",
              "      width: 32px;\n",
              "    }\n",
              "\n",
              "    .colab-df-convert:hover {\n",
              "      background-color: #E2EBFA;\n",
              "      box-shadow: 0px 1px 2px rgba(60, 64, 67, 0.3), 0px 1px 3px 1px rgba(60, 64, 67, 0.15);\n",
              "      fill: #174EA6;\n",
              "    }\n",
              "\n",
              "    [theme=dark] .colab-df-convert {\n",
              "      background-color: #3B4455;\n",
              "      fill: #D2E3FC;\n",
              "    }\n",
              "\n",
              "    [theme=dark] .colab-df-convert:hover {\n",
              "      background-color: #434B5C;\n",
              "      box-shadow: 0px 1px 3px 1px rgba(0, 0, 0, 0.15);\n",
              "      filter: drop-shadow(0px 1px 2px rgba(0, 0, 0, 0.3));\n",
              "      fill: #FFFFFF;\n",
              "    }\n",
              "  </style>\n",
              "\n",
              "      <script>\n",
              "        const buttonEl =\n",
              "          document.querySelector('#df-b39e5f58-1d84-42ab-9da9-6cba08da92f2 button.colab-df-convert');\n",
              "        buttonEl.style.display =\n",
              "          google.colab.kernel.accessAllowed ? 'block' : 'none';\n",
              "\n",
              "        async function convertToInteractive(key) {\n",
              "          const element = document.querySelector('#df-b39e5f58-1d84-42ab-9da9-6cba08da92f2');\n",
              "          const dataTable =\n",
              "            await google.colab.kernel.invokeFunction('convertToInteractive',\n",
              "                                                     [key], {});\n",
              "          if (!dataTable) return;\n",
              "\n",
              "          const docLinkHtml = 'Like what you see? Visit the ' +\n",
              "            '<a target=\"_blank\" href=https://colab.research.google.com/notebooks/data_table.ipynb>data table notebook</a>'\n",
              "            + ' to learn more about interactive tables.';\n",
              "          element.innerHTML = '';\n",
              "          dataTable['output_type'] = 'display_data';\n",
              "          await google.colab.output.renderOutput(dataTable, element);\n",
              "          const docLink = document.createElement('div');\n",
              "          docLink.innerHTML = docLinkHtml;\n",
              "          element.appendChild(docLink);\n",
              "        }\n",
              "      </script>\n",
              "    </div>\n",
              "  </div>\n",
              "  "
            ]
          },
          "metadata": {},
          "execution_count": 70
        }
      ]
    },
    {
      "cell_type": "code",
      "source": [
        "data_encoded = encoder.fit_transform(data_categorical)\n",
        "data_encoded[:5]"
      ],
      "metadata": {
        "colab": {
          "base_uri": "https://localhost:8080/"
        },
        "id": "AkF4pJSW3TZJ",
        "outputId": "d38da4f9-5e20-476d-a02d-4fff01ab7011"
      },
      "execution_count": 71,
      "outputs": [
        {
          "output_type": "execute_result",
          "data": {
            "text/plain": [
              "array([[0., 0., 0., 0., 1., 0., 0., 0., 0., 0., 1., 0., 0., 0., 0., 0.,\n",
              "        0., 0., 0., 0., 0., 0., 0., 0., 0., 0., 0., 0., 0., 1., 0., 0.,\n",
              "        0., 0., 0., 0., 0., 0., 0., 1., 0., 0., 0., 0., 0., 0., 0., 0.,\n",
              "        0., 0., 1., 0., 0., 0., 0., 1., 0., 0., 0., 1., 0., 0., 0., 0.,\n",
              "        0., 0., 0., 0., 0., 0., 0., 0., 0., 0., 0., 0., 0., 0., 0., 0.,\n",
              "        0., 0., 0., 0., 0., 0., 0., 0., 0., 0., 0., 0., 0., 0., 0., 0.,\n",
              "        0., 0., 0., 1., 0., 0.],\n",
              "       [0., 0., 0., 0., 1., 0., 0., 0., 0., 0., 0., 0., 0., 0., 0., 0.,\n",
              "        0., 0., 0., 0., 1., 0., 0., 0., 0., 0., 0., 1., 0., 0., 0., 0.,\n",
              "        0., 0., 0., 0., 0., 1., 0., 0., 0., 0., 0., 0., 0., 0., 0., 1.,\n",
              "        0., 0., 0., 0., 0., 0., 0., 0., 0., 1., 0., 1., 0., 0., 0., 0.,\n",
              "        0., 0., 0., 0., 0., 0., 0., 0., 0., 0., 0., 0., 0., 0., 0., 0.,\n",
              "        0., 0., 0., 0., 0., 0., 0., 0., 0., 0., 0., 0., 0., 0., 0., 0.,\n",
              "        0., 0., 0., 1., 0., 0.],\n",
              "       [0., 0., 1., 0., 0., 0., 0., 0., 0., 0., 0., 0., 0., 0., 0., 0.,\n",
              "        1., 0., 0., 0., 0., 0., 0., 0., 0., 0., 0., 1., 0., 0., 0., 0.,\n",
              "        0., 0., 0., 0., 0., 0., 0., 0., 0., 0., 0., 1., 0., 0., 0., 1.,\n",
              "        0., 0., 0., 0., 0., 0., 0., 0., 0., 1., 0., 1., 0., 0., 0., 0.,\n",
              "        0., 0., 0., 0., 0., 0., 0., 0., 0., 0., 0., 0., 0., 0., 0., 0.,\n",
              "        0., 0., 0., 0., 0., 0., 0., 0., 0., 0., 0., 0., 0., 0., 0., 0.,\n",
              "        0., 0., 0., 1., 0., 0.],\n",
              "       [0., 0., 0., 0., 1., 0., 0., 0., 0., 0., 0., 0., 0., 0., 0., 0.,\n",
              "        0., 0., 0., 0., 0., 0., 0., 0., 1., 0., 0., 1., 0., 0., 0., 0.,\n",
              "        0., 0., 0., 0., 0., 0., 0., 1., 0., 0., 0., 0., 0., 0., 0., 1.,\n",
              "        0., 0., 0., 0., 0., 0., 0., 1., 0., 0., 0., 1., 0., 0., 0., 0.,\n",
              "        0., 0., 0., 0., 0., 0., 0., 0., 0., 0., 0., 0., 0., 0., 0., 0.,\n",
              "        0., 0., 0., 0., 0., 0., 0., 0., 0., 0., 0., 0., 0., 0., 0., 0.,\n",
              "        0., 0., 0., 1., 0., 0.],\n",
              "       [1., 0., 0., 0., 0., 0., 0., 0., 0., 0., 0., 0., 0., 0., 0., 0.,\n",
              "        0., 0., 0., 0., 0., 0., 0., 0., 1., 0., 0., 0., 0., 1., 0., 0.,\n",
              "        1., 0., 0., 0., 0., 0., 0., 0., 0., 0., 0., 0., 0., 0., 0., 0.,\n",
              "        0., 0., 1., 0., 0., 0., 0., 0., 0., 1., 1., 0., 0., 0., 0., 0.,\n",
              "        0., 0., 0., 0., 0., 0., 0., 0., 0., 0., 0., 0., 0., 0., 0., 0.,\n",
              "        0., 0., 0., 0., 0., 0., 0., 0., 0., 0., 0., 0., 0., 0., 0., 0.,\n",
              "        0., 0., 0., 1., 0., 0.]])"
            ]
          },
          "metadata": {},
          "execution_count": 71
        }
      ]
    },
    {
      "cell_type": "code",
      "source": [
        "print(\n",
        "    f\"The encoded dataset contains {data_encoded.shape[1]} features\")"
      ],
      "metadata": {
        "colab": {
          "base_uri": "https://localhost:8080/"
        },
        "id": "jgp_Ryip3czJ",
        "outputId": "ed8199be-268b-4332-9f96-e2617ff5b5dc"
      },
      "execution_count": 72,
      "outputs": [
        {
          "output_type": "stream",
          "name": "stdout",
          "text": [
            "The encoded dataset contains 102 features\n"
          ]
        }
      ]
    },
    {
      "cell_type": "markdown",
      "source": [
        "Let's wrap this NumPy array in a dataframe with informative column names as\n",
        "provided by the encoder object:"
      ],
      "metadata": {
        "id": "jE8F9Ds53igD"
      }
    },
    {
      "cell_type": "code",
      "source": [
        "columns_encoded = encoder.get_feature_names_out(data_categorical.columns)\n",
        "pd.DataFrame(data_encoded, columns=columns_encoded).head()"
      ],
      "metadata": {
        "colab": {
          "base_uri": "https://localhost:8080/",
          "height": 352
        },
        "id": "MHtVzRTF3fIu",
        "outputId": "b923b1b7-70f2-489d-f7f0-7e151390fb1e"
      },
      "execution_count": 74,
      "outputs": [
        {
          "output_type": "execute_result",
          "data": {
            "text/plain": [
              "   workclass_ ?  workclass_ Federal-gov  workclass_ Local-gov  \\\n",
              "0           0.0                     0.0                   0.0   \n",
              "1           0.0                     0.0                   0.0   \n",
              "2           0.0                     0.0                   1.0   \n",
              "3           0.0                     0.0                   0.0   \n",
              "4           1.0                     0.0                   0.0   \n",
              "\n",
              "   workclass_ Never-worked  workclass_ Private  workclass_ Self-emp-inc  \\\n",
              "0                      0.0                 1.0                      0.0   \n",
              "1                      0.0                 1.0                      0.0   \n",
              "2                      0.0                 0.0                      0.0   \n",
              "3                      0.0                 1.0                      0.0   \n",
              "4                      0.0                 0.0                      0.0   \n",
              "\n",
              "   workclass_ Self-emp-not-inc  workclass_ State-gov  workclass_ Without-pay  \\\n",
              "0                          0.0                   0.0                     0.0   \n",
              "1                          0.0                   0.0                     0.0   \n",
              "2                          0.0                   0.0                     0.0   \n",
              "3                          0.0                   0.0                     0.0   \n",
              "4                          0.0                   0.0                     0.0   \n",
              "\n",
              "   education_ 10th  ...  native-country_ Portugal  \\\n",
              "0              0.0  ...                       0.0   \n",
              "1              0.0  ...                       0.0   \n",
              "2              0.0  ...                       0.0   \n",
              "3              0.0  ...                       0.0   \n",
              "4              0.0  ...                       0.0   \n",
              "\n",
              "   native-country_ Puerto-Rico  native-country_ Scotland  \\\n",
              "0                          0.0                       0.0   \n",
              "1                          0.0                       0.0   \n",
              "2                          0.0                       0.0   \n",
              "3                          0.0                       0.0   \n",
              "4                          0.0                       0.0   \n",
              "\n",
              "   native-country_ South  native-country_ Taiwan  native-country_ Thailand  \\\n",
              "0                    0.0                     0.0                       0.0   \n",
              "1                    0.0                     0.0                       0.0   \n",
              "2                    0.0                     0.0                       0.0   \n",
              "3                    0.0                     0.0                       0.0   \n",
              "4                    0.0                     0.0                       0.0   \n",
              "\n",
              "   native-country_ Trinadad&Tobago  native-country_ United-States  \\\n",
              "0                              0.0                            1.0   \n",
              "1                              0.0                            1.0   \n",
              "2                              0.0                            1.0   \n",
              "3                              0.0                            1.0   \n",
              "4                              0.0                            1.0   \n",
              "\n",
              "   native-country_ Vietnam  native-country_ Yugoslavia  \n",
              "0                      0.0                         0.0  \n",
              "1                      0.0                         0.0  \n",
              "2                      0.0                         0.0  \n",
              "3                      0.0                         0.0  \n",
              "4                      0.0                         0.0  \n",
              "\n",
              "[5 rows x 102 columns]"
            ],
            "text/html": [
              "\n",
              "  <div id=\"df-428bc4e4-5257-4930-a8f1-b25c5d08062d\">\n",
              "    <div class=\"colab-df-container\">\n",
              "      <div>\n",
              "<style scoped>\n",
              "    .dataframe tbody tr th:only-of-type {\n",
              "        vertical-align: middle;\n",
              "    }\n",
              "\n",
              "    .dataframe tbody tr th {\n",
              "        vertical-align: top;\n",
              "    }\n",
              "\n",
              "    .dataframe thead th {\n",
              "        text-align: right;\n",
              "    }\n",
              "</style>\n",
              "<table border=\"1\" class=\"dataframe\">\n",
              "  <thead>\n",
              "    <tr style=\"text-align: right;\">\n",
              "      <th></th>\n",
              "      <th>workclass_ ?</th>\n",
              "      <th>workclass_ Federal-gov</th>\n",
              "      <th>workclass_ Local-gov</th>\n",
              "      <th>workclass_ Never-worked</th>\n",
              "      <th>workclass_ Private</th>\n",
              "      <th>workclass_ Self-emp-inc</th>\n",
              "      <th>workclass_ Self-emp-not-inc</th>\n",
              "      <th>workclass_ State-gov</th>\n",
              "      <th>workclass_ Without-pay</th>\n",
              "      <th>education_ 10th</th>\n",
              "      <th>...</th>\n",
              "      <th>native-country_ Portugal</th>\n",
              "      <th>native-country_ Puerto-Rico</th>\n",
              "      <th>native-country_ Scotland</th>\n",
              "      <th>native-country_ South</th>\n",
              "      <th>native-country_ Taiwan</th>\n",
              "      <th>native-country_ Thailand</th>\n",
              "      <th>native-country_ Trinadad&amp;Tobago</th>\n",
              "      <th>native-country_ United-States</th>\n",
              "      <th>native-country_ Vietnam</th>\n",
              "      <th>native-country_ Yugoslavia</th>\n",
              "    </tr>\n",
              "  </thead>\n",
              "  <tbody>\n",
              "    <tr>\n",
              "      <th>0</th>\n",
              "      <td>0.0</td>\n",
              "      <td>0.0</td>\n",
              "      <td>0.0</td>\n",
              "      <td>0.0</td>\n",
              "      <td>1.0</td>\n",
              "      <td>0.0</td>\n",
              "      <td>0.0</td>\n",
              "      <td>0.0</td>\n",
              "      <td>0.0</td>\n",
              "      <td>0.0</td>\n",
              "      <td>...</td>\n",
              "      <td>0.0</td>\n",
              "      <td>0.0</td>\n",
              "      <td>0.0</td>\n",
              "      <td>0.0</td>\n",
              "      <td>0.0</td>\n",
              "      <td>0.0</td>\n",
              "      <td>0.0</td>\n",
              "      <td>1.0</td>\n",
              "      <td>0.0</td>\n",
              "      <td>0.0</td>\n",
              "    </tr>\n",
              "    <tr>\n",
              "      <th>1</th>\n",
              "      <td>0.0</td>\n",
              "      <td>0.0</td>\n",
              "      <td>0.0</td>\n",
              "      <td>0.0</td>\n",
              "      <td>1.0</td>\n",
              "      <td>0.0</td>\n",
              "      <td>0.0</td>\n",
              "      <td>0.0</td>\n",
              "      <td>0.0</td>\n",
              "      <td>0.0</td>\n",
              "      <td>...</td>\n",
              "      <td>0.0</td>\n",
              "      <td>0.0</td>\n",
              "      <td>0.0</td>\n",
              "      <td>0.0</td>\n",
              "      <td>0.0</td>\n",
              "      <td>0.0</td>\n",
              "      <td>0.0</td>\n",
              "      <td>1.0</td>\n",
              "      <td>0.0</td>\n",
              "      <td>0.0</td>\n",
              "    </tr>\n",
              "    <tr>\n",
              "      <th>2</th>\n",
              "      <td>0.0</td>\n",
              "      <td>0.0</td>\n",
              "      <td>1.0</td>\n",
              "      <td>0.0</td>\n",
              "      <td>0.0</td>\n",
              "      <td>0.0</td>\n",
              "      <td>0.0</td>\n",
              "      <td>0.0</td>\n",
              "      <td>0.0</td>\n",
              "      <td>0.0</td>\n",
              "      <td>...</td>\n",
              "      <td>0.0</td>\n",
              "      <td>0.0</td>\n",
              "      <td>0.0</td>\n",
              "      <td>0.0</td>\n",
              "      <td>0.0</td>\n",
              "      <td>0.0</td>\n",
              "      <td>0.0</td>\n",
              "      <td>1.0</td>\n",
              "      <td>0.0</td>\n",
              "      <td>0.0</td>\n",
              "    </tr>\n",
              "    <tr>\n",
              "      <th>3</th>\n",
              "      <td>0.0</td>\n",
              "      <td>0.0</td>\n",
              "      <td>0.0</td>\n",
              "      <td>0.0</td>\n",
              "      <td>1.0</td>\n",
              "      <td>0.0</td>\n",
              "      <td>0.0</td>\n",
              "      <td>0.0</td>\n",
              "      <td>0.0</td>\n",
              "      <td>0.0</td>\n",
              "      <td>...</td>\n",
              "      <td>0.0</td>\n",
              "      <td>0.0</td>\n",
              "      <td>0.0</td>\n",
              "      <td>0.0</td>\n",
              "      <td>0.0</td>\n",
              "      <td>0.0</td>\n",
              "      <td>0.0</td>\n",
              "      <td>1.0</td>\n",
              "      <td>0.0</td>\n",
              "      <td>0.0</td>\n",
              "    </tr>\n",
              "    <tr>\n",
              "      <th>4</th>\n",
              "      <td>1.0</td>\n",
              "      <td>0.0</td>\n",
              "      <td>0.0</td>\n",
              "      <td>0.0</td>\n",
              "      <td>0.0</td>\n",
              "      <td>0.0</td>\n",
              "      <td>0.0</td>\n",
              "      <td>0.0</td>\n",
              "      <td>0.0</td>\n",
              "      <td>0.0</td>\n",
              "      <td>...</td>\n",
              "      <td>0.0</td>\n",
              "      <td>0.0</td>\n",
              "      <td>0.0</td>\n",
              "      <td>0.0</td>\n",
              "      <td>0.0</td>\n",
              "      <td>0.0</td>\n",
              "      <td>0.0</td>\n",
              "      <td>1.0</td>\n",
              "      <td>0.0</td>\n",
              "      <td>0.0</td>\n",
              "    </tr>\n",
              "  </tbody>\n",
              "</table>\n",
              "<p>5 rows × 102 columns</p>\n",
              "</div>\n",
              "      <button class=\"colab-df-convert\" onclick=\"convertToInteractive('df-428bc4e4-5257-4930-a8f1-b25c5d08062d')\"\n",
              "              title=\"Convert this dataframe to an interactive table.\"\n",
              "              style=\"display:none;\">\n",
              "        \n",
              "  <svg xmlns=\"http://www.w3.org/2000/svg\" height=\"24px\"viewBox=\"0 0 24 24\"\n",
              "       width=\"24px\">\n",
              "    <path d=\"M0 0h24v24H0V0z\" fill=\"none\"/>\n",
              "    <path d=\"M18.56 5.44l.94 2.06.94-2.06 2.06-.94-2.06-.94-.94-2.06-.94 2.06-2.06.94zm-11 1L8.5 8.5l.94-2.06 2.06-.94-2.06-.94L8.5 2.5l-.94 2.06-2.06.94zm10 10l.94 2.06.94-2.06 2.06-.94-2.06-.94-.94-2.06-.94 2.06-2.06.94z\"/><path d=\"M17.41 7.96l-1.37-1.37c-.4-.4-.92-.59-1.43-.59-.52 0-1.04.2-1.43.59L10.3 9.45l-7.72 7.72c-.78.78-.78 2.05 0 2.83L4 21.41c.39.39.9.59 1.41.59.51 0 1.02-.2 1.41-.59l7.78-7.78 2.81-2.81c.8-.78.8-2.07 0-2.86zM5.41 20L4 18.59l7.72-7.72 1.47 1.35L5.41 20z\"/>\n",
              "  </svg>\n",
              "      </button>\n",
              "      \n",
              "  <style>\n",
              "    .colab-df-container {\n",
              "      display:flex;\n",
              "      flex-wrap:wrap;\n",
              "      gap: 12px;\n",
              "    }\n",
              "\n",
              "    .colab-df-convert {\n",
              "      background-color: #E8F0FE;\n",
              "      border: none;\n",
              "      border-radius: 50%;\n",
              "      cursor: pointer;\n",
              "      display: none;\n",
              "      fill: #1967D2;\n",
              "      height: 32px;\n",
              "      padding: 0 0 0 0;\n",
              "      width: 32px;\n",
              "    }\n",
              "\n",
              "    .colab-df-convert:hover {\n",
              "      background-color: #E2EBFA;\n",
              "      box-shadow: 0px 1px 2px rgba(60, 64, 67, 0.3), 0px 1px 3px 1px rgba(60, 64, 67, 0.15);\n",
              "      fill: #174EA6;\n",
              "    }\n",
              "\n",
              "    [theme=dark] .colab-df-convert {\n",
              "      background-color: #3B4455;\n",
              "      fill: #D2E3FC;\n",
              "    }\n",
              "\n",
              "    [theme=dark] .colab-df-convert:hover {\n",
              "      background-color: #434B5C;\n",
              "      box-shadow: 0px 1px 3px 1px rgba(0, 0, 0, 0.15);\n",
              "      filter: drop-shadow(0px 1px 2px rgba(0, 0, 0, 0.3));\n",
              "      fill: #FFFFFF;\n",
              "    }\n",
              "  </style>\n",
              "\n",
              "      <script>\n",
              "        const buttonEl =\n",
              "          document.querySelector('#df-428bc4e4-5257-4930-a8f1-b25c5d08062d button.colab-df-convert');\n",
              "        buttonEl.style.display =\n",
              "          google.colab.kernel.accessAllowed ? 'block' : 'none';\n",
              "\n",
              "        async function convertToInteractive(key) {\n",
              "          const element = document.querySelector('#df-428bc4e4-5257-4930-a8f1-b25c5d08062d');\n",
              "          const dataTable =\n",
              "            await google.colab.kernel.invokeFunction('convertToInteractive',\n",
              "                                                     [key], {});\n",
              "          if (!dataTable) return;\n",
              "\n",
              "          const docLinkHtml = 'Like what you see? Visit the ' +\n",
              "            '<a target=\"_blank\" href=https://colab.research.google.com/notebooks/data_table.ipynb>data table notebook</a>'\n",
              "            + ' to learn more about interactive tables.';\n",
              "          element.innerHTML = '';\n",
              "          dataTable['output_type'] = 'display_data';\n",
              "          await google.colab.output.renderOutput(dataTable, element);\n",
              "          const docLink = document.createElement('div');\n",
              "          docLink.innerHTML = docLinkHtml;\n",
              "          element.appendChild(docLink);\n",
              "        }\n",
              "      </script>\n",
              "    </div>\n",
              "  </div>\n",
              "  "
            ]
          },
          "metadata": {},
          "execution_count": 74
        }
      ]
    },
    {
      "cell_type": "markdown",
      "source": [
        "Look at how the `\"workclass\"` variable of the 3 first records has been\n",
        "encoded and compare this to the original string representation.\n",
        "\n",
        "The number of features after the encoding is more than 10 times larger than\n",
        "in the original data because some variables such as `occupation` and\n",
        "`native-country` have many possible categories."
      ],
      "metadata": {
        "id": "-6lURyZa3sUG"
      }
    },
    {
      "cell_type": "markdown",
      "source": [
        "### Choosing an encoding strategy\n",
        "\n",
        "Choosing an encoding strategy will depend on the underlying models and the\n",
        "type of categories (i.e. ordinal vs. nominal)."
      ],
      "metadata": {
        "id": "FvN3f1O-36tp"
      }
    },
    {
      "cell_type": "markdown",
      "source": [
        "<div class=\"admonition note alert alert-info\">\n",
        "<p class=\"first admonition-title\" style=\"font-weight: bold;\">Note</p>\n",
        "<p class=\"last\">In general <tt class=\"docutils literal\">OneHotEncoder</tt> is the encoding strategy used when the\n",
        "downstream models are <strong>linear models</strong> while <tt class=\"docutils literal\">OrdinalEncoder</tt> is often a\n",
        "good strategy with <strong>tree-based models</strong>.</p>\n",
        "</div>"
      ],
      "metadata": {
        "id": "58RGmgTj385Z"
      }
    },
    {
      "cell_type": "markdown",
      "source": [
        "\n",
        "Using an `OrdinalEncoder` will output ordinal categories. This means\n",
        "that there is an order in the resulting categories (e.g. `0 < 1 < 2`). The\n",
        "impact of violating this ordering assumption is really dependent on the\n",
        "downstream models. Linear models will be impacted by misordered categories\n",
        "while tree-based models will not.\n",
        "\n",
        "You can still use an `OrdinalEncoder` with linear models but you need to be\n",
        "sure that:\n",
        "- the original categories (before encoding) have an ordering;\n",
        "- the encoded categories follow the same ordering than the original\n",
        "  categories.\n",
        "The **next exercise** highlights the issue of misusing `OrdinalEncoder` with\n",
        "a linear model.\n",
        "\n",
        "One-hot encoding categorical variables with high cardinality can cause \n",
        "computational inefficiency in tree-based models. Because of this, it is not recommended\n",
        "to use `OneHotEncoder` in such cases even if the original categories do not \n",
        "have a given order. We will show this in the **final exercise** of this sequence."
      ],
      "metadata": {
        "id": "5NXAG2943-5M"
      }
    },
    {
      "cell_type": "markdown",
      "source": [
        "## Evaluate our predictive pipeline\n",
        "\n",
        "We can now integrate this encoder inside a machine learning pipeline like we\n",
        "did with numerical data: let's train a linear classifier on the encoded data\n",
        "and check the generalization performance of this machine learning pipeline using\n",
        "cross-validation.\n",
        "\n",
        "Before we create the pipeline, we have to linger on the `native-country`.\n",
        "Let's recall some statistics regarding this column."
      ],
      "metadata": {
        "id": "INfspw304WSo"
      }
    },
    {
      "cell_type": "code",
      "source": [
        "data[\"native-country\"].value_counts()"
      ],
      "metadata": {
        "colab": {
          "base_uri": "https://localhost:8080/"
        },
        "id": "VjczJg2T3hpC",
        "outputId": "1dd2f647-813d-4c4f-a293-598d0e2d548f"
      },
      "execution_count": 75,
      "outputs": [
        {
          "output_type": "execute_result",
          "data": {
            "text/plain": [
              " United-States                 43832\n",
              " Mexico                          951\n",
              " ?                               857\n",
              " Philippines                     295\n",
              " Germany                         206\n",
              " Puerto-Rico                     184\n",
              " Canada                          182\n",
              " El-Salvador                     155\n",
              " India                           151\n",
              " Cuba                            138\n",
              " England                         127\n",
              " China                           122\n",
              " South                           115\n",
              " Jamaica                         106\n",
              " Italy                           105\n",
              " Dominican-Republic              103\n",
              " Japan                            92\n",
              " Guatemala                        88\n",
              " Poland                           87\n",
              " Vietnam                          86\n",
              " Columbia                         85\n",
              " Haiti                            75\n",
              " Portugal                         67\n",
              " Taiwan                           65\n",
              " Iran                             59\n",
              " Greece                           49\n",
              " Nicaragua                        49\n",
              " Peru                             46\n",
              " Ecuador                          45\n",
              " France                           38\n",
              " Ireland                          37\n",
              " Hong                             30\n",
              " Thailand                         30\n",
              " Cambodia                         28\n",
              " Trinadad&Tobago                  27\n",
              " Laos                             23\n",
              " Yugoslavia                       23\n",
              " Outlying-US(Guam-USVI-etc)       23\n",
              " Scotland                         21\n",
              " Honduras                         20\n",
              " Hungary                          19\n",
              " Holand-Netherlands                1\n",
              "Name: native-country, dtype: int64"
            ]
          },
          "metadata": {},
          "execution_count": 75
        }
      ]
    },
    {
      "cell_type": "markdown",
      "source": [
        "We see that the `Holand-Netherlands` category is occurring rarely. This will\n",
        "be a problem during cross-validation: if the sample ends up in the test set\n",
        "during splitting then the classifier would not have seen the category during\n",
        "training and will not be able to encode it.\n",
        "\n",
        "In scikit-learn, there are two solutions to bypass this issue:\n",
        "\n",
        "* list all the possible categories and provide it to the encoder via the\n",
        "  keyword argument `categories`;\n",
        "* use the parameter `handle_unknown`.\n",
        "\n",
        "Here, we will use the latter solution for simplicity."
      ],
      "metadata": {
        "id": "8RsAUWVi4e1j"
      }
    },
    {
      "cell_type": "markdown",
      "source": [
        "<div class=\"admonition tip alert alert-warning\">\n",
        "<p class=\"first admonition-title\" style=\"font-weight: bold;\">Tip</p>\n",
        "<p class=\"last\">Be aware the <tt class=\"docutils literal\">OrdinalEncoder</tt> exposes as well a parameter\n",
        "<tt class=\"docutils literal\">handle_unknown</tt>. It can be set to <tt class=\"docutils literal\">use_encoded_value</tt> and by setting\n",
        "<tt class=\"docutils literal\">unknown_value</tt> to handle rare categories. You are going to use these\n",
        "parameters in the next exercise.</p>\n",
        "</div>"
      ],
      "metadata": {
        "id": "SgduBLqU4olO"
      }
    },
    {
      "cell_type": "markdown",
      "source": [
        "WE can now create our machine learning pipeline"
      ],
      "metadata": {
        "id": "oMTOHcf54tPe"
      }
    },
    {
      "cell_type": "code",
      "source": [
        "from sklearn.pipeline import make_pipeline\n",
        "from sklearn.linear_model import LogisticRegression\n",
        "\n",
        "model = make_pipeline(\n",
        "    OneHotEncoder(handle_unknown=\"ignore\"), LogisticRegression(max_iter=500)\n",
        ")"
      ],
      "metadata": {
        "id": "ZQ__166i4Ybe"
      },
      "execution_count": 77,
      "outputs": []
    },
    {
      "cell_type": "markdown",
      "source": [
        "<div class=\"admonition note alert alert-info\">\n",
        "<p class=\"first admonition-title\" style=\"font-weight: bold;\">Note</p>\n",
        "<p class=\"last\">Here, we need to increase the maximum number of iterations to obtain a fully\n",
        "converged <tt class=\"docutils literal\">LogisticRegression</tt> and silence a <tt class=\"docutils literal\">ConvergenceWarning</tt>. Contrary\n",
        "to the numerical features, the one-hot encoded categorical features are all\n",
        "on the same scale (values are 0 or 1), so they would not benefit from\n",
        "scaling. In this case, increasing <tt class=\"docutils literal\">max_iter</tt> is the right thing to do.</p>\n",
        "</div>"
      ],
      "metadata": {
        "id": "_dsR8Z675KI7"
      }
    },
    {
      "cell_type": "markdown",
      "source": [
        "Finally, we can check the model's generalization performance only using the\n",
        "categorical columns."
      ],
      "metadata": {
        "id": "4SuHWDxV5MyM"
      }
    },
    {
      "cell_type": "code",
      "source": [
        "from sklearn.model_selection import cross_validate\n",
        "cv_results = cross_validate(model, data_categorical, target)\n",
        "cv_results"
      ],
      "metadata": {
        "colab": {
          "base_uri": "https://localhost:8080/"
        },
        "id": "FhG7yite5GGj",
        "outputId": "d0ca316d-e72c-49d1-96fb-64913270a9ed"
      },
      "execution_count": 78,
      "outputs": [
        {
          "output_type": "execute_result",
          "data": {
            "text/plain": [
              "{'fit_time': array([2.25573134, 1.8208015 , 1.55353594, 1.37748456, 1.47576523]),\n",
              " 'score_time': array([0.06874371, 0.03765464, 0.03753304, 0.0394001 , 0.03731275]),\n",
              " 'test_score': array([0.83222438, 0.83560242, 0.82872645, 0.83312858, 0.83466421])}"
            ]
          },
          "metadata": {},
          "execution_count": 78
        }
      ]
    },
    {
      "cell_type": "code",
      "source": [
        "scores = cv_results[\"test_score\"]\n",
        "print(f\"The accuracy is: {scores.mean():.3f} +/- {scores.std():.3f}\")"
      ],
      "metadata": {
        "colab": {
          "base_uri": "https://localhost:8080/"
        },
        "id": "6ZKEanM15PcK",
        "outputId": "148d60b4-9c9a-42a5-bc6d-0fd47e07f56d"
      },
      "execution_count": 79,
      "outputs": [
        {
          "output_type": "stream",
          "name": "stdout",
          "text": [
            "The accuracy is: 0.833 +/- 0.002\n"
          ]
        }
      ]
    },
    {
      "cell_type": "markdown",
      "source": [
        "As you can see, this representation of the categorical variables is\n",
        "slightly more predictive of the revenue than the numerical variables\n",
        "that we used previously."
      ],
      "metadata": {
        "id": "Z0sWpm5z5au7"
      }
    },
    {
      "cell_type": "code",
      "source": [
        ""
      ],
      "metadata": {
        "id": "dcTbQ_JF5aBm"
      },
      "execution_count": null,
      "outputs": []
    }
  ]
}